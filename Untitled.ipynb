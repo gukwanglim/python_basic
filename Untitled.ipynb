{
 "cells": [
  {
   "cell_type": "code",
   "execution_count": 2,
   "id": "8d699bd7",
   "metadata": {},
   "outputs": [],
   "source": [
    "def input_data():\n",
    "    while True:\n",
    "        input_data = input(\"이름 성적 입력 (종료는 'q'): \").split()\n",
    "        if input_data[0] == 'q':\n",
    "            break\n",
    "        elif len(input_data) < 4:\n",
    "            continue\n",
    "        elif not input_data[1].isdigit():\n",
    "            continue\n",
    "        content = ','.join(input_data)\n",
    "        content += ',\\n'\n",
    "    return content\n",
    "#         file.write(content)\n"
   ]
  },
  {
   "cell_type": "code",
   "execution_count": 3,
   "id": "23a4e65c",
   "metadata": {
    "scrolled": true
   },
   "outputs": [
    {
     "name": "stdout",
     "output_type": "stream",
     "text": [
      "이름 성적 입력 (종료는 'q'): a 10 20 30\n",
      "이름 성적 입력 (종료는 'q'): b 10 20 30\n",
      "이름 성적 입력 (종료는 'q'): q\n",
      "b,10,20,30,\n",
      "\n"
     ]
    }
   ],
   "source": [
    "print(input_data())"
   ]
  },
  {
   "cell_type": "code",
   "execution_count": 6,
   "id": "1b4e6742",
   "metadata": {},
   "outputs": [
    {
     "name": "stdout",
     "output_type": "stream",
     "text": [
      "1,2,3,4\n"
     ]
    }
   ],
   "source": [
    "a = ['1', '2', '3', '4']\n",
    "\n",
    "b = ','.join(a)\n",
    "print(b)"
   ]
  }
 ],
 "metadata": {
  "kernelspec": {
   "display_name": "Python 3 (ipykernel)",
   "language": "python",
   "name": "python3"
  },
  "language_info": {
   "codemirror_mode": {
    "name": "ipython",
    "version": 3
   },
   "file_extension": ".py",
   "mimetype": "text/x-python",
   "name": "python",
   "nbconvert_exporter": "python",
   "pygments_lexer": "ipython3",
   "version": "3.9.7"
  }
 },
 "nbformat": 4,
 "nbformat_minor": 5
}
