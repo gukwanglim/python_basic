{
 "cells": [
  {
   "cell_type": "markdown",
   "id": "36f2cd95",
   "metadata": {},
   "source": [
    "# class 클래스 이름:\n",
    "#     클래스 - 클래스는 메모리가 아니라 껍데기이다.\n",
    "\n",
    "### 클래스는 여러 함수들을 모아 한 번에 처리하도록 만든 것이라 이해하면 될 듯."
   ]
  },
  {
   "cell_type": "markdown",
   "id": "8e676fb8",
   "metadata": {},
   "source": [
    "### 클래스 : 객체를  쉽고 편리하게 생성하기 위해 만들어진 구문\n",
    "### 인스턴스 : 클래스를 기반으로 생성한 객체\n",
    "### 생성자 : 클래스 이름과 같은 인스턴스 생성할 때 만드는 함수"
   ]
  },
  {
   "cell_type": "code",
   "execution_count": 5,
   "id": "e0248238",
   "metadata": {},
   "outputs": [
    {
     "name": "stdout",
     "output_type": "stream",
     "text": [
      "test 100\n",
      "홍길동 90\n",
      "김철수 80\n"
     ]
    }
   ],
   "source": [
    "# class 선언\n",
    "\n",
    "class Student:             # 클래스는 붕어빵 틀이다. 즉, 같은 내용을 여러번 반복하는 것을 없애준다.\n",
    "    def __init__(self, name, score):    # 클래스에는 무조건 self 가 들어가야 한다.\n",
    "        self.name = name\n",
    "        self.score = score              # 생성자\n",
    "\n",
    "a = Student('test', 100)\n",
    "\n",
    "# 클래스 인스턴스의 각 멤버를 접근하는 방법\n",
    "# 인스턴스명.멤버명\n",
    "\n",
    "print(a.name, a.score)\n",
    "\n",
    "\n",
    "\n",
    "\n",
    "\n",
    "students = [\n",
    "    Student('홍길동', 90),\n",
    "    Student('김철수', 80)\n",
    "]\n",
    "\n",
    "for student in students:\n",
    "    print(student.name, student.score)\n",
    "# students[0].name"
   ]
  },
  {
   "cell_type": "code",
   "execution_count": 9,
   "id": "c5b009f4",
   "metadata": {},
   "outputs": [
    {
     "name": "stdout",
     "output_type": "stream",
     "text": [
      "생성자 입니다.\n",
      "소멸자 입니다.\n"
     ]
    }
   ],
   "source": [
    "# 클래스의 생성자, 소멸자\n",
    "\n",
    "class Test:\n",
    "    def __init__(self):\n",
    "        print('생성자 입니다.')\n",
    "        \n",
    "    def __del__(self):\n",
    "        print('소멸자 입니다.')\n",
    "        \n",
    "test = Test()"
   ]
  },
  {
   "cell_type": "code",
   "execution_count": 10,
   "id": "71748d46",
   "metadata": {},
   "outputs": [
    {
     "data": {
      "text/plain": [
       "<__main__.Test at 0x281cda6b910>"
      ]
     },
     "execution_count": 10,
     "metadata": {},
     "output_type": "execute_result"
    }
   ],
   "source": [
    "test"
   ]
  },
  {
   "cell_type": "code",
   "execution_count": 16,
   "id": "f8bf1443",
   "metadata": {},
   "outputs": [],
   "source": [
    "# class 선언 : 멤버(class 내부의 변수), 메서드(class 내부의 함수)\n",
    "\n",
    "class Student:                                             # class를 만들기 위해서는\n",
    "    \n",
    "    # 처음 정의에는 __init__을 사용. ('홍길동', 80, 90, 100)을 뜻함\n",
    "    def __init__(self, name, kor, eng, math):    \n",
    "        self.name = name                                   # 무조건 self가 이런 식으로 존재해야한다.\n",
    "        self.kor = kor\n",
    "        self.eng = eng\n",
    "        self.math = math\n",
    "        \n",
    "    def get_sum(self): \n",
    "        return self.kor + self.eng + self.math              # return에서도 마찬가지로 self. 필요.\n",
    "    \n",
    "    def get_avg(self):\n",
    "        return self.get_sum() / 3\n",
    "    \n",
    "    def to_string(self):\n",
    "        return '{}\\t{}\\t{:3.2f}'.format(self.name, self.get_sum(), self.get_avg())\n"
   ]
  },
  {
   "cell_type": "code",
   "execution_count": 17,
   "id": "931bea68",
   "metadata": {},
   "outputs": [
    {
     "name": "stdout",
     "output_type": "stream",
     "text": [
      "이름\t총점\t평균\n",
      "홍길동\t270\t90.00\n",
      "김철수\t253\t84.33\n",
      "개나리\t198\t66.00\n"
     ]
    }
   ],
   "source": [
    "students = [\n",
    "    Student('홍길동', 80, 90, 100),\n",
    "    Student('김철수', 88, 99, 66),\n",
    "    Student('개나리', 77, 66, 55)\n",
    "]\n",
    "\n",
    "print('이름', '총점', '평균', sep='\\t')\n",
    "\n",
    "for student in students:\n",
    "    print(student.to_string())"
   ]
  },
  {
   "cell_type": "code",
   "execution_count": 21,
   "id": "8b412896",
   "metadata": {
    "scrolled": true
   },
   "outputs": [
    {
     "name": "stdout",
     "output_type": "stream",
     "text": [
      "홍길동\n",
      "88\n"
     ]
    }
   ],
   "source": [
    "print(students[0].name)\n",
    "print(students[1].kor)"
   ]
  },
  {
   "cell_type": "markdown",
   "id": "e977eee4",
   "metadata": {},
   "source": [
    "# isinstance(인스턴스명, 클래스명)"
   ]
  },
  {
   "cell_type": "code",
   "execution_count": 24,
   "id": "bad5df1f",
   "metadata": {},
   "outputs": [
    {
     "name": "stdout",
     "output_type": "stream",
     "text": [
      "True\n",
      "<class '__main__.Student'>\n"
     ]
    }
   ],
   "source": [
    "print(isinstance(students[0], Student))      # 인스턴스가 지정한 클래스인지 확인 \n",
    "print(type(students[0]))"
   ]
  },
  {
   "cell_type": "code",
   "execution_count": 32,
   "id": "d6bb49ad",
   "metadata": {},
   "outputs": [
    {
     "name": "stdout",
     "output_type": "stream",
     "text": [
      "isinstance(student, Human) :  True\n",
      "type(student) :  False\n"
     ]
    }
   ],
   "source": [
    "# isinstance() 활용\n",
    "\n",
    "class Human:\n",
    "    def __init__(self):\n",
    "        pass\n",
    "\n",
    "class Student(Human):\n",
    "    def __init__(self):         # 상속된 상태\n",
    "        pass\n",
    "\n",
    "student = Student()\n",
    "\n",
    "# 인스턴스 확인하기\n",
    "\n",
    "print('isinstance(student, Human) : ', isinstance(student, Human))\n",
    "print('type(student) : ', type(student) == Human)"
   ]
  },
  {
   "cell_type": "code",
   "execution_count": 33,
   "id": "d06d5523",
   "metadata": {},
   "outputs": [],
   "source": [
    "# 학생 클래스 선언\n",
    "\n",
    "class Student:\n",
    "    def study(self):\n",
    "        print('학생은 공부를 합니다.')\n",
    "        \n",
    "# 선생님 클래스 선언\n",
    "\n",
    "class Teacher:\n",
    "    def teach(self):\n",
    "        print('선생님은 공부를 가르칩니다.')"
   ]
  },
  {
   "cell_type": "code",
   "execution_count": 34,
   "id": "bf98c58d",
   "metadata": {},
   "outputs": [
    {
     "name": "stdout",
     "output_type": "stream",
     "text": [
      "학생은 공부를 합니다.\n",
      "학생은 공부를 합니다.\n",
      "선생님은 공부를 가르칩니다.\n",
      "학생은 공부를 합니다.\n",
      "선생님은 공부를 가르칩니다.\n",
      "선생님은 공부를 가르칩니다.\n"
     ]
    }
   ],
   "source": [
    "classroom = [Student(), Student(), Teacher(), Student(), Teacher(), Teacher()]\n",
    "\n",
    "for person in classroom:\n",
    "    if isinstance(person, Student):\n",
    "        person.study()\n",
    "    else:\n",
    "        person.teach()"
   ]
  },
  {
   "cell_type": "markdown",
   "id": "3e2e7b40",
   "metadata": {},
   "source": [
    "### 클래스 안의 함수가 같은 이름이어도 상관없다."
   ]
  },
  {
   "cell_type": "code",
   "execution_count": 35,
   "id": "b8d32bdd",
   "metadata": {},
   "outputs": [],
   "source": [
    "class Student:\n",
    "    def func(self):\n",
    "        print('학생은 공부를 합니다.')\n",
    "        \n",
    "# 선생님 클래스 선언\n",
    "\n",
    "class Teacher:\n",
    "    def func(self):\n",
    "        print('선생님은 공부를 가르칩니다.')"
   ]
  },
  {
   "cell_type": "code",
   "execution_count": 37,
   "id": "e86281a0",
   "metadata": {},
   "outputs": [
    {
     "name": "stdout",
     "output_type": "stream",
     "text": [
      "학생은 공부를 합니다.\n",
      "학생은 공부를 합니다.\n",
      "선생님은 공부를 가르칩니다.\n",
      "학생은 공부를 합니다.\n",
      "선생님은 공부를 가르칩니다.\n",
      "선생님은 공부를 가르칩니다.\n"
     ]
    }
   ],
   "source": [
    "classroom = [Student(), Student(), Teacher(), Student(), Teacher(), Teacher()]\n",
    "\n",
    "for person in classroom:\n",
    "    if isinstance(person, Student):\n",
    "        person.func()\n",
    "    else:\n",
    "        person.func()"
   ]
  },
  {
   "cell_type": "code",
   "execution_count": 38,
   "id": "3ab7a483",
   "metadata": {},
   "outputs": [],
   "source": [
    "# __함수명__()\n",
    "\n",
    "class Student:                                             \n",
    "    def __init__(self, name, kor, eng, math):    \n",
    "        self.name = name                                  \n",
    "        self.kor = kor\n",
    "        self.eng = eng\n",
    "        self.math = math                                 # self.sum = 0 같은 것은 존재하지 않음\n",
    "        \n",
    "    def get_sum(self): \n",
    "        return self.kor + self.eng + self.math              \n",
    "    \n",
    "    def get_avg(self):\n",
    "        return self.get_sum() / 3\n",
    "    \n",
    "#     def to_string(self):                   # 원래 내용\n",
    "\n",
    "    def __str__(self):                       # 위의 내용을 이런 식으로 수정\n",
    "        return '{}\\t{}\\t{:3.2f}'.format(self.name, self.get_sum(), self.get_avg())\n",
    "    \n",
    "    def __eq__(self, value):            # value는 비교하고 싶은 것.\n",
    "        return self.get_sum() == value.get_sum()"
   ]
  },
  {
   "cell_type": "code",
   "execution_count": 50,
   "id": "715f437a",
   "metadata": {
    "scrolled": true
   },
   "outputs": [
    {
     "name": "stdout",
     "output_type": "stream",
     "text": [
      "이름\t총점\t평균\n",
      "홍길동\t270\t90.00\n",
      "김철수\t253\t84.33\n",
      "개나리\t270\t90.00\n",
      "\n",
      "False\n",
      "False\n"
     ]
    }
   ],
   "source": [
    "students = [\n",
    "    Student('홍길동', 80, 90, 100),\n",
    "    Student('김철수', 88, 99, 66),\n",
    "    Student('개나리', 80, 90, 100)\n",
    "]\n",
    "\n",
    "print('이름', '총점', '평균', sep='\\t')\n",
    "\n",
    "for student in students:\n",
    "\n",
    "    #     print(student.to_string())        # 원래 호출 방식\n",
    "\n",
    "    print(str(student))                     # 클래스 내의 함수를 호출\n",
    "    \n",
    "print()    \n",
    "print(students[0] == students[1])\n",
    "print(students[0] == students[2])       # 점수가 같아도 이름이 다르다."
   ]
  },
  {
   "cell_type": "code",
   "execution_count": 51,
   "id": "f4c07d04",
   "metadata": {},
   "outputs": [],
   "source": [
    "# __eq__ (self, value) : 비교하는 둘의 값이 같은가? - ( == )\n",
    "# __ne__(self, value) : 비교하는 둘의 값이 다른가? - ( != )\n",
    "# __gt__(self, value) : self가 value보가 큰 값인가? - ( > )\n",
    "# __ge__(self, value) : self가 value보가 크거나 같은 값인가? - ( >= )\n",
    "# __lt__(self, value) : self가 value보가 작은 값인가? - ( < )\n",
    "# __le__(self, value) : self가 value보가 작거나 같은 값인가? - ( <= )"
   ]
  },
  {
   "cell_type": "markdown",
   "id": "ef96537d",
   "metadata": {},
   "source": [
    "# 클래스 변수 : 클래스명.변수명 접근\n",
    "\n",
    "## 클래스 변수는 내용이 계속 중첩되어 남아있다.(리셋하기 전까지)"
   ]
  },
  {
   "cell_type": "code",
   "execution_count": 52,
   "id": "a131db28",
   "metadata": {},
   "outputs": [],
   "source": [
    "class Student: \n",
    "    \n",
    "    # 클래스 변수\n",
    "    \n",
    "    count = 0                            # 이렇게 적어 놓으면 전제 클래스에서 사용 가능\n",
    "    \n",
    "    # 클래스 메서드\n",
    "    \n",
    "    def __init__(self, name, kor, eng, math):    \n",
    "        \n",
    "        # 클래스 멤버\n",
    "        \n",
    "        self.name = name                                  \n",
    "        self.kor = kor\n",
    "        self.eng = eng\n",
    "        self.math = math                                \n",
    "        \n",
    "        \n",
    "        \n",
    "    def get_sum(self): \n",
    "        return self.kor + self.eng + self.math              \n",
    "    \n",
    "    def get_avg(self):\n",
    "        return self.get_sum() / 3\n",
    "    \n",
    "    def __str__(self):                     \n",
    "        return '{}\\t{}\\t{:3.2f}'.format(self.name, self.get_sum(), self.get_avg())"
   ]
  },
  {
   "cell_type": "code",
   "execution_count": 53,
   "id": "275fb95e",
   "metadata": {},
   "outputs": [
    {
     "name": "stdout",
     "output_type": "stream",
     "text": [
      "이름 성적 입력 : a 50 60 30\n",
      "이름 성적 입력 : b 80 90 60\n",
      "이름 성적 입력 : c 50 60 30\n",
      "이름 성적 입력 : q\n",
      "총 학생수 :  3\n"
     ]
    }
   ],
   "source": [
    "\n",
    "def input_data():\n",
    "    global students\n",
    "\n",
    "    while True:\n",
    "        input_data = input('이름 성적 입력 : ').split()\n",
    "        if input_data[0] == 'q':\n",
    "            break\n",
    "        elif len(input_data) < 4:\n",
    "            continue\n",
    "        elif not input_data[1].isdigit():\n",
    "            continue\n",
    "        \n",
    "        student = Student(input_data[0], int(input_data[1]),\n",
    "                          int(input_data[2]), int(input_data[3]))\n",
    "        students.append(student)\n",
    "        Student.count += 1                      # 함수 정의에서는 사용하지 못하는 공식\n",
    "                                                # 하지만 class에서 count = 0 을 만들었기에 가능해짐\n",
    "students = []                                   # class를 정의하는 순간 사용 가능\n",
    "input_data()\n",
    "\n",
    "print('총 학생수 : ', Student.count)\n",
    "\n"
   ]
  },
  {
   "cell_type": "code",
   "execution_count": 56,
   "id": "7c5d139e",
   "metadata": {},
   "outputs": [
    {
     "name": "stdout",
     "output_type": "stream",
     "text": [
      "a\t140\t46.67\n",
      "b\t230\t76.67\n",
      "c\t140\t46.67\n"
     ]
    }
   ],
   "source": [
    "for i in range(Student.count):\n",
    "    print(str(students[i]))"
   ]
  },
  {
   "cell_type": "code",
   "execution_count": null,
   "id": "c17b1fa2",
   "metadata": {},
   "outputs": [],
   "source": []
  },
  {
   "cell_type": "code",
   "execution_count": null,
   "id": "40b27432",
   "metadata": {},
   "outputs": [],
   "source": []
  },
  {
   "cell_type": "code",
   "execution_count": 5,
   "id": "d082717a",
   "metadata": {},
   "outputs": [],
   "source": [
    "class Student: \n",
    "    \n",
    "    count = 0                            # 이렇게 적어 놓으면 전제 클래스에서 사용 가능\n",
    "    students = []\n",
    "    \n",
    "    def __init__(self, name, kor, eng, math):    \n",
    "        self.name = name                                  \n",
    "        self.kor = kor\n",
    "        self.eng = eng\n",
    "        self.math = math                                \n",
    "        \n",
    "        \n",
    "        \n",
    "    def get_sum(self): \n",
    "        return self.kor + self.eng + self.math              \n",
    "    \n",
    "    def get_avg(self):\n",
    "        return self.get_sum() / 3\n",
    "    \n",
    "    def __str__(self):                     \n",
    "        return '{}\\t{}\\t{:3.2f}'.format(self.name, self.get_sum(), self.get_avg())"
   ]
  },
  {
   "cell_type": "code",
   "execution_count": 6,
   "id": "a7c5c22f",
   "metadata": {},
   "outputs": [],
   "source": [
    "def input_data():\n",
    "    \n",
    "#     global students\n",
    "\n",
    "    while True:\n",
    "        input_data = input('이름 성적 입력 : ').split()\n",
    "        if input_data[0] == 'q':\n",
    "            break\n",
    "        elif len(input_data) < 4:\n",
    "            continue\n",
    "        elif not input_data[1].isdigit():\n",
    "            continue\n",
    "        \n",
    "        student = Student(input_data[0], int(input_data[1]),\n",
    "                          int(input_data[2]), int(input_data[3]))\n",
    "        Student.students.append(student)\n",
    "        Student.count += 1                      # 함수 정의에서는 사용하지 못하는 공식\n",
    "                                                # 하지만 class에서 count = 0 을 만들었기에 가능해짐\n",
    "# students = []                                   # class를 정의하는 순간 사용 가능"
   ]
  },
  {
   "cell_type": "code",
   "execution_count": 9,
   "id": "e38efcd3",
   "metadata": {
    "scrolled": true
   },
   "outputs": [
    {
     "name": "stdout",
     "output_type": "stream",
     "text": [
      "이름 성적 입력 : a 50 20 30\n",
      "이름 성적 입력 : b 80 90 60\n",
      "이름 성적 입력 : q\n",
      "\n",
      "총 학생수 :  6\n",
      "\n",
      "a\t140\t46.67\n",
      "b\t140\t46.67\n",
      "c\t113\t37.67\n",
      "a\t140\t46.67\n",
      "a\t100\t33.33\n",
      "b\t230\t76.67\n"
     ]
    }
   ],
   "source": [
    "input_data()\n",
    "print()\n",
    "\n",
    "print('총 학생수 : ', Student.count)\n",
    "print()\n",
    "\n",
    "for i in range(Student.count):\n",
    "    print(str(Student.students[i]))\n",
    "    \n",
    "              # 클래스에는 자료가 중첩하여 남아있기 때문에 다시 한번 실행시키고 다른 자료를 입력하면\n",
    "              # 이전에 있던 자료와 + 되어 총 학생수가 증가한 상태로 출력된다."
   ]
  },
  {
   "cell_type": "markdown",
   "id": "164e9a40",
   "metadata": {},
   "source": [
    "# 클래스 함수"
   ]
  },
  {
   "cell_type": "code",
   "execution_count": null,
   "id": "dfb93888",
   "metadata": {},
   "outputs": [],
   "source": [
    "# class 클래스 이름:\n",
    "#     @classmethod\n",
    "#     def 클래스 함수(cls, 매개변수):\n",
    "\n",
    "# 클래스 함수 호출 = 클래스 이름.함수명(매개변수)"
   ]
  },
  {
   "cell_type": "code",
   "execution_count": null,
   "id": "74c89f8a",
   "metadata": {},
   "outputs": [],
   "source": [
    "class Student: \n",
    "    \n",
    "    # 클래스 변수\n",
    "    \n",
    "    count = 0                            # 이렇게 적어 놓으면 전제 클래스에서 사용 가능\n",
    "    students = []\n",
    "    \n",
    "    # 클래스 함수\n",
    "    \n",
    "    @classmethod\n",
    "    def print(cls):\n",
    "        print('-----학생 목록-----')\n",
    "        print('이름\\t총점\\t평균')\n",
    "        \n",
    "        for student in cls.students:\n",
    "            print(str(student))\n",
    "        print('-------------------')\n",
    "        \n",
    "    def __init__(self, name, kor, eng, math):    \n",
    "        self.name = name                                  \n",
    "        self.kor = kor\n",
    "        self.eng = eng\n",
    "        self.math = math \n",
    "        Student.count += 1\n",
    "        Student.students.append(self)\n",
    "        \n",
    "        \n",
    "        \n",
    "    def get_sum(self): \n",
    "        return self.kor + self.eng + self.math              \n",
    "    \n",
    "    def get_avg(self):\n",
    "        return self.get_sum() / 3\n",
    "    \n",
    "    def __str__(self):                     \n",
    "        return '{}\\t{}\\t{:3.2f}'.format(self.name, self.get_sum(), self.get_avg())"
   ]
  },
  {
   "cell_type": "code",
   "execution_count": null,
   "id": "054be743",
   "metadata": {},
   "outputs": [],
   "source": []
  },
  {
   "cell_type": "code",
   "execution_count": null,
   "id": "097bb08d",
   "metadata": {},
   "outputs": [],
   "source": []
  }
 ],
 "metadata": {
  "kernelspec": {
   "display_name": "Python 3 (ipykernel)",
   "language": "python",
   "name": "python3"
  },
  "language_info": {
   "codemirror_mode": {
    "name": "ipython",
    "version": 3
   },
   "file_extension": ".py",
   "mimetype": "text/x-python",
   "name": "python",
   "nbconvert_exporter": "python",
   "pygments_lexer": "ipython3",
   "version": "3.9.7"
  }
 },
 "nbformat": 4,
 "nbformat_minor": 5
}
