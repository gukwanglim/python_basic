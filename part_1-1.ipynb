{
 "cells": [
  {
   "cell_type": "markdown",
   "id": "d366c407",
   "metadata": {},
   "source": [
    "# 판다스의 시리즈"
   ]
  },
  {
   "cell_type": "code",
   "execution_count": 2,
   "id": "afc65efd",
   "metadata": {
    "scrolled": false
   },
   "outputs": [
    {
     "name": "stdout",
     "output_type": "stream",
     "text": [
      "a    10\n",
      "b    20\n",
      "c    30\n",
      "d    40\n",
      "e    30\n",
      "dtype: int64\n",
      "<class 'pandas.core.series.Series'>\n"
     ]
    }
   ],
   "source": [
    "import pandas as pd\n",
    "\n",
    "a_series = pd.Series({'a':10, 'b':20, 'c':30, 'd':40, 'e':30})    # 딕셔너리의 키가 인덱스명, 값이 value로\n",
    "print(a_series)\n",
    "print(type(a_series))"
   ]
  },
  {
   "cell_type": "markdown",
   "id": "ec89f47d",
   "metadata": {},
   "source": [
    "# 시리즈의 데이터 선택 : 시리즈명[] -> 인덱스명 또는 인덱스 첨자로 찾을 수 있다"
   ]
  },
  {
   "cell_type": "code",
   "execution_count": 3,
   "id": "c74bdf32",
   "metadata": {},
   "outputs": [
    {
     "name": "stdout",
     "output_type": "stream",
     "text": [
      "Index(['a', 'b', 'c', 'd', 'e'], dtype='object')\n",
      "\n",
      "[10 20 30 40 30]\n",
      "\n",
      "30    2\n",
      "10    1\n",
      "20    1\n",
      "40    1\n",
      "dtype: int64\n",
      "\n",
      "10 10\n",
      "\n",
      "a    10\n",
      "b    20\n",
      "dtype: int64\n",
      "\n",
      "a    10\n",
      "b    20\n",
      "dtype: int64\n",
      "\n",
      "a    10\n",
      "b    20\n",
      "c    30\n",
      "dtype: int64\n"
     ]
    }
   ],
   "source": [
    "print(a_series.index)\n",
    "print()\n",
    "\n",
    "print(a_series.values)\n",
    "print()\n",
    "\n",
    "print(a_series.value_counts())             # 딕셔너리 안의 같은 값의 갯수를 센다(데이터 분석용)\n",
    "print()\n",
    "\n",
    "print(a_series['a'], a_series[0])\n",
    "print()\n",
    "\n",
    "print(a_series[[0, 1]])                    # 값이 여러개면 리스트로 넣는다. -> ['a', 'c'], [1, 2]\n",
    "print()\n",
    "\n",
    "print(a_series[0:2])                       # 숫자 인덱스 start:end -> end 미포함\n",
    "print()\n",
    "\n",
    "print(a_series['a':'c'])                   # 인덱스명 start:end -> end 포함"
   ]
  },
  {
   "cell_type": "code",
   "execution_count": 5,
   "id": "3739a89c",
   "metadata": {},
   "outputs": [
    {
     "data": {
      "text/plain": [
       "0      10\n",
       "1    test\n",
       "2    True\n",
       "3    data\n",
       "dtype: object"
      ]
     },
     "execution_count": 5,
     "metadata": {},
     "output_type": "execute_result"
    }
   ],
   "source": [
    "b_serise = pd.Series([10, 'test', True, 'data'])\n",
    "b_serise                                               # 인덱스명을 주지 않으면 알아서 인덱스 포함"
   ]
  },
  {
   "cell_type": "code",
   "execution_count": 6,
   "id": "e45ad62d",
   "metadata": {},
   "outputs": [
    {
     "data": {
      "text/plain": [
       "a      10\n",
       "b    test\n",
       "c    True\n",
       "d    data\n",
       "dtype: object"
      ]
     },
     "execution_count": 6,
     "metadata": {},
     "output_type": "execute_result"
    }
   ],
   "source": [
    "c_serise = pd.Series([10, 'test', True, 'data'], index = ['a', 'b', 'c', 'd'])\n",
    "c_serise                                                # 첨자 인덱스로 인덱스 설정 가능"
   ]
  },
  {
   "cell_type": "code",
   "execution_count": 7,
   "id": "5fadc424",
   "metadata": {},
   "outputs": [
    {
     "name": "stdout",
     "output_type": "stream",
     "text": [
      "0      10\n",
      "1    test\n",
      "2    True\n",
      "3    data\n",
      "dtype: object\n",
      "\n",
      "a      10\n",
      "b    test\n",
      "c    True\n",
      "d    data\n",
      "dtype: object\n"
     ]
    }
   ],
   "source": [
    "d_serise = pd.Series([10, 'test', True, 'data'])\n",
    "print(d_serise)\n",
    "print()\n",
    "\n",
    "d_serise.index = ['a', 'b', 'c', 'd']\n",
    "print(d_serise)                                         # 이런 식으로도 인덱스를 넣을 수 있다."
   ]
  },
  {
   "cell_type": "markdown",
   "id": "808b255f",
   "metadata": {},
   "source": [
    "# 데이터프레임 : 여러개의 시리즈가 모여서 만들어짐\n",
    "### 딕셔너리의 키 = 칼럼명(시리즈 이름)이 됨"
   ]
  },
  {
   "cell_type": "code",
   "execution_count": 8,
   "id": "c1bd9608",
   "metadata": {},
   "outputs": [
    {
     "name": "stdout",
     "output_type": "stream",
     "text": [
      "   c0  c1  c2  c3\n",
      "0   1   4   7  10\n",
      "1   2   5   8  11\n",
      "2   3   6   9  12\n",
      "\n",
      "Index(['c0', 'c1', 'c2', 'c3'], dtype='object') RangeIndex(start=0, stop=3, step=1)\n",
      "\n",
      "Index(['c0', 'c1', 'c2', 'c3'], dtype='object') Index(['b', 'c', 'a'], dtype='object')\n",
      "\n",
      "Index(['a1', 'a2', 'a3', 'a4'], dtype='object') Index(['b', 'c', 'a'], dtype='object')\n",
      "\n"
     ]
    },
    {
     "data": {
      "text/html": [
       "<div>\n",
       "<style scoped>\n",
       "    .dataframe tbody tr th:only-of-type {\n",
       "        vertical-align: middle;\n",
       "    }\n",
       "\n",
       "    .dataframe tbody tr th {\n",
       "        vertical-align: top;\n",
       "    }\n",
       "\n",
       "    .dataframe thead th {\n",
       "        text-align: right;\n",
       "    }\n",
       "</style>\n",
       "<table border=\"1\" class=\"dataframe\">\n",
       "  <thead>\n",
       "    <tr style=\"text-align: right;\">\n",
       "      <th></th>\n",
       "      <th>a1</th>\n",
       "      <th>a2</th>\n",
       "      <th>a3</th>\n",
       "      <th>a4</th>\n",
       "    </tr>\n",
       "  </thead>\n",
       "  <tbody>\n",
       "    <tr>\n",
       "      <th>b</th>\n",
       "      <td>1</td>\n",
       "      <td>4</td>\n",
       "      <td>7</td>\n",
       "      <td>10</td>\n",
       "    </tr>\n",
       "    <tr>\n",
       "      <th>c</th>\n",
       "      <td>2</td>\n",
       "      <td>5</td>\n",
       "      <td>8</td>\n",
       "      <td>11</td>\n",
       "    </tr>\n",
       "    <tr>\n",
       "      <th>a</th>\n",
       "      <td>3</td>\n",
       "      <td>6</td>\n",
       "      <td>9</td>\n",
       "      <td>12</td>\n",
       "    </tr>\n",
       "  </tbody>\n",
       "</table>\n",
       "</div>"
      ],
      "text/plain": [
       "   a1  a2  a3  a4\n",
       "b   1   4   7  10\n",
       "c   2   5   8  11\n",
       "a   3   6   9  12"
      ]
     },
     "execution_count": 8,
     "metadata": {},
     "output_type": "execute_result"
    }
   ],
   "source": [
    "# 데이터프레임 만드는 법 = pandas.DataFrame(딕셔너리, [index = 행이름], [colums = 열이름])\n",
    "\n",
    "dict_data = {'c0': [1, 2, 3], 'c1' : [4, 5, 6], 'c2' : [7, 8, 9], 'c3' : [10, 11, 12]}\n",
    "\n",
    "df = pd.DataFrame(dict_data)                     # 데이터프레임 생성\n",
    "print(df)\n",
    "print()\n",
    "\n",
    "print(df.columns, df.index)                      # 컬러명, 인덱스명 검색\n",
    "print()\n",
    "\n",
    "df.index = {'a', 'b', 'c'}                       # 새로운 인덱스명 부여\n",
    "print(df.columns, df.index)    \n",
    "print()\n",
    "\n",
    "df.columns = ['a1', 'a2', 'a3', 'a4']             # 새로운 컬럼명 부여\n",
    "print(df.columns, df.index)    \n",
    "print()\n",
    "\n",
    "df"
   ]
  },
  {
   "cell_type": "code",
   "execution_count": 9,
   "id": "c236304c",
   "metadata": {},
   "outputs": [
    {
     "data": {
      "text/html": [
       "<div>\n",
       "<style scoped>\n",
       "    .dataframe tbody tr th:only-of-type {\n",
       "        vertical-align: middle;\n",
       "    }\n",
       "\n",
       "    .dataframe tbody tr th {\n",
       "        vertical-align: top;\n",
       "    }\n",
       "\n",
       "    .dataframe thead th {\n",
       "        text-align: right;\n",
       "    }\n",
       "</style>\n",
       "<table border=\"1\" class=\"dataframe\">\n",
       "  <thead>\n",
       "    <tr style=\"text-align: right;\">\n",
       "      <th></th>\n",
       "      <th>0</th>\n",
       "      <th>1</th>\n",
       "      <th>2</th>\n",
       "    </tr>\n",
       "  </thead>\n",
       "  <tbody>\n",
       "    <tr>\n",
       "      <th>0</th>\n",
       "      <td>1</td>\n",
       "      <td>2</td>\n",
       "      <td>3</td>\n",
       "    </tr>\n",
       "    <tr>\n",
       "      <th>1</th>\n",
       "      <td>4</td>\n",
       "      <td>5</td>\n",
       "      <td>6</td>\n",
       "    </tr>\n",
       "    <tr>\n",
       "      <th>2</th>\n",
       "      <td>7</td>\n",
       "      <td>8</td>\n",
       "      <td>9</td>\n",
       "    </tr>\n",
       "  </tbody>\n",
       "</table>\n",
       "</div>"
      ],
      "text/plain": [
       "   0  1  2\n",
       "0  1  2  3\n",
       "1  4  5  6\n",
       "2  7  8  9"
      ]
     },
     "execution_count": 9,
     "metadata": {},
     "output_type": "execute_result"
    }
   ],
   "source": [
    "df = pd.DataFrame([[1, 2, 3], [4, 5, 6], [7, 8, 9]])\n",
    "df"
   ]
  },
  {
   "cell_type": "code",
   "execution_count": 10,
   "id": "885b5ed9",
   "metadata": {},
   "outputs": [
    {
     "data": {
      "text/html": [
       "<div>\n",
       "<style scoped>\n",
       "    .dataframe tbody tr th:only-of-type {\n",
       "        vertical-align: middle;\n",
       "    }\n",
       "\n",
       "    .dataframe tbody tr th {\n",
       "        vertical-align: top;\n",
       "    }\n",
       "\n",
       "    .dataframe thead th {\n",
       "        text-align: right;\n",
       "    }\n",
       "</style>\n",
       "<table border=\"1\" class=\"dataframe\">\n",
       "  <thead>\n",
       "    <tr style=\"text-align: right;\">\n",
       "      <th></th>\n",
       "      <th>c1</th>\n",
       "      <th>c2</th>\n",
       "      <th>c3</th>\n",
       "    </tr>\n",
       "  </thead>\n",
       "  <tbody>\n",
       "    <tr>\n",
       "      <th>a</th>\n",
       "      <td>1</td>\n",
       "      <td>2</td>\n",
       "      <td>3</td>\n",
       "    </tr>\n",
       "    <tr>\n",
       "      <th>b</th>\n",
       "      <td>4</td>\n",
       "      <td>5</td>\n",
       "      <td>6</td>\n",
       "    </tr>\n",
       "    <tr>\n",
       "      <th>c</th>\n",
       "      <td>7</td>\n",
       "      <td>8</td>\n",
       "      <td>9</td>\n",
       "    </tr>\n",
       "  </tbody>\n",
       "</table>\n",
       "</div>"
      ],
      "text/plain": [
       "   c1  c2  c3\n",
       "a   1   2   3\n",
       "b   4   5   6\n",
       "c   7   8   9"
      ]
     },
     "execution_count": 10,
     "metadata": {},
     "output_type": "execute_result"
    }
   ],
   "source": [
    "df = pd.DataFrame([[1, 2, 3], [4, 5, 6], [7, 8, 9]],\n",
    "                 index = ['a', 'b', 'c'],\n",
    "                 columns = ['c1', 'c2', 'c3'])\n",
    "df"
   ]
  },
  {
   "cell_type": "markdown",
   "id": "1edc1b5d",
   "metadata": {},
   "source": [
    "# 행 인덱스 / 열 이름 지정"
   ]
  },
  {
   "cell_type": "code",
   "execution_count": 11,
   "id": "26334ef3",
   "metadata": {},
   "outputs": [
    {
     "name": "stdout",
     "output_type": "stream",
     "text": [
      "Index(['준서', '예은'], dtype='object') Index(['나이', '성별', '학교'], dtype='object')\n"
     ]
    }
   ],
   "source": [
    "df = pd.DataFrame([[15, '남', '덕영중'], [17, '여', '수리중']], \n",
    "                   index = ['준서', '예은'], columns = ['나이', '성별', '학교'])\n",
    "print(df.index, df.columns)"
   ]
  },
  {
   "cell_type": "code",
   "execution_count": 12,
   "id": "151f034a",
   "metadata": {},
   "outputs": [
    {
     "data": {
      "text/html": [
       "<div>\n",
       "<style scoped>\n",
       "    .dataframe tbody tr th:only-of-type {\n",
       "        vertical-align: middle;\n",
       "    }\n",
       "\n",
       "    .dataframe tbody tr th {\n",
       "        vertical-align: top;\n",
       "    }\n",
       "\n",
       "    .dataframe thead th {\n",
       "        text-align: right;\n",
       "    }\n",
       "</style>\n",
       "<table border=\"1\" class=\"dataframe\">\n",
       "  <thead>\n",
       "    <tr style=\"text-align: right;\">\n",
       "      <th></th>\n",
       "      <th>나이</th>\n",
       "      <th>성별</th>\n",
       "      <th>학교</th>\n",
       "    </tr>\n",
       "  </thead>\n",
       "  <tbody>\n",
       "    <tr>\n",
       "      <th>학생1</th>\n",
       "      <td>15</td>\n",
       "      <td>남</td>\n",
       "      <td>덕영중</td>\n",
       "    </tr>\n",
       "    <tr>\n",
       "      <th>예은</th>\n",
       "      <td>17</td>\n",
       "      <td>여</td>\n",
       "      <td>수리중</td>\n",
       "    </tr>\n",
       "  </tbody>\n",
       "</table>\n",
       "</div>"
      ],
      "text/plain": [
       "     나이 성별   학교\n",
       "학생1  15  남  덕영중\n",
       "예은   17  여  수리중"
      ]
     },
     "execution_count": 12,
     "metadata": {},
     "output_type": "execute_result"
    }
   ],
   "source": [
    "# 행 이름 변경 : df.index = [인덱스명, ...]\n",
    "# 컬럼명 변경 : df.columns = [컬럼명, ...]\n",
    "# 행 인덱스의 일부 이름 변경 df.rename(index = {기존 인덱스명 : 새로운 인덱스명})\n",
    "# 컬럼명의 일부 이름 변경 df.rename(cloumns = {기존 컬럼명 : 새로운 컬럼명})\n",
    "\n",
    "# 준서의 이름을 학생1로 변경\n",
    "\n",
    "df.rename(index = {'준서' : '학생1'})       # 기존의 데이터를 바꿔서 보여주지만 원본이 바뀌진 않음\n",
    "# print(df)"
   ]
  },
  {
   "cell_type": "code",
   "execution_count": 13,
   "id": "e3d0a4cd",
   "metadata": {},
   "outputs": [
    {
     "name": "stdout",
     "output_type": "stream",
     "text": [
      "     나이 성별   학교\n",
      "학생1  15  남  덕영중\n",
      "예은   17  여  수리중\n"
     ]
    }
   ],
   "source": [
    "df.rename(index = {'준서' : '학생1'}, inplace = True)       # inplace = True 기존 데이터 변경\n",
    "print(df)"
   ]
  },
  {
   "cell_type": "code",
   "execution_count": 14,
   "id": "6a76a851",
   "metadata": {},
   "outputs": [
    {
     "name": "stdout",
     "output_type": "stream",
     "text": [
      "     나이 성별 학교이름\n",
      "학생1  15  남  덕영중\n",
      "예은   17  여  수리중\n"
     ]
    }
   ],
   "source": [
    "df.rename(columns = {'학교' : '학교이름'}, inplace = True)\n",
    "print(df)"
   ]
  },
  {
   "cell_type": "markdown",
   "id": "47a38965",
   "metadata": {},
   "source": [
    "# 데이터프레임 삭제"
   ]
  },
  {
   "cell_type": "code",
   "execution_count": 15,
   "id": "a398fef7",
   "metadata": {},
   "outputs": [
    {
     "name": "stdout",
     "output_type": "stream",
     "text": [
      "   수학   영어  음악   체육\n",
      "0  90   89  86  100\n",
      "1  80   98  97   90\n",
      "2  70  100  99   90\n",
      "\n",
      "    수학   영어  음악   체육\n",
      "서준  90   89  86  100\n",
      "우현  80   98  97   90\n",
      "인아  70  100  99   90\n"
     ]
    },
    {
     "data": {
      "text/html": [
       "<div>\n",
       "<style scoped>\n",
       "    .dataframe tbody tr th:only-of-type {\n",
       "        vertical-align: middle;\n",
       "    }\n",
       "\n",
       "    .dataframe tbody tr th {\n",
       "        vertical-align: top;\n",
       "    }\n",
       "\n",
       "    .dataframe thead th {\n",
       "        text-align: right;\n",
       "    }\n",
       "</style>\n",
       "<table border=\"1\" class=\"dataframe\">\n",
       "  <thead>\n",
       "    <tr style=\"text-align: right;\">\n",
       "      <th></th>\n",
       "      <th>영어</th>\n",
       "      <th>음악</th>\n",
       "      <th>체육</th>\n",
       "    </tr>\n",
       "  </thead>\n",
       "  <tbody>\n",
       "    <tr>\n",
       "      <th>서준</th>\n",
       "      <td>89</td>\n",
       "      <td>86</td>\n",
       "      <td>100</td>\n",
       "    </tr>\n",
       "  </tbody>\n",
       "</table>\n",
       "</div>"
      ],
      "text/plain": [
       "    영어  음악   체육\n",
       "서준  89  86  100"
      ]
     },
     "execution_count": 15,
     "metadata": {},
     "output_type": "execute_result"
    }
   ],
   "source": [
    "exam_data = {'수학' : [90, 80, 70], '영어' : [89, 98, 100],\n",
    "            '음악' : [86, 97, 99], '체육' : [100, 90, 90]}\n",
    "\n",
    "df = pd.DataFrame(exam_data)\n",
    "print(df)\n",
    "print()\n",
    "\n",
    "# 데이터프레임 인덱스명 추가\n",
    "\n",
    "df.index = ['서준', '우현', '인아']\n",
    "print(df)\n",
    "\n",
    "df2 = df.copy()                          # df2 = df -> 주소만 복사되어 기존 데이터 공유\n",
    "df2\n",
    "\n",
    "# '우현' 자료 삭제 (행을 삭제)\n",
    "\n",
    "df2.drop(['우현', '인아'], axis = 0, inplace = True)     # axis = 0 : 행(가로, 인덱스)을 삭제\n",
    "                                        \n",
    "    \n",
    "df2.drop('수학', axis = 1)                              # axis = 1 : 열(세로, 컬럼)을 삭제"
   ]
  },
  {
   "cell_type": "code",
   "execution_count": 16,
   "id": "a16f0c78",
   "metadata": {},
   "outputs": [
    {
     "data": {
      "text/html": [
       "<div>\n",
       "<style scoped>\n",
       "    .dataframe tbody tr th:only-of-type {\n",
       "        vertical-align: middle;\n",
       "    }\n",
       "\n",
       "    .dataframe tbody tr th {\n",
       "        vertical-align: top;\n",
       "    }\n",
       "\n",
       "    .dataframe thead th {\n",
       "        text-align: right;\n",
       "    }\n",
       "</style>\n",
       "<table border=\"1\" class=\"dataframe\">\n",
       "  <thead>\n",
       "    <tr style=\"text-align: right;\">\n",
       "      <th></th>\n",
       "      <th>수학</th>\n",
       "      <th>영어</th>\n",
       "      <th>음악</th>\n",
       "      <th>체육</th>\n",
       "    </tr>\n",
       "  </thead>\n",
       "  <tbody>\n",
       "    <tr>\n",
       "      <th>서준</th>\n",
       "      <td>90</td>\n",
       "      <td>89</td>\n",
       "      <td>86</td>\n",
       "      <td>100</td>\n",
       "    </tr>\n",
       "    <tr>\n",
       "      <th>우현</th>\n",
       "      <td>80</td>\n",
       "      <td>98</td>\n",
       "      <td>97</td>\n",
       "      <td>90</td>\n",
       "    </tr>\n",
       "    <tr>\n",
       "      <th>민아</th>\n",
       "      <td>70</td>\n",
       "      <td>100</td>\n",
       "      <td>99</td>\n",
       "      <td>90</td>\n",
       "    </tr>\n",
       "  </tbody>\n",
       "</table>\n",
       "</div>"
      ],
      "text/plain": [
       "    수학   영어  음악   체육\n",
       "서준  90   89  86  100\n",
       "우현  80   98  97   90\n",
       "민아  70  100  99   90"
      ]
     },
     "execution_count": 16,
     "metadata": {},
     "output_type": "execute_result"
    }
   ],
   "source": [
    "exam_data = {'수학' : [90, 80, 70], '영어' : [89, 98, 100],\n",
    "            '음악' : [86, 97, 99], '체육' : [100, 90, 90]}\n",
    "\n",
    "df = pd.DataFrame(exam_data)\n",
    "\n",
    "df2 = df.copy()\n",
    "\n",
    "# df2의 인덱스는 '서준', '우현', '민아' 추가\n",
    "\n",
    "df2.index = ['서준', '우현', '민아']\n",
    "df2"
   ]
  },
  {
   "cell_type": "markdown",
   "id": "cb8c777b",
   "metadata": {},
   "source": [
    "# 행 선택 -> df.loc[인덱스명], df.iloc[인덱스 첨자]"
   ]
  },
  {
   "cell_type": "code",
   "execution_count": 17,
   "id": "4589d956",
   "metadata": {},
   "outputs": [
    {
     "name": "stdout",
     "output_type": "stream",
     "text": [
      "수학     90\n",
      "영어     89\n",
      "음악     86\n",
      "체육    100\n",
      "Name: 서준, dtype: int64\n",
      "\n"
     ]
    },
    {
     "data": {
      "text/plain": [
       "수학     90\n",
       "영어     89\n",
       "음악     86\n",
       "체육    100\n",
       "Name: 서준, dtype: int64"
      ]
     },
     "execution_count": 17,
     "metadata": {},
     "output_type": "execute_result"
    }
   ],
   "source": [
    "print(df2.loc['서준'])\n",
    "print()\n",
    "\n",
    "df2.iloc[0]"
   ]
  },
  {
   "cell_type": "code",
   "execution_count": 18,
   "id": "3895dda6",
   "metadata": {},
   "outputs": [
    {
     "name": "stdout",
     "output_type": "stream",
     "text": [
      "    수학  영어  음악   체육\n",
      "서준  90  89  86  100\n",
      "우현  80  98  97   90\n",
      "\n",
      "    수학  영어  음악   체육\n",
      "서준  90  89  86  100\n",
      "우현  80  98  97   90\n",
      "\n",
      "89\n",
      "\n",
      "    수학  영어  음악   체육\n",
      "서준  90  89  86  100\n",
      "\n",
      "0    90\n",
      "1    80\n",
      "2    70\n",
      "Name: 수학, dtype: int64\n",
      "\n",
      "0    90\n",
      "1    80\n",
      "2    70\n",
      "Name: 수학, dtype: int64\n",
      "\n"
     ]
    },
    {
     "data": {
      "text/html": [
       "<div>\n",
       "<style scoped>\n",
       "    .dataframe tbody tr th:only-of-type {\n",
       "        vertical-align: middle;\n",
       "    }\n",
       "\n",
       "    .dataframe tbody tr th {\n",
       "        vertical-align: top;\n",
       "    }\n",
       "\n",
       "    .dataframe thead th {\n",
       "        text-align: right;\n",
       "    }\n",
       "</style>\n",
       "<table border=\"1\" class=\"dataframe\">\n",
       "  <thead>\n",
       "    <tr style=\"text-align: right;\">\n",
       "      <th></th>\n",
       "      <th>수학</th>\n",
       "      <th>영어</th>\n",
       "      <th>음악</th>\n",
       "      <th>체육</th>\n",
       "      <th>국어</th>\n",
       "    </tr>\n",
       "  </thead>\n",
       "  <tbody>\n",
       "    <tr>\n",
       "      <th>서준</th>\n",
       "      <td>90</td>\n",
       "      <td>89</td>\n",
       "      <td>86</td>\n",
       "      <td>100</td>\n",
       "      <td>100</td>\n",
       "    </tr>\n",
       "    <tr>\n",
       "      <th>우현</th>\n",
       "      <td>80</td>\n",
       "      <td>98</td>\n",
       "      <td>97</td>\n",
       "      <td>90</td>\n",
       "      <td>80</td>\n",
       "    </tr>\n",
       "    <tr>\n",
       "      <th>민아</th>\n",
       "      <td>70</td>\n",
       "      <td>100</td>\n",
       "      <td>99</td>\n",
       "      <td>90</td>\n",
       "      <td>90</td>\n",
       "    </tr>\n",
       "  </tbody>\n",
       "</table>\n",
       "</div>"
      ],
      "text/plain": [
       "    수학   영어  음악   체육   국어\n",
       "서준  90   89  86  100  100\n",
       "우현  80   98  97   90   80\n",
       "민아  70  100  99   90   90"
      ]
     },
     "execution_count": 18,
     "metadata": {},
     "output_type": "execute_result"
    }
   ],
   "source": [
    "# '서준'과 '우현'의 자료 검색 : 인덱스 명으로\n",
    "\n",
    "print(df2.loc[['서준', '우현']])\n",
    "print()\n",
    "\n",
    "print(df2.loc['서준' : '우현'])           # 우현 포함\n",
    "print()\n",
    "\n",
    "print(df2.iloc[0, 1])\n",
    "print()\n",
    "\n",
    "print(df2.iloc[0 : 1])                    # 1 미포함\n",
    "print()\n",
    "\n",
    "# 국어 점수를 100, 80, 90을 df2에 추가\n",
    "\n",
    "print(df.수학)                            # 컬럼 자료 출력\n",
    "print()\n",
    "\n",
    "print(df['수학'])                                \n",
    "print()\n",
    "\n",
    "df2['국어'] = [100, 80, 90]               # 컬럼 추가\n",
    "df2\n"
   ]
  },
  {
   "cell_type": "code",
   "execution_count": 19,
   "id": "a470f6d4",
   "metadata": {},
   "outputs": [
    {
     "name": "stdout",
     "output_type": "stream",
     "text": [
      "    음악   국어\n",
      "서준  86  100\n",
      "우현  97   80\n",
      "민아  99   90\n",
      "\n",
      "    수학  영어  음악   체육   국어\n",
      "서준  90  89  86  100  100\n",
      "우현  80  98  97   90   80\n",
      "\n",
      "    수학   영어  음악\n",
      "서준  90   89  86\n",
      "우현  80   98  97\n",
      "민아  70  100  99\n"
     ]
    }
   ],
   "source": [
    "df2\n",
    "\n",
    "# 음악과 국어 점수 출력\n",
    "# 서준과 우현의 점수 출력\n",
    "# 수학, 영어, 음악 점수 출력\n",
    "\n",
    "print(df2[['음악', '국어']])                         # 컬럼은 그냥\n",
    "print()\n",
    "\n",
    "print(df2.loc[['서준', '우현']])                     # 인덱스는 loc, iloc\n",
    "print()\n",
    "\n",
    "print(df2[['수학', '영어', '음악']])"
   ]
  },
  {
   "cell_type": "code",
   "execution_count": 20,
   "id": "a158cad0",
   "metadata": {},
   "outputs": [
    {
     "name": "stdout",
     "output_type": "stream",
     "text": [
      "    수학   영어  음악   체육   국어\n",
      "서준  90   89  86  100  100\n",
      "우현  80   98  97   90   80\n",
      "민아  70  100  99   90   90\n"
     ]
    },
    {
     "data": {
      "text/html": [
       "<div>\n",
       "<style scoped>\n",
       "    .dataframe tbody tr th:only-of-type {\n",
       "        vertical-align: middle;\n",
       "    }\n",
       "\n",
       "    .dataframe tbody tr th {\n",
       "        vertical-align: top;\n",
       "    }\n",
       "\n",
       "    .dataframe thead th {\n",
       "        text-align: right;\n",
       "    }\n",
       "</style>\n",
       "<table border=\"1\" class=\"dataframe\">\n",
       "  <thead>\n",
       "    <tr style=\"text-align: right;\">\n",
       "      <th></th>\n",
       "      <th>수학</th>\n",
       "      <th>영어</th>\n",
       "      <th>음악</th>\n",
       "      <th>체육</th>\n",
       "      <th>국어</th>\n",
       "    </tr>\n",
       "  </thead>\n",
       "  <tbody>\n",
       "    <tr>\n",
       "      <th>서준</th>\n",
       "      <td>90</td>\n",
       "      <td>89</td>\n",
       "      <td>86</td>\n",
       "      <td>100</td>\n",
       "      <td>100</td>\n",
       "    </tr>\n",
       "    <tr>\n",
       "      <th>우현</th>\n",
       "      <td>80</td>\n",
       "      <td>98</td>\n",
       "      <td>97</td>\n",
       "      <td>90</td>\n",
       "      <td>80</td>\n",
       "    </tr>\n",
       "    <tr>\n",
       "      <th>민아</th>\n",
       "      <td>70</td>\n",
       "      <td>100</td>\n",
       "      <td>99</td>\n",
       "      <td>90</td>\n",
       "      <td>90</td>\n",
       "    </tr>\n",
       "    <tr>\n",
       "      <th>철수</th>\n",
       "      <td>100</td>\n",
       "      <td>80</td>\n",
       "      <td>90</td>\n",
       "      <td>77</td>\n",
       "      <td>50</td>\n",
       "    </tr>\n",
       "  </tbody>\n",
       "</table>\n",
       "</div>"
      ],
      "text/plain": [
       "     수학   영어  음악   체육   국어\n",
       "서준   90   89  86  100  100\n",
       "우현   80   98  97   90   80\n",
       "민아   70  100  99   90   90\n",
       "철수  100   80  90   77   50"
      ]
     },
     "execution_count": 20,
     "metadata": {},
     "output_type": "execute_result"
    }
   ],
   "source": [
    "# 새로운 행 추가 '철수' -> 100, 80, 90, 77, 50\n",
    "print(df2)\n",
    "df2.loc['철수'] = [100, 80, 90, 77, 50]\n",
    "df2"
   ]
  },
  {
   "cell_type": "code",
   "execution_count": 21,
   "id": "17ce8fe3",
   "metadata": {},
   "outputs": [
    {
     "name": "stdout",
     "output_type": "stream",
     "text": [
      "89 89\n",
      "\n",
      "89 89\n",
      "\n",
      "서준    89\n",
      "우현    98\n",
      "Name: 영어, dtype: int64\n",
      "\n",
      "\n",
      "    수학   영어\n",
      "서준  90  100\n",
      "우현  80   98\n",
      "민아  70  100\n"
     ]
    },
    {
     "data": {
      "text/html": [
       "<div>\n",
       "<style scoped>\n",
       "    .dataframe tbody tr th:only-of-type {\n",
       "        vertical-align: middle;\n",
       "    }\n",
       "\n",
       "    .dataframe tbody tr th {\n",
       "        vertical-align: top;\n",
       "    }\n",
       "\n",
       "    .dataframe thead th {\n",
       "        text-align: right;\n",
       "    }\n",
       "</style>\n",
       "<table border=\"1\" class=\"dataframe\">\n",
       "  <thead>\n",
       "    <tr style=\"text-align: right;\">\n",
       "      <th></th>\n",
       "      <th>수학</th>\n",
       "      <th>영어</th>\n",
       "    </tr>\n",
       "  </thead>\n",
       "  <tbody>\n",
       "    <tr>\n",
       "      <th>서준</th>\n",
       "      <td>90</td>\n",
       "      <td>100</td>\n",
       "    </tr>\n",
       "    <tr>\n",
       "      <th>우현</th>\n",
       "      <td>80</td>\n",
       "      <td>98</td>\n",
       "    </tr>\n",
       "    <tr>\n",
       "      <th>민아</th>\n",
       "      <td>70</td>\n",
       "      <td>100</td>\n",
       "    </tr>\n",
       "  </tbody>\n",
       "</table>\n",
       "</div>"
      ],
      "text/plain": [
       "    수학   영어\n",
       "서준  90  100\n",
       "우현  80   98\n",
       "민아  70  100"
      ]
     },
     "execution_count": 21,
     "metadata": {},
     "output_type": "execute_result"
    }
   ],
   "source": [
    "# 각 원소 접근 df.loc[인덱스명, 컬럼명], df.loc[인덱스명][컬럼명]\n",
    "# df.iloc[인덱스첨자, 컬럼위치 인덱스], df.iloc[인덱스첨자][컬럼위치]\n",
    "\n",
    "# 서준의 영어 점수 검색\n",
    "\n",
    "print(df2.loc['서준', '영어'], df2.loc['서준']['영어'])\n",
    "print()\n",
    "\n",
    "print(df2.iloc[0, 1], df2.iloc[0][1])\n",
    "print()\n",
    "\n",
    "# 서준과 우현의 영어 점수\n",
    "\n",
    "print(df2.loc[['서준', '우현'], '영어'])\n",
    "print()\n",
    "\n",
    "# 서준의 영어 점수를 100점으로 시정\n",
    "df2.loc['서준', '영어'] = 100\n",
    "df2\n",
    "print()\n",
    "\n",
    "# 서준부터 민아까지의 수학과 영어 점수를 출력\n",
    "\n",
    "print(df2.loc[['서준', '우현', '민아'], ['수학', '영어']])\n",
    "df2.loc['서준' : '민아', ['수학', '영어']]                  # 인덱스는 ':' 사용 가능\n",
    "                                                            # 컬럼은 ':' 사용 불가"
   ]
  },
  {
   "cell_type": "code",
   "execution_count": 22,
   "id": "6c618834",
   "metadata": {},
   "outputs": [
    {
     "data": {
      "text/html": [
       "<div>\n",
       "<style scoped>\n",
       "    .dataframe tbody tr th:only-of-type {\n",
       "        vertical-align: middle;\n",
       "    }\n",
       "\n",
       "    .dataframe tbody tr th {\n",
       "        vertical-align: top;\n",
       "    }\n",
       "\n",
       "    .dataframe thead th {\n",
       "        text-align: right;\n",
       "    }\n",
       "</style>\n",
       "<table border=\"1\" class=\"dataframe\">\n",
       "  <thead>\n",
       "    <tr style=\"text-align: right;\">\n",
       "      <th></th>\n",
       "      <th>수학</th>\n",
       "      <th>영어</th>\n",
       "      <th>음악</th>\n",
       "      <th>체육</th>\n",
       "    </tr>\n",
       "    <tr>\n",
       "      <th>이름</th>\n",
       "      <th></th>\n",
       "      <th></th>\n",
       "      <th></th>\n",
       "      <th></th>\n",
       "    </tr>\n",
       "  </thead>\n",
       "  <tbody>\n",
       "    <tr>\n",
       "      <th>우현</th>\n",
       "      <td>90</td>\n",
       "      <td>89</td>\n",
       "      <td>86</td>\n",
       "      <td>100</td>\n",
       "    </tr>\n",
       "    <tr>\n",
       "      <th>서준</th>\n",
       "      <td>80</td>\n",
       "      <td>98</td>\n",
       "      <td>97</td>\n",
       "      <td>90</td>\n",
       "    </tr>\n",
       "    <tr>\n",
       "      <th>민아</th>\n",
       "      <td>70</td>\n",
       "      <td>100</td>\n",
       "      <td>99</td>\n",
       "      <td>90</td>\n",
       "    </tr>\n",
       "  </tbody>\n",
       "</table>\n",
       "</div>"
      ],
      "text/plain": [
       "    수학   영어  음악   체육\n",
       "이름                  \n",
       "우현  90   89  86  100\n",
       "서준  80   98  97   90\n",
       "민아  70  100  99   90"
      ]
     },
     "execution_count": 22,
     "metadata": {},
     "output_type": "execute_result"
    }
   ],
   "source": [
    "df3 = df.copy()\n",
    "\n",
    "# 추가 칼럼명 = [이름: 우현, 서준, 민아]\n",
    "\n",
    "df3['이름'] = ['우현', '서준', '민아']\n",
    "df3\n",
    "\n",
    "# 특정 칼럼을 인덱스로 설정\n",
    "# df.set_index(컬럼명, inplace = True)\n",
    "\n",
    "df3.set_index('이름', inplace = True)\n",
    "df3"
   ]
  },
  {
   "cell_type": "code",
   "execution_count": 23,
   "id": "719e9214",
   "metadata": {},
   "outputs": [
    {
     "data": {
      "text/html": [
       "<div>\n",
       "<style scoped>\n",
       "    .dataframe tbody tr th:only-of-type {\n",
       "        vertical-align: middle;\n",
       "    }\n",
       "\n",
       "    .dataframe tbody tr th {\n",
       "        vertical-align: top;\n",
       "    }\n",
       "\n",
       "    .dataframe thead th {\n",
       "        text-align: right;\n",
       "    }\n",
       "</style>\n",
       "<table border=\"1\" class=\"dataframe\">\n",
       "  <thead>\n",
       "    <tr style=\"text-align: right;\">\n",
       "      <th></th>\n",
       "      <th>이름</th>\n",
       "      <th>수학</th>\n",
       "      <th>영어</th>\n",
       "      <th>음악</th>\n",
       "      <th>체육</th>\n",
       "    </tr>\n",
       "  </thead>\n",
       "  <tbody>\n",
       "    <tr>\n",
       "      <th>0</th>\n",
       "      <td>우현</td>\n",
       "      <td>90</td>\n",
       "      <td>89</td>\n",
       "      <td>86</td>\n",
       "      <td>100</td>\n",
       "    </tr>\n",
       "    <tr>\n",
       "      <th>1</th>\n",
       "      <td>서준</td>\n",
       "      <td>80</td>\n",
       "      <td>98</td>\n",
       "      <td>97</td>\n",
       "      <td>90</td>\n",
       "    </tr>\n",
       "    <tr>\n",
       "      <th>2</th>\n",
       "      <td>민아</td>\n",
       "      <td>70</td>\n",
       "      <td>100</td>\n",
       "      <td>99</td>\n",
       "      <td>90</td>\n",
       "    </tr>\n",
       "  </tbody>\n",
       "</table>\n",
       "</div>"
      ],
      "text/plain": [
       "   이름  수학   영어  음악   체육\n",
       "0  우현  90   89  86  100\n",
       "1  서준  80   98  97   90\n",
       "2  민아  70  100  99   90"
      ]
     },
     "execution_count": 23,
     "metadata": {},
     "output_type": "execute_result"
    }
   ],
   "source": [
    "# 인덱스 초기화 df.reset_index()\n",
    "\n",
    "df3.reset_index(inplace = True)\n",
    "df3"
   ]
  },
  {
   "cell_type": "code",
   "execution_count": 24,
   "id": "e3a5a324",
   "metadata": {},
   "outputs": [
    {
     "data": {
      "text/plain": [
       "Index(['우현', '서준', '민아'], dtype='object', name='이름')"
      ]
     },
     "execution_count": 24,
     "metadata": {},
     "output_type": "execute_result"
    }
   ],
   "source": [
    "# 행 인덱스 재배열\n",
    "\n",
    "df3.set_index('이름', inplace = True)\n",
    "df3.index"
   ]
  },
  {
   "cell_type": "code",
   "execution_count": 25,
   "id": "4631ea7a",
   "metadata": {},
   "outputs": [
    {
     "data": {
      "text/html": [
       "<div>\n",
       "<style scoped>\n",
       "    .dataframe tbody tr th:only-of-type {\n",
       "        vertical-align: middle;\n",
       "    }\n",
       "\n",
       "    .dataframe tbody tr th {\n",
       "        vertical-align: top;\n",
       "    }\n",
       "\n",
       "    .dataframe thead th {\n",
       "        text-align: right;\n",
       "    }\n",
       "</style>\n",
       "<table border=\"1\" class=\"dataframe\">\n",
       "  <thead>\n",
       "    <tr style=\"text-align: right;\">\n",
       "      <th></th>\n",
       "      <th>수학</th>\n",
       "      <th>영어</th>\n",
       "      <th>음악</th>\n",
       "      <th>체육</th>\n",
       "    </tr>\n",
       "    <tr>\n",
       "      <th>이름</th>\n",
       "      <th></th>\n",
       "      <th></th>\n",
       "      <th></th>\n",
       "      <th></th>\n",
       "    </tr>\n",
       "  </thead>\n",
       "  <tbody>\n",
       "    <tr>\n",
       "      <th>철수</th>\n",
       "      <td>NaN</td>\n",
       "      <td>NaN</td>\n",
       "      <td>NaN</td>\n",
       "      <td>NaN</td>\n",
       "    </tr>\n",
       "    <tr>\n",
       "      <th>우현</th>\n",
       "      <td>90.0</td>\n",
       "      <td>89.0</td>\n",
       "      <td>86.0</td>\n",
       "      <td>100.0</td>\n",
       "    </tr>\n",
       "    <tr>\n",
       "      <th>서준</th>\n",
       "      <td>80.0</td>\n",
       "      <td>98.0</td>\n",
       "      <td>97.0</td>\n",
       "      <td>90.0</td>\n",
       "    </tr>\n",
       "    <tr>\n",
       "      <th>민아</th>\n",
       "      <td>70.0</td>\n",
       "      <td>100.0</td>\n",
       "      <td>99.0</td>\n",
       "      <td>90.0</td>\n",
       "    </tr>\n",
       "  </tbody>\n",
       "</table>\n",
       "</div>"
      ],
      "text/plain": [
       "      수학     영어    음악     체육\n",
       "이름                          \n",
       "철수   NaN    NaN   NaN    NaN\n",
       "우현  90.0   89.0  86.0  100.0\n",
       "서준  80.0   98.0  97.0   90.0\n",
       "민아  70.0  100.0  99.0   90.0"
      ]
     },
     "execution_count": 25,
     "metadata": {},
     "output_type": "execute_result"
    }
   ],
   "source": [
    "df4 = df3.reindex(['철수', '우현', '서준', '민아'])\n",
    "df4"
   ]
  },
  {
   "cell_type": "markdown",
   "id": "c95072f7",
   "metadata": {},
   "source": [
    "# 데이터프레임 : 2차원 배열 (시리즈가 열로 묶인 배열)\n",
    "### 인덱스 접근 방법 : df.loc[인덱스명], 값이 여러개 [ , ...]\n",
    "### 컬럼 접근 방법 : df[컬럼명]\n",
    "### 원소 접근 방법 : df.loc[인덱스명, 컬럼명]\n",
    "###                            df.iloc[인덱스 첨자, 컬럼 첨자]\n",
    "### 인덱스 생성 : df.index = [인덱스명, ...]\n",
    "### 특정 칼럼을 인덱스로 : df.set_index(컬럼명, inplace = True)\n",
    "### 인덱스 초기화 : df.reset_index(inplace = True)\n",
    "### 인덱스 재배열 : df.reindex([인덱스명, ...])\n",
    "### 인덱스 삭제 : df.drop(index = [인덱스명])\n",
    "### 컬럼 삭제 : df.drop(columns = [컬럼명])\n",
    "### 인덱스 정렬 : df.sort_index()\n",
    "### 값으로 정렬 : df.sort_values(by = 컬럼명, ascending = False)"
   ]
  },
  {
   "cell_type": "code",
   "execution_count": 28,
   "id": "b0b25c14",
   "metadata": {},
   "outputs": [
    {
     "name": "stdout",
     "output_type": "stream",
     "text": [
      "     수학   영어  음악   체육   국어\n",
      "서준   90  100  86  100  100\n",
      "우현   80   98  97   90   80\n",
      "민아   70  100  99   90   90\n",
      "철수  100   80  90   77   50\n",
      "\n",
      "     영어  음악\n",
      "서준  100  86\n",
      "우현   98  97\n",
      "\n",
      "    수학   영어  음악   체육   국어\n",
      "서준  90  100  86  100  100\n",
      "우현  80   98  97   90   80\n",
      "\n",
      "     수학   영어  음악   체육   국어\n",
      "서준   90  100  86  100  100\n",
      "우현   80   98  97   90   80\n",
      "민아   70  100  99   90   90\n",
      "철수  100   80  90   77   50\n"
     ]
    }
   ],
   "source": [
    "print(df2); print()\n",
    "\n",
    "print(df2.iloc[0 : 2, 1 : 3])                  # 0행, 1행, 1열 2열\n",
    "print()\n",
    "\n",
    "print(df2.iloc[:2, :]); print()\n",
    "\n",
    "print(df2.iloc[: , :])"
   ]
  },
  {
   "cell_type": "code",
   "execution_count": 29,
   "id": "95fe8a4b",
   "metadata": {},
   "outputs": [
    {
     "data": {
      "text/html": [
       "<div>\n",
       "<style scoped>\n",
       "    .dataframe tbody tr th:only-of-type {\n",
       "        vertical-align: middle;\n",
       "    }\n",
       "\n",
       "    .dataframe tbody tr th {\n",
       "        vertical-align: top;\n",
       "    }\n",
       "\n",
       "    .dataframe thead th {\n",
       "        text-align: right;\n",
       "    }\n",
       "</style>\n",
       "<table border=\"1\" class=\"dataframe\">\n",
       "  <thead>\n",
       "    <tr style=\"text-align: right;\">\n",
       "      <th></th>\n",
       "      <th>수학</th>\n",
       "      <th>영어</th>\n",
       "      <th>음악</th>\n",
       "      <th>체육</th>\n",
       "      <th>국어</th>\n",
       "    </tr>\n",
       "  </thead>\n",
       "  <tbody>\n",
       "    <tr>\n",
       "      <th>민아</th>\n",
       "      <td>70</td>\n",
       "      <td>100</td>\n",
       "      <td>99</td>\n",
       "      <td>90</td>\n",
       "      <td>90</td>\n",
       "    </tr>\n",
       "    <tr>\n",
       "      <th>서준</th>\n",
       "      <td>90</td>\n",
       "      <td>100</td>\n",
       "      <td>86</td>\n",
       "      <td>100</td>\n",
       "      <td>100</td>\n",
       "    </tr>\n",
       "    <tr>\n",
       "      <th>우현</th>\n",
       "      <td>80</td>\n",
       "      <td>98</td>\n",
       "      <td>97</td>\n",
       "      <td>90</td>\n",
       "      <td>80</td>\n",
       "    </tr>\n",
       "    <tr>\n",
       "      <th>철수</th>\n",
       "      <td>100</td>\n",
       "      <td>80</td>\n",
       "      <td>90</td>\n",
       "      <td>77</td>\n",
       "      <td>50</td>\n",
       "    </tr>\n",
       "  </tbody>\n",
       "</table>\n",
       "</div>"
      ],
      "text/plain": [
       "     수학   영어  음악   체육   국어\n",
       "민아   70  100  99   90   90\n",
       "서준   90  100  86  100  100\n",
       "우현   80   98  97   90   80\n",
       "철수  100   80  90   77   50"
      ]
     },
     "execution_count": 29,
     "metadata": {},
     "output_type": "execute_result"
    }
   ],
   "source": [
    "# index를 기준으로 정렬 : df.sort_index()\n",
    "\n",
    "df2.sort_index()"
   ]
  },
  {
   "cell_type": "code",
   "execution_count": 37,
   "id": "533b293f",
   "metadata": {},
   "outputs": [
    {
     "data": {
      "text/html": [
       "<div>\n",
       "<style scoped>\n",
       "    .dataframe tbody tr th:only-of-type {\n",
       "        vertical-align: middle;\n",
       "    }\n",
       "\n",
       "    .dataframe tbody tr th {\n",
       "        vertical-align: top;\n",
       "    }\n",
       "\n",
       "    .dataframe thead th {\n",
       "        text-align: right;\n",
       "    }\n",
       "</style>\n",
       "<table border=\"1\" class=\"dataframe\">\n",
       "  <thead>\n",
       "    <tr style=\"text-align: right;\">\n",
       "      <th></th>\n",
       "      <th>수학</th>\n",
       "      <th>영어</th>\n",
       "      <th>음악</th>\n",
       "      <th>체육</th>\n",
       "      <th>국어</th>\n",
       "    </tr>\n",
       "  </thead>\n",
       "  <tbody>\n",
       "    <tr>\n",
       "      <th>서준</th>\n",
       "      <td>90</td>\n",
       "      <td>100</td>\n",
       "      <td>86</td>\n",
       "      <td>100</td>\n",
       "      <td>100</td>\n",
       "    </tr>\n",
       "    <tr>\n",
       "      <th>민아</th>\n",
       "      <td>70</td>\n",
       "      <td>100</td>\n",
       "      <td>99</td>\n",
       "      <td>90</td>\n",
       "      <td>90</td>\n",
       "    </tr>\n",
       "    <tr>\n",
       "      <th>우현</th>\n",
       "      <td>80</td>\n",
       "      <td>98</td>\n",
       "      <td>97</td>\n",
       "      <td>90</td>\n",
       "      <td>80</td>\n",
       "    </tr>\n",
       "    <tr>\n",
       "      <th>철수</th>\n",
       "      <td>100</td>\n",
       "      <td>80</td>\n",
       "      <td>90</td>\n",
       "      <td>77</td>\n",
       "      <td>50</td>\n",
       "    </tr>\n",
       "  </tbody>\n",
       "</table>\n",
       "</div>"
      ],
      "text/plain": [
       "     수학   영어  음악   체육   국어\n",
       "서준   90  100  86  100  100\n",
       "민아   70  100  99   90   90\n",
       "우현   80   98  97   90   80\n",
       "철수  100   80  90   77   50"
      ]
     },
     "execution_count": 37,
     "metadata": {},
     "output_type": "execute_result"
    }
   ],
   "source": [
    "# value를 기준으로 정렬 : df.sort_value(by = 컬럼명, ascending = False)\n",
    "\n",
    "df5 = df2. sort_values(by = ['체육', '국어'], ascending= False)     # 체육이 우선순위\n",
    "df5"
   ]
  },
  {
   "cell_type": "code",
   "execution_count": 44,
   "id": "6e2b883c",
   "metadata": {},
   "outputs": [
    {
     "name": "stdout",
     "output_type": "stream",
     "text": [
      "<class 'pandas.core.frame.DataFrame'>\n",
      "\n",
      "<class 'pandas.core.series.Series'>\n"
     ]
    }
   ],
   "source": [
    "df = pd.DataFrame({'a' : [1, 2, 3, 4]}, index = ['C', 'A', 'b', 'd'])\n",
    "df.sort_index(key = lambda x: x.str.lower(), inplace = True)\n",
    "print(type(df)); print()\n",
    "\n",
    "print(type(df.a))"
   ]
  },
  {
   "cell_type": "code",
   "execution_count": 48,
   "id": "057577de",
   "metadata": {},
   "outputs": [
    {
     "name": "stdout",
     "output_type": "stream",
     "text": [
      "     서준  우현   민아   철수\n",
      "수학   90  80   70  100\n",
      "영어  100  98  100   80\n",
      "음악   86  97   99   90\n",
      "체육  100  90   90   77\n",
      "국어  100  80   90   50\n",
      "\n",
      "     수학   영어  음악   체육   국어\n",
      "서준   90  100  86  100  100\n",
      "우현   80   98  97   90   80\n",
      "민아   70  100  99   90   90\n",
      "철수  100   80  90   77   50\n"
     ]
    },
    {
     "data": {
      "text/html": [
       "<div>\n",
       "<style scoped>\n",
       "    .dataframe tbody tr th:only-of-type {\n",
       "        vertical-align: middle;\n",
       "    }\n",
       "\n",
       "    .dataframe tbody tr th {\n",
       "        vertical-align: top;\n",
       "    }\n",
       "\n",
       "    .dataframe thead th {\n",
       "        text-align: right;\n",
       "    }\n",
       "</style>\n",
       "<table border=\"1\" class=\"dataframe\">\n",
       "  <thead>\n",
       "    <tr style=\"text-align: right;\">\n",
       "      <th></th>\n",
       "      <th>수학</th>\n",
       "      <th>영어</th>\n",
       "      <th>음악</th>\n",
       "      <th>체육</th>\n",
       "      <th>국어</th>\n",
       "    </tr>\n",
       "  </thead>\n",
       "  <tbody>\n",
       "    <tr>\n",
       "      <th>서준</th>\n",
       "      <td>90</td>\n",
       "      <td>100</td>\n",
       "      <td>86</td>\n",
       "      <td>100</td>\n",
       "      <td>100</td>\n",
       "    </tr>\n",
       "    <tr>\n",
       "      <th>우현</th>\n",
       "      <td>80</td>\n",
       "      <td>98</td>\n",
       "      <td>97</td>\n",
       "      <td>90</td>\n",
       "      <td>80</td>\n",
       "    </tr>\n",
       "    <tr>\n",
       "      <th>민아</th>\n",
       "      <td>70</td>\n",
       "      <td>100</td>\n",
       "      <td>99</td>\n",
       "      <td>90</td>\n",
       "      <td>90</td>\n",
       "    </tr>\n",
       "    <tr>\n",
       "      <th>철수</th>\n",
       "      <td>100</td>\n",
       "      <td>80</td>\n",
       "      <td>90</td>\n",
       "      <td>77</td>\n",
       "      <td>50</td>\n",
       "    </tr>\n",
       "  </tbody>\n",
       "</table>\n",
       "</div>"
      ],
      "text/plain": [
       "     수학   영어  음악   체육   국어\n",
       "서준   90  100  86  100  100\n",
       "우현   80   98  97   90   80\n",
       "민아   70  100  99   90   90\n",
       "철수  100   80  90   77   50"
      ]
     },
     "execution_count": 48,
     "metadata": {},
     "output_type": "execute_result"
    }
   ],
   "source": [
    "df_t = df2.transpose()             # 인덱스와 컬럼 위치 바꾸기\n",
    "print(df_t); print()\n",
    "\n",
    "print(df2)\n",
    "df2"
   ]
  },
  {
   "cell_type": "code",
   "execution_count": 50,
   "id": "7e0bcac0",
   "metadata": {},
   "outputs": [
    {
     "data": {
      "text/html": [
       "<div>\n",
       "<style scoped>\n",
       "    .dataframe tbody tr th:only-of-type {\n",
       "        vertical-align: middle;\n",
       "    }\n",
       "\n",
       "    .dataframe tbody tr th {\n",
       "        vertical-align: top;\n",
       "    }\n",
       "\n",
       "    .dataframe thead th {\n",
       "        text-align: right;\n",
       "    }\n",
       "</style>\n",
       "<table border=\"1\" class=\"dataframe\">\n",
       "  <thead>\n",
       "    <tr style=\"text-align: right;\">\n",
       "      <th></th>\n",
       "      <th>수학</th>\n",
       "      <th>영어</th>\n",
       "      <th>음악</th>\n",
       "      <th>체육</th>\n",
       "      <th>국어</th>\n",
       "    </tr>\n",
       "  </thead>\n",
       "  <tbody>\n",
       "    <tr>\n",
       "      <th>서준</th>\n",
       "      <td>90</td>\n",
       "      <td>100</td>\n",
       "      <td>86</td>\n",
       "      <td>100</td>\n",
       "      <td>100</td>\n",
       "    </tr>\n",
       "    <tr>\n",
       "      <th>우현</th>\n",
       "      <td>80</td>\n",
       "      <td>98</td>\n",
       "      <td>97</td>\n",
       "      <td>90</td>\n",
       "      <td>80</td>\n",
       "    </tr>\n",
       "    <tr>\n",
       "      <th>민아</th>\n",
       "      <td>70</td>\n",
       "      <td>100</td>\n",
       "      <td>99</td>\n",
       "      <td>90</td>\n",
       "      <td>90</td>\n",
       "    </tr>\n",
       "    <tr>\n",
       "      <th>철수</th>\n",
       "      <td>100</td>\n",
       "      <td>80</td>\n",
       "      <td>90</td>\n",
       "      <td>77</td>\n",
       "      <td>50</td>\n",
       "    </tr>\n",
       "    <tr>\n",
       "      <th>a</th>\n",
       "      <td>0</td>\n",
       "      <td>0</td>\n",
       "      <td>0</td>\n",
       "      <td>0</td>\n",
       "      <td>0</td>\n",
       "    </tr>\n",
       "  </tbody>\n",
       "</table>\n",
       "</div>"
      ],
      "text/plain": [
       "     수학   영어  음악   체육   국어\n",
       "서준   90  100  86  100  100\n",
       "우현   80   98  97   90   80\n",
       "민아   70  100  99   90   90\n",
       "철수  100   80  90   77   50\n",
       "a     0    0   0    0    0"
      ]
     },
     "execution_count": 50,
     "metadata": {},
     "output_type": "execute_result"
    }
   ],
   "source": [
    "df2.reindex(['서준', '우현', '민아', '철수', 'a'], fill_value = 0)"
   ]
  },
  {
   "cell_type": "code",
   "execution_count": 51,
   "id": "0a312b34",
   "metadata": {},
   "outputs": [
    {
     "data": {
      "text/plain": [
       "nan"
      ]
     },
     "execution_count": 51,
     "metadata": {},
     "output_type": "execute_result"
    }
   ],
   "source": [
    "import numpy as np\n",
    "\n",
    "np.nan + 0                            # 계산식에 nan이 있으면 결과는 nan, 즉, nan 데이터를 0 이나\n",
    "                                      # 빈 공간으로 만들어줘야한다."
   ]
  },
  {
   "cell_type": "markdown",
   "id": "275c136a",
   "metadata": {},
   "source": [
    "# 시리즈 연산 : 시리즈 + 사칙연산 + 숫자"
   ]
  },
  {
   "cell_type": "code",
   "execution_count": 53,
   "id": "55fb7733",
   "metadata": {
    "scrolled": true
   },
   "outputs": [
    {
     "name": "stdout",
     "output_type": "stream",
     "text": [
      "국어    100\n",
      "수학     90\n",
      "영어     90\n",
      "dtype: int64\n",
      "\n",
      "국어    200\n",
      "수학    190\n",
      "영어    190\n",
      "dtype: int64\n",
      "\n",
      "국어    1.0\n",
      "수학    0.9\n",
      "영어    0.9\n",
      "dtype: float64\n"
     ]
    }
   ],
   "source": [
    "sr = pd.Series({'국어' : 100, '수학' : 90, '영어' : 90})\n",
    "print(sr); print()\n",
    "\n",
    "# 각 점수에 100을 더한 값 출력\n",
    "\n",
    "print(sr+ 100); print()\n",
    "\n",
    "# 각 점수에 100을 나눈 값 출력\n",
    "\n",
    "print(sr / 100)"
   ]
  },
  {
   "cell_type": "markdown",
   "id": "22b62c2a",
   "metadata": {},
   "source": [
    "# 시리즈 + 사칙연산 + 시리즈\n",
    "### NaN 처리 필수!"
   ]
  },
  {
   "cell_type": "code",
   "execution_count": 57,
   "id": "62ba4529",
   "metadata": {},
   "outputs": [
    {
     "name": "stdout",
     "output_type": "stream",
     "text": [
      "과학      NaN\n",
      "국어    190.0\n",
      "수학    180.0\n",
      "영어    190.0\n",
      "체육      NaN\n",
      "dtype: float64\n",
      "\n",
      "과학     90.0\n",
      "국어    190.0\n",
      "수학    180.0\n",
      "영어    190.0\n",
      "체육     80.0\n",
      "dtype: float64\n"
     ]
    }
   ],
   "source": [
    "sr1 = pd.Series({'국어' : 100, '수학' : 90, '영어' : 90, '체육' : 80})\n",
    "sr2 = pd.Series({'영어' : 100, '국어' : 90, '수학' : 90, '과학' : 90})      # sr1에 과학이 없으므로\n",
    "                                                                            # 과학은 NaN이 나온다.\n",
    "print(sr1 + sr2); print()\n",
    "\n",
    "print(sr1.add(sr2, fill_value = 0))                   # sr1에다가 sr2의 값을 더해라. 대신 nan 값이 \n",
    "                                                      # 있다면 nan 대신 0을 넣어라."
   ]
  },
  {
   "cell_type": "markdown",
   "id": "ae79961f",
   "metadata": {},
   "source": [
    "# 데이터프레임 연산"
   ]
  },
  {
   "cell_type": "code",
   "execution_count": 61,
   "id": "d434f48a",
   "metadata": {},
   "outputs": [
    {
     "name": "stdout",
     "output_type": "stream",
     "text": [
      "<class 'pandas.core.frame.DataFrame'>\n",
      "RangeIndex: 891 entries, 0 to 890\n",
      "Data columns (total 15 columns):\n",
      " #   Column       Non-Null Count  Dtype   \n",
      "---  ------       --------------  -----   \n",
      " 0   survived     891 non-null    int64   \n",
      " 1   pclass       891 non-null    int64   \n",
      " 2   sex          891 non-null    object  \n",
      " 3   age          714 non-null    float64 \n",
      " 4   sibsp        891 non-null    int64   \n",
      " 5   parch        891 non-null    int64   \n",
      " 6   fare         891 non-null    float64 \n",
      " 7   embarked     889 non-null    object  \n",
      " 8   class        891 non-null    category\n",
      " 9   who          891 non-null    object  \n",
      " 10  adult_male   891 non-null    bool    \n",
      " 11  deck         203 non-null    category\n",
      " 12  embark_town  889 non-null    object  \n",
      " 13  alive        891 non-null    object  \n",
      " 14  alone        891 non-null    bool    \n",
      "dtypes: bool(2), category(2), float64(2), int64(4), object(5)\n",
      "memory usage: 80.7+ KB\n"
     ]
    }
   ],
   "source": [
    "import seaborn as sns                   # 그래프를 조금 더 예쁘게 만들어주는 import\n",
    "\n",
    "df = sns.load_dataset('titanic')        # 'age', 'fare' 컬럼만 정보를 가져옴\n",
    "df.info()"
   ]
  },
  {
   "cell_type": "code",
   "execution_count": 67,
   "id": "df5f73cb",
   "metadata": {},
   "outputs": [
    {
     "name": "stdout",
     "output_type": "stream",
     "text": [
      "    age     fare\n",
      "0  22.0   7.2500\n",
      "1  38.0  71.2833\n",
      "2  26.0   7.9250\n",
      "3  35.0  53.1000\n",
      "4  35.0   8.0500\n",
      "\n",
      "    age     fare\n",
      "0  22.0   7.2500\n",
      "1  38.0  71.2833\n",
      "2  26.0   7.9250\n",
      "\n"
     ]
    },
    {
     "data": {
      "text/plain": [
       "pandas.core.frame.DataFrame"
      ]
     },
     "execution_count": 67,
     "metadata": {},
     "output_type": "execute_result"
    }
   ],
   "source": [
    "df = df.loc[: , ['age', 'fare']]\n",
    "\n",
    "print(df.head())                             # 자료 위에서 5개만 가져오기\n",
    "print()\n",
    "\n",
    "print(df.head(3))                            # 자료 위에서 3개만 가져오기\n",
    "print()\n",
    "\n",
    "type(df)"
   ]
  },
  {
   "cell_type": "code",
   "execution_count": 68,
   "id": "1583c845",
   "metadata": {},
   "outputs": [
    {
     "data": {
      "text/html": [
       "<div>\n",
       "<style scoped>\n",
       "    .dataframe tbody tr th:only-of-type {\n",
       "        vertical-align: middle;\n",
       "    }\n",
       "\n",
       "    .dataframe tbody tr th {\n",
       "        vertical-align: top;\n",
       "    }\n",
       "\n",
       "    .dataframe thead th {\n",
       "        text-align: right;\n",
       "    }\n",
       "</style>\n",
       "<table border=\"1\" class=\"dataframe\">\n",
       "  <thead>\n",
       "    <tr style=\"text-align: right;\">\n",
       "      <th></th>\n",
       "      <th>age</th>\n",
       "      <th>fare</th>\n",
       "    </tr>\n",
       "  </thead>\n",
       "  <tbody>\n",
       "    <tr>\n",
       "      <th>0</th>\n",
       "      <td>32.0</td>\n",
       "      <td>17.2500</td>\n",
       "    </tr>\n",
       "    <tr>\n",
       "      <th>1</th>\n",
       "      <td>48.0</td>\n",
       "      <td>81.2833</td>\n",
       "    </tr>\n",
       "    <tr>\n",
       "      <th>2</th>\n",
       "      <td>36.0</td>\n",
       "      <td>17.9250</td>\n",
       "    </tr>\n",
       "    <tr>\n",
       "      <th>3</th>\n",
       "      <td>45.0</td>\n",
       "      <td>63.1000</td>\n",
       "    </tr>\n",
       "    <tr>\n",
       "      <th>4</th>\n",
       "      <td>45.0</td>\n",
       "      <td>18.0500</td>\n",
       "    </tr>\n",
       "  </tbody>\n",
       "</table>\n",
       "</div>"
      ],
      "text/plain": [
       "    age     fare\n",
       "0  32.0  17.2500\n",
       "1  48.0  81.2833\n",
       "2  36.0  17.9250\n",
       "3  45.0  63.1000\n",
       "4  45.0  18.0500"
      ]
     },
     "execution_count": 68,
     "metadata": {},
     "output_type": "execute_result"
    }
   ],
   "source": [
    "(df + 10).head()"
   ]
  },
  {
   "cell_type": "code",
   "execution_count": 74,
   "id": "545c72f1",
   "metadata": {},
   "outputs": [
    {
     "name": "stdout",
     "output_type": "stream",
     "text": [
      "    age     fare\n",
      "0  22.0   7.2500\n",
      "1  38.0  71.2833\n",
      "2  26.0   7.9250\n",
      "3  35.0  53.1000\n",
      "4  35.0   8.0500\n",
      "\n",
      "      age   fare\n",
      "886  27.0  13.00\n",
      "887  19.0  30.00\n",
      "888   NaN  23.45\n",
      "889  26.0  30.00\n",
      "890  32.0   7.75\n",
      "\n",
      "   index   age     fare\n",
      "0      0  22.0   7.2500\n",
      "1      1  38.0  71.2833\n",
      "2      2  26.0   7.9250\n",
      "3      3  35.0  53.1000\n",
      "4      4  35.0   8.0500\n",
      "\n",
      "   index   age   fare\n",
      "0    886  27.0  13.00\n",
      "1    887  19.0  30.00\n",
      "2    888   NaN  23.45\n",
      "3    889  26.0  30.00\n",
      "4    890  32.0   7.75\n"
     ]
    },
    {
     "data": {
      "text/html": [
       "<div>\n",
       "<style scoped>\n",
       "    .dataframe tbody tr th:only-of-type {\n",
       "        vertical-align: middle;\n",
       "    }\n",
       "\n",
       "    .dataframe tbody tr th {\n",
       "        vertical-align: top;\n",
       "    }\n",
       "\n",
       "    .dataframe thead th {\n",
       "        text-align: right;\n",
       "    }\n",
       "</style>\n",
       "<table border=\"1\" class=\"dataframe\">\n",
       "  <thead>\n",
       "    <tr style=\"text-align: right;\">\n",
       "      <th></th>\n",
       "      <th>age</th>\n",
       "      <th>fare</th>\n",
       "    </tr>\n",
       "  </thead>\n",
       "  <tbody>\n",
       "    <tr>\n",
       "      <th>0</th>\n",
       "      <td>22.0</td>\n",
       "      <td>7.2500</td>\n",
       "    </tr>\n",
       "    <tr>\n",
       "      <th>1</th>\n",
       "      <td>38.0</td>\n",
       "      <td>71.2833</td>\n",
       "    </tr>\n",
       "    <tr>\n",
       "      <th>2</th>\n",
       "      <td>26.0</td>\n",
       "      <td>7.9250</td>\n",
       "    </tr>\n",
       "    <tr>\n",
       "      <th>3</th>\n",
       "      <td>35.0</td>\n",
       "      <td>53.1000</td>\n",
       "    </tr>\n",
       "    <tr>\n",
       "      <th>4</th>\n",
       "      <td>35.0</td>\n",
       "      <td>8.0500</td>\n",
       "    </tr>\n",
       "  </tbody>\n",
       "</table>\n",
       "</div>"
      ],
      "text/plain": [
       "    age     fare\n",
       "0  22.0   7.2500\n",
       "1  38.0  71.2833\n",
       "2  26.0   7.9250\n",
       "3  35.0  53.1000\n",
       "4  35.0   8.0500"
      ]
     },
     "execution_count": 74,
     "metadata": {},
     "output_type": "execute_result"
    }
   ],
   "source": [
    "df1 = df.head().copy()\n",
    "df2 = df.tail().copy()\n",
    "\n",
    "print(df1); print()\n",
    "print(df2); print()\n",
    "\n",
    "df1.reset_index(inplace = True)\n",
    "df2.reset_index(inplace = True)\n",
    "print(df1); print()\n",
    "print(df2)\n",
    "\n",
    "df1.drop(columns = 'index', axis = 1, inplace = True)\n",
    "df1"
   ]
  },
  {
   "cell_type": "code",
   "execution_count": 75,
   "id": "1ecb7b68",
   "metadata": {},
   "outputs": [
    {
     "data": {
      "text/html": [
       "<div>\n",
       "<style scoped>\n",
       "    .dataframe tbody tr th:only-of-type {\n",
       "        vertical-align: middle;\n",
       "    }\n",
       "\n",
       "    .dataframe tbody tr th {\n",
       "        vertical-align: top;\n",
       "    }\n",
       "\n",
       "    .dataframe thead th {\n",
       "        text-align: right;\n",
       "    }\n",
       "</style>\n",
       "<table border=\"1\" class=\"dataframe\">\n",
       "  <thead>\n",
       "    <tr style=\"text-align: right;\">\n",
       "      <th></th>\n",
       "      <th>age</th>\n",
       "      <th>fare</th>\n",
       "    </tr>\n",
       "  </thead>\n",
       "  <tbody>\n",
       "    <tr>\n",
       "      <th>0</th>\n",
       "      <td>27.0</td>\n",
       "      <td>13.00</td>\n",
       "    </tr>\n",
       "    <tr>\n",
       "      <th>1</th>\n",
       "      <td>19.0</td>\n",
       "      <td>30.00</td>\n",
       "    </tr>\n",
       "    <tr>\n",
       "      <th>2</th>\n",
       "      <td>NaN</td>\n",
       "      <td>23.45</td>\n",
       "    </tr>\n",
       "    <tr>\n",
       "      <th>3</th>\n",
       "      <td>26.0</td>\n",
       "      <td>30.00</td>\n",
       "    </tr>\n",
       "    <tr>\n",
       "      <th>4</th>\n",
       "      <td>32.0</td>\n",
       "      <td>7.75</td>\n",
       "    </tr>\n",
       "  </tbody>\n",
       "</table>\n",
       "</div>"
      ],
      "text/plain": [
       "    age   fare\n",
       "0  27.0  13.00\n",
       "1  19.0  30.00\n",
       "2   NaN  23.45\n",
       "3  26.0  30.00\n",
       "4  32.0   7.75"
      ]
     },
     "execution_count": 75,
     "metadata": {},
     "output_type": "execute_result"
    }
   ],
   "source": [
    "df2.drop(columns = 'index', axis = 1, inplace = True)\n",
    "df2"
   ]
  },
  {
   "cell_type": "code",
   "execution_count": 76,
   "id": "4ff5628e",
   "metadata": {},
   "outputs": [
    {
     "data": {
      "text/html": [
       "<div>\n",
       "<style scoped>\n",
       "    .dataframe tbody tr th:only-of-type {\n",
       "        vertical-align: middle;\n",
       "    }\n",
       "\n",
       "    .dataframe tbody tr th {\n",
       "        vertical-align: top;\n",
       "    }\n",
       "\n",
       "    .dataframe thead th {\n",
       "        text-align: right;\n",
       "    }\n",
       "</style>\n",
       "<table border=\"1\" class=\"dataframe\">\n",
       "  <thead>\n",
       "    <tr style=\"text-align: right;\">\n",
       "      <th></th>\n",
       "      <th>age</th>\n",
       "      <th>fare</th>\n",
       "    </tr>\n",
       "  </thead>\n",
       "  <tbody>\n",
       "    <tr>\n",
       "      <th>0</th>\n",
       "      <td>49.0</td>\n",
       "      <td>20.2500</td>\n",
       "    </tr>\n",
       "    <tr>\n",
       "      <th>1</th>\n",
       "      <td>57.0</td>\n",
       "      <td>101.2833</td>\n",
       "    </tr>\n",
       "    <tr>\n",
       "      <th>2</th>\n",
       "      <td>NaN</td>\n",
       "      <td>31.3750</td>\n",
       "    </tr>\n",
       "    <tr>\n",
       "      <th>3</th>\n",
       "      <td>61.0</td>\n",
       "      <td>83.1000</td>\n",
       "    </tr>\n",
       "    <tr>\n",
       "      <th>4</th>\n",
       "      <td>67.0</td>\n",
       "      <td>15.8000</td>\n",
       "    </tr>\n",
       "  </tbody>\n",
       "</table>\n",
       "</div>"
      ],
      "text/plain": [
       "    age      fare\n",
       "0  49.0   20.2500\n",
       "1  57.0  101.2833\n",
       "2   NaN   31.3750\n",
       "3  61.0   83.1000\n",
       "4  67.0   15.8000"
      ]
     },
     "execution_count": 76,
     "metadata": {},
     "output_type": "execute_result"
    }
   ],
   "source": [
    "df1 + df2"
   ]
  },
  {
   "cell_type": "code",
   "execution_count": 77,
   "id": "da09ff64",
   "metadata": {},
   "outputs": [
    {
     "data": {
      "text/plain": [
       "['anagrams',\n",
       " 'anscombe',\n",
       " 'attention',\n",
       " 'brain_networks',\n",
       " 'car_crashes',\n",
       " 'diamonds',\n",
       " 'dots',\n",
       " 'exercise',\n",
       " 'flights',\n",
       " 'fmri',\n",
       " 'gammas',\n",
       " 'geyser',\n",
       " 'iris',\n",
       " 'mpg',\n",
       " 'penguins',\n",
       " 'planets',\n",
       " 'taxis',\n",
       " 'tips',\n",
       " 'titanic']"
      ]
     },
     "execution_count": 77,
     "metadata": {},
     "output_type": "execute_result"
    }
   ],
   "source": [
    "# seaborn 에서 제공하는 데이터셋 확인\n",
    "\n",
    "sns.get_dataset_names()"
   ]
  },
  {
   "cell_type": "code",
   "execution_count": 84,
   "id": "0ed0c901",
   "metadata": {},
   "outputs": [
    {
     "name": "stdout",
     "output_type": "stream",
     "text": [
      "<class 'pandas.core.frame.DataFrame'>\n",
      "RangeIndex: 150 entries, 0 to 149\n",
      "Data columns (total 5 columns):\n",
      " #   Column        Non-Null Count  Dtype  \n",
      "---  ------        --------------  -----  \n",
      " 0   sepal_length  150 non-null    float64\n",
      " 1   sepal_width   150 non-null    float64\n",
      " 2   petal_length  150 non-null    float64\n",
      " 3   petal_width   150 non-null    float64\n",
      " 4   species       150 non-null    object \n",
      "dtypes: float64(4), object(1)\n",
      "memory usage: 6.0+ KB\n"
     ]
    },
    {
     "data": {
      "text/plain": [
       "RangeIndex(start=0, stop=150, step=1)"
      ]
     },
     "execution_count": 84,
     "metadata": {},
     "output_type": "execute_result"
    }
   ],
   "source": [
    "# seaborn 에서 제공하는 데이터셋을 불러와서 작업\n",
    "# sns.load_dataset(데이터셋명)\n",
    "\n",
    "df = sns.load_dataset('iris')\n",
    "df.head()           # 처음 5개의 데이터 확인 \n",
    "df.info()           # 데이터프레임의 구조 확인, 각 컬럼의 자료 타입, 데이터의 총 갯수    \n",
    "df.tail()           # 마지막 5개의 데이터 확인\n",
    "df.describe()       # 간단한 통계정보 확인\n",
    "df.columns\n",
    "df.index"
   ]
  },
  {
   "cell_type": "code",
   "execution_count": 90,
   "id": "15d5941f",
   "metadata": {},
   "outputs": [
    {
     "name": "stdout",
     "output_type": "stream",
     "text": [
      "<class 'pandas.core.frame.DataFrame'>\n",
      "RangeIndex: 398 entries, 0 to 397\n",
      "Data columns (total 9 columns):\n",
      " #   Column        Non-Null Count  Dtype  \n",
      "---  ------        --------------  -----  \n",
      " 0   mpg           398 non-null    float64\n",
      " 1   cylinders     398 non-null    int64  \n",
      " 2   displacement  398 non-null    float64\n",
      " 3   horsepower    392 non-null    float64\n",
      " 4   weight        398 non-null    int64  \n",
      " 5   acceleration  398 non-null    float64\n",
      " 6   model_year    398 non-null    int64  \n",
      " 7   origin        398 non-null    object \n",
      " 8   name          398 non-null    object \n",
      "dtypes: float64(4), int64(3), object(2)\n",
      "memory usage: 28.1+ KB\n"
     ]
    },
    {
     "data": {
      "text/html": [
       "<div>\n",
       "<style scoped>\n",
       "    .dataframe tbody tr th:only-of-type {\n",
       "        vertical-align: middle;\n",
       "    }\n",
       "\n",
       "    .dataframe tbody tr th {\n",
       "        vertical-align: top;\n",
       "    }\n",
       "\n",
       "    .dataframe thead th {\n",
       "        text-align: right;\n",
       "    }\n",
       "</style>\n",
       "<table border=\"1\" class=\"dataframe\">\n",
       "  <thead>\n",
       "    <tr style=\"text-align: right;\">\n",
       "      <th></th>\n",
       "      <th>cylinders</th>\n",
       "      <th>weight</th>\n",
       "      <th>model_year</th>\n",
       "    </tr>\n",
       "  </thead>\n",
       "  <tbody>\n",
       "    <tr>\n",
       "      <th>10</th>\n",
       "      <td>8</td>\n",
       "      <td>3563</td>\n",
       "      <td>70</td>\n",
       "    </tr>\n",
       "    <tr>\n",
       "      <th>11</th>\n",
       "      <td>8</td>\n",
       "      <td>3609</td>\n",
       "      <td>70</td>\n",
       "    </tr>\n",
       "    <tr>\n",
       "      <th>12</th>\n",
       "      <td>8</td>\n",
       "      <td>3761</td>\n",
       "      <td>70</td>\n",
       "    </tr>\n",
       "    <tr>\n",
       "      <th>13</th>\n",
       "      <td>8</td>\n",
       "      <td>3086</td>\n",
       "      <td>70</td>\n",
       "    </tr>\n",
       "    <tr>\n",
       "      <th>14</th>\n",
       "      <td>4</td>\n",
       "      <td>2372</td>\n",
       "      <td>70</td>\n",
       "    </tr>\n",
       "    <tr>\n",
       "      <th>...</th>\n",
       "      <td>...</td>\n",
       "      <td>...</td>\n",
       "      <td>...</td>\n",
       "    </tr>\n",
       "    <tr>\n",
       "      <th>97</th>\n",
       "      <td>6</td>\n",
       "      <td>3121</td>\n",
       "      <td>73</td>\n",
       "    </tr>\n",
       "    <tr>\n",
       "      <th>98</th>\n",
       "      <td>6</td>\n",
       "      <td>3278</td>\n",
       "      <td>73</td>\n",
       "    </tr>\n",
       "    <tr>\n",
       "      <th>99</th>\n",
       "      <td>6</td>\n",
       "      <td>2945</td>\n",
       "      <td>73</td>\n",
       "    </tr>\n",
       "    <tr>\n",
       "      <th>100</th>\n",
       "      <td>6</td>\n",
       "      <td>3021</td>\n",
       "      <td>73</td>\n",
       "    </tr>\n",
       "    <tr>\n",
       "      <th>101</th>\n",
       "      <td>6</td>\n",
       "      <td>2904</td>\n",
       "      <td>73</td>\n",
       "    </tr>\n",
       "  </tbody>\n",
       "</table>\n",
       "<p>92 rows × 3 columns</p>\n",
       "</div>"
      ],
      "text/plain": [
       "     cylinders  weight  model_year\n",
       "10           8    3563          70\n",
       "11           8    3609          70\n",
       "12           8    3761          70\n",
       "13           8    3086          70\n",
       "14           4    2372          70\n",
       "..         ...     ...         ...\n",
       "97           6    3121          73\n",
       "98           6    3278          73\n",
       "99           6    2945          73\n",
       "100          6    3021          73\n",
       "101          6    2904          73\n",
       "\n",
       "[92 rows x 3 columns]"
      ]
     },
     "execution_count": 90,
     "metadata": {},
     "output_type": "execute_result"
    }
   ],
   "source": [
    "# mpg 데이터셋을 불러와서 처음 5개의 데이터 확인\n",
    "# mpg의 컬럼명 확인\n",
    "# mpg에서 int인 컬럼만 10번째 부터 100번째까지의 자료 추출\n",
    "\n",
    "df_mpg = sns.load_dataset('mpg')\n",
    "\n",
    "df_mpg.head()\n",
    "df_mpg.info()\n",
    "df_mpg.columns\n",
    "df_mpg.loc[10 : 101, ['cylinders', 'weight', 'model_year']]"
   ]
  },
  {
   "cell_type": "markdown",
   "id": "f442bc68",
   "metadata": {},
   "source": [
    "# df에서 데이터 타입이 int64 인 컬럼명 검색"
   ]
  },
  {
   "cell_type": "code",
   "execution_count": 97,
   "id": "9c17fdaa",
   "metadata": {},
   "outputs": [
    {
     "name": "stdout",
     "output_type": "stream",
     "text": [
      "['mpg', 'cylinders', 'displacement', 'horsepower', 'weight', 'acceleration', 'model_year', 'origin', 'name']\n",
      "\n",
      "float64\n"
     ]
    },
    {
     "data": {
      "text/html": [
       "<div>\n",
       "<style scoped>\n",
       "    .dataframe tbody tr th:only-of-type {\n",
       "        vertical-align: middle;\n",
       "    }\n",
       "\n",
       "    .dataframe tbody tr th {\n",
       "        vertical-align: top;\n",
       "    }\n",
       "\n",
       "    .dataframe thead th {\n",
       "        text-align: right;\n",
       "    }\n",
       "</style>\n",
       "<table border=\"1\" class=\"dataframe\">\n",
       "  <thead>\n",
       "    <tr style=\"text-align: right;\">\n",
       "      <th></th>\n",
       "      <th>cylinders</th>\n",
       "      <th>weight</th>\n",
       "      <th>model_year</th>\n",
       "    </tr>\n",
       "  </thead>\n",
       "  <tbody>\n",
       "    <tr>\n",
       "      <th>10</th>\n",
       "      <td>8</td>\n",
       "      <td>3563</td>\n",
       "      <td>70</td>\n",
       "    </tr>\n",
       "    <tr>\n",
       "      <th>11</th>\n",
       "      <td>8</td>\n",
       "      <td>3609</td>\n",
       "      <td>70</td>\n",
       "    </tr>\n",
       "    <tr>\n",
       "      <th>12</th>\n",
       "      <td>8</td>\n",
       "      <td>3761</td>\n",
       "      <td>70</td>\n",
       "    </tr>\n",
       "    <tr>\n",
       "      <th>13</th>\n",
       "      <td>8</td>\n",
       "      <td>3086</td>\n",
       "      <td>70</td>\n",
       "    </tr>\n",
       "    <tr>\n",
       "      <th>14</th>\n",
       "      <td>4</td>\n",
       "      <td>2372</td>\n",
       "      <td>70</td>\n",
       "    </tr>\n",
       "    <tr>\n",
       "      <th>...</th>\n",
       "      <td>...</td>\n",
       "      <td>...</td>\n",
       "      <td>...</td>\n",
       "    </tr>\n",
       "    <tr>\n",
       "      <th>96</th>\n",
       "      <td>8</td>\n",
       "      <td>3821</td>\n",
       "      <td>73</td>\n",
       "    </tr>\n",
       "    <tr>\n",
       "      <th>97</th>\n",
       "      <td>6</td>\n",
       "      <td>3121</td>\n",
       "      <td>73</td>\n",
       "    </tr>\n",
       "    <tr>\n",
       "      <th>98</th>\n",
       "      <td>6</td>\n",
       "      <td>3278</td>\n",
       "      <td>73</td>\n",
       "    </tr>\n",
       "    <tr>\n",
       "      <th>99</th>\n",
       "      <td>6</td>\n",
       "      <td>2945</td>\n",
       "      <td>73</td>\n",
       "    </tr>\n",
       "    <tr>\n",
       "      <th>100</th>\n",
       "      <td>6</td>\n",
       "      <td>3021</td>\n",
       "      <td>73</td>\n",
       "    </tr>\n",
       "  </tbody>\n",
       "</table>\n",
       "<p>91 rows × 3 columns</p>\n",
       "</div>"
      ],
      "text/plain": [
       "     cylinders  weight  model_year\n",
       "10           8    3563          70\n",
       "11           8    3609          70\n",
       "12           8    3761          70\n",
       "13           8    3086          70\n",
       "14           4    2372          70\n",
       "..         ...     ...         ...\n",
       "96           8    3821          73\n",
       "97           6    3121          73\n",
       "98           6    3278          73\n",
       "99           6    2945          73\n",
       "100          6    3021          73\n",
       "\n",
       "[91 rows x 3 columns]"
      ]
     },
     "execution_count": 97,
     "metadata": {},
     "output_type": "execute_result"
    }
   ],
   "source": [
    "column = list(df_mpg.columns)\n",
    "\n",
    "print(column); print()                 # 컬럼의 데이터 타입이 int64 인 컬럼만 검색\n",
    "\n",
    "print(df_mpg['mpg'].dtype)\n",
    "\n",
    "int_column = [x for x in column if df_mpg[x].dtype == 'int64']\n",
    "\n",
    "df_mpg.loc[10 : 100, int_column]                         # 원하는 인덱스와 컬럼만 검색"
   ]
  },
  {
   "cell_type": "code",
   "execution_count": null,
   "id": "19ac8ea1",
   "metadata": {},
   "outputs": [],
   "source": []
  },
  {
   "cell_type": "code",
   "execution_count": null,
   "id": "e9f5b209",
   "metadata": {},
   "outputs": [],
   "source": []
  },
  {
   "cell_type": "code",
   "execution_count": null,
   "id": "0d5c9449",
   "metadata": {},
   "outputs": [],
   "source": []
  },
  {
   "cell_type": "code",
   "execution_count": null,
   "id": "3b2e9355",
   "metadata": {},
   "outputs": [],
   "source": []
  },
  {
   "cell_type": "code",
   "execution_count": null,
   "id": "ceda95d3",
   "metadata": {},
   "outputs": [],
   "source": []
  },
  {
   "cell_type": "code",
   "execution_count": null,
   "id": "ac0442de",
   "metadata": {},
   "outputs": [],
   "source": []
  },
  {
   "cell_type": "code",
   "execution_count": null,
   "id": "343c0bdf",
   "metadata": {},
   "outputs": [],
   "source": []
  },
  {
   "cell_type": "code",
   "execution_count": null,
   "id": "5a68619e",
   "metadata": {},
   "outputs": [],
   "source": []
  }
 ],
 "metadata": {
  "kernelspec": {
   "display_name": "Python 3 (ipykernel)",
   "language": "python",
   "name": "python3"
  },
  "language_info": {
   "codemirror_mode": {
    "name": "ipython",
    "version": 3
   },
   "file_extension": ".py",
   "mimetype": "text/x-python",
   "name": "python",
   "nbconvert_exporter": "python",
   "pygments_lexer": "ipython3",
   "version": "3.9.7"
  }
 },
 "nbformat": 4,
 "nbformat_minor": 5
}
