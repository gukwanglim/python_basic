{
 "cells": [
  {
   "cell_type": "markdown",
   "id": "a6bbf3db",
   "metadata": {},
   "source": [
    "첫째 줄에 카드의 개수 N(3 ≤ N ≤ 100)과 M(10 ≤ M ≤ 300,000)이 주어진다. \n",
    "\n",
    "둘째 줄에는 카드에 쓰여 있는 수가 주어지며, 이 값은 100,000을 넘지 않는 양의 정수이다.\n",
    "\n",
    "합이 M을 넘지 않는 카드 3장을 찾을 수 있는 경우만 입력으로 주어진다.\n",
    "\n",
    "첫째 줄에 M을 넘지 않으면서 M에 최대한 가까운 카드 3장의 합을 출력한다."
   ]
  },
  {
   "cell_type": "code",
   "execution_count": null,
   "id": "39eba8ae",
   "metadata": {},
   "outputs": [],
   "source": [
    "while True:\n",
    "    input_NM = input().split()\n",
    "    if len(input_NM) !=2:\n",
    "        print('다시 입력')\n",
    "        continue\n",
    "    else:\n",
    "        list(map(int, input_NM))\n",
    "        input_num = input().split()\n",
    "        if input_NM[0]\n"
   ]
  },
  {
   "cell_type": "markdown",
   "id": "652f97ce",
   "metadata": {},
   "source": [
    "input 받은 숫자의 개수가 2개가 아닐 경우 다시\n",
    "\n",
    "input 받은 숫자를 split으로 나누고 두 개의 수를 모두 int 형태로 변형\n",
    "\n",
    "input 받은 숫자의 N은 3 <= N <= 100, M은 10 <= M <= 300000\n",
    "\n",
    "N의 크기만큼 len(input_2)를 받음(split과 int로 변경은 필수)\n",
    "\n",
    "여기서 각각의 숫자는 100000을 넘지 않게 만들어야함.\n",
    "\n",
    "\n",
    "첫째 줄에 M을 넘지 않으면서 M에 최대한 가까운 카드 3장의 합을 출력한다.\n",
    "\n",
    "이건 우찌?\n"
   ]
  },
  {
   "cell_type": "code",
   "execution_count": null,
   "id": "d9d973d4",
   "metadata": {},
   "outputs": [],
   "source": []
  },
  {
   "cell_type": "code",
   "execution_count": null,
   "id": "15353ff3",
   "metadata": {},
   "outputs": [],
   "source": []
  },
  {
   "cell_type": "code",
   "execution_count": null,
   "id": "4afbf0bb",
   "metadata": {},
   "outputs": [],
   "source": []
  },
  {
   "cell_type": "code",
   "execution_count": null,
   "id": "8cf883d7",
   "metadata": {},
   "outputs": [],
   "source": []
  }
 ],
 "metadata": {
  "kernelspec": {
   "display_name": "Python 3 (ipykernel)",
   "language": "python",
   "name": "python3"
  },
  "language_info": {
   "codemirror_mode": {
    "name": "ipython",
    "version": 3
   },
   "file_extension": ".py",
   "mimetype": "text/x-python",
   "name": "python",
   "nbconvert_exporter": "python",
   "pygments_lexer": "ipython3",
   "version": "3.9.7"
  }
 },
 "nbformat": 4,
 "nbformat_minor": 5
}
