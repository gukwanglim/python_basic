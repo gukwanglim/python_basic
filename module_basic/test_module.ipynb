{
 "cells": [
  {
   "cell_type": "markdown",
   "id": "4931a5c5",
   "metadata": {},
   "source": [
    "# .py 파일로 다운로드(import 하기 위해서)"
   ]
  },
  {
   "cell_type": "code",
   "execution_count": 1,
   "id": "d25ffcdf",
   "metadata": {},
   "outputs": [
    {
     "name": "stdout",
     "output_type": "stream",
     "text": [
      "test module__name__ 출력 :  __main__\n"
     ]
    }
   ],
   "source": [
    "PI = 3.14\n",
    "\n",
    "def number_input():\n",
    "    output = input('숫자 입력 : ')\n",
    "    return float(output)\n",
    "\n",
    "def get_circum(r):\n",
    "    return PI * 2 * r\n",
    "\n",
    "def get_area(r):\n",
    "    return r * r * PI\n",
    "\n",
    "# if __name__ == '__main__':\n",
    "#     print(get_area(10))\n",
    "#     print(get_circum(10))"
   ]
  }
 ],
 "metadata": {
  "kernelspec": {
   "display_name": "Python 3 (ipykernel)",
   "language": "python",
   "name": "python3"
  },
  "language_info": {
   "codemirror_mode": {
    "name": "ipython",
    "version": 3
   },
   "file_extension": ".py",
   "mimetype": "text/x-python",
   "name": "python",
   "nbconvert_exporter": "python",
   "pygments_lexer": "ipython3",
   "version": "3.9.7"
  }
 },
 "nbformat": 4,
 "nbformat_minor": 5
}
