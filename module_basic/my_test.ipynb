{
 "cells": [
  {
   "cell_type": "code",
   "execution_count": 3,
   "id": "6721832f",
   "metadata": {},
   "outputs": [
    {
     "name": "stdout",
     "output_type": "stream",
     "text": [
      "모듈명 :  __main__\n",
      "test_module :  314.0\n",
      "test_module :  62.800000000000004\n"
     ]
    }
   ],
   "source": [
    "PI = 3.14\n",
    "\n",
    "def number_input():\n",
    "    output = input('숫자 입력 : ')\n",
    "    return float(output)\n",
    "\n",
    "def get_circum(r):\n",
    "    return PI * 2 * r\n",
    "\n",
    "def get_area(r):\n",
    "    return r * r * PI\n",
    "\n",
    "# if __name__ == '__main__':\n",
    "#     print(get_area(10))\n",
    "#     print(get_circum(10))\n",
    "\n",
    "print('모듈명 : ', __name__)\n",
    "if __name__ == '__main__':\n",
    "    print('test_module : ', get_area(10))\n",
    "    print('test_module : ', get_circum(10))"
   ]
  }
 ],
 "metadata": {
  "kernelspec": {
   "display_name": "Python 3 (ipykernel)",
   "language": "python",
   "name": "python3"
  },
  "language_info": {
   "codemirror_mode": {
    "name": "ipython",
    "version": 3
   },
   "file_extension": ".py",
   "mimetype": "text/x-python",
   "name": "python",
   "nbconvert_exporter": "python",
   "pygments_lexer": "ipython3",
   "version": "3.9.7"
  }
 },
 "nbformat": 4,
 "nbformat_minor": 5
}
