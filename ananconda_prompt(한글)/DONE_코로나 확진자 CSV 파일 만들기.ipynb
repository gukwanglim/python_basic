{
 "cells": [
  {
   "cell_type": "code",
   "execution_count": 3,
   "metadata": {
    "colab": {
     "base_uri": "https://localhost:8080/"
    },
    "executionInfo": {
     "elapsed": 4272,
     "status": "ok",
     "timestamp": 1647933320648,
     "user": {
      "displayName": "조홍근",
      "photoUrl": "https://lh3.googleusercontent.com/a/default-user=s64",
      "userId": "06112070682542362133"
     },
     "user_tz": -540
    },
    "id": "UceNdb67eo6k",
    "outputId": "30e9d08b-d51d-451f-9a52-93b87a468de5"
   },
   "outputs": [
    {
     "name": "stdout",
     "output_type": "stream",
     "text": [
      "Collecting xmltodict\n",
      "  Downloading xmltodict-0.12.0-py2.py3-none-any.whl (9.2 kB)\n",
      "Installing collected packages: xmltodict\n",
      "Successfully installed xmltodict-0.12.0\n"
     ]
    }
   ],
   "source": [
    "!pip install xmltodict"
   ]
  },
  {
   "cell_type": "code",
   "execution_count": 4,
   "metadata": {
    "executionInfo": {
     "elapsed": 3,
     "status": "ok",
     "timestamp": 1647933323522,
     "user": {
      "displayName": "조홍근",
      "photoUrl": "https://lh3.googleusercontent.com/a/default-user=s64",
      "userId": "06112070682542362133"
     },
     "user_tz": -540
    },
    "id": "094k7b_Ac9Cq"
   },
   "outputs": [],
   "source": [
    "from urllib.request import urlopen\n",
    "from urllib.parse import urlencode, unquote, quote_plus\n",
    "\n",
    "import pandas as pd\n",
    "import xmltodict\n",
    "import json"
   ]
  },
  {
   "cell_type": "markdown",
   "metadata": {
    "id": "Qi_CZ1xPc9Cu"
   },
   "source": [
    "##### 공공데이터활용지원센터_보건복지부 코로나19 감염 현황\n",
    "> 활용신청하기\n",
    "https://www.data.go.kr/tcs/dss/selectApiDataDetailView.do?publicDataPk=15043376"
   ]
  },
  {
   "cell_type": "code",
   "execution_count": 7,
   "metadata": {
    "colab": {
     "base_uri": "https://localhost:8080/"
    },
    "executionInfo": {
     "elapsed": 1375,
     "status": "ok",
     "timestamp": 1647933517254,
     "user": {
      "displayName": "조홍근",
      "photoUrl": "https://lh3.googleusercontent.com/a/default-user=s64",
      "userId": "06112070682542362133"
     },
     "user_tz": -540
    },
    "id": "Jwh_t7-vc9Cv",
    "outputId": "58d68972-a478-44a9-8b38-7bbdf0f4e188"
   },
   "outputs": [
    {
     "name": "stdout",
     "output_type": "stream",
     "text": [
      "{'response': {'header': {'resultCode': '00', 'resultMsg': 'NORMAL SERVICE.'}, 'body': {'items': {'item': [{'createDt': '2022-03-21 09:10:38.912', 'deathCnt': '12757', 'decideCnt': '9582560', 'seq': '824', 'stateDt': '20220321', 'stateTime': '00:00', 'updateDt': '2022-03-22 08:57:25.86'}, {'createDt': '2022-03-20 09:22:09.424', 'deathCnt': '12428', 'decideCnt': '9373395', 'seq': '823', 'stateDt': '20220320', 'stateTime': '00:00', 'updateDt': '2022-03-22 08:58:21.437'}, {'createDt': '2022-03-19 09:20:10.848', 'deathCnt': '12101', 'decideCnt': '9038706', 'seq': '822', 'stateDt': '20220319', 'stateTime': '00:00', 'updateDt': '2022-03-22 08:58:40.104'}, {'createDt': '2022-03-18 09:06:55.679', 'deathCnt': '11782', 'decideCnt': '8657271', 'seq': '821', 'stateDt': '20220318', 'stateTime': '00:00', 'updateDt': '2022-03-22 08:59:00.784'}, {'createDt': '2022-03-17 09:28:28.783', 'deathCnt': '11481', 'decideCnt': '8250360', 'seq': '820', 'stateDt': '20220317', 'stateTime': '00:00', 'updateDt': '2022-03-22 08:59:24.63'}, {'createDt': '2022-03-16 09:07:33.011', 'deathCnt': '11052', 'decideCnt': '7629139', 'seq': '819', 'stateDt': '20220316', 'stateTime': '00:00', 'updateDt': '2022-03-22 08:59:47.909'}, {'createDt': '2022-03-15 09:08:41.063', 'deathCnt': '10888', 'decideCnt': '7228473', 'seq': '818', 'stateDt': '20220315', 'stateTime': '00:00', 'updateDt': '2022-03-22 09:00:06.26'}, {'createDt': '2022-03-14 09:01:32.362', 'deathCnt': '10595', 'decideCnt': '6866190', 'seq': '817', 'stateDt': '20220314', 'stateTime': '00:00', 'updateDt': '2022-03-19 09:47:04.422'}, {'createDt': '2022-03-13 09:13:37.486', 'deathCnt': '10395', 'decideCnt': '6556411', 'seq': '816', 'stateDt': '20220313', 'stateTime': '00:00', 'updateDt': '2022-03-19 09:47:34.07'}, {'createDt': '2022-03-12 08:53:24.338', 'deathCnt': '10144', 'decideCnt': '6206229', 'seq': '815', 'stateDt': '20220312', 'stateTime': '00:00', 'updateDt': '2022-03-19 09:47:59.929'}, {'createDt': '2022-03-11 08:56:23.53', 'deathCnt': '9875', 'decideCnt': '5822612', 'seq': '814', 'stateDt': '20220311', 'stateTime': '00:00', 'updateDt': '2022-03-19 09:48:19.456'}, {'createDt': '2022-03-10 09:07:48.264', 'deathCnt': '9646', 'decideCnt': '5539639', 'seq': '813', 'stateDt': '20220310', 'stateTime': '00:00', 'updateDt': '2022-03-11 08:57:08.866'}, {'createDt': '2022-03-09 08:57:50.503', 'deathCnt': '9440', 'decideCnt': '5212101', 'seq': '812', 'stateDt': '20220309', 'stateTime': '00:00', 'updateDt': '2022-03-10 09:08:10.52'}, {'createDt': '2022-03-08 08:58:30.75', 'deathCnt': '9282', 'decideCnt': '4869672', 'seq': '811', 'stateDt': '20220308', 'stateTime': '00:00', 'updateDt': '2022-03-09 08:58:41.872'}, {'createDt': '2022-03-07 09:06:07.52', 'deathCnt': '9096', 'decideCnt': '4666970', 'seq': '810', 'stateDt': '20220307', 'stateTime': '00:00', 'updateDt': '2022-03-08 08:58:58.236'}, {'createDt': '2022-03-06 09:40:46.49', 'deathCnt': '8957', 'decideCnt': '4456261', 'seq': '809', 'stateDt': '20220306', 'stateTime': '00:00', 'updateDt': '2022-03-07 09:06:48.272'}, {'createDt': '2022-03-05 09:41:58.429', 'deathCnt': '8796', 'decideCnt': '4212636', 'seq': '808', 'stateDt': '20220305', 'stateTime': '00:00', 'updateDt': '2022-03-06 09:41:13.104'}, {'createDt': '2022-03-04 08:59:56.036', 'deathCnt': '8580', 'decideCnt': '3958309', 'seq': '807', 'stateDt': '20220304', 'stateTime': '00:00', 'updateDt': '2022-03-06 09:41:30.29'}, {'createDt': '2022-03-03 09:08:34.548', 'deathCnt': '8394', 'decideCnt': '3691459', 'seq': '806', 'stateDt': '20220303', 'stateTime': '00:00', 'updateDt': '2022-03-06 09:41:48.252'}, {'createDt': '2022-03-02 09:05:42.681', 'deathCnt': '8266', 'decideCnt': '3492659', 'seq': '805', 'stateDt': '20220302', 'stateTime': '00:00', 'updateDt': '2022-03-06 09:42:03.65'}, {'createDt': '2022-03-01 09:12:42.55', 'deathCnt': '8170', 'decideCnt': '3273431', 'seq': '804', 'stateDt': '20220301', 'stateTime': '00:00', 'updateDt': '2022-03-06 09:42:18.383'}]}, 'numOfRows': '10', 'pageNo': '1', 'totalCount': '21'}}}\n"
     ]
    }
   ],
   "source": [
    "key='c9VRxUXOrgEoo9RlRqdxfK%2F%2BQYEU7cH7eALxP3LXcvBUTllj2gYOeh2%2Fik1nAUmEBMSEDHqQd%2F%2BlAbBKtQ6dNg%3D%3D'\n",
    "url = f'http://openapi.data.go.kr/openapi/service/rest/Covid19/getCovid19InfStateJson?serviceKey={key}&'\n",
    "queryParams = urlencode({ quote_plus('pageNo') : 1, \n",
    "                          quote_plus('numOfRows') : 10,\n",
    "                          quote_plus('startCreateDt') : '20220301',\n",
    "                          quote_plus('endCreateDt') : '20220321'})\n",
    "url2 = url + queryParams\n",
    "response = urlopen(url2)\n",
    "# print(type(response)) # HTTPSresponse \n",
    "results = response.read().decode(\"utf-8\")\n",
    "# print(type(results))   # str\n",
    "results_to_json = xmltodict.parse(results)\n",
    "data = json.loads(json.dumps(results_to_json))\n",
    "#print(type(data))   # dic\n",
    "print(data)   "
   ]
  },
  {
   "cell_type": "markdown",
   "metadata": {
    "id": "pmW8ekSIc9Cw"
   },
   "source": [
    "위의 데이터를 분석해서 아래의 형태의 CSV 파일을 만들자\n",
    "```\n",
    "날짜,누적확진자,격리해제환자,치료중환자,사망자수\n",
    "20210119,73104,59468,12353,1283\n",
    "20210120,73508,60180,12028,1300\n",
    "\n",
    "```"
   ]
  },
  {
   "cell_type": "markdown",
   "metadata": {
    "id": "MlftjKesDdYl"
   },
   "source": [
    "Understand that most of the markup languages (XML, HTML, JSON, YAML, etc) have a similar encapsulation (or nested) structure. Most of the time the payloads are in a list like format (called line items in business). \n",
    "\n",
    "Once the overall structure of the data package have been identified. it is most likely that it would have `[key]:[value], [key]:[value], [key]:[value], ... `format which is a list format we have learnt with numpy. So just convert the list into a DataFrame. Than relabel the columns.\n"
   ]
  },
  {
   "cell_type": "code",
   "execution_count": 8,
   "metadata": {
    "executionInfo": {
     "elapsed": 4,
     "status": "ok",
     "timestamp": 1647933643654,
     "user": {
      "displayName": "조홍근",
      "photoUrl": "https://lh3.googleusercontent.com/a/default-user=s64",
      "userId": "06112070682542362133"
     },
     "user_tz": -540
    },
    "id": "5htvpBRXc9Cw"
   },
   "outputs": [],
   "source": [
    "lists = data['response']['body']['items']['item']\n",
    "df = pd.DataFrame(lists)\n",
    "ndf = df[['stateDt', 'decideCnt', 'deathCnt']]\n",
    "ndf.columns=['날짜','누적확진자','사망자수']"
   ]
  },
  {
   "cell_type": "code",
   "execution_count": 9,
   "metadata": {
    "executionInfo": {
     "elapsed": 398,
     "status": "ok",
     "timestamp": 1647933657783,
     "user": {
      "displayName": "조홍근",
      "photoUrl": "https://lh3.googleusercontent.com/a/default-user=s64",
      "userId": "06112070682542362133"
     },
     "user_tz": -540
    },
    "id": "1XkJ7ir7c9Cx"
   },
   "outputs": [],
   "source": [
    "ndf.to_csv('covid19.csv', index=False)"
   ]
  },
  {
   "cell_type": "markdown",
   "metadata": {
    "id": "mjbiA525E54H"
   },
   "source": [
    "## Additional: \n",
    "For evaluating JSON payloads, Copy the above JSON return \"`{'response': {'header': {'resultCode': '00', 'resultMsg': 'NORMAL SERVICE.'}, 'body': {'items': {'item': [{'accDefRate': '1.4573418044', ... }`\" and to format with https://www.freeformatter.com/json-formatter.html "
   ]
  },
  {
   "cell_type": "markdown",
   "metadata": {
    "id": "7V3QD_bvFMsa"
   },
   "source": [
    "\n",
    "\n",
    "```\n",
    "{\n",
    "   \"response\": {\n",
    "      \"header\": {\n",
    "         \"resultCode\": \"00\",\n",
    "         \"resultMsg\": \"NORMAL SERVICE.\"\n",
    "      },\n",
    "      \"body\": {\n",
    "         \"items\": {\n",
    "            \"item\": [\n",
    "               {\n",
    "                  \"accDefRate\": \"1.4573418044\",\n",
    "                  \"accExamCnt\": \"5192119\",\n",
    "                  \"accExamCompCnt\": \"5043978\",\n",
    "                  \"careCnt\": \"12028\",\n",
    "                  \"clearCnt\": \"60180\",\n",
    "                  \"createDt\": \"2021-01-20 09:38:16.549\",\n",
    "                  \"deathCnt\": \"1300\",\n",
    "                  \"decideCnt\": \"73508\",\n",
    "                  \"examCnt\": \"148141\",\n",
    "                  \"resutlNegCnt\": \"4970470\",\n",
    "                  \"seq\": \"392\",\n",
    "                  \"stateDt\": \"20210120\",\n",
    "                  \"stateTime\": \"00:00\",\n",
    "                  \"updateDt\": \"2021-04-20 15:23:25.562\"\n",
    "               },\n",
    "               {\n",
    "                  \"accDefRate\": \"1.4661941407\",\n",
    "                  \"accExamCnt\": \"5140315\",\n",
    "                  \"accExamCompCnt\": \"4985970\",\n",
    "                  \"careCnt\": \"12353\",\n",
    "                  \"clearCnt\": \"59468\",\n",
    "                  \"createDt\": \"2021-01-19 09:39:49.588\",\n",
    "                  \"deathCnt\": \"1283\",\n",
    "                  \"decideCnt\": \"73104\",\n",
    "                  \"examCnt\": \"154345\",\n",
    "                  \"resutlNegCnt\": \"4912866\",\n",
    "                  \"seq\": \"391\",\n",
    "                  \"stateDt\": \"20210119\",\n",
    "                  \"stateTime\": \"00:00\",\n",
    "                  \"updateDt\": \"2021-04-20 15:23:34.538\"\n",
    "               }\n",
    "            ]\n",
    "         },\n",
    "         \"numOfRows\": \"10\",\n",
    "         \"pageNo\": \"1\",\n",
    "         \"totalCount\": \"2\"\n",
    "      }\n",
    "   }\n",
    "}\n",
    "```\n",
    "\n"
   ]
  }
 ],
 "metadata": {
  "colab": {
   "collapsed_sections": [
    "mjbiA525E54H"
   ],
   "name": "DONE_코로나 확진자 CSV 파일 만들기.ipynb",
   "provenance": []
  },
  "kernelspec": {
   "display_name": "Python 3 (ipykernel)",
   "language": "python",
   "name": "python3"
  },
  "language_info": {
   "codemirror_mode": {
    "name": "ipython",
    "version": 3
   },
   "file_extension": ".py",
   "mimetype": "text/x-python",
   "name": "python",
   "nbconvert_exporter": "python",
   "pygments_lexer": "ipython3",
   "version": "3.9.7"
  },
  "toc": {
   "base_numbering": 1,
   "nav_menu": {},
   "number_sections": true,
   "sideBar": true,
   "skip_h1_title": false,
   "title_cell": "Table of Contents",
   "title_sidebar": "Contents",
   "toc_cell": false,
   "toc_position": {},
   "toc_section_display": true,
   "toc_window_display": false
  }
 },
 "nbformat": 4,
 "nbformat_minor": 4
}
