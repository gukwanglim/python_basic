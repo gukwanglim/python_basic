{
 "cells": [
  {
   "cell_type": "code",
   "execution_count": 4,
   "id": "521dd777",
   "metadata": {},
   "outputs": [
    {
     "name": "stdout",
     "output_type": "stream",
     "text": [
      "a를 입력하세요 :2\n",
      "b를 입력하세요 :185\n",
      "2 x 185 = 370\n",
      "\n",
      "공백이 포함된 문자를 입력하세요 :  156153  5131513   131513    \n",
      "156153  5131513   131513\n",
      "['156153', '5131513', '131513']\n",
      "  156153  5131513   131513      156153  5131513   131513    \n"
     ]
    }
   ],
   "source": [
    "input_a = input('a를 입력하세요 :')\n",
    "input_b = input('b를 입력하세요 :')\n",
    "print('{} x {} = {}'.format(input_a, input_b, (int(input_a) * int(input_b))))\n",
    "print()\n",
    "\n",
    "input_str = input('공백이 포함된 문자를 입력하세요 :')\n",
    "print(input_str.strip())\n",
    "print(input_str.split())\n",
    "print(input_str * int(input_a))"
   ]
  }
 ],
 "metadata": {
  "kernelspec": {
   "display_name": "Python 3 (ipykernel)",
   "language": "python",
   "name": "python3"
  },
  "language_info": {
   "codemirror_mode": {
    "name": "ipython",
    "version": 3
   },
   "file_extension": ".py",
   "mimetype": "text/x-python",
   "name": "python",
   "nbconvert_exporter": "python",
   "pygments_lexer": "ipython3",
   "version": "3.9.7"
  }
 },
 "nbformat": 4,
 "nbformat_minor": 5
}
