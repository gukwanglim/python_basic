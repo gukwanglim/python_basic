{
 "cells": [
  {
   "cell_type": "code",
   "execution_count": 3,
   "id": "8f297c43",
   "metadata": {},
   "outputs": [
    {
     "name": "stdout",
     "output_type": "stream",
     "text": [
      "10\n"
     ]
    },
    {
     "data": {
      "text/plain": [
       "20"
      ]
     },
     "execution_count": 3,
     "metadata": {},
     "output_type": "execute_result"
    }
   ],
   "source": [
    "a = 10\n",
    "b = 20\n",
    "print(a)\n",
    "b"
   ]
  },
  {
   "cell_type": "code",
   "execution_count": 5,
   "id": "e5e632e1",
   "metadata": {},
   "outputs": [
    {
     "name": "stdout",
     "output_type": "stream",
     "text": [
      "문자열 출력\n",
      "문자 \" 출력\n",
      "문자 \" 출 ' 력  \n",
      "문자 \" 출 \n",
      " 력 \t 력\n"
     ]
    }
   ],
   "source": [
    "# 문자열 출력\n",
    "print(\"문자열 출력\")\n",
    "print(\"문자 \\\" 출력\") # \\ 다음에 오는 \"은 일반 문자로 인식\n",
    "print(\"문자 \\\" 출 \\' 력  \")\n",
    "print(\"문자 \\\" 출 \\n 력 \\t 력\")"
   ]
  },
  {
   "cell_type": "code",
   "execution_count": 6,
   "id": "5fccf674",
   "metadata": {},
   "outputs": [
    {
     "name": "stdout",
     "output_type": "stream",
     "text": [
      "이름\t나이\t지역\n",
      "윤인성\t25\t강서구\n",
      "윤아린\t24\t강서구\n",
      "구름\t3\t강서구\n"
     ]
    }
   ],
   "source": [
    "print('이름\\t나이\\t지역')\n",
    "print('윤인성\\t25\\t강서구')\n",
    "print('윤아린\\t24\\t강서구')\n",
    "print('구름\\t3\\t강서구')"
   ]
  },
  {
   "cell_type": "code",
   "execution_count": 7,
   "id": "aeefe768",
   "metadata": {},
   "outputs": [
    {
     "name": "stdout",
     "output_type": "stream",
     "text": [
      "동해물과 백두산이\n",
      "마르고 닳도록\n",
      "하느님이 보우하사\n"
     ]
    }
   ],
   "source": [
    "# 여러 줄 출력\n",
    "print('동해물과 백두산이\\n마르고 닳도록\\n하느님이 보우하사')"
   ]
  },
  {
   "cell_type": "code",
   "execution_count": 8,
   "id": "f3b0c1c8",
   "metadata": {},
   "outputs": [
    {
     "name": "stdout",
     "output_type": "stream",
     "text": [
      "동해물과 백두산이\n",
      "마르고 닳도록\n",
      "하느님이 보우하사\n"
     ]
    }
   ],
   "source": [
    "print(\"\"\"동해물과 백두산이\n",
    "마르고 닳도록\n",
    "하느님이 보우하사\"\"\")"
   ]
  },
  {
   "cell_type": "code",
   "execution_count": 9,
   "id": "83ad89df",
   "metadata": {},
   "outputs": [
    {
     "name": "stdout",
     "output_type": "stream",
     "text": [
      "\n",
      "동해물과 백두산이\n",
      "마르고 닳도록\n",
      "하느님이 보우하사\n",
      "\n"
     ]
    }
   ],
   "source": [
    "print(\"\"\"\n",
    "동해물과 백두산이\n",
    "마르고 닳도록\n",
    "하느님이 보우하사\n",
    "\"\"\")"
   ]
  },
  {
   "cell_type": "code",
   "execution_count": 11,
   "id": "58a19572",
   "metadata": {},
   "outputs": [
    {
     "name": "stdout",
     "output_type": "stream",
     "text": [
      "동해물과 백두산이\n",
      "마르고 닳도록\n",
      "하느님이 보우하사\n"
     ]
    }
   ],
   "source": [
    "print(\"\"\"\\\n",
    "동해물과 백두산이\n",
    "마르고 닳도록\n",
    "하느님이 보우하사\\\n",
    "\"\"\") # 불필요한 처음과 끝라인 제거"
   ]
  },
  {
   "cell_type": "code",
   "execution_count": 14,
   "id": "2979d069",
   "metadata": {},
   "outputs": [
    {
     "name": "stdout",
     "output_type": "stream",
     "text": [
      "hellohello\n",
      "hellohellohellohello\n",
      "hello1\n"
     ]
    }
   ],
   "source": [
    "# 문자열 연산 : +, *\n",
    "print('hello' + 'hello')\n",
    "print('hello' * 4)\n",
    "# print('hello' + 1) #error \n",
    "print('hello' + '1') # 주석처리는 'ctrl + /'"
   ]
  },
  {
   "cell_type": "code",
   "execution_count": 28,
   "id": "30bf4cda",
   "metadata": {
    "scrolled": true
   },
   "outputs": [
    {
     "name": "stdout",
     "output_type": "stream",
     "text": [
      "안녕하세요\n",
      "안\n",
      "요\n",
      "안녕\n",
      "안녕\n",
      "하세요\n",
      "5\n",
      "안녕하세요\n",
      "안녕하\n"
     ]
    }
   ],
   "source": [
    "# 문자열 선택 : 문자열[] => 인덱스 숫자, 인덱스는 0부터 시작\n",
    "print('안녕하세요')\n",
    "print('안녕하세요'[0])\n",
    "print('안녕하세요'[-1])\n",
    "print('안녕하세요'[0:2])\n",
    "print('안녕하세요'[:2])\n",
    "print('안녕하세요'[2:])\n",
    "# print('안녕하세요'[5]) # 인덱스 범위 오류\n",
    "\n",
    "print(len('안녕하세요'))\n",
    "print('안녕하세요'[:len('안녕하세요')])\n",
    "print('안녕하세요'[:len('안녕하세요') - 2])"
   ]
  },
  {
   "cell_type": "code",
   "execution_count": 7,
   "id": "b525b5a8",
   "metadata": {},
   "outputs": [
    {
     "name": "stdout",
     "output_type": "stream",
     "text": [
      "60\n",
      "3 / 2 = 1.5\n",
      "3 // 2 = 1\n",
      "3 % 2 = 1\n",
      "3 ** 2 = 9\n"
     ]
    }
   ],
   "source": [
    "# 숫자 연산\n",
    "print(40 + 20)\n",
    "a = 3\n",
    "b = 2\n",
    "print(a, \"/\", b, '=', a / b) # 나누기\n",
    "print(a, \"//\", b, '=', a // b) # 몫\n",
    "print(a, \"%\", b, '=', a % b) # 나머지\n",
    "print(a, \"**\", b, '=', a ** b) # 거듭제곱"
   ]
  },
  {
   "cell_type": "code",
   "execution_count": 9,
   "id": "df099f79",
   "metadata": {},
   "outputs": [
    {
     "name": "stdout",
     "output_type": "stream",
     "text": [
      "120\n",
      "str :  hello!!\n",
      "str :  hello!!hello!!\n"
     ]
    }
   ],
   "source": [
    "# 복합 연산자\n",
    "a = 20\n",
    "str1 = 'hello'\n",
    "a += 100\n",
    "print(a)\n",
    "str1 += '!!'\n",
    "print('str : ', str1)\n",
    "str1 *= 2\n",
    "print('str : ', str1)"
   ]
  },
  {
   "cell_type": "code",
   "execution_count": 12,
   "id": "a07c394a",
   "metadata": {},
   "outputs": [
    {
     "name": "stdout",
     "output_type": "stream",
     "text": [
      "1 2 3\n",
      "1/2/3aa==/1/2/3\n",
      "end\n"
     ]
    }
   ],
   "source": [
    "print(1, 2, 3) # print에 커서를 두고 'shift + tab' = 도움말\n",
    "print(1, 2, 3, sep = '/', end = 'aa')\n",
    "print('==', 1, 2, 3, sep = '/', end = '\\n')\n",
    "print('end')"
   ]
  },
  {
   "cell_type": "code",
   "execution_count": 13,
   "id": "a65fe7af",
   "metadata": {},
   "outputs": [
    {
     "name": "stdout",
     "output_type": "stream",
     "text": [
      "1 2 3\n",
      "1/2/3aa1/2/3\n",
      "end\n"
     ]
    }
   ],
   "source": [
    "print(1, 2, 3) # print에 커서를 두고 'shift + tab' = 도움말\n",
    "print(1, 2, 3, sep = '/', end = 'aa')\n",
    "print(1, 2, 3, sep = '/', end = '\\n')\n",
    "print('end')"
   ]
  },
  {
   "cell_type": "code",
   "execution_count": 20,
   "id": "98ed9c06",
   "metadata": {},
   "outputs": [
    {
     "name": "stdout",
     "output_type": "stream",
     "text": [
      "숫자를 입력해주세요 : 1234\n",
      "1234\n"
     ]
    }
   ],
   "source": [
    "# input() 함수 : 키보드에서 입력받는 함수\n",
    "input_data = input('숫자를 입력해주세요 : ')\n",
    "print(input_data)"
   ]
  },
  {
   "cell_type": "code",
   "execution_count": 22,
   "id": "1297a89d",
   "metadata": {},
   "outputs": [
    {
     "name": "stdout",
     "output_type": "stream",
     "text": [
      "<class 'str'>\n"
     ]
    },
    {
     "data": {
      "text/plain": [
       "1244"
      ]
     },
     "execution_count": 22,
     "metadata": {},
     "output_type": "execute_result"
    }
   ],
   "source": [
    "print(type(input_data)) # input을 사용했기 때문에 str이다\n",
    "int(input_data) + 10 # int()를 이용해 str을 int로 변경"
   ]
  },
  {
   "cell_type": "code",
   "execution_count": 24,
   "id": "212f92cf",
   "metadata": {},
   "outputs": [
    {
     "name": "stdout",
     "output_type": "stream",
     "text": [
      "숫자를 입력해 주세요 :5\n",
      "<class 'str'>\n",
      "15\n",
      "50\n"
     ]
    }
   ],
   "source": [
    "# 문 : 키보드로부터 실수를 입력받아 실수형으로 변환하여 \n",
    "# 입력된 숫자에 10을 더한 값, 10을 곱한 값을 출력하세요.\n",
    "a = input('숫자를 입력해 주세요 :')\n",
    "print(type(a))\n",
    "print(int(a) + 10)\n",
    "print(int(a) * 10)"
   ]
  },
  {
   "cell_type": "code",
   "execution_count": 25,
   "id": "59849685",
   "metadata": {},
   "outputs": [
    {
     "name": "stdout",
     "output_type": "stream",
     "text": [
      "실수를 입력 :34.5\n",
      "<class 'float'>\n",
      "44.5 345.0\n"
     ]
    }
   ],
   "source": [
    "input_num = float(input('실수를 입력 :'))\n",
    "print(type(input_num))\n",
    "print(input_num + 10, input_num * 10)"
   ]
  },
  {
   "cell_type": "code",
   "execution_count": 1,
   "id": "f66afdd7",
   "metadata": {},
   "outputs": [
    {
     "name": "stdout",
     "output_type": "stream",
     "text": [
      "1\n",
      "1.1\n"
     ]
    },
    {
     "ename": "ValueError",
     "evalue": "invalid literal for int() with base 10: '1.1'",
     "output_type": "error",
     "traceback": [
      "\u001b[1;31m---------------------------------------------------------------------------\u001b[0m",
      "\u001b[1;31mValueError\u001b[0m                                Traceback (most recent call last)",
      "\u001b[1;32mC:\\Users\\Public\\Documents\\ESTsoft\\CreatorTemp/ipykernel_14300/2482360978.py\u001b[0m in \u001b[0;36m<module>\u001b[1;34m\u001b[0m\n\u001b[0;32m      4\u001b[0m \u001b[0mprint\u001b[0m\u001b[1;33m(\u001b[0m\u001b[0mint\u001b[0m\u001b[1;33m(\u001b[0m\u001b[1;36m1.1\u001b[0m\u001b[1;33m)\u001b[0m\u001b[1;33m)\u001b[0m\u001b[1;33m\u001b[0m\u001b[1;33m\u001b[0m\u001b[0m\n\u001b[0;32m      5\u001b[0m \u001b[0mprint\u001b[0m\u001b[1;33m(\u001b[0m\u001b[0mfloat\u001b[0m\u001b[1;33m(\u001b[0m\u001b[0ma_1\u001b[0m\u001b[1;33m)\u001b[0m\u001b[1;33m)\u001b[0m\u001b[1;33m\u001b[0m\u001b[1;33m\u001b[0m\u001b[0m\n\u001b[1;32m----> 6\u001b[1;33m \u001b[0mprint\u001b[0m\u001b[1;33m(\u001b[0m\u001b[0mint\u001b[0m\u001b[1;33m(\u001b[0m\u001b[0ma_1\u001b[0m\u001b[1;33m)\u001b[0m\u001b[1;33m)\u001b[0m\u001b[1;33m\u001b[0m\u001b[1;33m\u001b[0m\u001b[0m\n\u001b[0m",
      "\u001b[1;31mValueError\u001b[0m: invalid literal for int() with base 10: '1.1'"
     ]
    }
   ],
   "source": [
    "a = 1.1\n",
    "a_1 = '1.1'\n",
    "\n",
    "print(int(1.1))\n",
    "print(float(a_1))\n",
    "print(int(a_1))"
   ]
  },
  {
   "cell_type": "code",
   "execution_count": 4,
   "id": "ac87d0c3",
   "metadata": {},
   "outputs": [
    {
     "name": "stdout",
     "output_type": "stream",
     "text": [
      "1.11.1\n",
      "2.2\n"
     ]
    }
   ],
   "source": [
    "print(str(a) + a_1)\n",
    "print(a + float(a_1))"
   ]
  },
  {
   "cell_type": "code",
   "execution_count": 15,
   "id": "41961ccb",
   "metadata": {},
   "outputs": [
    {
     "name": "stdout",
     "output_type": "stream",
     "text": [
      "6기 파이썬 인공지능 과정 !!\n"
     ]
    },
    {
     "data": {
      "text/plain": [
       "'6기 파이썬 인공지능 과정 시작일 2022-02-28 !!'"
      ]
     },
     "execution_count": 15,
     "metadata": {},
     "output_type": "execute_result"
    }
   ],
   "source": [
    "string = '{} {} {}'\n",
    "\n",
    "# 문자열 관련 함수 : format() -> 문자열.함수()\n",
    "print('{}파이썬 인공지능 과정 !!'.format('6기 '))\n",
    "'{}기 파이썬 인공지능 과정 시작일 {} !!'.\\\n",
    "format('6', '2022-02-28')"
   ]
  },
  {
   "cell_type": "code",
   "execution_count": 12,
   "id": "79359f5a",
   "metadata": {},
   "outputs": [
    {
     "name": "stdout",
     "output_type": "stream",
     "text": [
      "10 + 20 = 30\n",
      "20 + 10 = 30\n",
      "1 2\n"
     ]
    },
    {
     "ename": "IndexError",
     "evalue": "Replacement index 1 out of range for positional args tuple",
     "output_type": "error",
     "traceback": [
      "\u001b[1;31m---------------------------------------------------------------------------\u001b[0m",
      "\u001b[1;31mIndexError\u001b[0m                                Traceback (most recent call last)",
      "\u001b[1;32mC:\\Users\\Public\\Documents\\ESTsoft\\CreatorTemp/ipykernel_14300/3519073466.py\u001b[0m in \u001b[0;36m<module>\u001b[1;34m\u001b[0m\n\u001b[0;32m      5\u001b[0m \u001b[1;33m\u001b[0m\u001b[0m\n\u001b[0;32m      6\u001b[0m \u001b[0mprint\u001b[0m\u001b[1;33m(\u001b[0m\u001b[1;34m'{} {}'\u001b[0m\u001b[1;33m.\u001b[0m\u001b[0mformat\u001b[0m\u001b[1;33m(\u001b[0m\u001b[1;36m1\u001b[0m\u001b[1;33m,\u001b[0m \u001b[1;36m2\u001b[0m\u001b[1;33m,\u001b[0m \u001b[1;36m3\u001b[0m\u001b[1;33m,\u001b[0m \u001b[1;36m4\u001b[0m\u001b[1;33m)\u001b[0m\u001b[1;33m)\u001b[0m \u001b[1;31m# 숫자가 넘치는 것은 상관없음\u001b[0m\u001b[1;33m\u001b[0m\u001b[1;33m\u001b[0m\u001b[0m\n\u001b[1;32m----> 7\u001b[1;33m \u001b[0mprint\u001b[0m\u001b[1;33m(\u001b[0m\u001b[1;34m'{} {}'\u001b[0m\u001b[1;33m.\u001b[0m\u001b[0mformat\u001b[0m\u001b[1;33m(\u001b[0m\u001b[1;36m1\u001b[0m\u001b[1;33m)\u001b[0m\u001b[1;33m)\u001b[0m \u001b[1;31m# 숫자가 부족하면 error\u001b[0m\u001b[1;33m\u001b[0m\u001b[1;33m\u001b[0m\u001b[0m\n\u001b[0m",
      "\u001b[1;31mIndexError\u001b[0m: Replacement index 1 out of range for positional args tuple"
     ]
    }
   ],
   "source": [
    "a =10\n",
    "b = 20\n",
    "print('{} + {} = {}'.format(a, b, a +b))\n",
    "print('{1} + {0} = {2}'.format(a, b, a +b))\n",
    "\n",
    "print('{} {}'.format(1, 2, 3, 4)) # 숫자가 넘치는 것은 상관없음\n",
    "print('{} {}'.format(1)) # 숫자가 부족하면 error"
   ]
  },
  {
   "cell_type": "code",
   "execution_count": 14,
   "id": "02a1df0f",
   "metadata": {
    "scrolled": true
   },
   "outputs": [
    {
     "name": "stdout",
     "output_type": "stream",
     "text": [
      "test 1 python\n"
     ]
    }
   ],
   "source": [
    "print(string.format('test', 1, 'python'))"
   ]
  },
  {
   "cell_type": "code",
   "execution_count": 21,
   "id": "a6b8a0bd",
   "metadata": {},
   "outputs": [
    {
     "name": "stdout",
     "output_type": "stream",
     "text": [
      "##52##\n",
      "##   52##\n",
      "##00052##\n",
      "##-0052##\n",
      "\n",
      "##+52##\n",
      "## 52##\n",
      "##-52##\n",
      "\n",
      "##  +52##\n",
      "##+  52##\n",
      "##+0052##\n"
     ]
    }
   ],
   "source": [
    "# 숫자 편집\n",
    "print('##{:d}##'.format(52))\n",
    "print('##{:5d}##'.format(52))\n",
    "print('##{:05d}##'.format(52))\n",
    "print('##{:05d}##'.format(-52))\n",
    "print()\n",
    "\n",
    "# +, - 기호 표시\n",
    "print('##{:+d}##'.format(52))\n",
    "print('##{: d}##'.format(52))\n",
    "print('##{: d}##'.format(-52))\n",
    "print()\n",
    "\n",
    "print('##{:+5d}##'.format(52))\n",
    "print('##{:=+5d}##'.format(52))\n",
    "print('##{:+05d}##'.format(52))"
   ]
  },
  {
   "cell_type": "code",
   "execution_count": 34,
   "id": "83dbad2a",
   "metadata": {},
   "outputs": [
    {
     "name": "stdout",
     "output_type": "stream",
     "text": [
      "/ 안녕, hello, test /\n",
      "/안녕, hello, test/\n",
      "/안녕, hello, test /\n",
      "/ 안녕, hello, test/\n",
      "\n"
     ]
    },
    {
     "data": {
      "text/plain": [
       "'안녕, hello, test'"
      ]
     },
     "execution_count": 34,
     "metadata": {},
     "output_type": "execute_result"
    }
   ],
   "source": [
    "# 문자열 관련 함수 strip() : 공백제거 -> 문자열.strip()\n",
    "input_str = ' 안녕, hello, test '\n",
    "print('/{}/'.format(input_str))\n",
    "print('/{}/'.format(input_str.strip())) # strip() = 양쪽 공백 제거\n",
    "print('/{}/'.format(input_str.lstrip()))\n",
    "print('/{}/'.format(input_str.rstrip()))\n",
    "print()\n",
    "input_str.strip()"
   ]
  },
  {
   "cell_type": "code",
   "execution_count": 31,
   "id": "0a726c5a",
   "metadata": {},
   "outputs": [
    {
     "data": {
      "text/plain": [
       "['False',\n",
       " 'None',\n",
       " 'True',\n",
       " '__peg_parser__',\n",
       " 'and',\n",
       " 'as',\n",
       " 'assert',\n",
       " 'async',\n",
       " 'await',\n",
       " 'break',\n",
       " 'class',\n",
       " 'continue',\n",
       " 'def',\n",
       " 'del',\n",
       " 'elif',\n",
       " 'else',\n",
       " 'except',\n",
       " 'finally',\n",
       " 'for',\n",
       " 'from',\n",
       " 'global',\n",
       " 'if',\n",
       " 'import',\n",
       " 'in',\n",
       " 'is',\n",
       " 'lambda',\n",
       " 'nonlocal',\n",
       " 'not',\n",
       " 'or',\n",
       " 'pass',\n",
       " 'raise',\n",
       " 'return',\n",
       " 'try',\n",
       " 'while',\n",
       " 'with',\n",
       " 'yield']"
      ]
     },
     "execution_count": 31,
     "metadata": {},
     "output_type": "execute_result"
    }
   ],
   "source": [
    "import keyword\n",
    "keyword.kwlist"
   ]
  },
  {
   "cell_type": "code",
   "execution_count": 36,
   "id": "2986a139",
   "metadata": {},
   "outputs": [
    {
     "name": "stdout",
     "output_type": "stream",
     "text": [
      "HELLO PYTHON PROGRAMMING !!\n",
      "hello python programming !!\n"
     ]
    },
    {
     "data": {
      "text/plain": [
       "'HELLO PYTHON PROGRAMMING !!'"
      ]
     },
     "execution_count": 36,
     "metadata": {},
     "output_type": "execute_result"
    }
   ],
   "source": [
    "# 문자열 관련 함수 lower(), upper() => str.upper()\n",
    "str1 = 'Hello Python Programming !!'\n",
    "print(str1.upper())\n",
    "print(str1.lower())\n",
    "\n",
    "str_u = str1.upper()\n",
    "str_u"
   ]
  },
  {
   "cell_type": "code",
   "execution_count": 42,
   "id": "4db5b00f",
   "metadata": {},
   "outputs": [
    {
     "name": "stdout",
     "output_type": "stream",
     "text": [
      "False\n",
      "True\n",
      "True\n",
      "False\n"
     ]
    }
   ],
   "source": [
    "# 문자열의 구성 파약 : is00()\n",
    "# alnum() : 문자열이 알파벳 또는 숫자로 구성되었는지를 확인\n",
    "print(str1.isalnum()) # 빈칸이 있기 때문에 False\n",
    "print('test123'.isalnum())\n",
    "\n",
    "print('10'.isdigit())\n",
    "print('10.0'.isdigit()) # 소수점이 있음으로 False"
   ]
  },
  {
   "cell_type": "code",
   "execution_count": 56,
   "id": "f438d2e6",
   "metadata": {},
   "outputs": [],
   "source": [
    "# isalnum() : 문자열이 알파벳 또는 숫자로만 구성되어 있는지\n",
    "# isalpha() : 문자열이 알파벳으로만 구성되어 있는지\n",
    "# isidentifier() : 문자열이 식별자로 사용할 수 있는 것인지\n",
    "# isdecimal() : 문자열이 정수 형태인지 확인\n",
    "# isdigit() : 문자열이 숫자로 인식될 수 있는지\n",
    "# isspace() : 문자열이 공백으로만 구성되어 있는지\n",
    "# islower() : 문자열이 소문자로만 구성되어 있는지\n",
    "# isupper() : 문자열이 대문자로만 구성되어 있는지"
   ]
  },
  {
   "cell_type": "code",
   "execution_count": 47,
   "id": "41d62222",
   "metadata": {},
   "outputs": [
    {
     "name": "stdout",
     "output_type": "stream",
     "text": [
      "4\n",
      "21\n",
      "20\n"
     ]
    }
   ],
   "source": [
    "# 문자열에서 원하는 문자 검색 : find(), rfind()\n",
    "str_1 = 'hellohello python program'\n",
    "print(str_1.find('o')) #'o'가 제일 처음 나오는 위치(인덱스) 반환\n",
    "print(str_1.rfind('gram')) \n",
    "print(str_1.rfind('o')) # 'o'가 뒤에서 처음 나오는 위치(인덱스 반환)"
   ]
  },
  {
   "cell_type": "code",
   "execution_count": 45,
   "id": "d20d8763",
   "metadata": {},
   "outputs": [
    {
     "name": "stdout",
     "output_type": "stream",
     "text": [
      "True\n",
      "False\n"
     ]
    }
   ],
   "source": [
    "# 문자열과 in 연산자 : 문자 in 문자열 => 문자열에 문자가 있는지 확인\n",
    "print('hello' in 'hellohello python program')\n",
    "print('hello1' in 'hellohello python program')"
   ]
  },
  {
   "cell_type": "code",
   "execution_count": 52,
   "id": "5c15e8e3",
   "metadata": {},
   "outputs": [
    {
     "name": "stdout",
     "output_type": "stream",
     "text": [
      "['hellohello', 'python', 'program']\n",
      "2\n"
     ]
    }
   ],
   "source": [
    "# 문자열 자르기 : split() => str.split('내가 지정한 문자') - 공백도 가능\n",
    "print(str_1.split()) # []의 형태(list)로 나온다.\n",
    "print(str_1.count('hello')) # 'hello'가 몇 번 나오는지"
   ]
  },
  {
   "cell_type": "code",
   "execution_count": 54,
   "id": "f3fe3ee2",
   "metadata": {},
   "outputs": [],
   "source": [
    "# format(), upper(), lower(), strip(), split(), in 연산자, find(), rfind(), is00() : 확인하는 함수"
   ]
  },
  {
   "cell_type": "code",
   "execution_count": 57,
   "id": "2295ff11",
   "metadata": {},
   "outputs": [],
   "source": [
    "# 1. 키보드에서 정수를 입력받아 input_a 변수에 저장하세요.\n",
    "# 2. 키보드에서 정수를 입력받아 input_b 변수에 저장하세요.\n",
    "# 3. 두 변수의 합과 곱을 format() 함수를 이용하여 출력하세요.\n",
    "# 4. 키보드에서 문자열(공백 포함)을 입력받아 input_str에 저장하세요.\n",
    "# 5. input_str에서 공백을 제거하고 출력하세요.\n",
    "# 6. input_str을 공백을 기준으로 단어로 분리하세요.\n",
    "# 7. input_str을 input_a 수만큼 반복해서 출력하세요."
   ]
  },
  {
   "cell_type": "code",
   "execution_count": 71,
   "id": "8655ac4f",
   "metadata": {},
   "outputs": [
    {
     "name": "stdout",
     "output_type": "stream",
     "text": [
      "a를 입력하세요 :2\n",
      "b를 입력하세요 :50\n",
      "2 x 50 = 100\n",
      "\n",
      "공백이 포함된 문자를 입력하세요 :  232 232  \n",
      "  232 232  \n",
      "232 232\n",
      "['232', '232']\n",
      "  232 232    232 232  \n"
     ]
    }
   ],
   "source": [
    "input_a = input('a를 입력하세요 :')\n",
    "input_b = input('b를 입력하세요 :')\n",
    "print('{} x {} = {}'.format(input_a, input_b, (int(input_a) * int(input_b))))\n",
    "print()\n",
    "\n",
    "input_str = input('공백이 포함된 문자를 입력하세요 :')\n",
    "print(input_str)\n",
    "print(input_str.strip())\n",
    "print(input_str.split())\n",
    "print(input_str * int(input_a))"
   ]
  }
 ],
 "metadata": {
  "kernelspec": {
   "display_name": "Python 3 (ipykernel)",
   "language": "python",
   "name": "python3"
  },
  "language_info": {
   "codemirror_mode": {
    "name": "ipython",
    "version": 3
   },
   "file_extension": ".py",
   "mimetype": "text/x-python",
   "name": "python",
   "nbconvert_exporter": "python",
   "pygments_lexer": "ipython3",
   "version": "3.9.7"
  }
 },
 "nbformat": 4,
 "nbformat_minor": 5
}
