{
 "cells": [
  {
   "cell_type": "code",
   "execution_count": 1,
   "id": "a5d6fbf4",
   "metadata": {},
   "outputs": [],
   "source": [
    "class Student: \n",
    "    \n",
    "    # 클래스 변수\n",
    "    \n",
    "    count = 0                            # 이렇게 적어 놓으면 전제 클래스에서 사용 가능\n",
    "    students = []\n",
    "    \n",
    "    # 클래스 함수\n",
    "    \n",
    "    @classmethod                        # 이건 데코레이션이 아니라 클래스 함수를 표현한다.\n",
    "    def print(cls):\n",
    "        print('-----학생 목록-----')\n",
    "        print('이름\\t총점\\t평균')\n",
    "        \n",
    "        for student in cls.students:          # cls 는 클래스 변수를 가리킴?\n",
    "            print(str(student))\n",
    "        print('-------------------')\n",
    "        \n",
    "    def __init__(self, name, kor, eng, math):    \n",
    "        self.name = name                                  \n",
    "        self.kor = kor\n",
    "        self.eng = eng\n",
    "        self.math = math \n",
    "        \n",
    "        Student.count += 1               # __init__에다가 이 내용들을 넣으면 훨씬 편해진다.\n",
    "        Student.students.append(self)\n",
    "        \n",
    "        \n",
    "        \n",
    "    def get_sum(self): \n",
    "        return self.kor + self.eng + self.math              \n",
    "    \n",
    "    def get_avg(self):\n",
    "        return self.get_sum() / 3\n",
    "    \n",
    "    def __str__(self):                     \n",
    "        return '{}\\t{}\\t{:3.2f}'.format(self.name, self.get_sum(), self.get_avg())"
   ]
  },
  {
   "cell_type": "code",
   "execution_count": 2,
   "id": "c7927625",
   "metadata": {},
   "outputs": [],
   "source": [
    "def input_data():\n",
    "    \n",
    "#     global students\n",
    "\n",
    "    while True:\n",
    "        input_data = input('이름 성적 입력 : ').split()\n",
    "        if input_data[0] == 'q':\n",
    "            break\n",
    "        elif len(input_data) < 4:\n",
    "            continue\n",
    "        elif not input_data[1].isdigit():\n",
    "            continue\n",
    "        \n",
    "        Student(input_data[0], int(input_data[1]),\n",
    "                int(input_data[2]), int(input_data[3]))"
   ]
  },
  {
   "cell_type": "code",
   "execution_count": 4,
   "id": "0daf6eec",
   "metadata": {
    "scrolled": true
   },
   "outputs": [
    {
     "name": "stdout",
     "output_type": "stream",
     "text": [
      "이름 성적 입력 : d 50 60 30\n",
      "이름 성적 입력 : q\n",
      "\n",
      "총 학생수 :  4\n",
      "\n",
      "-----학생 목록-----\n",
      "이름\t총점\t평균\n",
      "a\t140\t46.67\n",
      "b\t140\t46.67\n",
      "c\t220\t73.33\n",
      "d\t140\t46.67\n",
      "-------------------\n"
     ]
    }
   ],
   "source": [
    "input_data()\n",
    "print()\n",
    "\n",
    "print('총 학생수 : ', Student.count)\n",
    "print()\n",
    "\n",
    "Student.print()"
   ]
  },
  {
   "cell_type": "code",
   "execution_count": null,
   "id": "700179d3",
   "metadata": {},
   "outputs": [],
   "source": []
  },
  {
   "cell_type": "code",
   "execution_count": null,
   "id": "c4b2cc92",
   "metadata": {},
   "outputs": [],
   "source": [
    "# 과제\n",
    "\n",
    "# 1. 학생들의 이름, 국어, 영어, 수학 성적을 입력받아 리스트에 저장한 후,(class)\n",
    "# 2. 입력이 종료되면 리스트의 내용을 출력\n",
    "# 3. 이름을 입력받아 리스트의 내용 중 같은 이름의 자료가 존재하면\n",
    "#     이름, 총점, 평균을 출력하고, 없으면 자료 없음이라고 출력\n",
    "# 4. 입력된 학생의 인원수가 10명 미만이면 추가 입력\n",
    "# 5. 총점의 점수가 가장 작은 학생의 이름, 국어, 영어, 수학 점수 출력\n",
    "# 6. 전체 학생의 이름, 총점, 평균을 출력(점수가 높은 순서대로)\n",
    "# class 변수, class 함수, class Student 사용"
   ]
  },
  {
   "cell_type": "code",
   "execution_count": null,
   "id": "4acd66ac",
   "metadata": {},
   "outputs": [],
   "source": []
  },
  {
   "cell_type": "code",
   "execution_count": null,
   "id": "e28fafbc",
   "metadata": {},
   "outputs": [],
   "source": [
    "# 1. 입력받은 자료를 리스트로 저장하는 클래스 필요, 입력 종료 시, 자동으로 리스트 내용 출력.\n",
    "#    리스트로 저장하는 방식은 클래스 밖의 함수로 해야하는 것인가?\n",
    "\n",
    "# 2. 클래스 안에 총점과 평균을 계산하는 함수를 넣음(아래에 총점과 평균을 계산하는 식을 만들고\n",
    "#    위쪽에 클래스 함수를 사용, 클래스 함수에서 출력까지 실행)\n",
    "\n",
    "# 3. 입력된 학생의 수가 10명 미만이면 계속 작성할 수 있는 함수를 대입?\n",
    "\n",
    "# 4. 총점이 가장 작은 학생(__lg__ 사용하면 될 듯)을 찾아서 출력하는 함수 입력.(이것도 클래스 안에)\n",
    "\n",
    "# 5. 높은 순서라고 한다면 enumerate()를 사용하는 것인가? 높은 점수를 알기 위해서는 sort를 사용?\n",
    "#    그렇다면 sort를 사용하고 reverse를 사용하면 되는 것인가?\n",
    "\n",
    "# 6. 입력받은 이름이 리스트의 내용과 같으면 이름, 총점, 평균을 출력하는 함수 필요"
   ]
  },
  {
   "cell_type": "code",
   "execution_count": null,
   "id": "79fa8645",
   "metadata": {},
   "outputs": [],
   "source": []
  },
  {
   "cell_type": "code",
   "execution_count": null,
   "id": "bffc477c",
   "metadata": {},
   "outputs": [],
   "source": [
    "# 클래스\n",
    "\n",
    "class Student:\n",
    "    \n",
    "    # 클래스 변수\n",
    "    \n",
    "    count = 0                    # count < 10 일 때는 countinue?\n",
    "    students = []\n",
    "    student = {}\n",
    "    \n",
    "    \n",
    "    def __init__(self, name, kor, eng, math):\n",
    "        self.name = name\n",
    "        self.kor = kor\n",
    "        self.eng = eng\n",
    "        self.math = math\n",
    "        \n",
    "        Student.count += 1\n",
    "        Student.students.append(self)\n",
    "        Student.student[self.name] = [self.kor, self.eng, self.math, self.get_sum(), self.get_avg()]\n",
    "        \n",
    "    def get_sum(self):\n",
    "        return int(self.kor) + int(self.eng) + int(self.math)\n",
    "    \n",
    "    def get_avg(self):\n",
    "        return self.get_sum() / 3\n",
    "    \n",
    "    def __str__(self):\n",
    "        return '{}\\t{}\\t{}\\t{}\\t{}\\t{:3.2f}'.format(self.name, self.kor, self.eng, self.math,\n",
    "                                                  self.get_sum(), self.get_avg())\n",
    "    \n",
    "    @classmethod\n",
    "    def print(cls):\n",
    "        print('--------- 학생 점수 ---------')\n",
    "        print('이름\\t국어\\t영어\\t수학\\t총점\\t평균')\n",
    "        \n",
    "        for student in cls.students:\n",
    "            print(str(student))\n",
    "            \n",
    "        print('-----------------------------')   # 입력받아 출력하는 함수, input 을 했을 때, 바로 출력\n",
    " \n",
    "\n",
    "    @classmethod\n",
    "    def search_student(cls):\n",
    "        search_name = input('찾고 싶은 사람의 이름을 적어주세요. : ')\n",
    "        for i in Student.student:\n",
    "            if i == search_name:\n",
    "                print('{}의 점수는 {} 입니다.'.format(i, Student.student[i]))\n",
    "            else:\n",
    "                print('학생을 찾을 수 없습니다.')\n",
    "            \n",
    "        \n",
    "        "
   ]
  },
  {
   "cell_type": "code",
   "execution_count": null,
   "id": "1fa7ee89",
   "metadata": {},
   "outputs": [],
   "source": [
    "# 이름과 성적을 입력하고 class 함수를 이용하여 출력하는 함수"
   ]
  },
  {
   "cell_type": "code",
   "execution_count": null,
   "id": "5ebc51ce",
   "metadata": {},
   "outputs": [],
   "source": [
    "# 이름을 입력하여 class 리스트에 있는 사람의 성적을 출력하는 함수(없으면 없다고 나와야함)"
   ]
  },
  {
   "cell_type": "code",
   "execution_count": null,
   "id": "167c55ac",
   "metadata": {},
   "outputs": [],
   "source": []
  },
  {
   "cell_type": "code",
   "execution_count": null,
   "id": "56093587",
   "metadata": {},
   "outputs": [],
   "source": []
  },
  {
   "cell_type": "code",
   "execution_count": null,
   "id": "5a9c89d9",
   "metadata": {},
   "outputs": [],
   "source": []
  }
 ],
 "metadata": {
  "kernelspec": {
   "display_name": "Python 3 (ipykernel)",
   "language": "python",
   "name": "python3"
  },
  "language_info": {
   "codemirror_mode": {
    "name": "ipython",
    "version": 3
   },
   "file_extension": ".py",
   "mimetype": "text/x-python",
   "name": "python",
   "nbconvert_exporter": "python",
   "pygments_lexer": "ipython3",
   "version": "3.9.7"
  }
 },
 "nbformat": 4,
 "nbformat_minor": 5
}
