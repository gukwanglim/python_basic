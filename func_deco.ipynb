{
 "cells": [
  {
   "cell_type": "markdown",
   "id": "5c60c2be",
   "metadata": {},
   "source": [
    "# 함수 데코레이터"
   ]
  },
  {
   "cell_type": "code",
   "execution_count": null,
   "id": "bb949d30",
   "metadata": {},
   "outputs": [],
   "source": [
    "def test(function):\n",
    "    def wrapper():\n",
    "        print('함수 시작')\n",
    "        function()\n",
    "        print('함수 종료')\n",
    "    return wrapper\n",
    "\n",
    "# 데코레이터 함수 정의\n",
    "\n",
    "@test                        # @ 함수명_1\n",
    "def hello():                 # def 함수명_2\n",
    "    print('hello')           # 함수명_2 를 부르면 함수명_1이 동작\n",
    "                             # 함수명_1(함수명_2)가 들어가있는 상태\n",
    "# 함수 호출                  # 여기서는 hello()를 호출하면 test(hello)로 들어가고 test() 안에\n",
    "                             # wrapper() 은 동작하지 않고 return 값을 받는다.\n",
    "hello()                      # return이 wrapper이므로 다시 wrapper() 함수 동작"
   ]
  }
 ],
 "metadata": {
  "kernelspec": {
   "display_name": "Python 3 (ipykernel)",
   "language": "python",
   "name": "python3"
  },
  "language_info": {
   "codemirror_mode": {
    "name": "ipython",
    "version": 3
   },
   "file_extension": ".py",
   "mimetype": "text/x-python",
   "name": "python",
   "nbconvert_exporter": "python",
   "pygments_lexer": "ipython3",
   "version": "3.9.7"
  }
 },
 "nbformat": 4,
 "nbformat_minor": 5
}
