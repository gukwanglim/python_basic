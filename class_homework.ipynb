{
 "cells": [
  {
   "cell_type": "code",
   "execution_count": null,
   "id": "c8557a7e",
   "metadata": {},
   "outputs": [],
   "source": [
    "# 과제\n",
    "\n",
    "# 1. 학생들의 이름, 국어, 영어, 수학 성적을 입력받아 리스트에 저장한 후,(class)\n",
    "# 2. 입력이 종료되면 리스트의 내용을 출력\n",
    "# 3. 이름을 입력받아 리스트의 내용 중 같은 이름의 자료가 존재하면\n",
    "#     이름, 총점, 평균을 출력하고, 없으면 자료 없음이라고 출력\n",
    "# 4. 입력된 학생의 인원수가 10명 미만이면 추가 입력\n",
    "# 5. 총점의 점수가 가장 작은 학생의 이름, 국어, 영어, 수학 점수 출력\n",
    "# 6. 전체 학생의 이름, 총점, 평균을 출력(점수가 높은 순서대로)\n",
    "# class 변수, class 함수, class Student 사용"
   ]
  },
  {
   "cell_type": "code",
   "execution_count": null,
   "id": "f97c8ea6",
   "metadata": {},
   "outputs": [],
   "source": []
  },
  {
   "cell_type": "code",
   "execution_count": null,
   "id": "c21087cb",
   "metadata": {},
   "outputs": [],
   "source": [
    "# 1. 입력받은 자료를 리스트로 저장하는 클래스 필요, 입력 종료 시, 자동으로 리스트 내용 출력.\n",
    "#    리스트로 저장하는 방식은 클래스 밖의 함수로 해야하는 것인가?\n",
    "\n",
    "# 2. 클래스 안에 총점과 평균을 계산하는 함수를 넣음(아래에 총점과 평균을 계산하는 식을 만들고\n",
    "#    위쪽에 클래스 함수를 사용, 클래스 함수에서 출력까지 실행)\n",
    "\n",
    "# 3. 입력된 학생의 수가 10명 미만이면 계속 작성할 수 있는 함수를 대입?\n",
    "\n",
    "# 4. 총점이 가장 작은 학생(__lg__ 사용하면 될 듯)을 찾아서 출력하는 함수 입력.(이것도 클래스 안에)\n",
    "\n",
    "# 5. 높은 순서라고 한다면 enumerate()를 사용하는 것인가? 높은 점수를 알기 위해서는 sort를 사용?\n",
    "#    그렇다면 sort를 사용하고 reverse를 사용하면 되는 것인가?"
   ]
  },
  {
   "cell_type": "code",
   "execution_count": null,
   "id": "f4eca499",
   "metadata": {},
   "outputs": [],
   "source": []
  },
  {
   "cell_type": "code",
   "execution_count": null,
   "id": "ce9d2a5c",
   "metadata": {},
   "outputs": [],
   "source": [
    "# 클래스\n",
    "\n",
    "class Student:\n",
    "    \n",
    "    # 클래스 변수\n",
    "    \n",
    "    count = 0                    # count < 10 일 때는 countinue?\n",
    "    students = []\n",
    "    \n",
    "    "
   ]
  }
 ],
 "metadata": {
  "kernelspec": {
   "display_name": "Python 3 (ipykernel)",
   "language": "python",
   "name": "python3"
  },
  "language_info": {
   "codemirror_mode": {
    "name": "ipython",
    "version": 3
   },
   "file_extension": ".py",
   "mimetype": "text/x-python",
   "name": "python",
   "nbconvert_exporter": "python",
   "pygments_lexer": "ipython3",
   "version": "3.9.7"
  }
 },
 "nbformat": 4,
 "nbformat_minor": 5
}
