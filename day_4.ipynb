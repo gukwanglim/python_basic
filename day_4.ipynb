{
 "cells": [
  {
   "cell_type": "code",
   "execution_count": 7,
   "id": "e6678d71",
   "metadata": {},
   "outputs": [
    {
     "name": "stdout",
     "output_type": "stream",
     "text": [
      "[1, 2, 3, 4, 5]\n",
      "(1, 2, 3, 4, 5)\n",
      "\n",
      "[100, 2, 3, 4, 5]\n",
      "\n"
     ]
    },
    {
     "ename": "TypeError",
     "evalue": "'tuple' object does not support item assignment",
     "output_type": "error",
     "traceback": [
      "\u001b[1;31m---------------------------------------------------------------------------\u001b[0m",
      "\u001b[1;31mTypeError\u001b[0m                                 Traceback (most recent call last)",
      "\u001b[1;32mC:\\Users\\Public\\Documents\\ESTsoft\\CreatorTemp/ipykernel_14892/1562674374.py\u001b[0m in \u001b[0;36m<module>\u001b[1;34m\u001b[0m\n\u001b[0;32m     12\u001b[0m \u001b[0mprint\u001b[0m\u001b[1;33m(\u001b[0m\u001b[1;33m)\u001b[0m\u001b[1;33m\u001b[0m\u001b[1;33m\u001b[0m\u001b[0m\n\u001b[0;32m     13\u001b[0m \u001b[1;33m\u001b[0m\u001b[0m\n\u001b[1;32m---> 14\u001b[1;33m \u001b[0ma_tuple\u001b[0m\u001b[1;33m[\u001b[0m\u001b[1;36m0\u001b[0m\u001b[1;33m]\u001b[0m \u001b[1;33m=\u001b[0m \u001b[1;36m100\u001b[0m \u001b[1;31m# tuple은 데이터 수정 불가\u001b[0m\u001b[1;33m\u001b[0m\u001b[1;33m\u001b[0m\u001b[0m\n\u001b[0m\u001b[0;32m     15\u001b[0m \u001b[0mprint\u001b[0m\u001b[1;33m(\u001b[0m\u001b[0ma_tuple\u001b[0m\u001b[1;33m)\u001b[0m\u001b[1;33m\u001b[0m\u001b[1;33m\u001b[0m\u001b[0m\n",
      "\u001b[1;31mTypeError\u001b[0m: 'tuple' object does not support item assignment"
     ]
    }
   ],
   "source": [
    "# tuple : 값의 수정이 불가능 - ( , ...)\n",
    "\n",
    "a_list = [1, 2, 3, 4, 5]\n",
    "a_tuple = (1, 2, 3, 4, 5)\n",
    "\n",
    "print(a_list)\n",
    "print(a_tuple)\n",
    "print()\n",
    "\n",
    "a_list[0] = 100\n",
    "print(a_list)\n",
    "print()\n",
    "\n",
    "a_tuple[0] = 100 # tuple은 데이터 수정 불가\n",
    "print(a_tuple)"
   ]
  },
  {
   "cell_type": "code",
   "execution_count": 9,
   "id": "83f3fcf9",
   "metadata": {},
   "outputs": [
    {
     "name": "stdout",
     "output_type": "stream",
     "text": [
      "10 20\n",
      "\n",
      "20 10\n"
     ]
    }
   ],
   "source": [
    "a, b = 10, 20\n",
    "\n",
    "print(a, b)\n",
    "print()\n",
    "\n",
    "b, a = a, b\n",
    "\n",
    "print(a, b)"
   ]
  },
  {
   "cell_type": "code",
   "execution_count": 13,
   "id": "6cbefa05",
   "metadata": {},
   "outputs": [
    {
     "name": "stdout",
     "output_type": "stream",
     "text": [
      "안녕\n",
      "안녕\n",
      "안녕\n"
     ]
    }
   ],
   "source": [
    "# 함수의 매개변수에 함수명 전달 가능\n",
    "\n",
    "def call_n_times(func, n):\n",
    "    for i in range(n):\n",
    "        func()\n",
    "        \n",
    "def print_hello():\n",
    "    print('안녕')\n",
    "    \n",
    "    \n",
    "call_n_times(print_hello, 3) \n",
    "# call_n_times(print_hello(), 3) - 이처럼 매개변수 안에 ()가 들어가면 Error"
   ]
  },
  {
   "cell_type": "markdown",
   "id": "2d093b35",
   "metadata": {},
   "source": [
    "# map(), filter() : 함수를 매개변수로 받는 내장함수"
   ]
  },
  {
   "cell_type": "code",
   "execution_count": 22,
   "id": "9beca2be",
   "metadata": {},
   "outputs": [
    {
     "name": "stdout",
     "output_type": "stream",
     "text": [
      "map() 실행 결과 :  <map object at 0x000002247EC83F10>\n",
      "map() 실행 결과 :  [10000, 4, 9, 16, 25]\n",
      "\n",
      "filter() 실행 결과 :  <filter object at 0x000002247EC8D3A0>\n",
      "filter() 실행 결과 :  [2]\n"
     ]
    }
   ],
   "source": [
    "# map(함수, 리스트)\n",
    "# filter(함수, 리스트)\n",
    "\n",
    "def power(item):\n",
    "    return item * item\n",
    "\n",
    "def under_3(item):\n",
    "    return item < 3\n",
    "\n",
    "# print(power(a_list))                       지정한 power() 함수는 리스트를 사용할 수 없다.\n",
    "\n",
    "output_a = map(power, a_list)              # 하지만 map()을 사용하면 내가 실행할 함수와 리스트를\n",
    "print('map() 실행 결과 : ', output_a)      # 가지고 실행시킬 수 있다.\n",
    "print('map() 실행 결과 : ', list(output_a))\n",
    "print()\n",
    "\n",
    "# print(under_3(a_list))                     지정한 under_3() 함수는 리스트를 사용할 수 없다.\n",
    "\n",
    "output_b = filter(under_3, a_list)         # 하지만 filter()를 사용하면 내가 실행할 함수의 리스트를\n",
    "print('filter() 실행 결과 : ', output_b)   # 가지고 실행시킬 수 있다.\n",
    "print('filter() 실행 결과 : ', list(output_b))"
   ]
  },
  {
   "cell_type": "code",
   "execution_count": 25,
   "id": "a525de20",
   "metadata": {},
   "outputs": [
    {
     "name": "stdout",
     "output_type": "stream",
     "text": [
      "map() 실행 결과 :  <map object at 0x000002247EC83E50>\n",
      "map() 실행 결과 :  [10000, 4, 9, 16, 25]\n",
      "\n",
      "filter() 실행 결과 :  <filter object at 0x000002247EC8D340>\n",
      "filter() 실행 결과 :  [2]\n"
     ]
    }
   ],
   "source": [
    "# lambda를 활용하여 함수 정의 => lambda 매개변수: 리턴값\n",
    "\n",
    "power = lambda item: item * item\n",
    "under_3 = lambda item: item < 3\n",
    "\n",
    "output_a = map(power, a_list)              \n",
    "print('map() 실행 결과 : ', output_a)      \n",
    "print('map() 실행 결과 : ', list(output_a))\n",
    "print()\n",
    "\n",
    "output_b = filter(under_3, a_list)         \n",
    "print('filter() 실행 결과 : ', output_b)   \n",
    "print('filter() 실행 결과 : ', list(output_b))"
   ]
  },
  {
   "cell_type": "code",
   "execution_count": 26,
   "id": "e04bec39",
   "metadata": {},
   "outputs": [
    {
     "name": "stdout",
     "output_type": "stream",
     "text": [
      "map() 실행 결과 :  <map object at 0x000002247EC83EB0>\n",
      "map() 실행 결과 :  [10000, 4, 9, 16, 25]\n",
      "\n",
      "filter() 실행 결과 :  <filter object at 0x000002247EC8D3A0>\n",
      "filter() 실행 결과 :  [2]\n"
     ]
    }
   ],
   "source": [
    " # 함수를 lambda를 이용하여 바로 선언       \n",
    "\n",
    "output_a = map(lambda item: item * item, a_list)      \n",
    "print('map() 실행 결과 : ', output_a)      \n",
    "print('map() 실행 결과 : ', list(output_a))\n",
    "print()\n",
    "\n",
    "output_b = filter(lambda item: item < 3, a_list)         \n",
    "print('filter() 실행 결과 : ', output_b)   \n",
    "print('filter() 실행 결과 : ', list(output_b))"
   ]
  },
  {
   "cell_type": "code",
   "execution_count": 31,
   "id": "c8f708d9",
   "metadata": {},
   "outputs": [
    {
     "name": "stdout",
     "output_type": "stream",
     "text": [
      "30\n"
     ]
    }
   ],
   "source": [
    "a = 10\n",
    "b = 20\n",
    "\n",
    "print((lambda a, b: a + b)(a, b)) # lambda 구문은 함수, 뒤에 나오는 (a, b)는 변수"
   ]
  },
  {
   "cell_type": "code",
   "execution_count": 32,
   "id": "9574507c",
   "metadata": {},
   "outputs": [],
   "source": [
    "# 파일에 자료를 저장하기\n",
    "\n",
    "# open(문자열:파일경로, 문자열:읽기 모드) : 하드디스크(HD)에 저장된 파일을 메모리에 가져온다\n",
    "# open(파일명, 모드) 마지막에는 .close()를 사용\n",
    "\n",
    "# w = 기존 내용 삭제하고 다시 쓰기, a = 기존 내용을 가져와서 제일 아래에 내용 추가\n",
    "# r = 기존 내용을 가져와서 처음 위치부터 읽기(내용 작성 불가)\n",
    "\n",
    "file = open('test.txt', 'w')\n",
    "file.write('file write \\n')\n",
    "file.close()            # .close()를 사용해야 파일을 열었을 때, 내용을 볼 수 있다."
   ]
  },
  {
   "cell_type": "code",
   "execution_count": 35,
   "id": "56e860cc",
   "metadata": {},
   "outputs": [],
   "source": [
    "# with를 사용하여 파일 핸드링\n",
    "\n",
    "with open('test.txt', 'w') as file: # 자동으로 file.close() 실행\n",
    "    for i in range(3):\n",
    "        file.write('hello \\n')"
   ]
  },
  {
   "cell_type": "code",
   "execution_count": 36,
   "id": "2fe7bf52",
   "metadata": {},
   "outputs": [],
   "source": [
    "with open('test.txt', 'a+') as file: # 자동으로 file.close() 실행\n",
    "    for i in range(3):\n",
    "        file.write('hello wow \\n')"
   ]
  },
  {
   "cell_type": "code",
   "execution_count": 39,
   "id": "5c31ac45",
   "metadata": {},
   "outputs": [],
   "source": [
    "with open('test.txt', 'w+') as file: # 자동으로 file.close() 실행\n",
    "    for i in range(3):\n",
    "        file.write('hello wow \\n')"
   ]
  },
  {
   "cell_type": "code",
   "execution_count": 40,
   "id": "cca8532e",
   "metadata": {},
   "outputs": [],
   "source": [
    "with open('test.txt', 'r+') as file: # r+는 읽기와 쓰기 둘다 가능(처음부터 쓰기(기존 내용 삭제))\n",
    "    for i in range(1):\n",
    "        file.write('hello wow 1 \\n')"
   ]
  },
  {
   "cell_type": "code",
   "execution_count": 46,
   "id": "0804ca45",
   "metadata": {},
   "outputs": [
    {
     "name": "stdout",
     "output_type": "stream",
     "text": [
      "hello wow 1 \n",
      "llo wow \n",
      "hello wow \n",
      "\n",
      "\n",
      "[]\n"
     ]
    }
   ],
   "source": [
    "with open('test.txt',  'r') as file:\n",
    "    content = file.read()          # 파일의 전체 내용 가져옴\n",
    "    content_1 = file.readline()    # 한 라인씩 가져옴\n",
    "    content_2 = file.readlines()   # 라인 단위로 전체 내용을 가져옴\n",
    "    \n",
    "print(content)\n",
    "print(content_1)\n",
    "print(content_2)"
   ]
  },
  {
   "cell_type": "code",
   "execution_count": null,
   "id": "761acd21",
   "metadata": {},
   "outputs": [],
   "source": [
    "# 이름, 국어, 영어, 수학 점수를 입력받아 파일(student.txt)에 저장 후 (w)\n",
    "# (저장은 홍길동, 90, 100, 80 \\n)\n",
    "# 저장된 파일에서 데이터를 라인 단위로 가져와서 딕셔너리에 저장 (r)\n",
    "# 데이터를 처리"
   ]
  },
  {
   "cell_type": "code",
   "execution_count": null,
   "id": "155ac456",
   "metadata": {},
   "outputs": [],
   "source": [
    "def input_data_1():\n",
    "    student = {}\n",
    "    while True:\n",
    "        input_data = input(\"이름 성적 입력 (종료는 'q'): \").split()\n",
    "        if input_data[0] == 'q':\n",
    "            break\n",
    "        elif len(input_data) < 4:\n",
    "            continue\n",
    "        elif not input_data[1].isdigit():\n",
    "            continue\n",
    "        score = []\n",
    "        for i in range(3):\n",
    "            score.append(int(input_data[i+1]))\n",
    "        student[input_data[0]] = score\n",
    "    return student\n",
    "\n",
    "def total_data(student):\n",
    "    total = [[],[],[]]  # 각 과목의 점수 리스트\n",
    "    for key, values in student.items():\n",
    "        for i in range(3):\n",
    "            total[i].append(values[i])\n",
    "#         print(total)\n",
    "#     print(total)\n",
    "    return total\n",
    "\n",
    "def input_update_data(student):\n",
    "    for key, values in student.items():\n",
    "        cnt = len(vlaues)\n",
    "        tot = sum(values)\n",
    "        values.append(tot) \n",
    "        values.append(sum(values)/cnt)\n",
    "    return student"
   ]
  },
  {
   "cell_type": "code",
   "execution_count": 52,
   "id": "7e28385b",
   "metadata": {},
   "outputs": [],
   "source": [
    "def input_data(file):          # 마지막에 return이 없어도 실행이 가능하다\n",
    "    while True:\n",
    "        input_data = input(\"이름 성적 입력 (종료는 'q'): \").split()\n",
    "        if input_data[0] == 'q':\n",
    "            break\n",
    "        elif len(input_data) != 4:\n",
    "            continue\n",
    "        elif not input_data[1].isdigit():\n",
    "            continue\n",
    "        content = ','.join(input_data)     # join은 문자열(str)만 가능하다 : 문자열 -> 하나의 문자\n",
    "        content += ',\\n'\n",
    "        file.write(content)\n",
    "\n",
    "def read_data(file):\n",
    "    global students\n",
    "    for data in file.readlines():\n",
    "        data_1 = data.split(',')\n",
    "        students[data_1[0]] = [data_1[1],data_1[2],data_1[3]]\n",
    "  "
   ]
  },
  {
   "cell_type": "code",
   "execution_count": 57,
   "id": "aa0485b8",
   "metadata": {},
   "outputs": [
    {
     "name": "stdout",
     "output_type": "stream",
     "text": [
      "이름 성적 입력 (종료는 'q'): ㅁ 20 30 50\n",
      "이름 성적 입력 (종료는 'q'): q\n",
      "file write end --- \n"
     ]
    }
   ],
   "source": [
    "with open(\"student.txt\", \"w\") as file: # student.txt를 열었으니 file = student.txt로 정의 된 상태\n",
    "    input_data(file)\n",
    "    file.write('end')\n",
    "print(\"file write end --- \")"
   ]
  },
  {
   "cell_type": "code",
   "execution_count": 55,
   "id": "b2004e54",
   "metadata": {},
   "outputs": [
    {
     "name": "stdout",
     "output_type": "stream",
     "text": [
      "{'a': ['50', '60', '30'], 'b': ['80', '90', '0'], 'c': ['20', '30', '60']}\n"
     ]
    }
   ],
   "source": [
    "students = {}\n",
    "with open(\"student.txt\", \"r\") as file:\n",
    "    read_data(file)\n",
    "print(students)"
   ]
  },
  {
   "cell_type": "code",
   "execution_count": 59,
   "id": "d1f0cb65",
   "metadata": {},
   "outputs": [
    {
     "name": "stdout",
     "output_type": "stream",
     "text": [
      "정수를 입력 : ㅁㄹ\n",
      "오류 발생\n"
     ]
    }
   ],
   "source": [
    "# 프로그램 실행시 발생할 수 있는 오류 처리 : try: ~, except: ~\n",
    "try:\n",
    "    input_number = int(input('정수를 입력 : '))\n",
    "\n",
    "    print('원의 반지름 : ', input_number)\n",
    "    print('원의 둘레 : ', input_number * 2 * 3.14)\n",
    "    print('원의 넓이 : ', input_number ** 2 * 3.14)\n",
    "\n",
    "except:\n",
    "    print('오류 발생')"
   ]
  },
  {
   "cell_type": "code",
   "execution_count": 60,
   "id": "ae5a327c",
   "metadata": {},
   "outputs": [
    {
     "name": "stdout",
     "output_type": "stream",
     "text": [
      "['10', '20', 'test', '30'] 내부에 있는 숫자는[10.0, 20.0, 30.0] 입니다.\n"
     ]
    }
   ],
   "source": [
    "list_input = ['10', '20', 'test', '30']\n",
    "\n",
    "list_number = []\n",
    "for item in list_input:\n",
    "    try:\n",
    "        list_number.append(float(item))\n",
    "    except:\n",
    "        pass\n",
    "    \n",
    "print('{} 내부에 있는 숫자는{} 입니다.'.format(list_input, list_number))"
   ]
  },
  {
   "cell_type": "code",
   "execution_count": null,
   "id": "8ae7a4e4",
   "metadata": {},
   "outputs": [],
   "source": [
    "# try:\n",
    "#     예외 발생 코드\n",
    "    \n",
    "# except:\n",
    "#     예외처리 코드\n",
    "    \n",
    "# else:\n",
    "#     정상일 때 실행하고자 하는 코드\n",
    "\n",
    "# finally:\n",
    "#     무조건 실행"
   ]
  },
  {
   "cell_type": "code",
   "execution_count": 67,
   "id": "142f75ea",
   "metadata": {},
   "outputs": [
    {
     "name": "stdout",
     "output_type": "stream",
     "text": [
      "정수를 입력 : ds\n",
      "\n",
      "invalid literal for int() with base 10: 'ds'\n",
      "\n",
      "-program end-\n"
     ]
    }
   ],
   "source": [
    "try:\n",
    "    input_number = int(input('정수를 입력 : '))\n",
    "except Exception as e:\n",
    "    print()\n",
    "    print(e)\n",
    "    print()\n",
    "else:\n",
    "    print()\n",
    "    print('원의 반지름 : ', input_number)\n",
    "    print('원의 둘레 : ', round(input_number * 2 * 3.14, 2))\n",
    "    print('원의 넓이 : ', input_number ** 2 * 3.14)\n",
    "    print()\n",
    "finally:\n",
    "    print('-program end-')"
   ]
  },
  {
   "cell_type": "code",
   "execution_count": 72,
   "id": "4a67c392",
   "metadata": {},
   "outputs": [
    {
     "name": "stdout",
     "output_type": "stream",
     "text": [
      "<class 'Exception'>\n"
     ]
    }
   ],
   "source": [
    "try:\n",
    "    file = open('a.txt', 'w')\n",
    "    file.write('test')\n",
    "    aa += 2                  # Error가 발생\n",
    "except Exception:\n",
    "    print(Exception)\n",
    "finally:\n",
    "    file.close()             # Error가 발생하여도 close 실행, 다른 구문에서는 사용할 수 없고\n",
    "                             # 오직 try: 구문에서만 사용 가능하다."
   ]
  },
  {
   "cell_type": "code",
   "execution_count": 73,
   "id": "81401f7f",
   "metadata": {},
   "outputs": [
    {
     "name": "stdout",
     "output_type": "stream",
     "text": [
      "try 구문 실행\n",
      "finally 구문 실행\n",
      "while 종료\n"
     ]
    }
   ],
   "source": [
    "while True:\n",
    "    try:\n",
    "        print('try 구문 실행')\n",
    "        break\n",
    "    except:\n",
    "        print('except 구문 실행')\n",
    "    finally:\n",
    "        print('finally 구문 실행')\n",
    "        \n",
    "print('while 종료')"
   ]
  },
  {
   "cell_type": "code",
   "execution_count": 74,
   "id": "00ce4679",
   "metadata": {},
   "outputs": [
    {
     "name": "stdout",
     "output_type": "stream",
     "text": [
      "try 구문 실행\n",
      "finally 구문 실행\n",
      "end\n"
     ]
    }
   ],
   "source": [
    "def try_func():\n",
    "    try:\n",
    "        print('try 구문 실행')\n",
    "        return\n",
    "    except:\n",
    "        print('except 구문 실행')\n",
    "    finally:\n",
    "        print('finally 구문 실행')\n",
    "        \n",
    "try_func()\n",
    "print('end')"
   ]
  },
  {
   "cell_type": "code",
   "execution_count": null,
   "id": "12ca316b",
   "metadata": {},
   "outputs": [],
   "source": []
  }
 ],
 "metadata": {
  "kernelspec": {
   "display_name": "Python 3 (ipykernel)",
   "language": "python",
   "name": "python3"
  },
  "language_info": {
   "codemirror_mode": {
    "name": "ipython",
    "version": 3
   },
   "file_extension": ".py",
   "mimetype": "text/x-python",
   "name": "python",
   "nbconvert_exporter": "python",
   "pygments_lexer": "ipython3",
   "version": "3.9.7"
  }
 },
 "nbformat": 4,
 "nbformat_minor": 5
}
