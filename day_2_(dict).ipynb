{
 "cells": [
  {
   "cell_type": "code",
   "execution_count": 2,
   "id": "e77827ad",
   "metadata": {},
   "outputs": [],
   "source": [
    "# 프로그램 구성 요건\n",
    "# 1. 순차 처리\n",
    "# 2. 선택 처리\n",
    "# 3. 반복 처리"
   ]
  },
  {
   "cell_type": "code",
   "execution_count": 4,
   "id": "fff68561",
   "metadata": {},
   "outputs": [
    {
     "name": "stdout",
     "output_type": "stream",
     "text": [
      "True 실행\n"
     ]
    }
   ],
   "source": [
    "# if 표현식:\n",
    "#    True인 경우 실행\n",
    "if True:\n",
    "    print('True 실행')\n",
    "\n",
    "if False:\n",
    "    print('False 실행')"
   ]
  },
  {
   "cell_type": "code",
   "execution_count": 8,
   "id": "26e4ce3c",
   "metadata": {},
   "outputs": [
    {
     "name": "stdout",
     "output_type": "stream",
     "text": [
      "숫자를 입력해주세요. : 10\n",
      "양수\n"
     ]
    }
   ],
   "source": [
    "# 키보드에서 숫자를 입력 받아 양수이면 '양수'\n",
    "#     음수이면 '음수', 0이면 'zero'를 출력\n",
    "# input() -> 문자열을 반환, 숫자로 변환\n",
    "\n",
    "input_a = int(input('숫자를 입력해주세요. : '))\n",
    "\n",
    "if input_a > 0:\n",
    "    print('양수')\n",
    "elif input_a < 0:\n",
    "    print('음수')\n",
    "else:\n",
    "    print('zero')"
   ]
  },
  {
   "cell_type": "code",
   "execution_count": 15,
   "id": "afb18f81",
   "metadata": {},
   "outputs": [
    {
     "name": "stdout",
     "output_type": "stream",
     "text": [
      "식을 입력하시오 : 20 + 30\n",
      "['20', '+', '30']\n"
     ]
    }
   ],
   "source": [
    "# 입력을 10 + 20 의 형식으로 입력받아 두 수의 합을 구하시오.\n",
    "\n",
    "input_data = input('식을 입력하시오 : ').split()\n",
    "print(input_data)"
   ]
  },
  {
   "cell_type": "code",
   "execution_count": 16,
   "id": "ed1448a9",
   "metadata": {},
   "outputs": [
    {
     "data": {
      "text/plain": [
       "50"
      ]
     },
     "execution_count": 16,
     "metadata": {},
     "output_type": "execute_result"
    }
   ],
   "source": [
    "int(input_data[0]) + int(input_data[2])"
   ]
  },
  {
   "cell_type": "code",
   "execution_count": 17,
   "id": "9d0cc366",
   "metadata": {},
   "outputs": [
    {
     "name": "stdout",
     "output_type": "stream",
     "text": [
      "2022년 3월 7일 9시 46분 44초\n"
     ]
    }
   ],
   "source": [
    "# 날짜와 시간을 구하는 모듈\n",
    "\n",
    "import datetime\n",
    "\n",
    "now = datetime.datetime.now() # 현재의 시간을 구하는 함수\n",
    "\n",
    "print('{}년 {}월 {}일 {}시 {}분 {}초'.format(now.year, now.month, now.day, now.hour, now.minute, now.second))"
   ]
  },
  {
   "cell_type": "code",
   "execution_count": 22,
   "id": "89432a26",
   "metadata": {},
   "outputs": [
    {
     "name": "stdout",
     "output_type": "stream",
     "text": [
      "숫자 입력 : 15\n",
      "입력받은 15는 홀수\n"
     ]
    }
   ],
   "source": [
    "# 입력받은 숫자가 짝수인지 홀수인지 출력\n",
    "\n",
    "num = input('숫자 입력 : ')\n",
    "last_num = int(num[-1])\n",
    "\n",
    "if last_num == 0 or \\\n",
    "   last_num == 2 or last_num == 4 or last_num == 6 or last_num == 8:\n",
    "    print('입력받은 {}는 짝수'.format(num))\n",
    "if last_num == 1 or \\\n",
    "   last_num == 3 or last_num == 5 or last_num == 7 or last_num == 9:\n",
    "    print('입력받은 {}는 홀수'.format(num))"
   ]
  },
  {
   "cell_type": "code",
   "execution_count": 26,
   "id": "4dfc294e",
   "metadata": {},
   "outputs": [
    {
     "name": "stdout",
     "output_type": "stream",
     "text": [
      "숫자 입력 : 74\n",
      "입력받은 74는 짝수\n"
     ]
    }
   ],
   "source": [
    "# 문자 in 문자열 연산자를 사용 : 문자가 문자열에 있는지 확인\n",
    "\n",
    "num = input('숫자 입력 : ')\n",
    "last_num = num[-1]\n",
    "\n",
    "if last_num in '02468':\n",
    "    print('입력받은 {}는 짝수'.format(num))\n",
    "if last_num in '13579':\n",
    "    print('입력받은 {}는 홀수'.format(num))"
   ]
  },
  {
   "cell_type": "code",
   "execution_count": 29,
   "id": "37f82c57",
   "metadata": {},
   "outputs": [
    {
     "name": "stdout",
     "output_type": "stream",
     "text": [
      "숫자 입력 : 35\n",
      "입력받은 35는 홀수\n"
     ]
    }
   ],
   "source": [
    "# 나머지 값으로 짝수, 홀수 구분\n",
    "\n",
    "num = input('숫자 입력 : ')\n",
    "\n",
    "if not (int(num) % 2):\n",
    "    print('입력받은 {}는 짝수'.format(num))\n",
    "if int(num) % 2: # 계산 결과가 0이면 False, 0이 아니면 True\n",
    "    print('입력받은 {}는 홀수'.format(num))"
   ]
  },
  {
   "cell_type": "code",
   "execution_count": 30,
   "id": "86594121",
   "metadata": {},
   "outputs": [
    {
     "name": "stdout",
     "output_type": "stream",
     "text": [
      "입력받은 35는 홀수\n"
     ]
    }
   ],
   "source": [
    "# if ~ else 구문으로 변경\n",
    "\n",
    "if int(num) % 2 ==0:\n",
    "    print('입력받은 {}는 짝수'.format(num))\n",
    "else:\n",
    "    print('입력받은 {}는 홀수'.format(num))"
   ]
  },
  {
   "cell_type": "code",
   "execution_count": 46,
   "id": "10a89b46",
   "metadata": {},
   "outputs": [
    {
     "name": "stdout",
     "output_type": "stream",
     "text": [
      "숫자 입력 : 80\n",
      "부호 입력 : -\n",
      "숫자 입력 : 20\n",
      "60\n"
     ]
    }
   ],
   "source": [
    "# 키보드에서 숫자와 부호를 입력받아 변수에 저장한 후, 기호에 따라 두 수의 계산 결과를 출력.\n",
    "# 숫자 입력 , 부호 입력 , 숫자 입력\n",
    "# 부호가 '+'이면 합을, '-'이면 차를, '*'이면 곱을, '/'이면 나눈값을 출력.\n",
    "\n",
    "num1 = int(input('숫자 입력 : '))\n",
    "buho = input('부호 입력 : ')\n",
    "num2 = int(input('숫자 입력 : '))\n",
    "\n",
    "if buho in '+-*/':\n",
    "    if buho == '+':\n",
    "        print(num1 + num2)\n",
    "    elif buho == '-':\n",
    "        print(num1 - num2)\n",
    "    elif buho == '*':\n",
    "        print(num1 * num2)\n",
    "    else:\n",
    "        print(num1 / num2)"
   ]
  },
  {
   "cell_type": "code",
   "execution_count": 50,
   "id": "70ad32de",
   "metadata": {},
   "outputs": [
    {
     "name": "stdout",
     "output_type": "stream",
     "text": [
      "식을 입력하십시오(10 + 2) : 50 * 2\n",
      "100\n"
     ]
    }
   ],
   "source": [
    "input_a = input('식을 입력하십시오(10 + 2) : ')\n",
    "list_a = input_a.split()\n",
    "\n",
    "if list_a[1] in '+-*/':\n",
    "    if list_a[1] == '+':\n",
    "        print(int(list_a[0]) + int(list_a[2]))\n",
    "    elif list_a[1] == '-':\n",
    "        print(int(list_a[0]) - int(list_a[2]))\n",
    "    elif list_a[1] == '*':\n",
    "        print(int(list_a[0]) * int(list_a[2]))\n",
    "    else:\n",
    "        print(int(list_a[0]) / int(list_a[2]))\n",
    "else:\n",
    "    print('잘못된 식입니다.')"
   ]
  },
  {
   "cell_type": "code",
   "execution_count": 49,
   "id": "300e9287",
   "metadata": {},
   "outputs": [
    {
     "name": "stdout",
     "output_type": "stream",
     "text": [
      "식을 입력하십시오(10 + 20) : 50 / 2\n",
      "25.0\n"
     ]
    }
   ],
   "source": [
    "input_b = input('식을 입력하십시오(10 + 20) : ')\n",
    "list_b = input_b.split()\n",
    "list_b_0 = int(list_b[0])\n",
    "list_b_2 = int(list_b[2])\n",
    "\n",
    "if list_b[1] in '+-*/':\n",
    "    if list_b[1] == '+':\n",
    "        print(list_b_0 + list_b_2)\n",
    "    elif list_b[1] == '-':\n",
    "        print(list_b_0 - list_b_2)\n",
    "    elif list_b[1] == '*':\n",
    "        print(list_b_0 * list_b_2)\n",
    "    else:\n",
    "        print(list_b_0 / list_b_2)"
   ]
  },
  {
   "cell_type": "code",
   "execution_count": 52,
   "id": "9e03d858",
   "metadata": {
    "scrolled": true
   },
   "outputs": [
    {
     "ename": "TypeError",
     "evalue": "exceptions must derive from BaseException",
     "output_type": "error",
     "traceback": [
      "\u001b[1;31m---------------------------------------------------------------------------\u001b[0m",
      "\u001b[1;31mTypeError\u001b[0m                                 Traceback (most recent call last)",
      "\u001b[1;32mC:\\Users\\Public\\Documents\\ESTsoft\\CreatorTemp/ipykernel_5928/2453076380.py\u001b[0m in \u001b[0;36m<module>\u001b[1;34m\u001b[0m\n\u001b[0;32m      4\u001b[0m     \u001b[1;32mpass\u001b[0m\u001b[1;33m\u001b[0m\u001b[1;33m\u001b[0m\u001b[0m\n\u001b[0;32m      5\u001b[0m \u001b[1;32melse\u001b[0m\u001b[1;33m:\u001b[0m\u001b[1;33m\u001b[0m\u001b[1;33m\u001b[0m\u001b[0m\n\u001b[1;32m----> 6\u001b[1;33m     \u001b[1;32mraise\u001b[0m \u001b[0mNotImplemented\u001b[0m\u001b[1;33m\u001b[0m\u001b[1;33m\u001b[0m\u001b[0m\n\u001b[0m",
      "\u001b[1;31mTypeError\u001b[0m: exceptions must derive from BaseException"
     ]
    }
   ],
   "source": [
    "a = 10\n",
    "\n",
    "if a == 0:\n",
    "    pass\n",
    "else:\n",
    "    raise NotImplemented"
   ]
  },
  {
   "cell_type": "code",
   "execution_count": 53,
   "id": "1e1e49c4",
   "metadata": {},
   "outputs": [
    {
     "name": "stdout",
     "output_type": "stream",
     "text": [
      "1\n",
      "[3, 4]\n",
      "[1, 2, 3, 4, 5, 6, 11, 12, 13]\n",
      "6\n",
      "[11, 12, 13, 11, 12, 13, 11, 12, 13]\n"
     ]
    }
   ],
   "source": [
    "# list => 여러 개의 자료가 저장된 오브젝트\n",
    "\n",
    "a_list = [1, 2, 3, 4, 5, 6]\n",
    "b_list = [11, 12, 13]\n",
    "\n",
    "print(a_list[0])\n",
    "print(a_list[2:4])\n",
    "print(a_list + b_list)\n",
    "print(len(a_list))\n",
    "print(b_list * 3)"
   ]
  },
  {
   "cell_type": "code",
   "execution_count": 54,
   "id": "622377d6",
   "metadata": {},
   "outputs": [
    {
     "name": "stdout",
     "output_type": "stream",
     "text": [
      "[1, 2, 3, 4, 5, 6, [11, 12, 13]]\n"
     ]
    }
   ],
   "source": [
    "# 리스트.append() : lsit의 마지막에 자료 추가, 기존의 자료 변경\n",
    "\n",
    "a_list.append(b_list)\n",
    "print(a_list)"
   ]
  },
  {
   "cell_type": "code",
   "execution_count": 63,
   "id": "4809e8b6",
   "metadata": {},
   "outputs": [
    {
     "name": "stdout",
     "output_type": "stream",
     "text": [
      "[1, 2, 3, 4, 5, 6, [11, 12, 13], 'test', 'test', 'test', 'test', 'test']\n"
     ]
    }
   ],
   "source": [
    "a_list.append('test')\n",
    "print(a_list)"
   ]
  },
  {
   "cell_type": "code",
   "execution_count": 64,
   "id": "eb5283c2",
   "metadata": {},
   "outputs": [
    {
     "name": "stdout",
     "output_type": "stream",
     "text": [
      "['삽입', 1, 2, 3, 4, 5, 6, [11, 12, 13], 'test', 'test', 'test', 'test', 'test']\n"
     ]
    }
   ],
   "source": [
    "# 리스트.insert(위치, 값) : 해당하는 위치에 값을 추가\n",
    "\n",
    "a_list.insert(0, '삽입')\n",
    "print(a_list)"
   ]
  },
  {
   "cell_type": "code",
   "execution_count": 66,
   "id": "1e9dcfb0",
   "metadata": {},
   "outputs": [
    {
     "name": "stdout",
     "output_type": "stream",
     "text": [
      "[1, 2, 3, 4, 5, 6]\n",
      "[1, 2, 3]\n"
     ]
    }
   ],
   "source": [
    "list_a = [1, 2, 3]\n",
    "list_b = [4, 5 ,6]\n",
    "\n",
    "print(list_a + list_b) # => 결과는 출력, list_a의 값을 변경하지 않음.\n",
    "print(list_a)"
   ]
  },
  {
   "cell_type": "code",
   "execution_count": 67,
   "id": "219d65bc",
   "metadata": {},
   "outputs": [
    {
     "name": "stdout",
     "output_type": "stream",
     "text": [
      "list_a.extend(list_b) [1, 2, 3, 4, 5, 6]\n"
     ]
    }
   ],
   "source": [
    "# list_a에 각 요소의 자료를 리스트의 요소로 추가 후, list_a의 값 변경 => 리스트.extend(리스트)\n",
    "\n",
    "list_a.extend(list_b)\n",
    "print('list_a.extend(list_b)', list_a)"
   ]
  },
  {
   "cell_type": "code",
   "execution_count": 70,
   "id": "e219a25b",
   "metadata": {},
   "outputs": [
    {
     "name": "stdout",
     "output_type": "stream",
     "text": [
      "[1, 2, 3, 4]\n",
      "[1, 2, 3, 5]\n",
      "[1, 2]\n"
     ]
    }
   ],
   "source": [
    "# 리스트 요소 삽입 : append(), insert(), extend()\n",
    "# 리스트 요소 제거 : del, pop(삭제할 인덱스)\n",
    "\n",
    "list_a = [1, 2, 3, 4, 5]\n",
    "list_a.pop(4)\n",
    "print(list_a)\n",
    "\n",
    "list_a = [1, 2, 3, 4, 5]\n",
    "del list_a[3]\n",
    "print(list_a)\n",
    "\n",
    "list_a = [1, 2, 3, 4, 5]\n",
    "del list_a[2:5]\n",
    "print(list_a)"
   ]
  },
  {
   "cell_type": "code",
   "execution_count": 71,
   "id": "def91dfd",
   "metadata": {},
   "outputs": [
    {
     "name": "stdout",
     "output_type": "stream",
     "text": [
      "[1, 3, 4, 5]\n"
     ]
    }
   ],
   "source": [
    "# 요소의 값으로 제거 : 리스트.remove(값)\n",
    "\n",
    "list_a = [1, 2, 3, 4, 5]\n",
    "list_a.remove(2)\n",
    "print(list_a)"
   ]
  },
  {
   "cell_type": "code",
   "execution_count": 73,
   "id": "e5508419",
   "metadata": {},
   "outputs": [
    {
     "name": "stdout",
     "output_type": "stream",
     "text": [
      "[]\n"
     ]
    }
   ],
   "source": [
    "# 요소 값 모두 제거 : 리스트.clear()\n",
    "\n",
    "list_a = [1, 2, 3, 4, 5]\n",
    "list_a.clear()\n",
    "print(list_a)"
   ]
  },
  {
   "cell_type": "code",
   "execution_count": 75,
   "id": "9aca8f69",
   "metadata": {},
   "outputs": [
    {
     "ename": "NameError",
     "evalue": "name 'list_a' is not defined",
     "output_type": "error",
     "traceback": [
      "\u001b[1;31m---------------------------------------------------------------------------\u001b[0m",
      "\u001b[1;31mNameError\u001b[0m                                 Traceback (most recent call last)",
      "\u001b[1;32mC:\\Users\\Public\\Documents\\ESTsoft\\CreatorTemp/ipykernel_5928/114888407.py\u001b[0m in \u001b[0;36m<module>\u001b[1;34m\u001b[0m\n\u001b[0;32m      1\u001b[0m \u001b[0mlist_a\u001b[0m \u001b[1;33m=\u001b[0m \u001b[1;33m[\u001b[0m\u001b[1;36m1\u001b[0m\u001b[1;33m,\u001b[0m \u001b[1;36m2\u001b[0m\u001b[1;33m,\u001b[0m \u001b[1;36m3\u001b[0m\u001b[1;33m,\u001b[0m \u001b[1;36m4\u001b[0m\u001b[1;33m,\u001b[0m \u001b[1;36m5\u001b[0m\u001b[1;33m]\u001b[0m\u001b[1;33m\u001b[0m\u001b[1;33m\u001b[0m\u001b[0m\n\u001b[0;32m      2\u001b[0m \u001b[1;32mdel\u001b[0m \u001b[0mlist_a\u001b[0m\u001b[1;33m\u001b[0m\u001b[1;33m\u001b[0m\u001b[0m\n\u001b[1;32m----> 3\u001b[1;33m \u001b[0mprint\u001b[0m\u001b[1;33m(\u001b[0m\u001b[0mlist_a\u001b[0m\u001b[1;33m)\u001b[0m\u001b[1;33m\u001b[0m\u001b[1;33m\u001b[0m\u001b[0m\n\u001b[0m",
      "\u001b[1;31mNameError\u001b[0m: name 'list_a' is not defined"
     ]
    }
   ],
   "source": [
    "# del.리스트 = 리스트 자체를 제거. clear() 처럼 []를 남기지 않고 list 자체를 제거\n",
    "\n",
    "list_a = [1, 2, 3, 4, 5]\n",
    "del list_a \n",
    "print(list_a)"
   ]
  },
  {
   "cell_type": "code",
   "execution_count": 77,
   "id": "08292c3f",
   "metadata": {},
   "outputs": [
    {
     "name": "stdout",
     "output_type": "stream",
     "text": [
      "True\n",
      "True\n"
     ]
    }
   ],
   "source": [
    "# 리스트 내부에 요소가 있는지 확인 : 값 in 리스트\n",
    "\n",
    "list_a = [23, 56, 78, 45]\n",
    "print(78 in list_a)\n",
    "\n",
    "list_b = ['a', 'b', 10, 20]\n",
    "print('a' in list_b)"
   ]
  },
  {
   "cell_type": "code",
   "execution_count": 82,
   "id": "2f570626",
   "metadata": {},
   "outputs": [
    {
     "name": "stdout",
     "output_type": "stream",
     "text": [
      "23\n",
      "56\n",
      "78\n",
      "45\n",
      "H e l l o   w e l c o m e ! ! \n",
      "H\te\tl\tl\to\t \tw\te\tl\tc\to\tm\te\t!\t!\t\n"
     ]
    }
   ],
   "source": [
    "# 반복문 : for 요소 in 반복자료:\n",
    "\n",
    "for item in list_a:\n",
    "    print(item)\n",
    "    \n",
    "    \n",
    "for char in \"Hello welcome!!\":\n",
    "    print(char, end=' ')\n",
    "print()\n",
    "\n",
    "for char in \"Hello welcome!!\":\n",
    "    print(char, end='\\t')\n",
    "print()"
   ]
  },
  {
   "cell_type": "code",
   "execution_count": 83,
   "id": "b955e82d",
   "metadata": {},
   "outputs": [
    {
     "name": "stdout",
     "output_type": "stream",
     "text": [
      "0\n",
      "1\n",
      "2\n",
      "3\n",
      "4\n"
     ]
    }
   ],
   "source": [
    "# range(숫자) 함수 : 0부터 숫자 전까지의 값을 반환\n",
    "\n",
    "for i in range(5):\n",
    "    print(i)"
   ]
  },
  {
   "cell_type": "code",
   "execution_count": 89,
   "id": "cfa0b116",
   "metadata": {},
   "outputs": [
    {
     "name": "stdout",
     "output_type": "stream",
     "text": [
      "숫자 5개를 입력하십시오 : 10 20 30 40 50\n",
      "150\n"
     ]
    }
   ],
   "source": [
    "# 키보드에서 숫자 5개를 입력받아 리스트에 저장한 후, 입력된 수의 합을 구하시오.\n",
    "\n",
    "input_data = input('숫자 5개를 입력하십시오 : ').split()\n",
    "\n",
    "total = 0\n",
    "for i in input_data:\n",
    "    total += int(i)\n",
    "print(total)"
   ]
  },
  {
   "cell_type": "code",
   "execution_count": 110,
   "id": "c854e667",
   "metadata": {},
   "outputs": [
    {
     "name": "stdout",
     "output_type": "stream",
     "text": [
      "1\n",
      "2\n",
      "3\n",
      "4\n",
      "5\n",
      "6\n",
      "7\n",
      "8\n",
      "9\n"
     ]
    }
   ],
   "source": [
    "# 159p 4번 문제.\n",
    "\n",
    "list_of_list = [[1, 2, 3], [4, 5, 6, 7], [8, 9]]\n",
    "\n",
    "for i in list_of_list:\n",
    "    for item in i:\n",
    "        print(item)"
   ]
  },
  {
   "cell_type": "code",
   "execution_count": 108,
   "id": "c453c913",
   "metadata": {},
   "outputs": [
    {
     "name": "stdout",
     "output_type": "stream",
     "text": [
      "[[1, 4, 7], [2, 5, 8], [3, 6, 9]]\n"
     ]
    }
   ],
   "source": [
    "# 159p 5번 문제.\n",
    "\n",
    "numbers = [1, 2, 3, 4, 5, 6, 7, 8, 9]\n",
    "output = [[], [], []]\n",
    "\n",
    "for number in numbers:\n",
    "    # 리스트.append() = [oo, oo, 추가], 리스트[].append() = [[추가], [추가], [추가]]\n",
    "    output[number % 3 - 1].append(number)\n",
    "    \n",
    "print(output)\n",
    "\n",
    "# 실행결과 : [[1, 4, 7], [2, 5, 8], [3, 6, 9]]"
   ]
  },
  {
   "cell_type": "code",
   "execution_count": 111,
   "id": "75b411ec",
   "metadata": {},
   "outputs": [
    {
     "name": "stdout",
     "output_type": "stream",
     "text": [
      "어벤저스 앤드게임\n",
      "앤드게임\n"
     ]
    }
   ],
   "source": [
    "# 딕셔너리 : 키와 값으로 구성된 자료형\n",
    "# dict_a = {키:값, 키1:값1, ...}\n",
    "# dict_a[키] -> 값을 가져옴\n",
    "\n",
    "dict_a = {'name':'어벤저스 앤드게임', 'type':'히어로 무비'}\n",
    "\n",
    "# 'name'의 값 어벤저스 앤드게임을 출력\n",
    "\n",
    "print(dict_a['name'])\n",
    "print(dict_a['name'][5:])"
   ]
  },
  {
   "cell_type": "code",
   "execution_count": 120,
   "id": "40762e4a",
   "metadata": {},
   "outputs": [
    {
     "name": "stdout",
     "output_type": "stream",
     "text": [
      "조 루소\n",
      "\n",
      "['아이언맨', '타노스', '토르', '닥터스트레인지', '헐크']\n",
      "아이언맨\n",
      "타노스\n",
      "토르\n",
      "닥터스트레인지\n",
      "헐크\n",
      "\n",
      "아이언맨\n",
      "타노스\n",
      "토르\n",
      "닥터스트레인지\n",
      "헐크\n",
      "\n",
      "안소니 루소\t조 루소\t\n",
      "아이언맨\t타노스\t토르\t닥터스트레인지\t헐크\t\n"
     ]
    }
   ],
   "source": [
    "# 딕셔너리의 값이 리스트(키는 리스트 불가)\n",
    "\n",
    "dict_b = {\n",
    "    'director':['안소니 루소', '조 루소'], 'cast':['아이언맨', '타노스', '토르', \n",
    "                                                  '닥터스트레인지', '헐크']\n",
    "}\n",
    "\n",
    "print(dict_b['director'][1])\n",
    "print()\n",
    "\n",
    "# cast 명을 모두 출력\n",
    "# 아이언맨\n",
    "# 타노스\n",
    "# ...\n",
    "\n",
    "print(dict_b['cast'])\n",
    "print(dict_b['cast'][0])\n",
    "print(dict_b['cast'][1])\n",
    "print(dict_b['cast'][2])\n",
    "print(dict_b['cast'][3])\n",
    "print(dict_b['cast'][4])\n",
    "print()\n",
    "\n",
    "for item in dict_b['cast']:\n",
    "    print(item)\n",
    "print()\n",
    "    \n",
    "# 안소니 루소\\t 조 루소\n",
    "# 아이언맨\\t 타노스\\t ...헐크\\n\n",
    "\n",
    "for key in dict_b:\n",
    "    for item in dict_b[key]:\n",
    "        print(item, end='\\t')\n",
    "    print()"
   ]
  },
  {
   "cell_type": "code",
   "execution_count": 124,
   "id": "c18077c0",
   "metadata": {},
   "outputs": [
    {
     "ename": "SyntaxError",
     "evalue": "invalid syntax (CreatorTemp/ipykernel_5928/105427124.py, line 15)",
     "output_type": "error",
     "traceback": [
      "\u001b[1;36m  File \u001b[1;32m\"C:\\Users\\Public\\Documents\\ESTsoft\\CreatorTemp/ipykernel_5928/105427124.py\"\u001b[1;36m, line \u001b[1;32m15\u001b[0m\n\u001b[1;33m    print(for key in dict_b)\u001b[0m\n\u001b[1;37m          ^\u001b[0m\n\u001b[1;31mSyntaxError\u001b[0m\u001b[1;31m:\u001b[0m invalid syntax\n"
     ]
    }
   ],
   "source": [
    "# dict에 값 추가 : dict[새로운 키] = 새로운 값\n",
    "\n",
    "dict_b['money'] = [1000, 2000, 3000]\n",
    "print(dict_b)\n",
    "print()\n",
    "\n",
    "# 값 제거 : del dict[키]\n",
    "\n",
    "del dict_b['money']\n",
    "print(dict_b)\n",
    "print()\n",
    "\n",
    "'money' in dict_b"
   ]
  },
  {
   "cell_type": "code",
   "execution_count": 129,
   "id": "ad497e33",
   "metadata": {},
   "outputs": [],
   "source": [
    "dict_c = {\n",
    "    'name':'7D 건조 망고',\n",
    "    'type':'당절임',\n",
    "    'ingredient':['망고', '설탕', '메타중아황산나트륨', '치자황색소'],\n",
    "    'origin':'필리핀'\n",
    "}"
   ]
  },
  {
   "cell_type": "code",
   "execution_count": 130,
   "id": "67c7f252",
   "metadata": {},
   "outputs": [
    {
     "name": "stdout",
     "output_type": "stream",
     "text": [
      "key 입력 입력\n",
      "키입력 오류\n"
     ]
    }
   ],
   "source": [
    "key = input('key 입력 ')\n",
    "if key in dict_c:\n",
    "    print(dict_c[key])\n",
    "else:\n",
    "    print('키입력 오류')"
   ]
  },
  {
   "cell_type": "code",
   "execution_count": 132,
   "id": "256477bf",
   "metadata": {},
   "outputs": [
    {
     "name": "stdout",
     "output_type": "stream",
     "text": [
      "key 입력 af\n",
      "값 :  None\n"
     ]
    }
   ],
   "source": [
    "#get(키) -> 딕셔너리의 값을 반환, 없으면 None 을 반환\n",
    "\n",
    "key = input('key 입력 ')\n",
    "\n",
    "value = dict_c.get(key)\n",
    "print('값 : ', value)"
   ]
  },
  {
   "cell_type": "code",
   "execution_count": null,
   "id": "c942eb6b",
   "metadata": {},
   "outputs": [],
   "source": [
    "print()"
   ]
  },
  {
   "cell_type": "code",
   "execution_count": 136,
   "id": "7476eb10",
   "metadata": {},
   "outputs": [
    {
     "name": "stdout",
     "output_type": "stream",
     "text": [
      "name : 7D 건조 망고\n",
      "type : 당절임\n",
      "ingredient : ['망고', '설탕', '메타중아황산나트륨', '치자황색소']\n",
      "origin : 필리핀\n",
      "\n",
      "get 함수 사용 값을 가져옴 :  7D 건조 망고\n",
      "get 함수 사용 값을 가져옴 :  당절임\n",
      "get 함수 사용 값을 가져옴 :  ['망고', '설탕', '메타중아황산나트륨', '치자황색소']\n",
      "get 함수 사용 값을 가져옴 :  필리핀\n"
     ]
    }
   ],
   "source": [
    "for key, value in dict_c.items():\n",
    "    print('{} : {}'.format(key, value))\n",
    "print()\n",
    "\n",
    "for key in dict_c:\n",
    "    print('get 함수 사용 값을 가져옴 : ', dict_c.get(key))\n",
    "    "
   ]
  },
  {
   "cell_type": "code",
   "execution_count": 160,
   "id": "aa41108f",
   "metadata": {
    "scrolled": false
   },
   "outputs": [
    {
     "name": "stdout",
     "output_type": "stream",
     "text": [
      "<class 'str'>\n",
      "<class 'str'>\n",
      "<class 'list'>\n",
      "<class 'str'>\n",
      "\n",
      "origin\n",
      "origin\n",
      "origin\n",
      "origin\n"
     ]
    }
   ],
   "source": [
    "dict_c = {'name':'7D 건조 망고', 'type':'당절임', 'ingredient':['망고', '설탕', '메타중아황산나트륨', '치자황색소'], 'origin':'필리핀'}\n",
    "\n",
    "# 각 자료의 데이터 타입을 출력\n",
    "# 데이터 타입이 리스트이면 리스트에 각 요소를 출력\n",
    "\n",
    "for key, value in dict_c.items():\n",
    "    print(type(value))\n",
    "print()    \n",
    "\n",
    "for key, value in dict_c.items():\n",
    "    if type(value) == list:\n",
    "        for itme in value:\n",
    "            print(item)\n",
    "        \n",
    "    \n"
   ]
  },
  {
   "cell_type": "code",
   "execution_count": 162,
   "id": "bec1cda5",
   "metadata": {},
   "outputs": [],
   "source": [
    "# 1. 딕셔너리의 자료를 하나씩 가져온다\n",
    "# 2. 가져온 자료의 데이터 타입을 출력한다\n",
    "# 3. 자료의 타입이 리스트이면 리스트의 각 요소를 가져온다\n",
    "# 4. 가져온 리스트의 요소를 출력한다"
   ]
  },
  {
   "cell_type": "code",
   "execution_count": 172,
   "id": "02e0eac5",
   "metadata": {
    "scrolled": true
   },
   "outputs": [
    {
     "name": "stdout",
     "output_type": "stream",
     "text": [
      "# 우리 동네 애완 동물들\n",
      " 구름 5살\n",
      " 초코 3살\n",
      " 아지 1살\n",
      " 호랑이 1살\n"
     ]
    }
   ],
   "source": [
    "# 171p 2번\n",
    "\n",
    "pets = [\n",
    "    {'name':'구름', 'age': 5},\n",
    "    {'name':'초코', 'age': 3},\n",
    "    {'name':'아지', 'age': 1},\n",
    "    {'name':'호랑이', 'age': 1}\n",
    "]\n",
    "\n",
    "print('# 우리 동네 애완 동물들')\n",
    "# 구름 5살\n",
    "# 초코 3살 ...\n",
    "\n",
    "\n",
    "# 1. 딕셔너리의 자료를 하나씩 가져온다\n",
    "# 2. 딕셔너리의 데이터만 출력한다\n",
    "\n",
    "for item in pets:\n",
    "    for key, value in item.items():\n",
    "        print(' {}'.format(value), end='')\n",
    "    print('살', end='\\n')"
   ]
  },
  {
   "cell_type": "code",
   "execution_count": 173,
   "id": "e4c22ef4",
   "metadata": {},
   "outputs": [],
   "source": [
    "# 리스트의 자료를 하나씩 가져온다. : 1\n",
    "# 가져온 number의 값이 딕셔너리의 키외 값에 있는지 확인\n",
    "# 없으면 숫자의 갯수를 구해 딕셔너리에 추가한다.\n",
    "# 있으면 다음 자료를 가져옴"
   ]
  },
  {
   "cell_type": "code",
   "execution_count": 1,
   "id": "b695eeb9",
   "metadata": {},
   "outputs": [
    {
     "name": "stdout",
     "output_type": "stream",
     "text": [
      "{1: 3, 2: 1, 3: 5, 5: 4, 9: 2, 8: 2, 4: 2, 6: 2, 7: 1}\n"
     ]
    }
   ],
   "source": [
    "# 172p 3번\n",
    "\n",
    "numbers = [1, 2, 3, 5, 1, 5, 9, 8, 4, 6, 5, 3, 1, 5 ,7, 8, 3, 6, 4, 3, 3, 9]\n",
    "counter = {}\n",
    "\n",
    "for number in numbers:\n",
    "    if number in counter:\n",
    "        pass\n",
    "    else:\n",
    "        count = 0\n",
    "        for check_num in numbers:\n",
    "            if number == check_num:\n",
    "                count += 1\n",
    "        counter[number] = count\n",
    "print(counter)"
   ]
  },
  {
   "cell_type": "code",
   "execution_count": 197,
   "id": "a7fe7cb3",
   "metadata": {
    "scrolled": true
   },
   "outputs": [
    {
     "name": "stdout",
     "output_type": "stream",
     "text": [
      "name : 기사\n",
      "level : 12\n",
      "sword : 불꽃의 검\n",
      "armor : 풀플레이트\n",
      "skill : 베기\n",
      "skill : 세게 베기\n",
      "skill : 아주 세게 베기\n"
     ]
    }
   ],
   "source": [
    "# 173p 4번\n",
    "\n",
    "character = {\n",
    "    \"name\": \"기사\",\n",
    "    \"level\": 12,\n",
    "    \"items\": {\n",
    "        \"sword\": \"불꽃의 검\",\n",
    "        \"armor\": \"풀플레이트\"\n",
    "    },\n",
    "    \"skill\": [\"베기\", \"세게 베기\", \"아주 세게 베기\"]\n",
    "}\n",
    "\n",
    "for key, value in character.items():\n",
    "    if type(value) == str or type(value) == int:\n",
    "        print(key, ':', value)\n",
    "    elif type(value) == list:\n",
    "        for item in value:\n",
    "            print(key, ':', item)\n",
    "    else:\n",
    "        for item_key, item_value in value.items():\n",
    "            print(item_key, ':', item_value)"
   ]
  },
  {
   "cell_type": "code",
   "execution_count": 191,
   "id": "fd1c1a10",
   "metadata": {
    "scrolled": true
   },
   "outputs": [
    {
     "name": "stdout",
     "output_type": "stream",
     "text": [
      "0 : 40\n",
      "1 : 50\n",
      "2 : 60\n",
      "3 : 70\n",
      "total :  220\n",
      "\n",
      "3 : 70\n",
      "2 : 60\n",
      "1 : 50\n",
      "0 : 40\n",
      "\n",
      "1\n",
      "3\n",
      "5\n",
      "7\n",
      "9\n"
     ]
    }
   ],
   "source": [
    "# for과 range() 함수 사용하기\n",
    "\n",
    "array = [40, 50, 60, 70]\n",
    "\n",
    "total = 0\n",
    "for i in range(len(array)):\n",
    "    total += array[i]\n",
    "    print('{} : {}'.format(i, array[i]))\n",
    "print('total : ', total)\n",
    "print()\n",
    "\n",
    "\n",
    "for i in reversed(range(len(array))):\n",
    "    print('{} : {}'.format(i, array[i]))\n",
    "print()\n",
    "\n",
    "for i in range(1, 10, 2): # 1부터 10까지 2씩 증가시켜라\n",
    "    print(i)"
   ]
  },
  {
   "cell_type": "code",
   "execution_count": 196,
   "id": "26429610",
   "metadata": {},
   "outputs": [
    {
     "name": "stdout",
     "output_type": "stream",
     "text": [
      "임의의 숫자 : 1 2 3 4 5\n",
      "num_list :  [1, 2, 3, 4, 5]\n",
      "total :  15\n"
     ]
    }
   ],
   "source": [
    "# 키보드에서 임의의 숫자를 입력받아 리스트에 저장 후, 저장된 숫자의 총합을 구하시오\n",
    "\n",
    "input_data = input('임의의 숫자 : ').split()\n",
    "\n",
    "num_list = []\n",
    "\n",
    "for i in input_data:\n",
    "    num_list.append(int(i))\n",
    "print('num_list : ', num_list)\n",
    "\n",
    "total = 0\n",
    "for num in num_list:\n",
    "    total += num\n",
    "print('total : ', total)"
   ]
  },
  {
   "cell_type": "code",
   "execution_count": 198,
   "id": "8f502612",
   "metadata": {},
   "outputs": [],
   "source": [
    "# 문) 키보드에서 이름과 성젹을 입력받아 딕셔너리에 저장(총 10명)\n",
    "#  이름이 딕셔너리에 키, 점수가 값으로 저장\n",
    "# 총인원수, 평균을 구하세요"
   ]
  },
  {
   "cell_type": "code",
   "execution_count": 201,
   "id": "3e7e471c",
   "metadata": {
    "scrolled": false
   },
   "outputs": [
    {
     "name": "stdout",
     "output_type": "stream",
     "text": [
      "이름과 성적을 입력 : aa 50\n",
      "이름과 성적을 입력 : bb 30\n",
      "이름과 성적을 입력 : cc 80\n",
      "이름과 성적을 입력 : dd 50\n",
      "이름과 성적을 입력 : ee 90\n",
      "이름과 성적을 입력 : ff 60\n",
      "이름과 성적을 입력 : gg 10\n",
      "이름과 성적을 입력 : hh 80\n",
      "이름과 성적을 입력 : ii 70\n",
      "이름과 성적을 입력 : jj 100\n",
      "score_dict :  {'aa': 50, 'bb': 30, 'cc': 80, 'dd': 50, 'ee': 90, 'ff': 60, 'gg': 10, 'hh': 80, 'ii': 70, 'jj': 100}\n",
      "total :  620\n"
     ]
    }
   ],
   "source": [
    "# input()을 사용하여 이름과 성적을 입력\n",
    "# 입력받은 이름과 성적을 딕셔너리에 저장\n",
    "\n",
    "score_dict = {}\n",
    "\n",
    "for i in range(10):\n",
    "    input_data = input('이름과 성적을 입력 : ').split()\n",
    "    name = input_data[0]\n",
    "    score = int(input_data[1])\n",
    "    score_dict[name] = score\n",
    "print()\n",
    "\n",
    "print('score_dict : ', score_dict)\n",
    "print()\n",
    "\n",
    "total = 0\n",
    "for value in score_dict.values():\n",
    "    total += value\n",
    "print('total : ', total)\n",
    "print()\n",
    "\n",
    "print('총인원수 : ', len(score_dict))\n",
    "print()\n",
    "\n",
    "print('평균 : ', total / len(score_dict))"
   ]
  },
  {
   "cell_type": "code",
   "execution_count": 204,
   "id": "920de8c9",
   "metadata": {},
   "outputs": [
    {
     "name": "stdout",
     "output_type": "stream",
     "text": [
      "이름과 성적을 입력 : a 20\n",
      "이름과 성적을 입력 : d 50\n",
      "이름과 성적을 입력 : s 30\n",
      "\n",
      "score_dict :  {'a': 20, 'd': 50, 's': 30}\n",
      "\n",
      "20\n",
      "50\n",
      "30\n"
     ]
    }
   ],
   "source": [
    "score_dict = {}\n",
    "\n",
    "for i in range(3):\n",
    "    input_data = input('이름과 성적을 입력 : ').split()\n",
    "    name = input_data[0]\n",
    "    score = int(input_data[1])\n",
    "    score_dict[name] = score\n",
    "print()\n",
    "\n",
    "print('score_dict : ', score_dict)\n",
    "print()\n",
    "\n",
    "for key in score_dict:\n",
    "    print(score_dict[key])"
   ]
  }
 ],
 "metadata": {
  "kernelspec": {
   "display_name": "Python 3 (ipykernel)",
   "language": "python",
   "name": "python3"
  },
  "language_info": {
   "codemirror_mode": {
    "name": "ipython",
    "version": 3
   },
   "file_extension": ".py",
   "mimetype": "text/x-python",
   "name": "python",
   "nbconvert_exporter": "python",
   "pygments_lexer": "ipython3",
   "version": "3.9.7"
  }
 },
 "nbformat": 4,
 "nbformat_minor": 5
}
