{
 "cells": [
  {
   "cell_type": "markdown",
   "id": "15785a94",
   "metadata": {},
   "source": [
    "# numpy의 ndarray - 다차원 행렬 구조\n",
    "\n",
    "클래스 numpy. ndarray ( shape , dtype = float , buffer = None , offset = 0 , strides = None , order = None )\n",
    "\n",
    "배열 개체는 고정 크기 항목의 다차원 동종 배열을 나타냅니다. \n",
    "\n",
    "연관된 데이터 유형 객체는 배열에 있는 각 요소의 형식 -\n",
    "    바이트 순서, 메모리에서 차지하는 바이트 수, 정수인지 부동 소수점 숫자인지 등을 설명합니다."
   ]
  },
  {
   "cell_type": "code",
   "execution_count": 33,
   "id": "66c32f78",
   "metadata": {},
   "outputs": [],
   "source": [
    "import numpy as np"
   ]
  },
  {
   "cell_type": "code",
   "execution_count": 42,
   "id": "6bc9df5e",
   "metadata": {},
   "outputs": [
    {
     "name": "stdout",
     "output_type": "stream",
     "text": [
      "<class 'numpy.ndarray'>\n",
      "<class 'numpy.ndarray'>\n",
      "<class 'numpy.ndarray'>\n",
      "<class 'numpy.ndarray'>\n"
     ]
    }
   ],
   "source": [
    "\n",
    "a = np.array([0,1,2,3,4,5,6,7,8,9])\n",
    "b = np.array([0.12 , 0.34, 0.45, 0.66])\n",
    "c = np.array(['a' , 'b' , 'c'])\n",
    "d = np.array([True, False, False, True, False, True, True])\n",
    "\n",
    "print(type(a))\n",
    "print(type(b))\n",
    "print(type(c))\n",
    "print(type(d))\n"
   ]
  },
  {
   "cell_type": "markdown",
   "id": "d6d95aa1",
   "metadata": {},
   "source": [
    "# Parameters(매개변수)\n",
    "    \n",
    "    #shape : 생성된 배열의 모양, int의 튜플\n",
    "    #dtype : 데이터 유형, numpy 데이터 유형으로 해석될 수 있는 모든 개체 / 선택사항\n",
    "    #buffer : 인터페이스를 노출하는 버퍼 객체, 배열을 데이터로 채우는 데 사용 / 선택사항\n",
    "    #offset : 버퍼에 있는 배열 데이터의 오프셋 / 선택사항\n",
    "    #strides : int 튜플, 메모리의 데이터 스트라이드 / 선택사항\n",
    "    #order : {'C', 'F'}, 행 우선(C) 또는 열 우선(F) / 선택사항\n"
   ]
  },
  {
   "cell_type": "code",
   "execution_count": 29,
   "id": "1aa64c3d",
   "metadata": {},
   "outputs": [
    {
     "name": "stdout",
     "output_type": "stream",
     "text": [
      "[[0.12 0.45]\n",
      " [0.34 0.66]]\n",
      "\n",
      "[1 2]\n"
     ]
    }
   ],
   "source": [
    "print(np.ndarray(shape=(2,2), dtype=float, order='F'))\n",
    "\n",
    "print()\n",
    "\n",
    "print(np.ndarray((2,), buffer=np.array([1,2,3]),\n",
    "           offset=np.int_(),\n",
    "           dtype=int)) "
   ]
  },
  {
   "cell_type": "code",
   "execution_count": 58,
   "id": "8fd3ec78",
   "metadata": {},
   "outputs": [
    {
     "name": "stdout",
     "output_type": "stream",
     "text": [
      "[0 1 2 3 4 5 6 7 8 9]\n",
      "<memory at 0x00000296ED54FAC0>\n",
      "float64\n",
      "  C_CONTIGUOUS : True\n",
      "  F_CONTIGUOUS : True\n",
      "  OWNDATA : True\n",
      "  WRITEABLE : True\n",
      "  ALIGNED : True\n",
      "  WRITEBACKIFCOPY : False\n",
      "  UPDATEIFCOPY : False\n",
      "\n",
      "<numpy.flatiter object at 0x00000296E885BF70>\n",
      "[0. 0. 0. 0.]\n",
      "[ True False False  True False  True  True]\n",
      "10\n",
      "4\n",
      "7\n",
      "1\n",
      "(10,)\n",
      "(4,)\n",
      "<numpy.core._internal._ctypes object at 0x00000296ED52F8E0>\n",
      "None\n"
     ]
    }
   ],
   "source": [
    "#np.ndarray.T - 전치된 배열입니다.\n",
    "print(a.T)\n",
    "\n",
    "#np.ndarray.data - 배열 데이터의 시작을 가리키는 Python 버퍼 객체.\n",
    "print(c.data)\n",
    "\n",
    "#np.ndarray.dtype - 배열 요소의 데이터 유형입니다.\n",
    "print(b.dtype)\n",
    "\n",
    "#np.ndarray.flags - 어레이의 메모리 레이아웃에 대한 정보입니다.\n",
    "print(d.flags)\n",
    "\n",
    "#np.ndarray.flat - 배열에 대한 1차원 반복기입니다.\n",
    "print(a.flat)\n",
    "\n",
    "#np.ndarray.imag - 배열의 허수 부분입니다.\n",
    "print(b.imag)\n",
    "\n",
    "#np.ndarray.real - 배열의 실제 부분입니다.\n",
    "print(d.real)\n",
    "\n",
    "#np.ndarray.size - 배열의 요소 수입니다.\n",
    "print(a.size)\n",
    "\n",
    "#np.ndarray.itemsize - 한 배열 요소의 길이(바이트)입니다.\n",
    "print(c.itemsize)\n",
    "\n",
    "#np.ndarray.nbytes - 배열의 요소에서 사용한 총 바이트입니다.\n",
    "print(d.nbytes)\n",
    "\n",
    "#np.ndarray.ndim - 배열 차원의 수입니다.\n",
    "print(b.ndim)\n",
    "\n",
    "#np.ndarray.shape - 배열 차원의 튜플.\n",
    "print(a.shape)\n",
    "\n",
    "#np.ndarray.strides - 배열을 순회할 때 각 차원에서 단계별로 수행할 바이트 튜플입니다.\n",
    "print(c.strides)\n",
    "\n",
    "#np.ndarray.ctypes - ctypes 모듈과 배열의 상호 작용을 단순화하는 개체입니다.\n",
    "print(a.ctypes)\n",
    "\n",
    "#np.ndarray.base - 메모리가 다른 개체에서 가져온 경우 기본 개체입니다\n",
    "print(d.base)"
   ]
  },
  {
   "cell_type": "code",
   "execution_count": 30,
   "id": "8722f7a8",
   "metadata": {},
   "outputs": [
    {
     "name": "stdout",
     "output_type": "stream",
     "text": [
      "1 1 1\n",
      "(10,) (4,) (3,)\n"
     ]
    }
   ],
   "source": [
    "#ndarray의 ndim과 shape 메소드 : \n",
    "    #머신러닝의 텐서 구조와 차원을 알아내는 것과 동일\n",
    "    \n",
    "print(a.ndim, b.ndim, c.ndim)\n",
    "print(a.shape, b.shape, c.shape)"
   ]
  }
 ],
 "metadata": {
  "kernelspec": {
   "display_name": "Python 3 (ipykernel)",
   "language": "python",
   "name": "python3"
  },
  "language_info": {
   "codemirror_mode": {
    "name": "ipython",
    "version": 3
   },
   "file_extension": ".py",
   "mimetype": "text/x-python",
   "name": "python",
   "nbconvert_exporter": "python",
   "pygments_lexer": "ipython3",
   "version": "3.9.7"
  }
 },
 "nbformat": 4,
 "nbformat_minor": 5
}
