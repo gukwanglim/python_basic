{
 "cells": [
  {
   "cell_type": "code",
   "execution_count": 2,
   "id": "9ed3c369",
   "metadata": {},
   "outputs": [
    {
     "name": "stdout",
     "output_type": "stream",
     "text": [
      "이름과 성적을 입력 : aa 10\n",
      "이름과 성적을 입력 : bb 50\n",
      "이름과 성적을 입력 : cc 60\n",
      "이름과 성적을 입력 : dd 80\n",
      "이름과 성적을 입력 : ee 60\n",
      "이름과 성적을 입력 : ff 55\n",
      "이름과 성적을 입력 : gg 95\n",
      "이름과 성적을 입력 : hh 100\n",
      "이름과 성적을 입력 : ii 80\n",
      "이름과 성적을 입력 : jj 40\n",
      "\n",
      "score_dict :  {'aa': 10, 'bb': 50, 'cc': 60, 'dd': 80, 'ee': 60, 'ff': 55, 'gg': 95, 'hh': 100, 'ii': 80, 'jj': 40}\n",
      "\n",
      "total :  630\n",
      "\n",
      "총인원수 :  10\n",
      "\n",
      "평균 :  63.0\n"
     ]
    }
   ],
   "source": [
    "score_dict = {}\n",
    "\n",
    "for i in range(10):\n",
    "    input_data = input('이름과 성적을 입력 : ').split()\n",
    "    name = input_data[0]\n",
    "    score = int(input_data[1])\n",
    "    score_dict[name] = score\n",
    "print()\n",
    "\n",
    "print('score_dict : ', score_dict)\n",
    "print()\n",
    "\n",
    "total = 0\n",
    "for value in score_dict.values():\n",
    "    total += value\n",
    "print('total : ', total)\n",
    "print()\n",
    "\n",
    "print('총인원수 : ', len(score_dict))\n",
    "print()\n",
    "\n",
    "print('평균 : ', total / len(score_dict))"
   ]
  }
 ],
 "metadata": {
  "kernelspec": {
   "display_name": "Python 3 (ipykernel)",
   "language": "python",
   "name": "python3"
  },
  "language_info": {
   "codemirror_mode": {
    "name": "ipython",
    "version": 3
   },
   "file_extension": ".py",
   "mimetype": "text/x-python",
   "name": "python",
   "nbconvert_exporter": "python",
   "pygments_lexer": "ipython3",
   "version": "3.9.7"
  }
 },
 "nbformat": 4,
 "nbformat_minor": 5
}
