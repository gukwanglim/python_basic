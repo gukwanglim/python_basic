{
 "cells": [
  {
   "cell_type": "markdown",
   "id": "cb6a8a3a",
   "metadata": {},
   "source": [
    "# 가비지 컬렉터\n",
    "### 더 사용할 가능성이 없는 데이터를 메모리에서 제거하는 역할\n",
    "### 예시 - 변수에 저장하지 않는 경우"
   ]
  },
  {
   "cell_type": "code",
   "execution_count": 2,
   "id": "575ec496",
   "metadata": {},
   "outputs": [
    {
     "name": "stdout",
     "output_type": "stream",
     "text": [
      "A - 생성\n",
      "A - 소멸\n",
      "B - 생성\n",
      "B - 소멸\n",
      "C - 생성\n"
     ]
    },
    {
     "data": {
      "text/plain": [
       "<__main__.Test at 0x236d911e5e0>"
      ]
     },
     "execution_count": 2,
     "metadata": {},
     "output_type": "execute_result"
    }
   ],
   "source": [
    "class Test:\n",
    "    def __init__(self, name):\n",
    "        self.name = name\n",
    "        print('{} - 생성'.format(self.name))\n",
    "    def __del__(self):\n",
    "        print('{} - 소멸'.format(self.name))\n",
    "        \n",
    "Test('A')\n",
    "Test('B')\n",
    "Test('C')"
   ]
  },
  {
   "cell_type": "markdown",
   "id": "2096099d",
   "metadata": {},
   "source": [
    "# 프라이빗 변수 : 클래스 내부에서만 접근 가능한 변수\n",
    "### 변수를 마음대로 사용하는 것을 방지\n",
    "### __<변수 이름> 형태로 인스턴스 변수 이름 선언"
   ]
  },
  {
   "cell_type": "code",
   "execution_count": 6,
   "id": "129943bb",
   "metadata": {},
   "outputs": [],
   "source": [
    "import math\n",
    "\n",
    "class Circle:\n",
    "    def __init__(self, radius):\n",
    "        self.radius = radius\n",
    "    \n",
    "    def get_circum(self):\n",
    "        return 2 * math.pi * self.radius\n",
    "    \n",
    "    def get_area(self):\n",
    "        return math.pi * (self.radius ** 2)\n",
    "    "
   ]
  },
  {
   "cell_type": "code",
   "execution_count": 7,
   "id": "08f33c21",
   "metadata": {},
   "outputs": [
    {
     "name": "stdout",
     "output_type": "stream",
     "text": [
      "원의 둘레 :  62.83185307179586\n",
      "원의 넓이 :  314.1592653589793\n",
      "10\n"
     ]
    }
   ],
   "source": [
    "circle = Circle(10)\n",
    "print('원의 둘레 : ', circle.get_circum())\n",
    "print('원의 넓이 : ', circle.get_area())\n",
    "print(circle.radius) "
   ]
  },
  {
   "cell_type": "code",
   "execution_count": 17,
   "id": "a6a8753e",
   "metadata": {},
   "outputs": [],
   "source": [
    "import math\n",
    "\n",
    "class Circle:\n",
    "    def __init__(self, radius):\n",
    "        self.__radius = radius                # 프라이빗 변수\n",
    "    \n",
    "    def get_circum(self):\n",
    "        return  math.pi * self.__radius * 2\n",
    "    \n",
    "    def get_area(self):\n",
    "        return math.pi * (self.__radius ** 2)\n",
    "    \n",
    "    # 게터 함수 정의\n",
    "    def get_radius(self):\n",
    "        return self.__radius\n",
    "    \n",
    "    # 세터 함수 정의\n",
    "    def set_radius(self, value):\n",
    "        self.__radius = value"
   ]
  },
  {
   "cell_type": "code",
   "execution_count": 18,
   "id": "a0d3d772",
   "metadata": {},
   "outputs": [
    {
     "name": "stdout",
     "output_type": "stream",
     "text": [
      "원의 둘레 :  62.83185307179586\n",
      "원의 넓이 :  314.1592653589793\n",
      "10\n",
      "원의 둘레 :  31.41592653589793\n",
      "원의 넓이 :  78.53981633974483\n"
     ]
    }
   ],
   "source": [
    "circle = Circle(10)\n",
    "print('원의 둘레 : ', circle.get_circum())\n",
    "print('원의 넓이 : ', circle.get_area())\n",
    "# print(circle.radius) # 프라이빗 변수는 외부에서 접근 불가\n",
    "print(circle.get_radius())\n",
    "\n",
    "# circle.radius = 20     # error\n",
    "\n",
    "circle.set_radius(5)\n",
    "print('원의 둘레 : ', circle.get_circum())\n",
    "print('원의 넓이 : ', circle.get_area())"
   ]
  },
  {
   "cell_type": "code",
   "execution_count": 19,
   "id": "9e5042f3",
   "metadata": {},
   "outputs": [],
   "source": [
    "import math\n",
    "\n",
    "class Circle:\n",
    "    def __init__(self, radius):\n",
    "        self.__radius = radius                # 프라이빗 변수\n",
    "    \n",
    "    def get_circum(self):\n",
    "        return  math.pi * self.__radius * 2\n",
    "    \n",
    "    def get_area(self):\n",
    "        return math.pi * (self.__radius ** 2)\n",
    "    \n",
    "    # 게터 함수 정의 : 데코레이터를 사용\n",
    "#     def get_radius(self):\n",
    "#         return self.__radius\n",
    "\n",
    "    @property\n",
    "    def radius(self):                                  # 게터 함수 def 뒤의 이름과\n",
    "        return self.__radius\n",
    "    \n",
    "    # 세터 함수 정의 : 데코레이터를 사용\n",
    "#     def set_radius(self, value):\n",
    "#         self.__radius = value\n",
    "\n",
    "    @radius.setter                                     # 세터 함수의 이름이 같아야한다.\n",
    "    def radius(self, value):\n",
    "        self.__radius = value"
   ]
  },
  {
   "cell_type": "code",
   "execution_count": 21,
   "id": "72f87ce0",
   "metadata": {},
   "outputs": [
    {
     "name": "stdout",
     "output_type": "stream",
     "text": [
      "원의 반지름 :  10\n",
      "원의 반지름 :  2\n"
     ]
    }
   ],
   "source": [
    "circle = Circle(10)\n",
    "print('원의 반지름 : ', circle.radius)             # get_radius() 를 쓸 필요 없이 바로 사용 가능\n",
    "\n",
    "circle.radius = 2\n",
    "print('원의 반지름 : ', circle.radius)"
   ]
  },
  {
   "cell_type": "markdown",
   "id": "a2f18a9f",
   "metadata": {},
   "source": [
    "# 상속\n",
    "### 다른 누군가가 만든 기본 형태에 내가 원하는 것만 교체"
   ]
  },
  {
   "cell_type": "code",
   "execution_count": 27,
   "id": "6fe3b296",
   "metadata": {},
   "outputs": [],
   "source": [
    "# class 클래스명(클래스명): -> ()안의 클래스명이 부모 \n",
    "\n",
    "class Parent:\n",
    "    def __init__(self):                                                # 1번으로 실행되고\n",
    "        self.value = '테스트'\n",
    "        print('Parent class __init__() __ 메서드 호출')\n",
    "    \n",
    "    def test(self):\n",
    "        print('Parent class test() 호출')                              # child.test()로 인해 실행 3번\n",
    "        \n",
    "class Child(Parent):                     # Parent class를 상속 받음\n",
    "    def __init__(self):\n",
    "        Parent.__init__(self)                                          # 실행 순서 1번\n",
    "        print('Chid class __init__() __ 메서드 호출')                  # 돌아와서 실행 순서 2번\n"
   ]
  },
  {
   "cell_type": "code",
   "execution_count": 28,
   "id": "0d941c6e",
   "metadata": {},
   "outputs": [
    {
     "name": "stdout",
     "output_type": "stream",
     "text": [
      "Parent class __init__() __ 메서드 호출\n",
      "Chid class __init__() __ 메서드 호출\n",
      "Parent class test() 호출\n",
      "테스트\n"
     ]
    }
   ],
   "source": [
    "child = Child()\n",
    "child.test()                    # = test() 호출\n",
    "print(child.value)"
   ]
  },
  {
   "cell_type": "code",
   "execution_count": 29,
   "id": "7fcab560",
   "metadata": {},
   "outputs": [],
   "source": [
    "# 클래스 상속 : 부모의 모든 변수와 함수를 상속\n",
    "# 부모의 함수명과 같으면 재정의(오버라이드) 된 상태로 자신의 함수 호출 \n",
    "\n",
    "class Parent:\n",
    "    def __init__(self):                                                # 1번으로 실행되고\n",
    "        self.value = '테스트'\n",
    "        print('Parent class __init__() __ 메서드 호출')\n",
    "    \n",
    "    def test(self):\n",
    "        print('Parent class test() 호출')\n",
    "        \n",
    "class Child(Parent):                     # Parent class를 상속 받음\n",
    "    def __init__(self):\n",
    "        Parent.__init__(self)                                          # 실행 순서 1번\n",
    "        print('Chid class __init__() __ 메서드 호출')                  # 돌아와서 실행 순서 2번\n",
    "        \n",
    "    def test(self):\n",
    "        print('Child class test() 호출')                           # 같은 이름이 있는 것 =  오버라이드\n"
   ]
  },
  {
   "cell_type": "code",
   "execution_count": 30,
   "id": "f429c695",
   "metadata": {},
   "outputs": [
    {
     "name": "stdout",
     "output_type": "stream",
     "text": [
      "Parent class __init__() __ 메서드 호출\n",
      "Chid class __init__() __ 메서드 호출\n",
      "Child class test() 호출\n",
      "테스트\n"
     ]
    }
   ],
   "source": [
    "child = Child()\n",
    "child.test()                    # = test() 호출\n",
    "print(child.value)                                  # 같은 test가 있으면 본인 출력"
   ]
  },
  {
   "cell_type": "code",
   "execution_count": 31,
   "id": "733f2dc9",
   "metadata": {},
   "outputs": [
    {
     "name": "stdout",
     "output_type": "stream",
     "text": [
      "Parent class __init__() __ 메서드 호출\n",
      "Chid class __init__() __ 메서드 호출\n",
      "Child class test() 호출\n",
      "테스트\n",
      "Parent class __init__() __ 메서드 호출\n",
      "Parent class test() 호출\n"
     ]
    }
   ],
   "source": [
    "child = Child()\n",
    "child.test()                    # = test() 호출\n",
    "print(child.value) \n",
    "parent = Parent()\n",
    "parent.test()"
   ]
  },
  {
   "cell_type": "code",
   "execution_count": null,
   "id": "f553c4cf",
   "metadata": {},
   "outputs": [],
   "source": []
  },
  {
   "cell_type": "code",
   "execution_count": null,
   "id": "baa71a38",
   "metadata": {},
   "outputs": [],
   "source": []
  },
  {
   "cell_type": "code",
   "execution_count": null,
   "id": "72f1234f",
   "metadata": {},
   "outputs": [],
   "source": []
  }
 ],
 "metadata": {
  "kernelspec": {
   "display_name": "Python 3 (ipykernel)",
   "language": "python",
   "name": "python3"
  },
  "language_info": {
   "codemirror_mode": {
    "name": "ipython",
    "version": 3
   },
   "file_extension": ".py",
   "mimetype": "text/x-python",
   "name": "python",
   "nbconvert_exporter": "python",
   "pygments_lexer": "ipython3",
   "version": "3.9.7"
  }
 },
 "nbformat": 4,
 "nbformat_minor": 5
}
