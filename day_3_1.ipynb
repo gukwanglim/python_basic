{
 "cells": [
  {
   "cell_type": "code",
   "execution_count": null,
   "id": "27480e1a",
   "metadata": {},
   "outputs": [],
   "source": [
    "# 매개변수 : 함수 호출 시 괄호 내부에 넣는 여러 가지 자료\n",
    "# 리턴값 : 함수를 호출하여 최종적으로 나오는 결과"
   ]
  },
  {
   "cell_type": "code",
   "execution_count": 5,
   "id": "19cb2c02",
   "metadata": {},
   "outputs": [],
   "source": [
    "# 함수 : def 함수명() : 코드를 정의\n",
    "\n",
    "def print_3_times():\n",
    "    print('Hello')\n",
    "    print('Hello')\n",
    "    print('Hello')\n",
    "    \n",
    "def print_n_times(value, n):   # n번 나오게 한다 = for 구문을 사용한다.\n",
    "    for i in range(n):\n",
    "        print(value)"
   ]
  },
  {
   "cell_type": "code",
   "execution_count": 6,
   "id": "0c798c6b",
   "metadata": {},
   "outputs": [
    {
     "name": "stdout",
     "output_type": "stream",
     "text": [
      "Hello\n",
      "Hello\n",
      "Hello\n",
      "\n",
      "test\n",
      "test\n"
     ]
    }
   ],
   "source": [
    "print_3_times()\n",
    "print()\n",
    "print_n_times('test', 2)"
   ]
  },
  {
   "cell_type": "code",
   "execution_count": 8,
   "id": "11c47e86",
   "metadata": {},
   "outputs": [],
   "source": [
    "# 함수의 가변 매개변수 : 가변 매개변수는 제일 마지막에 나열 (*변수명)\n",
    "\n",
    "def print_v_times(n, *values): # (n, value, ...)\n",
    "    for i in range(n):\n",
    "        for value in values:\n",
    "            print(value)\n",
    "        print()"
   ]
  },
  {
   "cell_type": "code",
   "execution_count": 10,
   "id": "af67e486",
   "metadata": {},
   "outputs": [
    {
     "name": "stdout",
     "output_type": "stream",
     "text": [
      "test\n",
      "hello\n",
      "list\n",
      "\n",
      "test\n",
      "hello\n",
      "list\n",
      "\n",
      "test\n",
      "hello\n",
      "list\n",
      "\n"
     ]
    }
   ],
   "source": [
    "print_v_times(3, 'test', 'hello', 'list')"
   ]
  },
  {
   "cell_type": "code",
   "execution_count": 11,
   "id": "8025e8b9",
   "metadata": {},
   "outputs": [],
   "source": [
    "# 기본 매개변수 (매개변수의 값이 입력되지 않으면 기본값으로 처리)\n",
    "\n",
    "def print_b_times(value, n=2):\n",
    "    for i in range(n):\n",
    "        print(value)"
   ]
  },
  {
   "cell_type": "code",
   "execution_count": 13,
   "id": "d207c0fa",
   "metadata": {},
   "outputs": [
    {
     "name": "stdout",
     "output_type": "stream",
     "text": [
      "Hello!!\n",
      "Hello!!\n",
      "\n",
      "test\n",
      "test\n",
      "test\n"
     ]
    }
   ],
   "source": [
    "print_b_times('Hello!!') # n = 2가 실행이 된다.\n",
    "print()\n",
    "\n",
    "print_b_times('test', 3) # n에 다른 것을 넣어주면 그대로 실행된다."
   ]
  },
  {
   "cell_type": "code",
   "execution_count": 14,
   "id": "d2076ea5",
   "metadata": {},
   "outputs": [],
   "source": [
    "# 키워드 매개변수 (기본과 가변이 공존할 때, 기본을 키워드 매개변수라고 한다.)\n",
    "# 이러한 키워드 매개변수는 가변 매개변수보다 뒤에 들어간다.\n",
    "\n",
    "def print_key_times(n=2, *values):\n",
    "    for i in range(n):\n",
    "        for value in values:\n",
    "            print(value)\n",
    "        print()"
   ]
  },
  {
   "cell_type": "code",
   "execution_count": 15,
   "id": "49447871",
   "metadata": {},
   "outputs": [
    {
     "ename": "TypeError",
     "evalue": "'str' object cannot be interpreted as an integer",
     "output_type": "error",
     "traceback": [
      "\u001b[1;31m---------------------------------------------------------------------------\u001b[0m",
      "\u001b[1;31mTypeError\u001b[0m                                 Traceback (most recent call last)",
      "\u001b[1;32mC:\\Users\\Public\\Documents\\ESTsoft\\CreatorTemp/ipykernel_15356/1800763192.py\u001b[0m in \u001b[0;36m<module>\u001b[1;34m\u001b[0m\n\u001b[1;32m----> 1\u001b[1;33m \u001b[0mprint_key_times\u001b[0m\u001b[1;33m(\u001b[0m\u001b[1;34m'test'\u001b[0m\u001b[1;33m,\u001b[0m \u001b[1;34m'123'\u001b[0m\u001b[1;33m)\u001b[0m\u001b[1;33m\u001b[0m\u001b[1;33m\u001b[0m\u001b[0m\n\u001b[0m",
      "\u001b[1;32mC:\\Users\\Public\\Documents\\ESTsoft\\CreatorTemp/ipykernel_15356/3893270210.py\u001b[0m in \u001b[0;36mprint_key_times\u001b[1;34m(n, *values)\u001b[0m\n\u001b[0;32m      2\u001b[0m \u001b[1;33m\u001b[0m\u001b[0m\n\u001b[0;32m      3\u001b[0m \u001b[1;32mdef\u001b[0m \u001b[0mprint_key_times\u001b[0m\u001b[1;33m(\u001b[0m\u001b[0mn\u001b[0m\u001b[1;33m=\u001b[0m\u001b[1;36m2\u001b[0m\u001b[1;33m,\u001b[0m \u001b[1;33m*\u001b[0m\u001b[0mvalues\u001b[0m\u001b[1;33m)\u001b[0m\u001b[1;33m:\u001b[0m\u001b[1;33m\u001b[0m\u001b[1;33m\u001b[0m\u001b[0m\n\u001b[1;32m----> 4\u001b[1;33m     \u001b[1;32mfor\u001b[0m \u001b[0mi\u001b[0m \u001b[1;32min\u001b[0m \u001b[0mrange\u001b[0m\u001b[1;33m(\u001b[0m\u001b[0mn\u001b[0m\u001b[1;33m)\u001b[0m\u001b[1;33m:\u001b[0m\u001b[1;33m\u001b[0m\u001b[1;33m\u001b[0m\u001b[0m\n\u001b[0m\u001b[0;32m      5\u001b[0m         \u001b[1;32mfor\u001b[0m \u001b[0mvalue\u001b[0m \u001b[1;32min\u001b[0m \u001b[0mvalues\u001b[0m\u001b[1;33m:\u001b[0m\u001b[1;33m\u001b[0m\u001b[1;33m\u001b[0m\u001b[0m\n\u001b[0;32m      6\u001b[0m             \u001b[0mprint\u001b[0m\u001b[1;33m(\u001b[0m\u001b[0mvalue\u001b[0m\u001b[1;33m)\u001b[0m\u001b[1;33m\u001b[0m\u001b[1;33m\u001b[0m\u001b[0m\n",
      "\u001b[1;31mTypeError\u001b[0m: 'str' object cannot be interpreted as an integer"
     ]
    }
   ],
   "source": [
    "print_key_times('test', '123') # 이처럼 키워드 매개변수가 앞에 나오게 된다면 Error가 뜬다."
   ]
  },
  {
   "cell_type": "code",
   "execution_count": 16,
   "id": "2645240e",
   "metadata": {},
   "outputs": [],
   "source": [
    "def print_key_times(*values, n=2): # 이렇게 키워드 매개변수가 뒤쪽으로 빠지면 수행이 가능하다.\n",
    "    for i in range(n):\n",
    "        for value in values:\n",
    "            print(value)\n",
    "        print()"
   ]
  },
  {
   "cell_type": "code",
   "execution_count": 18,
   "id": "25b2642a",
   "metadata": {},
   "outputs": [
    {
     "name": "stdout",
     "output_type": "stream",
     "text": [
      "test\n",
      "123\n",
      "\n",
      "test\n",
      "123\n",
      "\n",
      "test\n",
      "123\n",
      "\n",
      "\n",
      "\n",
      "hello\n",
      "wow\n",
      "\n",
      "hello\n",
      "wow\n",
      "\n"
     ]
    }
   ],
   "source": [
    "print_key_times('test', '123', n=3)\n",
    "print()\n",
    "print()\n",
    "print_key_times('hello', 'wow')"
   ]
  },
  {
   "cell_type": "code",
   "execution_count": null,
   "id": "49ea0fc1",
   "metadata": {},
   "outputs": [],
   "source": [
    "# 함수의 매개변수 : 일반, 기본, 가변\n",
    "# 나열 순서는 '가변 - 기본(키워드)' 순서 혹은 '일반 - 가변' 의 순서로 된다."
   ]
  },
  {
   "cell_type": "code",
   "execution_count": 19,
   "id": "5ef03608",
   "metadata": {},
   "outputs": [],
   "source": [
    "# 기본 매개변수 활용\n",
    "\n",
    "def func_a(a, b=10, c=100):\n",
    "    print(a + b + c)"
   ]
  },
  {
   "cell_type": "code",
   "execution_count": 20,
   "id": "61f86491",
   "metadata": {},
   "outputs": [
    {
     "name": "stdout",
     "output_type": "stream",
     "text": [
      "60\n",
      "\n",
      "220\n",
      "\n",
      "350\n",
      "\n",
      "240\n"
     ]
    }
   ],
   "source": [
    "func_a(10, 20, 30) # 10 + 20 + 30, .split(',')\n",
    "print()\n",
    "\n",
    "func_a(a=10, c=200) # 10 + 20 + 200\n",
    "print()\n",
    "\n",
    "func_a(c=200, a=100, b=50) # 100 + 50 + 200\n",
    "print()\n",
    "\n",
    "func_a(30, c=200) # 30 + 10 + 200"
   ]
  },
  {
   "cell_type": "code",
   "execution_count": 22,
   "id": "e756f5fc",
   "metadata": {},
   "outputs": [
    {
     "name": "stdout",
     "output_type": "stream",
     "text": [
      "100\n"
     ]
    }
   ],
   "source": [
    "# return 이 있는 함수\n",
    "\n",
    "def return_func():\n",
    "    return 100\n",
    "    print('return_func exe') # return 아래에 있으므로 실행 안됨\n",
    "\n",
    "print(return_func())"
   ]
  },
  {
   "cell_type": "code",
   "execution_count": 24,
   "id": "9e71f77e",
   "metadata": {},
   "outputs": [],
   "source": [
    "def comp_func(num1, buho, num2):\n",
    "# 계산식 출력\n",
    "    if buho == '+':\n",
    "        result = num1 + num2\n",
    "    elif buho == '-':\n",
    "        result = num1 - num2\n",
    "    elif buho == '*':\n",
    "        result = num1 * num2\n",
    "    else:\n",
    "        result = num1 / num2\n",
    "    return result"
   ]
  },
  {
   "cell_type": "code",
   "execution_count": 25,
   "id": "dab27640",
   "metadata": {},
   "outputs": [
    {
     "name": "stdout",
     "output_type": "stream",
     "text": [
      "계산식 입력 (예: 10 + 20), 종료:'q'10 + 20\n",
      "10 + 20 = 30\n",
      "계산식 입력 (예: 10 + 20), 종료:'q'q\n",
      "프로그램 종료\n"
     ]
    }
   ],
   "source": [
    "while True:\n",
    "    input_data = input(\"계산식 입력 (예: 10 + 20), 종료:'q'\").split()\n",
    "    if input_data[0] == 'q': # 'q'가 입력되면 종료\n",
    "        break\n",
    "    if len(input_data) < 3:  # 입력된 데이터가 3개 미만이면 계속 입력\n",
    "        continue\n",
    "    # 처음과 마지막 자료가 숫자가 아니면 다시 입력\n",
    "    if not input_data[0].isdigit() or not input_data[2].isdigit():\n",
    "        continue\n",
    "    # 부호가 '+-/'가 아니면 다시 입력\n",
    "    if not input_data[1] in '+-/':\n",
    "        continue\n",
    "    result = comp_func(int(input_data[0]), input_data[1], int(input_data[2]))\n",
    "    print(\"{} {} {} = {}\".format(int(input_data[0]), input_data[1], int(input_data[2]), result))\n",
    "    \n",
    "\n",
    "print(\"프로그램 종료\")"
   ]
  },
  {
   "cell_type": "code",
   "execution_count": 29,
   "id": "4b640fe2",
   "metadata": {},
   "outputs": [],
   "source": [
    "# 이름과 성벅을 입력받아 딕셔너리에 저장하는 함수 작성\n",
    "# 검색하고자 하는 이름 입력\n",
    "# 저장된 리스트의 성적을 출력\n",
    "# 입력함수, 검색함수, 결과 출력\n",
    "\n",
    "def input_data():\n",
    "    student = {}\n",
    "    while True:\n",
    "        input_data = input(\"이름 성적 입력 (종료는 'q'): \").split()\n",
    "        if input_data[0] == 'q':\n",
    "            break\n",
    "        elif len(input_data) < 2:\n",
    "            continue\n",
    "        elif not input_data[1].isdigit():\n",
    "            continue\n",
    "        student[input_data[0]] = int(input_data[1])\n",
    "    return student\n",
    "\n",
    "def search_data(student):\n",
    "    search_name = input('검색할 이름 입력 : ')\n",
    "    for key in student:\n",
    "        if key == search_name:\n",
    "            return key\n",
    "    return"
   ]
  },
  {
   "cell_type": "code",
   "execution_count": 30,
   "id": "28608d6b",
   "metadata": {},
   "outputs": [
    {
     "name": "stdout",
     "output_type": "stream",
     "text": [
      "이름 성적 입력 (종료는 'q'): a 50\n",
      "이름 성적 입력 (종료는 'q'): c 60\n",
      "이름 성적 입력 (종료는 'q'): b 80\n",
      "이름 성적 입력 (종료는 'q'): e 60\n",
      "이름 성적 입력 (종료는 'q'): q\n",
      "검색할 이름 입력 : a\n",
      "a : 50\n"
     ]
    }
   ],
   "source": [
    "student = input_data()\n",
    "key = search_data(student)\n",
    "if key:\n",
    "    print('{} : {}'.format(key, student[key]))\n",
    "else:\n",
    "    print('검색하고자 하는 이름이 존재하지 않음')"
   ]
  },
  {
   "cell_type": "code",
   "execution_count": null,
   "id": "4dedabaf",
   "metadata": {},
   "outputs": [],
   "source": [
    "# 이름과 국어 영어 수학 점수를 입력받아 딕셔너리에 저장 후, (key는 이름으로)\n",
    "# 각 과목별 평균\n",
    "# 개인별 총점과 평균을 구해서 자료에 추가하세요\n",
    "# 마지막 결과 출력"
   ]
  },
  {
   "cell_type": "code",
   "execution_count": null,
   "id": "93961f53",
   "metadata": {},
   "outputs": [],
   "source": [
    "# 1. 최종적으로 실행해야하는 구문\n",
    "\n",
    "input_data_1() # 이름과 각 과목 점수를 입력받아 딕셔너리에 저장\n",
    "total_data() # 각 과목별 평균을 위해서(평균 구하기까지는 힘들고 총합까지)\n",
    "input_updata_data() # 개인별 총점과 평균 구하기\n",
    "\n",
    "# 이것들이 끝나면 마지막 결과 출력 (2번으로)"
   ]
  },
  {
   "cell_type": "code",
   "execution_count": 2,
   "id": "01223d7d",
   "metadata": {},
   "outputs": [],
   "source": [
    "# 2. 이름과 성적을 입력받아 딕셔너리에 저장하는 함수 지정\n",
    "def input_data_1():\n",
    "    \n",
    "    # 빈 딕셔너리 만들기\n",
    "    student = {}\n",
    "    \n",
    "    # input을 이용하여 이름과 성적을 입력\n",
    "    while True:\n",
    "        input_data = input(\"이름, 국어, 영어, 수학 입력 (종료는 'q'): \").split()\n",
    "        if input_data[0] == 'q':\n",
    "            print('시스템을 종료합니다.')\n",
    "            break\n",
    "        elif len(input_data) < 4:\n",
    "            print('이름과 국어, 영어, 수학 점수를 빠짐없이 입력해주세요')\n",
    "            continue\n",
    "        elif not (input_data[1].isdigit() and input_data[2].isdigit()\n",
    "                  and input_data[3].isdigit()): # 여기 일단 다름\n",
    "            print('성적란에는 숫자만 입력해주세요')\n",
    "            continue\n",
    "        \n",
    "        # 입력받은 내용을 가지고 개인이 가진 점수를 리스트로\n",
    "        score = []\n",
    "        for i in range(3): # 국어, 영어, 수학 3개\n",
    "            \n",
    "            # score 는 점수로 사용하는 것이므로 int로 바꿔주는 것이 좋다.\n",
    "            score.append(int(input_data[i + 1])) # score 리스트에 이름을 제외한 점수를 입력\n",
    "           \n",
    "        # 이름과 리스트를 딕셔너리로 변환\n",
    "        student[input_data[0]] = score\n",
    "        \n",
    "    # student 라는 이름으로 반환\n",
    "    return student\n",
    "\n",
    "# input_data_1() 함수 설정 완료 (3번으로)"
   ]
  },
  {
   "cell_type": "code",
   "execution_count": 23,
   "id": "5b531ad2",
   "metadata": {},
   "outputs": [
    {
     "name": "stdout",
     "output_type": "stream",
     "text": [
      "이름, 국어, 영어, 수학 입력 (종료는 'q'): a 50 60 80 \n",
      "이름, 국어, 영어, 수학 입력 (종료는 'q'): b 80 90 60\n",
      "이름, 국어, 영어, 수학 입력 (종료는 'q'): c 100 20 50\n",
      "이름, 국어, 영어, 수학 입력 (종료는 'q'): q\n",
      "시스템을 종료합니다.\n",
      "{'a': [50, 60, 80], 'b': [80, 90, 60], 'c': [100, 20, 50]}\n"
     ]
    }
   ],
   "source": [
    "# 3. input_data_1() 함수가 제대로 작동하는지 확인\n",
    "\n",
    "student = input_data_1()\n",
    "# 이렇게하면 student(위 함수에 나오는 student와는 무관)에 함수를 대입\n",
    "# input_data_1()에 input() 이 있으므로 학생의 이름과 점수를 입력\n",
    "\n",
    "# print()를 이용하여 일단 함수 확인\n",
    "print(student)\n",
    "\n",
    "# 문제가 없음을 확인했으면 1-1번으로 넘어가 print() 부분을 지우고 작성"
   ]
  },
  {
   "cell_type": "code",
   "execution_count": 11,
   "id": "d48dd0f8",
   "metadata": {},
   "outputs": [],
   "source": [
    "# 4. 각 과목별 평균을 구하는 함수 지정\n",
    "\n",
    "# 필요한 것은 각 학생의 국어 점수의 합, 영어 점수의 합, 수학 점수의 합\n",
    "def total_data(student):\n",
    "    \n",
    "    # 각 과목의 점수의 합을 만들기 위해 비어있는 리스트를 만든다.\n",
    "    total =[[], [], []] \n",
    "    \n",
    "    # student는 딕셔너리기 때문에 value값을 가져와야한다.\n",
    "    for name, score in student.items(): \n",
    "        for i in range(3):\n",
    "            \n",
    "            # 국어 점수는 (0, 0), (1, 0), (2, 0)\n",
    "            # 영어 점수는 (0, 1), (1, 1), (2, 1)\n",
    "            # 수학 점수는 (0, 2), (1, 2), (2, 2) 가 들어가야 하므로,\n",
    "            total[i].append(int(score[i]))\n",
    "    \n",
    "    # 함수가 끝났으니 return으로 total 값을 반환\n",
    "    return total\n",
    "            \n",
    "# 함수 설정 완료. 하지만 평균까지 구하지는 못하고 각 과목의 총합만 구할 수 있음 \n",
    "# 즉, 평균은 함수 밖에서 구해야 함 (5번으로)"
   ]
  },
  {
   "cell_type": "code",
   "execution_count": 24,
   "id": "ae0f1ff0",
   "metadata": {
    "scrolled": true
   },
   "outputs": [
    {
     "name": "stdout",
     "output_type": "stream",
     "text": [
      "[[50, 80, 100], [60, 90, 20], [80, 60, 50]]\n",
      "\n",
      "230\n",
      "76.66666666666667\n",
      "\n",
      "170\n",
      "56.666666666666664\n",
      "\n",
      "190\n",
      "63.333333333333336\n",
      "\n",
      "국어의 총합 : {}, 국어 평균 : {}\n",
      "\n",
      "국어의 총합 : {}, 국어 평균 : {}\n",
      "\n",
      "국어의 총합 : {}, 국어 평균 : {}\n",
      "\n",
      "국어의 총합 : 230, 국어의 평균 : 76.66666666666667\n",
      "영어의 총합 : 170, 영어의 평균 : 56.666666666666664\n",
      "수학의 총합 : 190, 수학의 평균 : 63.333333333333336\n"
     ]
    }
   ],
   "source": [
    "# 5. total_data() 함수가 제대로 작동하는지 확인\n",
    "\n",
    "total = total_data(student) # 여기서 student는 3번에서 받은 입력이다.\n",
    "\n",
    "# total이 리스트로 나오는지 확인\n",
    "print(total)\n",
    "print()\n",
    "\n",
    "# total 리스트를 가지고 각 과목별 총합과 평균 구하기\n",
    "\n",
    "# for 함수를 사용하기 위해 range()를 사용\n",
    "for i in range(len(total)): \n",
    "    print(sum(total[i]))\n",
    "    print(sum(total[i]) / len(total))\n",
    "    print()\n",
    "    \n",
    "# 각 과목의 총합과 평균을 구할 수 있다는 사실을 알았으니까 이것을 보기 좋게 만든다.\n",
    "for i in range(len(total)):\n",
    "    print(\"국어의 총합 : {}, 국어 평균 : {}\") # 이런 식으로 만들고 싶은데 이러면 많이 만들어야한다\n",
    "    print()\n",
    "    \n",
    "# format을 사용하기 위해 리스트를 만든다.\n",
    "test_title = ['국어', '영어', '수학'] \n",
    "\n",
    "for i in range(len(total)):\n",
    "    print('{0}의 총합 : {1}, {0}의 평균 : {2}'.format(test_title[i], sum(total[i]),\n",
    "                                               sum(total[i]) / len(total)))\n",
    "    \n",
    "# 문제가 없음을 확인했으면 1-1번으로 돌아가 필요한 부분을 작성한다."
   ]
  },
  {
   "cell_type": "code",
   "execution_count": 41,
   "id": "0bddb886",
   "metadata": {},
   "outputs": [],
   "source": [
    "# 6. 개인별 총점과 평균을 구해 자료에 추가하는 함수 지정\n",
    "\n",
    "# 딕셔너리 하나에 한 명의 이름과 그 학생의 점수가 한 번에 들어있으므로 key와 value를 둘 다 사용\n",
    "def input_updata_data(student):\n",
    "    for key, value in student.items():\n",
    "        count = len(value)\n",
    "        total = sum(value)\n",
    "        value.append(total)          # 한 학생의 성적 리스트에 총합 점수를 입력\n",
    "        value.append(round(total / count, 2))  # 한 학생의 성적 리스트에 평균을 입력\n",
    "    return student                             # 여기서 round(입력값, 자릿수) 는 '입력값'의 소수점\n",
    "                                               # 자리수를 '자릿수' 만큼만 나오게 하는 것\n",
    "# 함수 설정 완료. 7번으로 넘어가 문제가 있는지 확인"
   ]
  },
  {
   "cell_type": "code",
   "execution_count": 40,
   "id": "7766f68b",
   "metadata": {},
   "outputs": [
    {
     "name": "stdout",
     "output_type": "stream",
     "text": [
      "이름, 국어, 영어, 수학, 합계, 평균 :  {'a': [50, 80, 90, 220, 73.33333333333333, 513.3333333333334, 102.67, 1129.3366666666668, 2258.6733333333336, 282.3341666666667], 'b': [50, 60, 80, 190, 63.333333333333336, 443.3333333333333, 88.67, 975.3366666666666, 139.33380952380952], 'c': [100, 50, 90, 240, 80.0, 560.0, 112.0, 1232.0, 176.0], 'd': [80, 90, 60, 230, 76.66666666666667, 536.6666666666666, 107.33, 1180.6633333333332, 168.66619047619045]}\n"
     ]
    }
   ],
   "source": [
    "# 7. input_updata_data() 함수가 제대로 작동하는지 확인\n",
    "\n",
    "student = input_updata_data(student)\n",
    "print('이름, 국어, 영어, 수학, 합계, 평균 : ', student)\n",
    "\n",
    "# 다시 1-1번으로 돌아가 작성"
   ]
  },
  {
   "cell_type": "code",
   "execution_count": 43,
   "id": "4b852afa",
   "metadata": {},
   "outputs": [
    {
     "name": "stdout",
     "output_type": "stream",
     "text": [
      "이름, 국어, 영어, 수학 입력 (종료는 'q'): a 50 70 80\n",
      "이름, 국어, 영어, 수학 입력 (종료는 'q'): b 100 20 90\n",
      "이름, 국어, 영어, 수학 입력 (종료는 'q'): c 40 70 100\n",
      "이름, 국어, 영어, 수학 입력 (종료는 'q'): d 60 50 80\n",
      "이름, 국어, 영어, 수학 입력 (종료는 'q'): e 70 50 80\n",
      "이름, 국어, 영어, 수학 입력 (종료는 'q'): q\n",
      "시스템을 종료합니다.\n",
      "\n",
      "국어의 총점 : 320, 국어의 평균 : 64.00\n",
      "영어의 총점 : 260, 영어의 평균 : 52.00\n",
      "수학의 총점 : 430, 수학의 평균 : 86.00\n",
      "\n",
      "이름, 국어, 영어, 수학, 합계, 평균 :  {'a': [50, 70, 80, 200, 66.67], 'b': [100, 20, 90, 210, 70.0], 'c': [40, 70, 100, 210, 70.0], 'd': [60, 50, 80, 190, 63.33], 'e': [70, 50, 80, 200, 66.67]}\n"
     ]
    }
   ],
   "source": [
    "# 1-1. 함수 확인이 끝나고 다시 돌아와 필요한 부분만 작성\n",
    "\n",
    "student = input_data_1() # 필요한 부분만 작성 (4번으로)\n",
    "print()\n",
    "\n",
    "total = total_data(student)\n",
    "test_title = ['국어', '영어', '수학']\n",
    "\n",
    "for i in range(len(total)):\n",
    "    print('{0}의 총점 : {1}, {0}의 평균 : {2:3.2f}'.format(test_title[i], sum(total[i]),\n",
    "                                               sum(total[i]) / len(student))) # 작성 완료 (6번으로)\n",
    "print()\n",
    "\n",
    "student = input_updata_data(student)\n",
    "print('이름, 국어, 영어, 수학, 합계, 평균 : ', student)\n",
    "\n",
    "# 완료"
   ]
  },
  {
   "cell_type": "code",
   "execution_count": null,
   "id": "a36aa379",
   "metadata": {},
   "outputs": [],
   "source": []
  },
  {
   "cell_type": "code",
   "execution_count": null,
   "id": "2a37062d",
   "metadata": {},
   "outputs": [],
   "source": []
  },
  {
   "cell_type": "code",
   "execution_count": null,
   "id": "934d0669",
   "metadata": {},
   "outputs": [],
   "source": []
  },
  {
   "cell_type": "code",
   "execution_count": null,
   "id": "9bdba462",
   "metadata": {},
   "outputs": [],
   "source": []
  },
  {
   "cell_type": "code",
   "execution_count": null,
   "id": "cbb1896b",
   "metadata": {},
   "outputs": [],
   "source": []
  },
  {
   "cell_type": "code",
   "execution_count": null,
   "id": "9d6a6cce",
   "metadata": {},
   "outputs": [],
   "source": []
  },
  {
   "cell_type": "code",
   "execution_count": null,
   "id": "0af71ce3",
   "metadata": {},
   "outputs": [],
   "source": [
    "def input_data_1():\n",
    "    student = {}\n",
    "    while True:\n",
    "        input_data = input(\"이름 성적 입력 (종료는 'q'): \").split()\n",
    "        if input_data[0] == 'q':\n",
    "            break\n",
    "        elif len(input_data) < 4:\n",
    "            continue\n",
    "        elif not input_data[1].isdigit():\n",
    "            continue\n",
    "        score = []\n",
    "        for i in range(3):\n",
    "            score.append(int(input_data[i+1]))\n",
    "        student[input_data[0]] = score\n",
    "    return student\n",
    "\n",
    "def total_data(student):\n",
    "    total = [[],[],[]]  # 각 과목의 점수 리스트\n",
    "    for key, values in student.items():\n",
    "        for i in range(3):\n",
    "            total[i].append(values[i])\n",
    "#         print(total)\n",
    "#     print(total)\n",
    "    return total\n",
    "\n",
    "def input_update_data(student):\n",
    "    for key, values in student.items():\n",
    "        cnt = len(vlaues)\n",
    "        tot = sum(values)\n",
    "        values.append(tot) \n",
    "        values.append(sum(values)/cnt)\n",
    "    return student"
   ]
  },
  {
   "cell_type": "code",
   "execution_count": null,
   "id": "094be817",
   "metadata": {},
   "outputs": [],
   "source": [
    "student = input_data_1()\n",
    "print(student)\n",
    "\n",
    "total = total_data_1(student)\n",
    "title_name = ['국어', '영어', '수학']\n",
    "\n",
    "for i in range(len(total)):\n",
    "    print('{} 총합 : {}, 평균 : {:3.2f}'.format(title_name[i], sum(total[i]),\n",
    "                                            sum(total[i])/len(total)))\n",
    "studnet = input_updata_data(student)\n",
    "print(student)"
   ]
  }
 ],
 "metadata": {
  "kernelspec": {
   "display_name": "Python 3 (ipykernel)",
   "language": "python",
   "name": "python3"
  },
  "language_info": {
   "codemirror_mode": {
    "name": "ipython",
    "version": 3
   },
   "file_extension": ".py",
   "mimetype": "text/x-python",
   "name": "python",
   "nbconvert_exporter": "python",
   "pygments_lexer": "ipython3",
   "version": "3.9.7"
  }
 },
 "nbformat": 4,
 "nbformat_minor": 5
}
