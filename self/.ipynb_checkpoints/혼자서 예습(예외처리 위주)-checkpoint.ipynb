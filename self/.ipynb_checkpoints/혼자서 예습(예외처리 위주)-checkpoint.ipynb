{
 "cells": [
  {
   "cell_type": "code",
   "execution_count": 11,
   "id": "ebdc664b",
   "metadata": {},
   "outputs": [
    {
     "name": "stdout",
     "output_type": "stream",
     "text": [
      "[1, 2, 4, 4, 5, 6, 8, 9]\n",
      "[9, 8, 6, 5, 4, 4, 2, 1]\n"
     ]
    }
   ],
   "source": [
    "a = [5, 8, 4, 2, 6, 4, 9, 1]\n",
    "\n",
    "a.sort()\n",
    "print(a)\n",
    "\n",
    "a.reverse()\n",
    "print(a)"
   ]
  },
  {
   "cell_type": "code",
   "execution_count": 17,
   "id": "7b410dca",
   "metadata": {},
   "outputs": [
    {
     "name": "stdout",
     "output_type": "stream",
     "text": [
      "<list_reverseiterator object at 0x000001DC0C4D9040>\n",
      "[6, 5, 4, 3, 2, 1]\n",
      "<list_reverseiterator object at 0x000001DC0C4D9040>\n"
     ]
    }
   ],
   "source": [
    "numbers = [1, 2, 3, 4, 5, 6]\n",
    "r_num = reversed(numbers)\n",
    "\n",
    "print(r_num)\n",
    "print(list(r_num))\n",
    "\n",
    "\n",
    "for i in r_num:\n",
    "    print('-', i)\n",
    "print(r_num)"
   ]
  },
  {
   "cell_type": "code",
   "execution_count": 21,
   "id": "abbb551e",
   "metadata": {},
   "outputs": [
    {
     "name": "stdout",
     "output_type": "stream",
     "text": [
      "D 지점 통과\n",
      "A 지점 통과\n",
      "1\n",
      "E 지점 통과\n",
      "B 지점 통과\n",
      "2\n",
      "F 지점 통과\n",
      "C 지점 통과\n"
     ]
    },
    {
     "ename": "StopIteration",
     "evalue": "",
     "output_type": "error",
     "traceback": [
      "\u001b[1;31m---------------------------------------------------------------------------\u001b[0m",
      "\u001b[1;31mStopIteration\u001b[0m                             Traceback (most recent call last)",
      "\u001b[1;32mC:\\Users\\Public\\Documents\\ESTsoft\\CreatorTemp/ipykernel_3640/806135327.py\u001b[0m in \u001b[0;36m<module>\u001b[1;34m\u001b[0m\n\u001b[0;32m     15\u001b[0m \u001b[0mprint\u001b[0m\u001b[1;33m(\u001b[0m\u001b[0mb\u001b[0m\u001b[1;33m)\u001b[0m\u001b[1;33m\u001b[0m\u001b[1;33m\u001b[0m\u001b[0m\n\u001b[0;32m     16\u001b[0m \u001b[0mprint\u001b[0m\u001b[1;33m(\u001b[0m\u001b[1;34m'F 지점 통과'\u001b[0m\u001b[1;33m)\u001b[0m\u001b[1;33m\u001b[0m\u001b[1;33m\u001b[0m\u001b[0m\n\u001b[1;32m---> 17\u001b[1;33m \u001b[0mc\u001b[0m \u001b[1;33m=\u001b[0m \u001b[0mnext\u001b[0m\u001b[1;33m(\u001b[0m\u001b[0moutput\u001b[0m\u001b[1;33m)\u001b[0m\u001b[1;33m\u001b[0m\u001b[1;33m\u001b[0m\u001b[0m\n\u001b[0m\u001b[0;32m     18\u001b[0m \u001b[0mprint\u001b[0m\u001b[1;33m(\u001b[0m\u001b[0mc\u001b[0m\u001b[1;33m)\u001b[0m\u001b[1;33m\u001b[0m\u001b[1;33m\u001b[0m\u001b[0m\n\u001b[0;32m     19\u001b[0m \u001b[1;33m\u001b[0m\u001b[0m\n",
      "\u001b[1;31mStopIteration\u001b[0m: "
     ]
    }
   ],
   "source": [
    "def test():\n",
    "    print('A 지점 통과')\n",
    "    yield 1\n",
    "    print('B 지점 통과')\n",
    "    yield 2\n",
    "    print('C 지점 통과')\n",
    "    \n",
    "output = test()\n",
    "\n",
    "print('D 지점 통과')\n",
    "a = next(output)\n",
    "print(a)\n",
    "print('E 지점 통과')\n",
    "b = next(output)\n",
    "print(b)\n",
    "print('F 지점 통과')\n",
    "c = next(output)\n",
    "print(c)\n",
    "\n",
    "print()\n",
    "next(output)"
   ]
  },
  {
   "cell_type": "code",
   "execution_count": 26,
   "id": "ae620caa",
   "metadata": {},
   "outputs": [
    {
     "name": "stdout",
     "output_type": "stream",
     "text": [
      "A 지점 통과\n",
      "5\n"
     ]
    }
   ],
   "source": [
    "def test():\n",
    "    print('A 지점 통과')\n",
    "    yield 5\n",
    "    print('B 지점 통과')\n",
    "    yield 2\n",
    "    print('C 지점 통과')\n",
    "    \n",
    "output = test()\n",
    "    \n",
    "\n",
    "a = next(output)\n",
    "print(a)"
   ]
  },
  {
   "cell_type": "code",
   "execution_count": 43,
   "id": "2afddbe0",
   "metadata": {},
   "outputs": [
    {
     "name": "stdout",
     "output_type": "stream",
     "text": [
      "정수 입력 > 5\n",
      "원의 반지름 :  5\n",
      "원의 둘레 :  31.400000000000002\n",
      "원의 넓이 :  78.5\n"
     ]
    }
   ],
   "source": [
    "# 기본 예외 처리\n",
    "\n",
    "a = input('정수 입력 > ')\n",
    "\n",
    "if a.isdigit():\n",
    "    b = int(a)\n",
    "    print('원의 반지름 : ', b)\n",
    "    print('원의 둘레 : ', 2 * 3.14 * b)\n",
    "    print('원의 넓이 : ', 3.14 * b ** 2)\n",
    "else:\n",
    "    print('정수를 입력하지 않았습니다.')"
   ]
  },
  {
   "cell_type": "code",
   "execution_count": 45,
   "id": "3ee638dc",
   "metadata": {},
   "outputs": [
    {
     "name": "stdout",
     "output_type": "stream",
     "text": [
      "정수 입력 > afd\n",
      "무엇인가 잘못되었습니다.\n"
     ]
    }
   ],
   "source": [
    "# try : 예외가 발생할 가능성이 있는 코드\n",
    "# except : 예외가 발생했을 때 실행할 코드\n",
    "\n",
    "try:\n",
    "    number_input_a = int(input('정수 입력 > ')) # 예외가 발생할 수 있는 구문\n",
    "    print('원의 반지름 : ', number_input_a)\n",
    "    print('원의 둘레 : ', 2 * 3.14 * number_input_a)\n",
    "    print('원의 넓이 : ', 3.14 * number_input_a ** 2)\n",
    "except:\n",
    "    print('무엇인가 잘못되었습니다.')"
   ]
  },
  {
   "cell_type": "code",
   "execution_count": 46,
   "id": "bd1bf506",
   "metadata": {},
   "outputs": [
    {
     "name": "stdout",
     "output_type": "stream",
     "text": [
      "정수 입력 > 5\n",
      "원의 반지름 :  5\n",
      "원의 둘레 :  31.400000000000002\n",
      "무엇인가 잘못되었습니다.\n"
     ]
    }
   ],
   "source": [
    "# 위와 같은 상황에서 7번 줄에 오타가 났을 경우\n",
    "\n",
    "try:\n",
    "    number_input_a = int(input('정수 입력 > ')) \n",
    "    print('원의 반지름 : ', number_input_a)\n",
    "    print('원의 둘레 : ', 2 * 3.14 * number_input_a)\n",
    "    print('원의 넓이 : ', 3.14 * number_input_a ** a)\n",
    "except:\n",
    "    print('무엇인가 잘못되었습니다.')"
   ]
  },
  {
   "cell_type": "code",
   "execution_count": 48,
   "id": "7c69d527",
   "metadata": {},
   "outputs": [
    {
     "name": "stdout",
     "output_type": "stream",
     "text": [
      "['52', '273', '32', '스파이', '103'] 내부에 있는 숫자는\n",
      "['52', '273', '32', '103']입니다.\n"
     ]
    }
   ],
   "source": [
    "list_a = ['52', '273', '32', '스파이', '103']\n",
    "\n",
    "list_num = []\n",
    "for item in list_a:\n",
    "    try:\n",
    "        float(item)\n",
    "        list_num.append(item)\n",
    "    except:\n",
    "        pass\n",
    "    \n",
    "print('{} 내부에 있는 숫자는'.format(list_a))\n",
    "print('{}입니다.'.format(list_num))"
   ]
  },
  {
   "cell_type": "code",
   "execution_count": 57,
   "id": "8d2eda72",
   "metadata": {},
   "outputs": [
    {
     "name": "stdout",
     "output_type": "stream",
     "text": [
      "정수 입력 > 5\n",
      "원의 반지름 :  5\n",
      "원의 둘레 :  31.400000000000002\n",
      "원의 넓이 :  78.5\n",
      "예외가 발생하지 않았습니다.\n",
      "end.\n"
     ]
    }
   ],
   "source": [
    "try:\n",
    "    number_input_a = int(input('정수 입력 > ')) \n",
    "    print('원의 반지름 : ', number_input_a)\n",
    "    print('원의 둘레 : ', 2 * 3.14 * number_input_a)\n",
    "    print('원의 넓이 : ', 3.14 * number_input_a ** 2)\n",
    "except:\n",
    "    print('무엇인가 잘못되었습니다.')\n",
    "else:\n",
    "    print('예외가 발생하지 않았습니다.') # 예외가 발생하지 않았을 때 코드를 실행\n",
    "finally:\n",
    "    print('end.') # 무조건 실행할 코드"
   ]
  },
  {
   "cell_type": "code",
   "execution_count": 56,
   "id": "cd5c70ed",
   "metadata": {},
   "outputs": [
    {
     "name": "stdout",
     "output_type": "stream",
     "text": [
      "정수 입력 > af\n",
      "무엇인가 잘못되었습니다.\n",
      "end.\n"
     ]
    }
   ],
   "source": [
    "try:\n",
    "    number_input_a = int(input('정수 입력 > ')) \n",
    "    print('원의 반지름 : ', number_input_a)\n",
    "    print('원의 둘레 : ', 2 * 3.14 * number_input_a)\n",
    "    print('원의 넓이 : ', 3.14 * number_input_a ** 2)\n",
    "except:\n",
    "    print('무엇인가 잘못되었습니다.')\n",
    "else:\n",
    "    print('예외가 발생하지 않았습니다.') # 예외가 발생하지 않았을 때 코드를 실행\n",
    "finally:\n",
    "    print('end.') # 무조건 실행할 코드"
   ]
  },
  {
   "cell_type": "code",
   "execution_count": 55,
   "id": "7081aa64",
   "metadata": {},
   "outputs": [
    {
     "name": "stdout",
     "output_type": "stream",
     "text": [
      "정수 입력 > 5\n",
      "원의 반지름 :  5\n",
      "원의 둘레 :  31.400000000000002\n",
      "무엇인가 잘못되었습니다.\n",
      "end.\n"
     ]
    }
   ],
   "source": [
    "try:\n",
    "    number_input_a = int(input('정수 입력 > ')) \n",
    "    print('원의 반지름 : ', number_input_a)\n",
    "    print('원의 둘레 : ', 2 * 3.14 * number_input_a)\n",
    "    print('원의 넓이 : ', 3.14 * number_input_a ** a)\n",
    "except:\n",
    "    print('무엇인가 잘못되었습니다.')\n",
    "else:\n",
    "    print('예외가 발생하지 않았습니다.') # 예외가 발생하지 않았을 때 코드를 실행\n",
    "finally:\n",
    "    print('end.') # 무조건 실행할 코드"
   ]
  },
  {
   "cell_type": "code",
   "execution_count": 58,
   "id": "199b763b",
   "metadata": {},
   "outputs": [
    {
     "ename": "SyntaxError",
     "evalue": "invalid syntax (CreatorTemp/ipykernel_3640/2762985583.py, line 9)",
     "output_type": "error",
     "traceback": [
      "\u001b[1;36m  File \u001b[1;32m\"C:\\Users\\Public\\Documents\\ESTsoft\\CreatorTemp/ipykernel_3640/2762985583.py\"\u001b[1;36m, line \u001b[1;32m9\u001b[0m\n\u001b[1;33m    else: # except 없이 사용 불가\u001b[0m\n\u001b[1;37m    ^\u001b[0m\n\u001b[1;31mSyntaxError\u001b[0m\u001b[1;31m:\u001b[0m invalid syntax\n"
     ]
    }
   ],
   "source": [
    "# try 구문은 반드시 except, finally와 함께 사용\n",
    "# else는 반드시 except 뒤에 사용\n",
    "\n",
    "try:\n",
    "    number_input_a = int(input('정수 입력 > ')) # 예외가 발생할 수 있는 구문\n",
    "    print('원의 반지름 : ', number_input_a)\n",
    "    print('원의 둘레 : ', 2 * 3.14 * number_input_a)\n",
    "    print('원의 넓이 : ', 3.14 * number_input_a ** 2)\n",
    "else: # except 없이 사용 불가\n",
    "    print('end.')"
   ]
  },
  {
   "cell_type": "code",
   "execution_count": 62,
   "id": "1ec24032",
   "metadata": {},
   "outputs": [
    {
     "name": "stdout",
     "output_type": "stream",
     "text": [
      "정수 입력 > sfa\n",
      "type(exception) :  <class 'ValueError'>\n",
      "exception :  invalid literal for int() with base 10: 'sfa'\n"
     ]
    }
   ],
   "source": [
    "# try:  예외가 발생할 가능성이 있는 구문\n",
    "# except 예외의 종류 as 예외 객체를 활용할 수 있는 변수 이름:\n",
    "# - 예외가 발생했을 때 실행할 구문\n",
    "# Exception  '모든 예외의 어머니'\n",
    "\n",
    "try:\n",
    "    number_a = int(input('정수 입력 > '))\n",
    "    print('원의 반지름 : ', number_a)\n",
    "    print('원의 둘레 : ', 2 * 3.14 * number_a)\n",
    "    print('원의 넓이 : ', 3.14 * number_a ** 2)\n",
    "except Exception as exception:\n",
    "    # 예외 객체를 출력해봅니다.\n",
    "    print('type(exception) : ', type(exception))\n",
    "    print('exception : ', exception)"
   ]
  },
  {
   "cell_type": "code",
   "execution_count": 69,
   "id": "727cf0a9",
   "metadata": {},
   "outputs": [
    {
     "name": "stdout",
     "output_type": "stream",
     "text": [
      "정수 입력 > f\n",
      "type(exception) :  <class 'ValueError'>\n",
      "exception :  invalid literal for int() with base 10: 'f'\n"
     ]
    }
   ],
   "source": [
    "list_a = ['52', '273', '32', '72', '100'] # 변환할 값이 없는 경우(ValueError)\n",
    "\n",
    "try:\n",
    "    number_input = int(input('정수 입력 > '))\n",
    "    print('{}번째 요소 : {}'.format(number_input + 1, list_a[number_input]))\n",
    "except Exception as exception:\n",
    "    print('type(exception) : ', type(exception))\n",
    "    print('exception : ', exception)"
   ]
  },
  {
   "cell_type": "code",
   "execution_count": 70,
   "id": "afd5c881",
   "metadata": {},
   "outputs": [
    {
     "name": "stdout",
     "output_type": "stream",
     "text": [
      "정수 입력 > 100\n",
      "type(exception) :  <class 'IndexError'>\n",
      "exception :  list index out of range\n"
     ]
    }
   ],
   "source": [
    "list_a = ['52', '273', '32', '72', '100'] # 리스트에서 벗어날 경우(IndexError)\n",
    "\n",
    "try:\n",
    "    number_input = int(input('정수 입력 > '))\n",
    "    print('{}번째 요소 : {}'.format(number_input + 1, list_a[number_input]))\n",
    "except Exception as exception:\n",
    "    print('type(exception) : ', type(exception))\n",
    "    print('exception : ', exception)"
   ]
  },
  {
   "cell_type": "code",
   "execution_count": 72,
   "id": "7ea7c63e",
   "metadata": {},
   "outputs": [
    {
     "name": "stdout",
     "output_type": "stream",
     "text": [
      "정수 입력 > 100\n",
      "리스트의 인덱스에서 벗어났어요!\n"
     ]
    }
   ],
   "source": [
    "# 위 두 Error 구분하기\n",
    "\n",
    "list_a = ['52', '273', '32', '72', '100']\n",
    "\n",
    "try:\n",
    "    number_input = int(input('정수 입력 > '))\n",
    "    print('{}번째 요소 : {}'.format(number_input + 1, list_a[number_input]))\n",
    "except ValueError:\n",
    "    print('정수를 입력해 주세요.')\n",
    "except IndexError:\n",
    "    print('리스트의 인덱스에서 벗어났어요!')"
   ]
  },
  {
   "cell_type": "code",
   "execution_count": 73,
   "id": "a4784a8e",
   "metadata": {},
   "outputs": [
    {
     "name": "stdout",
     "output_type": "stream",
     "text": [
      "정수 입력 > adf\n",
      "정수를 입력해 주세요.\n"
     ]
    }
   ],
   "source": [
    "# 위 두 Error 구분하기\n",
    "\n",
    "list_a = ['52', '273', '32', '72', '100']\n",
    "\n",
    "try:\n",
    "    number_input = int(input('정수 입력 > '))\n",
    "    print('{}번째 요소 : {}'.format(number_input + 1, list_a[number_input]))\n",
    "except ValueError:\n",
    "    print('정수를 입력해 주세요.')\n",
    "except IndexError:\n",
    "    print('리스트의 인덱스에서 벗어났어요!')"
   ]
  },
  {
   "cell_type": "code",
   "execution_count": 74,
   "id": "2dc6759e",
   "metadata": {},
   "outputs": [
    {
     "name": "stdout",
     "output_type": "stream",
     "text": [
      "정수 입력 > d\n",
      "정수를 입력해 주세요.\n",
      "exception :  invalid literal for int() with base 10: 'd'\n"
     ]
    }
   ],
   "source": [
    "# as를 사용해서 Error의 설명 추가하기\n",
    "\n",
    "list_a = ['52', '273', '32', '72', '100']\n",
    "\n",
    "try:\n",
    "    number_input = int(input('정수 입력 > '))\n",
    "    print('{}번째 요소 : {}'.format(number_input + 1, list_a[number_input]))\n",
    "except ValueError as exception:\n",
    "    print('정수를 입력해 주세요.')\n",
    "    print('exception : ', exception)\n",
    "except IndexError as exception:\n",
    "    print('리스트의 인덱스에서 벗어났어요!')\n",
    "    print('exception : ', exception)"
   ]
  },
  {
   "cell_type": "code",
   "execution_count": 77,
   "id": "7b747a22",
   "metadata": {},
   "outputs": [
    {
     "ename": "SyntaxError",
     "evalue": "invalid syntax (CreatorTemp/ipykernel_3640/2316022931.py, line 8)",
     "output_type": "error",
     "traceback": [
      "\u001b[1;36m  File \u001b[1;32m\"C:\\Users\\Public\\Documents\\ESTsoft\\CreatorTemp/ipykernel_3640/2316022931.py\"\u001b[1;36m, line \u001b[1;32m8\u001b[0m\n\u001b[1;33m    예외.이곳에서_예외가_발생했습니다. # 예외가 발생한 부분\u001b[0m\n\u001b[1;37m                        ^\u001b[0m\n\u001b[1;31mSyntaxError\u001b[0m\u001b[1;31m:\u001b[0m invalid syntax\n"
     ]
    }
   ],
   "source": [
    "# 예외 처리를 했지만 예외를 잡지 못한 경우, 책과 달리 여기서는 안되는 느낌이 강하게 든다.\n",
    "\n",
    "list_a = ['52', '273', '32', '72', '100']\n",
    "\n",
    "try:\n",
    "    number_input = int(input('정수 입력 > '))\n",
    "    print('{}번째 요소 : {}'.format(number_input + 1, list_a[number_input]))\n",
    "    예외.이곳에서_예외가_발생했습니다. # 예외가 발생한 부분\n",
    "except ValueError as exception:\n",
    "    print('정수를 입력해 주세요.')\n",
    "    print('exception : ', exception)\n",
    "except IndexError as exception:\n",
    "    print('리스트의 인덱스에서 벗어났어요!')\n",
    "    print('exception : ', exception)"
   ]
  },
  {
   "cell_type": "code",
   "execution_count": 76,
   "id": "2644c2e2",
   "metadata": {},
   "outputs": [
    {
     "ename": "SyntaxError",
     "evalue": "invalid syntax (CreatorTemp/ipykernel_3640/1969600603.py, line 8)",
     "output_type": "error",
     "traceback": [
      "\u001b[1;36m  File \u001b[1;32m\"C:\\Users\\Public\\Documents\\ESTsoft\\CreatorTemp/ipykernel_3640/1969600603.py\"\u001b[1;36m, line \u001b[1;32m8\u001b[0m\n\u001b[1;33m    예외.이곳에서_예외가_발생했습니다. # 예외가 발생한 부분\u001b[0m\n\u001b[1;37m                        ^\u001b[0m\n\u001b[1;31mSyntaxError\u001b[0m\u001b[1;31m:\u001b[0m invalid syntax\n"
     ]
    }
   ],
   "source": [
    "# 예외 처리를 했지만 예외를 잡지 못한 경우\n",
    "\n",
    "list_a = ['52', '273', '32', '72', '100']\n",
    "\n",
    "try:\n",
    "    number_input = int(input('정수 입력 > '))\n",
    "    print('{}번째 요소 : {}'.format(number_input + 1, list_a[number_input]))\n",
    "    예외.이곳에서_예외가_발생했습니다. # 예외가 발생한 부분\n",
    "except ValueError as exception:\n",
    "    print('정수를 입력해 주세요.')\n",
    "    print('exception : ', exception)\n",
    "except IndexError as exception:\n",
    "    print('리스트의 인덱스에서 벗어났어요!')\n",
    "    print('exception : ', exception)\n",
    "except Exception as exception:\n",
    "    print('미리 파악하지 못한 예외가 발생했습니다.')\n",
    "    print('exception : ', exception)"
   ]
  }
 ],
 "metadata": {
  "kernelspec": {
   "display_name": "Python 3 (ipykernel)",
   "language": "python",
   "name": "python3"
  },
  "language_info": {
   "codemirror_mode": {
    "name": "ipython",
    "version": 3
   },
   "file_extension": ".py",
   "mimetype": "text/x-python",
   "name": "python",
   "nbconvert_exporter": "python",
   "pygments_lexer": "ipython3",
   "version": "3.9.7"
  }
 },
 "nbformat": 4,
 "nbformat_minor": 5
}
