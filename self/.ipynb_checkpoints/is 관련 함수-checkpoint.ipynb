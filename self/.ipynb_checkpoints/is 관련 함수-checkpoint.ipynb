{
 "cells": [
  {
   "cell_type": "code",
   "execution_count": 1,
   "id": "68a8738a",
   "metadata": {},
   "outputs": [],
   "source": [
    "# isalnum() : 문자열이 알파벳 또는 숫자로만 구성되어 있는지\n",
    "# isalpha() : 문자열이 알파벳으로만 구성되어 있는지\n",
    "# isidentifier() : 문자열이 식별자로 사용할 수 있는 것인지\n",
    "# isdecimal() : 문자열이 정수 형태인지 확인\n",
    "# isdigit() : 문자열이 숫자로 인식될 수 있는지\n",
    "# isspace() : 문자열이 공백으로만 구성되어 있는지\n",
    "# islower() : 문자열이 소문자로만 구성되어 있는지\n",
    "# isupper() : 문자열이 대문자로만 구성되어 있는지\n",
    "\n",
    "  # 문자열.is00() 으로 사용한다"
   ]
  }
 ],
 "metadata": {
  "kernelspec": {
   "display_name": "Python 3 (ipykernel)",
   "language": "python",
   "name": "python3"
  },
  "language_info": {
   "codemirror_mode": {
    "name": "ipython",
    "version": 3
   },
   "file_extension": ".py",
   "mimetype": "text/x-python",
   "name": "python",
   "nbconvert_exporter": "python",
   "pygments_lexer": "ipython3",
   "version": "3.9.7"
  }
 },
 "nbformat": 4,
 "nbformat_minor": 5
}
