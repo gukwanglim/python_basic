{
 "cells": [
  {
   "cell_type": "code",
   "execution_count": null,
   "id": "128ccca9",
   "metadata": {},
   "outputs": [],
   "source": [
    "# 이름과 국어 영어 수학 점수를 입력받아 딕셔너리에 저장 후, (key는 이름으로)\n",
    "# 각 과목별 평균\n",
    "# 개인별 총점과 평균을 구해서 자료에 추가하세요\n",
    "# 마지막 결과 출력"
   ]
  },
  {
   "cell_type": "code",
   "execution_count": null,
   "id": "570ec2d8",
   "metadata": {},
   "outputs": [],
   "source": [
    "# 1. 최종적으로 실행해야하는 구문\n",
    "\n",
    "input_data_1() # 이름과 각 과목 점수를 입력받아 딕셔너리에 저장\n",
    "total_data() # 각 과목별 평균을 위해서(평균 구하기까지는 힘들고 총합까지)\n",
    "input_updata_data() # 개인별 총점과 평균 구하기\n",
    "\n",
    "# 이것들이 끝나면 마지막 결과 출력 (2번으로)"
   ]
  },
  {
   "cell_type": "code",
   "execution_count": 1,
   "id": "167a377f",
   "metadata": {},
   "outputs": [],
   "source": [
    "# 2. 이름과 성적을 입력받아 딕셔너리에 저장하는 함수 지정\n",
    "def input_data_1():\n",
    "    \n",
    "    # 빈 딕셔너리 만들기\n",
    "    student = {}\n",
    "    \n",
    "    # input을 이용하여 이름과 성적을 입력\n",
    "    while True:\n",
    "        input_data = input(\"이름, 국어, 영어, 수학 입력 (종료는 'q'): \").split()\n",
    "        if input_data[0] == 'q':\n",
    "            print('시스템을 종료합니다.')\n",
    "            break\n",
    "        elif len(input_data) < 4:\n",
    "            print('이름과 국어, 영어, 수학 점수를 빠짐없이 입력해주세요')\n",
    "            continue\n",
    "        elif not (input_data[1].isdigit() and input_data[2].isdigit()\n",
    "                  and input_data[3].isdigit()): # 여기 일단 다름\n",
    "            print('성적란에는 숫자만 입력해주세요')\n",
    "            continue\n",
    "        \n",
    "        # 입력받은 내용을 가지고 개인이 가진 점수를 리스트로\n",
    "        score = []\n",
    "        for i in range(3): # 국어, 영어, 수학 3개\n",
    "            \n",
    "            # score 는 점수로 사용하는 것이므로 int로 바꿔주는 것이 좋다.\n",
    "            score.append(int(input_data[i + 1])) # score 리스트에 이름을 제외한 점수를 입력\n",
    "           \n",
    "        # 이름과 리스트를 딕셔너리로 변환\n",
    "        student[input_data[0]] = score\n",
    "        \n",
    "    # student 라는 이름으로 반환\n",
    "    return student\n",
    "\n",
    "# input_data_1() 함수 설정 완료 (3번으로)"
   ]
  },
  {
   "cell_type": "code",
   "execution_count": null,
   "id": "f80d3b03",
   "metadata": {},
   "outputs": [],
   "source": [
    "# 3. input_data_1() 함수가 제대로 작동하는지 확인\n",
    "\n",
    "student = input_data_1()\n",
    "# 이렇게하면 student(위 함수에 나오는 student와는 무관)에 함수를 대입\n",
    "# input_data_1()에 input() 이 있으므로 학생의 이름과 점수를 입력\n",
    "\n",
    "# print()를 이용하여 일단 함수 확인\n",
    "print(student)\n",
    "\n",
    "# 문제가 없음을 확인했으면 1-1번으로 넘어가 print() 부분을 지우고 작성"
   ]
  },
  {
   "cell_type": "code",
   "execution_count": 2,
   "id": "89dc5ed1",
   "metadata": {},
   "outputs": [],
   "source": [
    "# 4. 각 과목별 평균을 구하는 함수 지정\n",
    "\n",
    "# 필요한 것은 각 학생의 국어 점수의 합, 영어 점수의 합, 수학 점수의 합\n",
    "def total_data(student):\n",
    "    \n",
    "    # 각 과목의 점수의 합을 만들기 위해 비어있는 리스트를 만든다.\n",
    "    total =[[], [], []] \n",
    "    \n",
    "    # student는 딕셔너리기 때문에 value값을 가져와야한다.\n",
    "    for name, score in student.items(): \n",
    "        for i in range(3):\n",
    "            \n",
    "            # 국어 점수는 (0, 0), (1, 0), (2, 0)\n",
    "            # 영어 점수는 (0, 1), (1, 1), (2, 1)\n",
    "            # 수학 점수는 (0, 2), (1, 2), (2, 2) 가 들어가야 하므로,\n",
    "            total[i].append(int(score[i]))\n",
    "    \n",
    "    # 함수가 끝났으니 return으로 total 값을 반환\n",
    "    return total\n",
    "            \n",
    "# 함수 설정 완료. 하지만 평균까지 구하지는 못하고 각 과목의 총합만 구할 수 있음 \n",
    "# 즉, 평균은 함수 밖에서 구해야 함 (5번으로)"
   ]
  },
  {
   "cell_type": "code",
   "execution_count": null,
   "id": "79d76051",
   "metadata": {},
   "outputs": [],
   "source": [
    "# 5. total_data() 함수가 제대로 작동하는지 확인\n",
    "\n",
    "total = total_data(student) # 여기서 student는 3번에서 받은 입력이다.\n",
    "\n",
    "# total이 리스트로 나오는지 확인\n",
    "print(total)\n",
    "print()\n",
    "\n",
    "# total 리스트를 가지고 각 과목별 총합과 평균 구하기\n",
    "\n",
    "# for 함수를 사용하기 위해 range()를 사용\n",
    "for i in range(len(total)): \n",
    "    print(sum(total[i]))\n",
    "    print(sum(total[i]) / len(total))\n",
    "    print()\n",
    "    \n",
    "# 각 과목의 총합과 평균을 구할 수 있다는 사실을 알았으니까 이것을 보기 좋게 만든다.\n",
    "for i in range(len(total)):\n",
    "    print(\"국어의 총합 : {}, 국어 평균 : {}\") # 이런 식으로 만들고 싶은데 이러면 많이 만들어야한다\n",
    "    print()\n",
    "    \n",
    "# format을 사용하기 위해 리스트를 만든다.\n",
    "test_title = ['국어', '영어', '수학'] \n",
    "\n",
    "for i in range(len(total)):\n",
    "    print('{0}의 총합 : {1}, {0}의 평균 : {2}'.format(test_title[i], sum(total[i]),\n",
    "                                               sum(total[i]) / len(total)))\n",
    "    \n",
    "# 문제가 없음을 확인했으면 1-1번으로 돌아가 필요한 부분을 작성한다."
   ]
  },
  {
   "cell_type": "code",
   "execution_count": 3,
   "id": "94d447ca",
   "metadata": {},
   "outputs": [],
   "source": [
    "# 6. 개인별 총점과 평균을 구해 자료에 추가하는 함수 지정\n",
    "\n",
    "# 딕셔너리 하나에 한 명의 이름과 그 학생의 점수가 한 번에 들어있으므로 key와 value를 둘 다 사용\n",
    "def input_updata_data(student):\n",
    "    for key, value in student.items():\n",
    "        count = len(value)\n",
    "        total = sum(value)\n",
    "        value.append(total)          # 한 학생의 성적 리스트에 총합 점수를 입력\n",
    "        value.append(round(total / count, 2))  # 한 학생의 성적 리스트에 평균을 입력\n",
    "    return student                             # 여기서 round(입력값, 자릿수) 는 '입력값'의 소수점\n",
    "                                               # 자리수를 '자릿수' 만큼만 나오게 하는 것\n",
    "# 함수 설정 완료. 7번으로 넘어가 문제가 있는지 확인"
   ]
  },
  {
   "cell_type": "code",
   "execution_count": null,
   "id": "04ba8e4f",
   "metadata": {},
   "outputs": [],
   "source": [
    "# 7. input_updata_data() 함수가 제대로 작동하는지 확인\n",
    "\n",
    "student = input_updata_data(student)\n",
    "print('이름, 국어, 영어, 수학, 합계, 평균 : ', student)\n",
    "\n",
    "# 다시 1-1번으로 돌아가 작성"
   ]
  },
  {
   "cell_type": "code",
   "execution_count": 5,
   "id": "81e95fa2",
   "metadata": {},
   "outputs": [
    {
     "name": "stdout",
     "output_type": "stream",
     "text": [
      "이름, 국어, 영어, 수학 입력 (종료는 'q'): a 50 80 90\n",
      "이름, 국어, 영어, 수학 입력 (종료는 'q'): b 60 80 90\n",
      "이름, 국어, 영어, 수학 입력 (종료는 'q'): c 20 60 90\n",
      "이름, 국어, 영어, 수학 입력 (종료는 'q'): q\n",
      "시스템을 종료합니다.\n",
      "\n",
      "국어의 총점 : 130, 국어의 평균 : 43.33\n",
      "영어의 총점 : 220, 영어의 평균 : 73.33\n",
      "수학의 총점 : 270, 수학의 평균 : 90.00\n",
      "\n",
      "이름, 국어, 영어, 수학, 합계, 평균 :  {'a': [50, 80, 90, 220, 73.33], 'b': [60, 80, 90, 230, 76.67], 'c': [20, 60, 90, 170, 56.67]}\n"
     ]
    }
   ],
   "source": [
    "# 1-1. 함수 확인이 끝나고 다시 돌아와 필요한 부분만 작성\n",
    "\n",
    "student = input_data_1() # 필요한 부분만 작성 (4번으로)\n",
    "print()\n",
    "\n",
    "total = total_data(student)\n",
    "test_title = ['국어', '영어', '수학']\n",
    "\n",
    "for i in range(len(total)):\n",
    "    print('{0}의 총점 : {1}, {0}의 평균 : {2:3.2f}'.format(test_title[i], sum(total[i]),\n",
    "                                               sum(total[i]) / len(student))) # 작성 완료 (6번으로)\n",
    "print()\n",
    "\n",
    "student = input_updata_data(student)\n",
    "print('이름, 국어, 영어, 수학, 합계, 평균 : ', student)\n",
    "\n",
    "# 완료"
   ]
  },
  {
   "cell_type": "code",
   "execution_count": null,
   "id": "ca1cb4a5",
   "metadata": {},
   "outputs": [],
   "source": []
  },
  {
   "cell_type": "code",
   "execution_count": null,
   "id": "0063a8ce",
   "metadata": {},
   "outputs": [],
   "source": []
  },
  {
   "cell_type": "code",
   "execution_count": null,
   "id": "fa7b22db",
   "metadata": {},
   "outputs": [],
   "source": []
  }
 ],
 "metadata": {
  "kernelspec": {
   "display_name": "Python 3 (ipykernel)",
   "language": "python",
   "name": "python3"
  },
  "language_info": {
   "codemirror_mode": {
    "name": "ipython",
    "version": 3
   },
   "file_extension": ".py",
   "mimetype": "text/x-python",
   "name": "python",
   "nbconvert_exporter": "python",
   "pygments_lexer": "ipython3",
   "version": "3.9.7"
  }
 },
 "nbformat": 4,
 "nbformat_minor": 5
}
