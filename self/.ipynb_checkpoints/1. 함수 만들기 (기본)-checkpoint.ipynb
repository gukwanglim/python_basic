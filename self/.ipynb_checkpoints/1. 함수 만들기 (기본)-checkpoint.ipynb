{
 "cells": [
  {
   "cell_type": "code",
   "execution_count": 1,
   "id": "0469f0ce",
   "metadata": {},
   "outputs": [],
   "source": [
    "# 함수의 가변 매개변수 : 가변 매개변수는 제일 마지막에 나열 (*변수명)\n",
    "\n",
    "def print_v_times(n, *values): # (n, value, ...)\n",
    "    for i in range(n):\n",
    "        for value in values:\n",
    "            print(value)\n",
    "        print()"
   ]
  },
  {
   "cell_type": "code",
   "execution_count": 2,
   "id": "c014c1f7",
   "metadata": {},
   "outputs": [
    {
     "name": "stdout",
     "output_type": "stream",
     "text": [
      "test\n",
      "hello\n",
      "list\n",
      "\n",
      "test\n",
      "hello\n",
      "list\n",
      "\n",
      "test\n",
      "hello\n",
      "list\n",
      "\n"
     ]
    }
   ],
   "source": [
    "print_v_times(3, 'test', 'hello', 'list')"
   ]
  },
  {
   "cell_type": "code",
   "execution_count": 3,
   "id": "d00f441c",
   "metadata": {},
   "outputs": [],
   "source": [
    "# 기본 매개변수 (매개변수의 값이 입력되지 않으면 기본값으로 처리)\n",
    "\n",
    "def print_b_times(value, n=2):\n",
    "    for i in range(n):\n",
    "        print(value)"
   ]
  },
  {
   "cell_type": "code",
   "execution_count": 4,
   "id": "08599940",
   "metadata": {},
   "outputs": [
    {
     "name": "stdout",
     "output_type": "stream",
     "text": [
      "Hello!!\n",
      "Hello!!\n",
      "\n",
      "test\n",
      "test\n",
      "test\n"
     ]
    }
   ],
   "source": [
    "print_b_times('Hello!!') # n = 2가 실행이 된다.\n",
    "print()\n",
    "\n",
    "print_b_times('test', 3) # n에 다른 것을 넣어주면 그대로 실행된다."
   ]
  },
  {
   "cell_type": "code",
   "execution_count": 5,
   "id": "091d5524",
   "metadata": {},
   "outputs": [],
   "source": [
    "# 키워드 매개변수 (기본과 가변이 공존할 때, 기본을 키워드 매개변수라고 한다.)\n",
    "# 이러한 키워드 매개변수는 가변 매개변수보다 뒤에 들어간다.\n",
    "\n",
    "def print_key_times(n=2, *values):\n",
    "    for i in range(n):\n",
    "        for value in values:\n",
    "            print(value)\n",
    "        print()"
   ]
  },
  {
   "cell_type": "code",
   "execution_count": 6,
   "id": "7b1fbd71",
   "metadata": {},
   "outputs": [
    {
     "ename": "TypeError",
     "evalue": "'str' object cannot be interpreted as an integer",
     "output_type": "error",
     "traceback": [
      "\u001b[1;31m---------------------------------------------------------------------------\u001b[0m",
      "\u001b[1;31mTypeError\u001b[0m                                 Traceback (most recent call last)",
      "\u001b[1;32mC:\\Users\\Public\\Documents\\ESTsoft\\CreatorTemp/ipykernel_16896/1430499465.py\u001b[0m in \u001b[0;36m<module>\u001b[1;34m\u001b[0m\n\u001b[1;32m----> 1\u001b[1;33m \u001b[0mprint_key_times\u001b[0m\u001b[1;33m(\u001b[0m\u001b[1;34m'test'\u001b[0m\u001b[1;33m,\u001b[0m \u001b[1;34m'123'\u001b[0m\u001b[1;33m)\u001b[0m \u001b[1;31m# 이처럼 키워드 매개변수가 앞에 나오게 된다면 Error가 뜬다.\u001b[0m\u001b[1;33m\u001b[0m\u001b[1;33m\u001b[0m\u001b[0m\n\u001b[0m",
      "\u001b[1;32mC:\\Users\\Public\\Documents\\ESTsoft\\CreatorTemp/ipykernel_16896/2712111165.py\u001b[0m in \u001b[0;36mprint_key_times\u001b[1;34m(n, *values)\u001b[0m\n\u001b[0;32m      3\u001b[0m \u001b[1;33m\u001b[0m\u001b[0m\n\u001b[0;32m      4\u001b[0m \u001b[1;32mdef\u001b[0m \u001b[0mprint_key_times\u001b[0m\u001b[1;33m(\u001b[0m\u001b[0mn\u001b[0m\u001b[1;33m=\u001b[0m\u001b[1;36m2\u001b[0m\u001b[1;33m,\u001b[0m \u001b[1;33m*\u001b[0m\u001b[0mvalues\u001b[0m\u001b[1;33m)\u001b[0m\u001b[1;33m:\u001b[0m\u001b[1;33m\u001b[0m\u001b[1;33m\u001b[0m\u001b[0m\n\u001b[1;32m----> 5\u001b[1;33m     \u001b[1;32mfor\u001b[0m \u001b[0mi\u001b[0m \u001b[1;32min\u001b[0m \u001b[0mrange\u001b[0m\u001b[1;33m(\u001b[0m\u001b[0mn\u001b[0m\u001b[1;33m)\u001b[0m\u001b[1;33m:\u001b[0m\u001b[1;33m\u001b[0m\u001b[1;33m\u001b[0m\u001b[0m\n\u001b[0m\u001b[0;32m      6\u001b[0m         \u001b[1;32mfor\u001b[0m \u001b[0mvalue\u001b[0m \u001b[1;32min\u001b[0m \u001b[0mvalues\u001b[0m\u001b[1;33m:\u001b[0m\u001b[1;33m\u001b[0m\u001b[1;33m\u001b[0m\u001b[0m\n\u001b[0;32m      7\u001b[0m             \u001b[0mprint\u001b[0m\u001b[1;33m(\u001b[0m\u001b[0mvalue\u001b[0m\u001b[1;33m)\u001b[0m\u001b[1;33m\u001b[0m\u001b[1;33m\u001b[0m\u001b[0m\n",
      "\u001b[1;31mTypeError\u001b[0m: 'str' object cannot be interpreted as an integer"
     ]
    }
   ],
   "source": [
    "print_key_times('test', '123') # 이처럼 키워드 매개변수가 앞에 나오게 된다면 Error가 뜬다."
   ]
  },
  {
   "cell_type": "code",
   "execution_count": 7,
   "id": "24d2fc1b",
   "metadata": {},
   "outputs": [],
   "source": [
    "def print_key_times(*values, n=2): # 이렇게 키워드 매개변수가 뒤쪽으로 빠지면 수행이 가능하다.\n",
    "    for i in range(n):\n",
    "        for value in values:\n",
    "            print(value)\n",
    "        print()"
   ]
  },
  {
   "cell_type": "code",
   "execution_count": 8,
   "id": "13900eeb",
   "metadata": {},
   "outputs": [
    {
     "name": "stdout",
     "output_type": "stream",
     "text": [
      "test\n",
      "123\n",
      "\n",
      "test\n",
      "123\n",
      "\n",
      "test\n",
      "123\n",
      "\n",
      "\n",
      "\n",
      "hello\n",
      "wow\n",
      "\n",
      "hello\n",
      "wow\n",
      "\n"
     ]
    }
   ],
   "source": [
    "print_key_times('test', '123', n=3)\n",
    "print()\n",
    "print()\n",
    "print_key_times('hello', 'wow')"
   ]
  },
  {
   "cell_type": "code",
   "execution_count": 9,
   "id": "24f69f4a",
   "metadata": {},
   "outputs": [],
   "source": [
    "# 함수의 매개변수 : 일반, 기본, 가변\n",
    "# 나열 순서는 '가변 - 기본(키워드)' 순서 혹은 '일반 - 가변' 의 순서로 된다."
   ]
  },
  {
   "cell_type": "code",
   "execution_count": 10,
   "id": "8307c331",
   "metadata": {},
   "outputs": [
    {
     "name": "stdout",
     "output_type": "stream",
     "text": [
      "100\n"
     ]
    }
   ],
   "source": [
    "# return 이 있는 함수\n",
    "\n",
    "def return_func():\n",
    "    return 100\n",
    "    print('return_func exe') # return 아래에 있으므로 실행 안됨\n",
    "\n",
    "print(return_func())"
   ]
  },
  {
   "cell_type": "code",
   "execution_count": null,
   "id": "96ffe909",
   "metadata": {},
   "outputs": [],
   "source": [
    "list_a = [1, 2, 3, 4, 5]\n",
    "\n",
    "for ind, value in enumerate(list_a):\n",
    "    \n",
    "    # 이런식으로 사용하면 편하게 사용할 수 있다"
   ]
  },
  {
   "cell_type": "code",
   "execution_count": null,
   "id": "91748df3",
   "metadata": {},
   "outputs": [],
   "source": [
    "while input_data = input('afasdf'):\n",
    "    if input_data[0] != 'q':\n",
    "        실행 문장\n",
    "        input_data = input('afdsf')\n",
    "        \n",
    "        \n",
    "        # C언어에서 break 사용하는 법"
   ]
  }
 ],
 "metadata": {
  "kernelspec": {
   "display_name": "Python 3 (ipykernel)",
   "language": "python",
   "name": "python3"
  },
  "language_info": {
   "codemirror_mode": {
    "name": "ipython",
    "version": 3
   },
   "file_extension": ".py",
   "mimetype": "text/x-python",
   "name": "python",
   "nbconvert_exporter": "python",
   "pygments_lexer": "ipython3",
   "version": "3.9.7"
  }
 },
 "nbformat": 4,
 "nbformat_minor": 5
}
