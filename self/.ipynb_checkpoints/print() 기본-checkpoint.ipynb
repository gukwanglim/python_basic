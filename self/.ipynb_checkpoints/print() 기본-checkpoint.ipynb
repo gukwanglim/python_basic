{
 "cells": [
  {
   "cell_type": "code",
   "execution_count": 1,
   "id": "ba3a886e",
   "metadata": {},
   "outputs": [
    {
     "name": "stdout",
     "output_type": "stream",
     "text": [
      "1 2 3\n",
      "1/2/3aa1/2/3\n",
      "end\n"
     ]
    }
   ],
   "source": [
    "print(1, 2, 3) # print에 커서를 두고 'shift + tab' = 도움말\n",
    "print(1, 2, 3, sep = '/', end = 'aa')\n",
    "print(1, 2, 3, sep = '/', end = '\\n')\n",
    "print('end')"
   ]
  },
  {
   "cell_type": "code",
   "execution_count": 2,
   "id": "89d94eee",
   "metadata": {},
   "outputs": [
    {
     "name": "stdout",
     "output_type": "stream",
     "text": [
      "1 2 3\n",
      "1/2/3aa==/1/2/3\n",
      "end\n"
     ]
    }
   ],
   "source": [
    "print(1, 2, 3) # print에 커서를 두고 'shift + tab' = 도움말\n",
    "print(1, 2, 3, sep = '/', end = 'aa')\n",
    "print('==', 1, 2, 3, sep = '/', end = '\\n')\n",
    "print('end')"
   ]
  }
 ],
 "metadata": {
  "kernelspec": {
   "display_name": "Python 3 (ipykernel)",
   "language": "python",
   "name": "python3"
  },
  "language_info": {
   "codemirror_mode": {
    "name": "ipython",
    "version": 3
   },
   "file_extension": ".py",
   "mimetype": "text/x-python",
   "name": "python",
   "nbconvert_exporter": "python",
   "pygments_lexer": "ipython3",
   "version": "3.9.7"
  }
 },
 "nbformat": 4,
 "nbformat_minor": 5
}
