{
 "cells": [
  {
   "cell_type": "markdown",
   "id": "3854cc5a",
   "metadata": {},
   "source": [
    "[비트 쉬프트 연산](https://heestory217.tistory.com/81)"
   ]
  },
  {
   "cell_type": "markdown",
   "id": "3a991c4b",
   "metadata": {},
   "source": [
    "[데크(deque)](https://leonkong.cc/posts/python-deque.html)"
   ]
  }
 ],
 "metadata": {
  "kernelspec": {
   "display_name": "Python 3 (ipykernel)",
   "language": "python",
   "name": "python3"
  },
  "language_info": {
   "codemirror_mode": {
    "name": "ipython",
    "version": 3
   },
   "file_extension": ".py",
   "mimetype": "text/x-python",
   "name": "python",
   "nbconvert_exporter": "python",
   "pygments_lexer": "ipython3",
   "version": "3.9.7"
  }
 },
 "nbformat": 4,
 "nbformat_minor": 5
}
