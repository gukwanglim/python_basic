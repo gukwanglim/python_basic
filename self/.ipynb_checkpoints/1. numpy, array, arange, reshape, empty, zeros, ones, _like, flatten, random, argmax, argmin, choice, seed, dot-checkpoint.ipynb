{
 "cells": [
  {
   "cell_type": "code",
   "execution_count": 2,
   "id": "b8de4881",
   "metadata": {},
   "outputs": [],
   "source": [
    "import numpy as np             # 수 배열(행렬)에 관계"
   ]
  },
  {
   "cell_type": "markdown",
   "id": "21a7bc33",
   "metadata": {},
   "source": [
    "# 1차원 배열 생성"
   ]
  },
  {
   "cell_type": "code",
   "execution_count": 28,
   "id": "4dac71ae",
   "metadata": {},
   "outputs": [
    {
     "name": "stdout",
     "output_type": "stream",
     "text": [
      "[1. 2. 3.] [ 5. 10. 15.]\n",
      "\n",
      "<class 'numpy.ndarray'> <class 'numpy.ndarray'>\n"
     ]
    }
   ],
   "source": [
    "x1 = np.array([1.0, 2.0, 3.0])         # array 는 행렬을 만든다고 생각하면 편함\n",
    "x2 = np.array([5.0, 10.0, 15.0])         # np.array([])\n",
    "\n",
    "print(x1, x2); print()\n",
    "\n",
    "print(type(x1), type(x2))"
   ]
  },
  {
   "cell_type": "code",
   "execution_count": 7,
   "id": "476065d7",
   "metadata": {},
   "outputs": [
    {
     "data": {
      "text/plain": [
       "[1.0, 2.0, 3.0]"
      ]
     },
     "execution_count": 7,
     "metadata": {},
     "output_type": "execute_result"
    }
   ],
   "source": [
    "x1_l = [1.0, 2.0, 3.0]                 # array는 리스트와는 다르다\n",
    "x1_l"
   ]
  },
  {
   "cell_type": "markdown",
   "id": "e65eafe3",
   "metadata": {},
   "source": [
    "# 2차원 배열"
   ]
  },
  {
   "cell_type": "code",
   "execution_count": 9,
   "id": "f8095019",
   "metadata": {},
   "outputs": [
    {
     "name": "stdout",
     "output_type": "stream",
     "text": [
      "[[1. 2.]\n",
      " [3. 4.]]\n",
      "\n",
      "[[1. 2.]\n",
      " [3. 4.]] [[ 5. 10.]\n",
      " [15. 20.]]\n",
      "\n",
      "<class 'numpy.ndarray'> <class 'numpy.ndarray'>\n"
     ]
    }
   ],
   "source": [
    "y1 =np.array([[1.0, 2.0], [3.0, 4.0]])      # 행이 하나씩 추가된다고 볼 수 있음\n",
    "y2 =np.array([[5.0, 10.0], [15.0, 20.0]])\n",
    "\n",
    "print(y1); print()\n",
    "\n",
    "print(y1, y2); print()\n",
    "\n",
    "print(type(y1), type(y2))"
   ]
  },
  {
   "cell_type": "markdown",
   "id": "a9085e7f",
   "metadata": {},
   "source": [
    "# numpy 원소에 접근하는 방법 : x1[0] -> 1.0"
   ]
  },
  {
   "cell_type": "code",
   "execution_count": 11,
   "id": "a7d9128f",
   "metadata": {},
   "outputs": [
    {
     "name": "stdout",
     "output_type": "stream",
     "text": [
      "[1. 2. 3.]\n",
      "\n",
      "1.0\n",
      "\n"
     ]
    }
   ],
   "source": [
    "print(x1); print()\n",
    "\n",
    "print(x1[0]); print()"
   ]
  },
  {
   "cell_type": "code",
   "execution_count": 14,
   "id": "8e78cb39",
   "metadata": {},
   "outputs": [
    {
     "name": "stdout",
     "output_type": "stream",
     "text": [
      "[[1. 2.]\n",
      " [3. 4.]]\n",
      "\n",
      "2.0\n"
     ]
    }
   ],
   "source": [
    "print(y1); print()\n",
    "\n",
    "print(y1[0][1])"
   ]
  },
  {
   "cell_type": "code",
   "execution_count": null,
   "id": "e255b406",
   "metadata": {},
   "outputs": [],
   "source": [
    "a_list = [1.0, 2.0, 3.0]\n",
    "\n",
    "a_np = np.array(a_list)              # list를 array로 바꿈\n",
    "a_np"
   ]
  },
  {
   "cell_type": "markdown",
   "id": "e92fcd4d",
   "metadata": {},
   "source": [
    "# numpy array 생성 - arange()"
   ]
  },
  {
   "cell_type": "code",
   "execution_count": 15,
   "id": "1c84f2ad",
   "metadata": {},
   "outputs": [
    {
     "name": "stdout",
     "output_type": "stream",
     "text": [
      "1 (15,) 15\n"
     ]
    }
   ],
   "source": [
    "arr = np.arange(15)           # range(15)를 array로 만듦\n",
    "arr\n",
    "arr.ndim                      # n 차원\n",
    "arr.shape                     # 몇 행, 몇 열 인가?\n",
    "arr.size                      # 총 몇 개로 구성되어 있는가?\n",
    "\n",
    "print(arr.ndim, arr.shape, arr.size)"
   ]
  },
  {
   "cell_type": "markdown",
   "id": "b3b6f65b",
   "metadata": {},
   "source": [
    "# reshape(행의 갯수, 열의 갯수)"
   ]
  },
  {
   "cell_type": "code",
   "execution_count": 16,
   "id": "2957de15",
   "metadata": {},
   "outputs": [
    {
     "name": "stdout",
     "output_type": "stream",
     "text": [
      "2 (4, 5) 20\n"
     ]
    }
   ],
   "source": [
    "arr = np.arange(20).reshape(4, 5)            # .reshape(행의 갯수, 열의 갯수) 4행 5열로 만들어라.\n",
    "print(arr.ndim, arr.shape, arr.size)"
   ]
  },
  {
   "cell_type": "code",
   "execution_count": 17,
   "id": "8e51cb31",
   "metadata": {},
   "outputs": [
    {
     "name": "stdout",
     "output_type": "stream",
     "text": [
      "3 (2, 2, 5) 20 int32 4\n",
      "\n",
      "[[[ 0  1  2  3  4]\n",
      "  [ 5  6  7  8  9]]\n",
      "\n",
      " [[10 11 12 13 14]\n",
      "  [15 16 17 18 19]]]\n"
     ]
    }
   ],
   "source": [
    "arr = np.arange(20).reshape(2, 2, 5)         # 3차원\n",
    "print(arr.ndim, arr.shape, arr.size, arr.dtype.name, arr.dtype.itemsize)\n",
    "print()\n",
    "\n",
    "print(arr)"
   ]
  },
  {
   "cell_type": "code",
   "execution_count": 18,
   "id": "bc56d632",
   "metadata": {},
   "outputs": [
    {
     "name": "stdout",
     "output_type": "stream",
     "text": [
      "1 (20,) 20 float64 8\n"
     ]
    }
   ],
   "source": [
    "arr = np.arange(-5, 5, 0.5)                 # -5부터 5까지 0.5의 차이를 두고\n",
    "print(arr.ndim, arr.shape, arr.size, arr.dtype.name, arr.dtype.itemsize)"
   ]
  },
  {
   "cell_type": "markdown",
   "id": "5e24290b",
   "metadata": {},
   "source": [
    "# 빈 array 생성 : empty"
   ]
  },
  {
   "cell_type": "code",
   "execution_count": 19,
   "id": "6ff1aefd",
   "metadata": {},
   "outputs": [
    {
     "data": {
      "text/plain": [
       "array([[1.23412139e-311, 3.16202013e-322, 0.00000000e+000],\n",
       "       [0.00000000e+000, 3.14573925e+097, 5.15438039e-062],\n",
       "       [1.46152170e+165, 1.95042469e+160, 1.39380865e+165],\n",
       "       [4.54778466e+174, 4.85649143e-033, 3.29707920e-032]])"
      ]
     },
     "execution_count": 19,
     "metadata": {},
     "output_type": "execute_result"
    }
   ],
   "source": [
    "arr_1 = np.empty((4, 3))       # 4 by 3 인 배열 생성 -> 알 수 없는 값이 들어옴\n",
    "arr_1"
   ]
  },
  {
   "cell_type": "markdown",
   "id": "04abd97b",
   "metadata": {},
   "source": [
    "# 초기값을 부여하면서 array 생성 : zeros"
   ]
  },
  {
   "cell_type": "code",
   "execution_count": 20,
   "id": "4bbf658f",
   "metadata": {},
   "outputs": [
    {
     "name": "stdout",
     "output_type": "stream",
     "text": [
      "[0. 0. 0. 0. 0.]\n",
      "\n",
      "[[0. 0. 0.]\n",
      " [0. 0. 0.]]\n"
     ]
    }
   ],
   "source": [
    "arr_2 = np.zeros(5)              # 1차원 배열 5인 배열의 초기값은 0\n",
    "print(arr_2); print()\n",
    "\n",
    "arr_3 = np.zeros((2, 3))         # 2차원 배열 2행 3열\n",
    "print(arr_3)"
   ]
  },
  {
   "cell_type": "markdown",
   "id": "03b3fb09",
   "metadata": {},
   "source": [
    "# 1로 초기화 하면서 배열 생성 : ones"
   ]
  },
  {
   "cell_type": "code",
   "execution_count": 21,
   "id": "6bb9f16c",
   "metadata": {},
   "outputs": [
    {
     "data": {
      "text/plain": [
       "array([[1., 1., 1., 1.],\n",
       "       [1., 1., 1., 1.],\n",
       "       [1., 1., 1., 1.]])"
      ]
     },
     "execution_count": 21,
     "metadata": {},
     "output_type": "execute_result"
    }
   ],
   "source": [
    "arr_4 = np.ones((3, 4))\n",
    "arr_4"
   ]
  },
  {
   "cell_type": "code",
   "execution_count": 22,
   "id": "ea445392",
   "metadata": {},
   "outputs": [
    {
     "data": {
      "text/plain": [
       "array([[1, 1, 1, 1],\n",
       "       [1, 1, 1, 1],\n",
       "       [1, 1, 1, 1]], dtype=int32)"
      ]
     },
     "execution_count": 22,
     "metadata": {},
     "output_type": "execute_result"
    }
   ],
   "source": [
    "arr_5 = np.ones((3, 4), dtype = 'i')   # dtype = 'i' : 정수로, 'f' : 실수로\n",
    "arr_5"
   ]
  },
  {
   "cell_type": "code",
   "execution_count": 23,
   "id": "3f47d0c2",
   "metadata": {},
   "outputs": [
    {
     "name": "stdout",
     "output_type": "stream",
     "text": [
      "int64 8\n"
     ]
    }
   ],
   "source": [
    "arr_5 = np.ones((3, 4), dtype = 'i8')   # dtype = 'i8' : 8바이트\n",
    "print(arr_5.dtype, arr_5.dtype.itemsize)"
   ]
  },
  {
   "cell_type": "code",
   "execution_count": 24,
   "id": "5f47a91f",
   "metadata": {
    "scrolled": true
   },
   "outputs": [
    {
     "name": "stdout",
     "output_type": "stream",
     "text": [
      "['' '' '' '' '']\n",
      "\n"
     ]
    }
   ],
   "source": [
    "arr_5 = np.zeros(5, dtype = 'U4')        # dtype = U4' : 문자\n",
    "print(arr_5); print()"
   ]
  },
  {
   "cell_type": "markdown",
   "id": "64a3d83d",
   "metadata": {},
   "source": [
    "# = np.ones_like(바꾸려는 데이터, dtype = ' ')"
   ]
  },
  {
   "cell_type": "code",
   "execution_count": 25,
   "id": "1e99d589",
   "metadata": {},
   "outputs": [
    {
     "name": "stdout",
     "output_type": "stream",
     "text": [
      "[1. 1. 1. 1. 1.]\n"
     ]
    }
   ],
   "source": [
    "arr_6 = np.ones_like(arr_5, dtype = 'f')     # 기존 데이터를 1로 바꿈 \n",
    "print(arr_6)                     # = np.ones_like(바꾸려는 데이터, dtype = '')\n",
    "                                            # np.zeros_like() = 0으로 바꿈"
   ]
  },
  {
   "cell_type": "markdown",
   "id": "c0681030",
   "metadata": {},
   "source": [
    "# array 연산"
   ]
  },
  {
   "cell_type": "code",
   "execution_count": null,
   "id": "bf58d07d",
   "metadata": {},
   "outputs": [],
   "source": [
    "x1 = np.array([1.0, 2.0, 3.0])\n",
    "y1 = np.array([5.0, 10.0, 15.0])\n",
    "x2 = np.array([[1.0, 2.0], [3.0, 4.0]])\n",
    "y2 = np.array([[5.0, 10.0], [15.0, 20.0]])\n",
    "z1 = np.array([-1.0, -2.0])\n",
    "z2 = np.array([[5.0], [1.0], [15.0]])\n",
    "\n",
    "print(x1 + y1)\n",
    "print(x1 - y1); print()\n",
    "\n",
    "print(x1 * y1)\n",
    "print(x1 / y1); print()\n",
    "\n",
    "print(x2 + y2)                 #[[6.0, 12.0], [18.0, 24.0]]\n",
    "print(x2 - y2); print()\n",
    "\n",
    "print(x2 + z1); print()                 # [1.0  2.0] + [-1  -2] = [0  0]\n",
    "                                        # [3.0  4.0]              [2  2]\n",
    "print(x2 * z1); print()\n",
    "\n",
    "print(x1 + z2); print()\n",
    "\n",
    "print(x1 ** 2); print()\n",
    "\n",
    "print(x1 >= 2)"
   ]
  },
  {
   "cell_type": "code",
   "execution_count": null,
   "id": "ae8aaf36",
   "metadata": {},
   "outputs": [],
   "source": [
    "np.dot(x2, y2)             # 행렬에서의 곱하기"
   ]
  },
  {
   "cell_type": "code",
   "execution_count": null,
   "id": "059d0dfe",
   "metadata": {},
   "outputs": [],
   "source": [
    "x2 @ y2"
   ]
  },
  {
   "cell_type": "markdown",
   "id": "bf993023",
   "metadata": {},
   "source": [
    "# 배열의 형 변환 : flatten()"
   ]
  },
  {
   "cell_type": "code",
   "execution_count": 29,
   "id": "e38340cc",
   "metadata": {},
   "outputs": [
    {
     "name": "stdout",
     "output_type": "stream",
     "text": [
      "[1 2 3 4]\n",
      "\n",
      "[[1 2]\n",
      " [3 4]]\n"
     ]
    }
   ],
   "source": [
    "x2 = np.array([[1, 2], [3, 4]])\n",
    "\n",
    "print(x2.flatten()); print()          # 평탕화 시킴 : 모든 차수의 배열을 1차원으로\n",
    "\n",
    "print(x2.reshape(2, 2))"
   ]
  },
  {
   "cell_type": "markdown",
   "id": "d92769d0",
   "metadata": {},
   "source": [
    "# array의 인덱싱, 슬라이싱, 반복"
   ]
  },
  {
   "cell_type": "code",
   "execution_count": 30,
   "id": "5c696d0e",
   "metadata": {},
   "outputs": [
    {
     "name": "stdout",
     "output_type": "stream",
     "text": [
      "[ 0  1  4  9 16 25 36 49 64 81]\n"
     ]
    }
   ],
   "source": [
    "a = np.arange(10) ** 2\n",
    "print(a)"
   ]
  },
  {
   "cell_type": "code",
   "execution_count": 37,
   "id": "c22f09be",
   "metadata": {},
   "outputs": [
    {
     "name": "stdout",
     "output_type": "stream",
     "text": [
      "[  9 -16]\n",
      "-4\n",
      "None None\n",
      "\n",
      "[ 81  64  49  36  25 -16   9  -4   1   0]\n",
      "\n",
      "[  0  -4 -16]\n",
      "[ 0  4 16]\n"
     ]
    }
   ],
   "source": [
    "print(print(a[3 : 5]), print(a[2]))         # [9, 16], 4\n",
    "print()\n",
    "\n",
    "print(a[ : : -1])               # [start : end : -1(step)]  -> 뒤에서부터 출력\n",
    "print()\n",
    "\n",
    "print(a[0:6:2])\n",
    "print(-a[0:6:2])                     # [start : end : step]"
   ]
  },
  {
   "cell_type": "code",
   "execution_count": 45,
   "id": "fdea6655",
   "metadata": {},
   "outputs": [
    {
     "name": "stdout",
     "output_type": "stream",
     "text": [
      "[  0   1  -4   9 -16  25  36  49  64  81]\n"
     ]
    }
   ],
   "source": [
    "a[0:6:2] = -a[0:6:2]\n",
    "print(a)            # 엔터를 한 번 더 눌러보면 규칙이 변한다"
   ]
  },
  {
   "cell_type": "code",
   "execution_count": 46,
   "id": "49b07db0",
   "metadata": {},
   "outputs": [
    {
     "name": "stdout",
     "output_type": "stream",
     "text": [
      "1 2 -3 10 -15 26 37 50 65 82 "
     ]
    }
   ],
   "source": [
    "# 반복문\n",
    "\n",
    "for x in a:\n",
    "    print(x + 1, end = ' ')"
   ]
  },
  {
   "cell_type": "code",
   "execution_count": 48,
   "id": "6b0e6d3f",
   "metadata": {},
   "outputs": [
    {
     "name": "stdout",
     "output_type": "stream",
     "text": [
      "7\n",
      "\n",
      "[[ 1  2  3  4  5]\n",
      " [ 6  7  8  9 10]]\n",
      "\n",
      "[ 6  7  8  9 10]\n",
      "\n",
      "[ 5 10 15 20]\n"
     ]
    }
   ],
   "source": [
    "a = np.arange(1, 21, 1).reshape(4, 5)\n",
    "\n",
    "print(a[1, 1]); print()           # 1행 1열 (0행부터 시작)\n",
    "\n",
    "print(a[ : 2, : ]);print()\n",
    "\n",
    "print(a[1, ]); print()\n",
    "\n",
    "print(a[ : , -1])                 # -1은 마지막 행 또는 열을 의미(여기서는 마지막 열)"
   ]
  },
  {
   "cell_type": "markdown",
   "id": "676929d1",
   "metadata": {},
   "source": [
    "# numpy 의 일반함수"
   ]
  },
  {
   "cell_type": "code",
   "execution_count": 49,
   "id": "d3c73291",
   "metadata": {},
   "outputs": [
    {
     "name": "stdout",
     "output_type": "stream",
     "text": [
      "[0 1 2 3 4 5]\n",
      "\n",
      "[ 0.          0.84147098  0.90929743  0.14112001 -0.7568025  -0.95892427] [ 1.          0.54030231 -0.41614684 -0.9899925  -0.65364362  0.28366219]\n"
     ]
    }
   ],
   "source": [
    "a = np.arange(0, 6, 1)     # array[0, 1, 2, 3, 4, 5]\n",
    "\n",
    "print(a); print()\n",
    "\n",
    "print(np.sin(a), np.cos(a))"
   ]
  },
  {
   "cell_type": "code",
   "execution_count": 50,
   "id": "f5185091",
   "metadata": {},
   "outputs": [
    {
     "name": "stdout",
     "output_type": "stream",
     "text": [
      "[-4.60517019 -2.81341072 -2.20727491 -1.83258146 -1.56064775 -1.34707365\n",
      " -1.17118298 -1.02165125 -0.89159812 -0.77652879 -0.67334455 -0.5798185\n",
      " -0.49429632 -0.41551544 -0.34249031 -0.27443685 -0.21072103 -0.15082289\n",
      " -0.09431068 -0.04082199]\n"
     ]
    }
   ],
   "source": [
    "a = np.arange(0.01, 1, 0.05)\n",
    "print(np.log(a))"
   ]
  },
  {
   "cell_type": "code",
   "execution_count": 53,
   "id": "508bdab8",
   "metadata": {},
   "outputs": [
    {
     "name": "stdout",
     "output_type": "stream",
     "text": [
      "[10  5  6]\n",
      "\n",
      "[4 3 4]\n",
      "\n",
      "17 15\n"
     ]
    }
   ],
   "source": [
    "a1 = np.array([10, 3, 4])\n",
    "a2 = np.array([4, 5, 6])\n",
    "\n",
    "print(np.maximum(a1, a2)); print()        # 큰 숫자만 나옴\n",
    "\n",
    "print(np.minimum(a1, a2)); print()        # 작은 숫자만 나옴\n",
    "\n",
    "print(np.sum(a1), np.sum(a2))"
   ]
  },
  {
   "cell_type": "code",
   "execution_count": 54,
   "id": "9addb318",
   "metadata": {},
   "outputs": [
    {
     "name": "stdout",
     "output_type": "stream",
     "text": [
      "[85 44  4 13 85]\n",
      "\n",
      "[[0.32821708 0.03100622 0.61244318]\n",
      " [0.56516971 0.29558396 0.32891453]]\n"
     ]
    }
   ],
   "source": [
    "print(np.random.choice(100, 5))    # 0에서 100 사이의 숫자 중에서 5개 숫자를 선택\n",
    "print()\n",
    "\n",
    "print(np.random.rand(2, 3))        # -1에서 1까지 숫자 중에서 정규화"
   ]
  },
  {
   "cell_type": "code",
   "execution_count": 55,
   "id": "4d1b88ef",
   "metadata": {},
   "outputs": [
    {
     "name": "stdout",
     "output_type": "stream",
     "text": [
      "0\n",
      "\n",
      "6\n",
      "\n",
      "1\n"
     ]
    }
   ],
   "source": [
    "a = np.array([6, 1, 3, 2, 4, 5])\n",
    "\n",
    "print(np.argmax(a)); print()            # 제일 큰 값의 위치(인덱스) 반환\n",
    "\n",
    "print(a[np.argmax(a)]); print()\n",
    "\n",
    "print(np.argmin(a))                     # 제일 작은 값의 위치(인덱스) 반환"
   ]
  },
  {
   "cell_type": "code",
   "execution_count": 56,
   "id": "92cf7561",
   "metadata": {},
   "outputs": [
    {
     "name": "stdout",
     "output_type": "stream",
     "text": [
      "6\n",
      "\n",
      "[1 2 0]\n",
      "\n",
      "[2 0 1]\n"
     ]
    }
   ],
   "source": [
    "a = np.array([[0.1, 0.8, 0.2], [0.3, 0.2, 0.5], [0.9, 0.5, 0.3]])\n",
    "\n",
    "print(np.argmax(a)); print()            # 열 무시, 그냥 제일 큰 값의 위치(인덱스) 반환\n",
    "\n",
    "print(np.argmax(a, axis = 1)); print()           # 0축이 세로, 1축이 가로\n",
    "\n",
    "print(np.argmax(a, axis = 0))                                            # 다시보기"
   ]
  },
  {
   "cell_type": "code",
   "execution_count": 57,
   "id": "1c814265",
   "metadata": {},
   "outputs": [
    {
     "name": "stdout",
     "output_type": "stream",
     "text": [
      "[44 47 64 67 67]\n",
      "\n",
      "[[0.84725174 0.6235637  0.38438171]\n",
      " [0.29753461 0.05671298 0.27265629]]\n"
     ]
    }
   ],
   "source": [
    "np.random.seed(0)                          # seed()를 쓰면 정해진 시드의 값을 가져온다(바뀌지 않음)\n",
    "\n",
    "print(np.random.choice(100, 5))    # 0에서 100 사이의 숫자 중에서 5개 숫자를 선택\n",
    "print()\n",
    "\n",
    "print(np.random.rand(2, 3))        # -1에서 1까지 숫자 중에서 정규화"
   ]
  },
  {
   "cell_type": "markdown",
   "id": "f38f8ac5",
   "metadata": {},
   "source": [
    "# arange 함수에서 내가 뽑아내고 싶은 것만 뽑아낼 때"
   ]
  },
  {
   "cell_type": "code",
   "execution_count": 51,
   "id": "d31b4def",
   "metadata": {},
   "outputs": [
    {
     "name": "stdout",
     "output_type": "stream",
     "text": [
      "[ 3  6  9 12 15 18]\n",
      "\n",
      "[ 1  5  9 13 17]\n",
      "\n",
      "[9]\n"
     ]
    }
   ],
   "source": [
    "arr = np.arange(1, 21, 1)\n",
    "\n",
    "print(arr[arr % 3 == 0]); print()      # arr 내부에서 내가 뽑아내고 싶은 것\n",
    "                                         # arr[]\n",
    "print(arr[arr % 4 == 1]); print()\n",
    "\n",
    "print(arr[(arr % 3 == 0) & (arr % 4 == 1)])"
   ]
  },
  {
   "cell_type": "code",
   "execution_count": 52,
   "id": "f40279e8",
   "metadata": {},
   "outputs": [
    {
     "name": "stdout",
     "output_type": "stream",
     "text": [
      "[False False  True False False  True False False  True False False  True\n",
      " False False  True False False  True False False]\n"
     ]
    }
   ],
   "source": [
    "print(arr % 3 == 0)     \n",
    "  # arr[arr % 3 == 0] 이런 식으로 출력하지 않으면 True나 False의 형태로 나온다"
   ]
  }
 ],
 "metadata": {
  "kernelspec": {
   "display_name": "Python 3 (ipykernel)",
   "language": "python",
   "name": "python3"
  },
  "language_info": {
   "codemirror_mode": {
    "name": "ipython",
    "version": 3
   },
   "file_extension": ".py",
   "mimetype": "text/x-python",
   "name": "python",
   "nbconvert_exporter": "python",
   "pygments_lexer": "ipython3",
   "version": "3.9.7"
  }
 },
 "nbformat": 4,
 "nbformat_minor": 5
}
