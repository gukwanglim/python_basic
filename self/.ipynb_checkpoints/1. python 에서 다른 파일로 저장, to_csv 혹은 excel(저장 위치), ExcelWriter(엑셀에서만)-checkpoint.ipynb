{
 "cells": [
  {
   "cell_type": "code",
   "execution_count": 2,
   "id": "f4a8a6bd",
   "metadata": {},
   "outputs": [],
   "source": [
    "import pandas as pd        # pandas로 진행"
   ]
  },
  {
   "cell_type": "markdown",
   "id": "6938ffbe",
   "metadata": {},
   "source": [
    "# 데이터프레임 자료를 csv 파일로 저장 : df.to_csv(\"./dataset/to_csv_sa\")"
   ]
  },
  {
   "cell_type": "code",
   "execution_count": 3,
   "id": "b6d8f018",
   "metadata": {},
   "outputs": [],
   "source": [
    "data = {'name': ['Jerry', 'Riah', 'Paul'] ,    # csv에 저장할 내용 입력\n",
    "       'algol' : ['a', 'b', 'c']}\n",
    "df = pd.DataFrame(data)"
   ]
  },
  {
   "cell_type": "code",
   "execution_count": 4,
   "id": "47b0ac35",
   "metadata": {},
   "outputs": [
    {
     "data": {
      "text/html": [
       "<div>\n",
       "<style scoped>\n",
       "    .dataframe tbody tr th:only-of-type {\n",
       "        vertical-align: middle;\n",
       "    }\n",
       "\n",
       "    .dataframe tbody tr th {\n",
       "        vertical-align: top;\n",
       "    }\n",
       "\n",
       "    .dataframe thead th {\n",
       "        text-align: right;\n",
       "    }\n",
       "</style>\n",
       "<table border=\"1\" class=\"dataframe\">\n",
       "  <thead>\n",
       "    <tr style=\"text-align: right;\">\n",
       "      <th></th>\n",
       "      <th>name</th>\n",
       "      <th>algol</th>\n",
       "    </tr>\n",
       "  </thead>\n",
       "  <tbody>\n",
       "    <tr>\n",
       "      <th>0</th>\n",
       "      <td>Jerry</td>\n",
       "      <td>a</td>\n",
       "    </tr>\n",
       "    <tr>\n",
       "      <th>1</th>\n",
       "      <td>Riah</td>\n",
       "      <td>b</td>\n",
       "    </tr>\n",
       "    <tr>\n",
       "      <th>2</th>\n",
       "      <td>Paul</td>\n",
       "      <td>c</td>\n",
       "    </tr>\n",
       "  </tbody>\n",
       "</table>\n",
       "</div>"
      ],
      "text/plain": [
       "    name algol\n",
       "0  Jerry     a\n",
       "1   Riah     b\n",
       "2   Paul     c"
      ]
     },
     "execution_count": 4,
     "metadata": {},
     "output_type": "execute_result"
    }
   ],
   "source": [
    "df       # 현재 만들어진(작성된) 내용                          "
   ]
  },
  {
   "cell_type": "code",
   "execution_count": null,
   "id": "e088a3a3",
   "metadata": {},
   "outputs": [],
   "source": [
    "df.to_csv(\"./dataset/to_csv_sa\")    # 이렇게 돌리면 현재 파일 -> dataset 파일\n",
    "                                    # -> to_csv_sa 파일이 생성됨"
   ]
  },
  {
   "cell_type": "markdown",
   "id": "367b91c7",
   "metadata": {},
   "source": [
    "# 데이터프레임 자료를 excel 파일로 저장 \n",
    "### 하나의 내용만 저장 = df.to_excel(\"./dataset/to_excel\")"
   ]
  },
  {
   "cell_type": "markdown",
   "id": "0581babd",
   "metadata": {},
   "source": [
    "## 두 개 이상의 내용을 한 번에 저장"
   ]
  },
  {
   "cell_type": "code",
   "execution_count": 5,
   "id": "d0bf62b7",
   "metadata": {},
   "outputs": [],
   "source": [
    "# 판다스 DataFrame() 함수로 데이터프레임 변환. 변수 df1, df2에 저장 \n",
    "\n",
    "data1 = {'name' : [ 'Jerry', 'Riah', 'Paul'],\n",
    "         'algol' : [ \"A\", \"A+\", \"B\"],\n",
    "         'basic' : [ \"C\", \"B\", \"B+\"],\n",
    "          'c++' : [ \"B+\", \"C\", \"C+\"]}\n",
    "\n",
    "data2 = {'c0':[1,2,3], \n",
    "         'c1':[4,5,6], \n",
    "         'c2':[7,8,9], \n",
    "         'c3':[10,11,12], \n",
    "         'c4':[13,14,15]}"
   ]
  },
  {
   "cell_type": "code",
   "execution_count": 6,
   "id": "2fd50f00",
   "metadata": {},
   "outputs": [],
   "source": [
    "df1 = pd.DataFrame(data1)      # 위에서 만든 데이터를 pandas의 DataFrame을 \n",
    "df2 = pd.DataFrame(data2)      # 이용해서 저장"
   ]
  },
  {
   "cell_type": "code",
   "execution_count": 7,
   "id": "fb5c1e9f",
   "metadata": {},
   "outputs": [],
   "source": [
    "# df1의 'name' 컬럼을 인덱스로 설정\n",
    "\n",
    "df1.set_index('name', inplace=True)"
   ]
  },
  {
   "cell_type": "code",
   "execution_count": 8,
   "id": "052891e2",
   "metadata": {},
   "outputs": [],
   "source": [
    "# df2의 'c0' 컬럼을 인덱스로 설정\n",
    "\n",
    "df2.set_index('c0', inplace=True)"
   ]
  },
  {
   "cell_type": "code",
   "execution_count": null,
   "id": "e1a8cf92",
   "metadata": {},
   "outputs": [],
   "source": [
    "# ExcelWriter를 사용하여 두 개의 파일을 하나의 엑셀 파일에 저장\n",
    "\n",
    "writer = pd.ExcelWriter(\"./dataset/two_excel.xlsx\")\n",
    "df1.to_excel(writer, sheet_name='df1')       # 시트 하나에 한 데이터를 넣는다.\n",
    "df2.to_excel(writer, sheet_name='df2')    \n",
    "writer.save()                                # 파일 저장"
   ]
  },
  {
   "cell_type": "code",
   "execution_count": null,
   "id": "720adbcf",
   "metadata": {},
   "outputs": [],
   "source": []
  },
  {
   "cell_type": "code",
   "execution_count": null,
   "id": "e3729f2f",
   "metadata": {},
   "outputs": [],
   "source": []
  }
 ],
 "metadata": {
  "kernelspec": {
   "display_name": "Python 3 (ipykernel)",
   "language": "python",
   "name": "python3"
  },
  "language_info": {
   "codemirror_mode": {
    "name": "ipython",
    "version": 3
   },
   "file_extension": ".py",
   "mimetype": "text/x-python",
   "name": "python",
   "nbconvert_exporter": "python",
   "pygments_lexer": "ipython3",
   "version": "3.9.7"
  }
 },
 "nbformat": 4,
 "nbformat_minor": 5
}
