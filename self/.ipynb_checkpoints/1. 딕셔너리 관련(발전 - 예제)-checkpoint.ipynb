{
 "cells": [
  {
   "cell_type": "code",
   "execution_count": 4,
   "id": "56683de1",
   "metadata": {},
   "outputs": [
    {
     "name": "stdout",
     "output_type": "stream",
     "text": [
      "# 우리 동네 애완 동물들\n"
     ]
    }
   ],
   "source": [
    "# 171p 2번\n",
    "\n",
    "pets = [\n",
    "    {'name':'구름', 'age': 5},\n",
    "    {'name':'초코', 'age': 3},\n",
    "    {'name':'아지', 'age': 1},\n",
    "    {'name':'호랑이', 'age': 1}\n",
    "]                                  # 리스트 안에 딕셔너리가 있다.\n",
    "\n",
    "print('# 우리 동네 애완 동물들')\n",
    "# 구름 5살\n",
    "# 초코 3살 ..."
   ]
  },
  {
   "cell_type": "code",
   "execution_count": 6,
   "id": "9d040e41",
   "metadata": {
    "scrolled": true
   },
   "outputs": [
    {
     "name": "stdout",
     "output_type": "stream",
     "text": [
      "{'name': '구름', 'age': 5}\n",
      "{'name': '초코', 'age': 3}\n",
      "{'name': '아지', 'age': 1}\n",
      "{'name': '호랑이', 'age': 1}\n"
     ]
    }
   ],
   "source": [
    "# 일단 리스트에 있는 딕셔너리를 하나씩 꺼내본다.\n",
    "\n",
    "for i in pets:\n",
    "    print(i)"
   ]
  },
  {
   "cell_type": "code",
   "execution_count": 10,
   "id": "7f1b7ab5",
   "metadata": {
    "scrolled": true
   },
   "outputs": [
    {
     "name": "stdout",
     "output_type": "stream",
     "text": [
      "name\n",
      "age\n",
      "name\n",
      "age\n",
      "name\n",
      "age\n",
      "name\n",
      "age\n"
     ]
    }
   ],
   "source": [
    "# 딕셔너리의 값을 꺼낸다. 우선 key를 먼저 꺼낸다.\n",
    "\n",
    "for i in pets:\n",
    "    for item in i:\n",
    "        print(item) # 이렇게하면 dict_a[key] 형태로 사용하지 못해 더 진도를 나가면 꼬이게 된다."
   ]
  },
  {
   "cell_type": "code",
   "execution_count": 8,
   "id": "74412585",
   "metadata": {
    "scrolled": true
   },
   "outputs": [
    {
     "name": "stdout",
     "output_type": "stream",
     "text": [
      "n\n",
      "a\n",
      "m\n",
      "e\n",
      "a\n",
      "g\n",
      "e\n",
      "n\n",
      "a\n",
      "m\n",
      "e\n",
      "a\n",
      "g\n",
      "e\n",
      "n\n",
      "a\n",
      "m\n",
      "e\n",
      "a\n",
      "g\n",
      "e\n",
      "n\n",
      "a\n",
      "m\n",
      "e\n",
      "a\n",
      "g\n",
      "e\n"
     ]
    }
   ],
   "source": [
    "# 위에서 꺼낸 key를 가지고 값을 꺼낸다.\n",
    "\n",
    "for i in pets:\n",
    "    for item in i:\n",
    "        for value in item:\n",
    "            print(value) # 위의 말대로 꼬여버렸다. 딕셔너리의 key가 아닌 위에서 나온 출력이 나온다"
   ]
  },
  {
   "cell_type": "code",
   "execution_count": 11,
   "id": "aaf91738",
   "metadata": {
    "scrolled": true
   },
   "outputs": [
    {
     "name": "stdout",
     "output_type": "stream",
     "text": [
      "구름\n",
      "5\n",
      "초코\n",
      "3\n",
      "아지\n",
      "1\n",
      "호랑이\n",
      "1\n"
     ]
    }
   ],
   "source": [
    "# 즉, 리스트 안에 있는 딕셔너리를 한 번에 꺼내야 한다.\n",
    "\n",
    "for i in pets:\n",
    "    for key, value in i.items():\n",
    "        print(value)"
   ]
  },
  {
   "cell_type": "code",
   "execution_count": 12,
   "id": "8965c205",
   "metadata": {
    "scrolled": true
   },
   "outputs": [
    {
     "name": "stdout",
     "output_type": "stream",
     "text": [
      "구름\t5\t\n",
      "초코\t3\t\n",
      "아지\t1\t\n",
      "호랑이\t1\t\n"
     ]
    }
   ],
   "source": [
    "# 이제 문제에 맞게 정리된 상태로 나오도록 만들어준다.\n",
    "\n",
    "for i in pets:\n",
    "    for key, value in i.items():\n",
    "        print(value, end='\\t')\n",
    "    print()"
   ]
  },
  {
   "cell_type": "code",
   "execution_count": 16,
   "id": "81d53017",
   "metadata": {},
   "outputs": [
    {
     "name": "stdout",
     "output_type": "stream",
     "text": [
      "구름5살\n",
      "초코3살\n",
      "아지1살\n",
      "호랑이1살\n"
     ]
    }
   ],
   "source": [
    "# 문제에서는 '구름 5살' 이런 방식으로 나오게 하라 했으므로\n",
    "\n",
    "for i in pets:\n",
    "    for key, value in i.items():\n",
    "        print('{}'.format(value), end='')\n",
    "    print('살', end='\\n')"
   ]
  },
  {
   "cell_type": "code",
   "execution_count": null,
   "id": "085c5c52",
   "metadata": {},
   "outputs": [],
   "source": []
  },
  {
   "cell_type": "code",
   "execution_count": 17,
   "id": "afecca09",
   "metadata": {},
   "outputs": [],
   "source": [
    "# 172p 3번\n",
    "# numbers 리스트의 숫자가 몇 번 등장하는지 출력하는 코드\n",
    "\n",
    "numbers = [1, 2, 3, 5, 1, 5, 9, 8, 4, 6, 5, 3, 1, 5 ,7, 8, 3, 6, 4, 3, 3, 9]\n",
    "counter = {}"
   ]
  },
  {
   "cell_type": "code",
   "execution_count": 27,
   "id": "03583578",
   "metadata": {},
   "outputs": [
    {
     "name": "stdout",
     "output_type": "stream",
     "text": [
      "{1: 3, 2: 1, 3: 5, 5: 4, 9: 2, 8: 2, 4: 2, 6: 2, 7: 1}\n"
     ]
    }
   ],
   "source": [
    "# 일단 numbers에서 숫자 하나씩 나와 counter의 key로 들어가야한다.\n",
    "# key로 들어가면서 만약 같은 숫자가 겹친다면 겹친 수 만큼 값으로 들어가야한다.\n",
    "\n",
    "for number in numbers:\n",
    "    if number in counter:\n",
    "        pass\n",
    "    else:\n",
    "        count = 0\n",
    "        for check_num in numbers:\n",
    "            if number == check_num: # 이 부분이 number == check_num 일 경우 numbers에 있는 모든\n",
    "                count += 1              # 숫자를 세어 count에 넣는다. (for 문장)\n",
    "        counter[number] = count\n",
    "print(counter)"
   ]
  },
  {
   "cell_type": "code",
   "execution_count": 28,
   "id": "8f44ceec",
   "metadata": {},
   "outputs": [],
   "source": [
    "# 173p 4번\n",
    "\n",
    "character = {\n",
    "    \"name\": \"기사\",\n",
    "    \"level\": 12,\n",
    "    \"items\": {\n",
    "        \"sword\": \"불꽃의 검\",\n",
    "        \"armor\": \"풀플레이트\"\n",
    "    },\n",
    "    \"skill\": [\"베기\", \"세게 베기\", \"아주 세게 베기\"]\n",
    "}"
   ]
  },
  {
   "cell_type": "code",
   "execution_count": 29,
   "id": "b2160bef",
   "metadata": {
    "scrolled": true
   },
   "outputs": [
    {
     "name": "stdout",
     "output_type": "stream",
     "text": [
      "name\n",
      "level\n",
      "items\n",
      "skill\n"
     ]
    }
   ],
   "source": [
    "# 딕셔너리 안에 str, int, dict, list가 들어있다.\n",
    "# 일단 print(key)를 하면 character의 key가 나올 것이다.\n",
    "\n",
    "for key in character:\n",
    "    print(key)"
   ]
  },
  {
   "cell_type": "code",
   "execution_count": 30,
   "id": "33459c84",
   "metadata": {
    "scrolled": false
   },
   "outputs": [
    {
     "name": "stdout",
     "output_type": "stream",
     "text": [
      "name : 기사\n",
      "level : 12\n",
      "sword : 불꽃의 검\n",
      "armor : 풀플레이트\n",
      "skill : 베기\n",
      "skill : 세게 베기\n",
      "skill : 아주 세게 베기\n"
     ]
    }
   ],
   "source": [
    "# str, int, dict, list는 전부 character의 값에 들어있다.\n",
    "# 즉, character의 값에 따라 분류한다.\n",
    "\n",
    "for key in character:\n",
    "    if type(character[key]) == str or type(character[key]) == int:\n",
    "        print(key, ':', character[key])\n",
    "    elif type(character[key]) == dict:\n",
    "        for item_key, item_val in character[key].items():\n",
    "            print(item_key, ':', item_val)\n",
    "    else:\n",
    "        for skill in character[key]:\n",
    "            print(key, ':', skill)"
   ]
  },
  {
   "cell_type": "code",
   "execution_count": null,
   "id": "6f227168",
   "metadata": {},
   "outputs": [],
   "source": []
  },
  {
   "cell_type": "code",
   "execution_count": 31,
   "id": "cfdf62c9",
   "metadata": {
    "scrolled": true
   },
   "outputs": [
    {
     "name": "stdout",
     "output_type": "stream",
     "text": [
      "1\n",
      "3\n",
      "5\n",
      "7\n",
      "9\n"
     ]
    }
   ],
   "source": [
    "# range() 함수\n",
    "\n",
    "for i in range(1, 10, 2): # 1부터 10까지 2씩 증가시켜라\n",
    "    print(i)"
   ]
  },
  {
   "cell_type": "code",
   "execution_count": 37,
   "id": "a5a43267",
   "metadata": {},
   "outputs": [
    {
     "name": "stdout",
     "output_type": "stream",
     "text": [
      "숫자를 입력 : 1 2 3 4 5\n",
      "['1', '2', '3', '4', '5']\n",
      "\n",
      "총합 :  15\n"
     ]
    }
   ],
   "source": [
    "# 키보드에서 임의의 숫자를 입력받아 리스트에 저장 후, 저장된 숫자의 총합을 구하시오\n",
    "\n",
    "# 임의의 숫자 입력\n",
    "input_data = input('숫자를 입력 : ')\n",
    "\n",
    "# 리스트에 저장\n",
    "num = input_data.split()\n",
    "print(num)\n",
    "print()\n",
    "\n",
    "# 저장된 숫자의 총합\n",
    "total = 0 \n",
    "for i in num:\n",
    "    total += int(i)\n",
    "print('총합 : ', total)"
   ]
  },
  {
   "cell_type": "code",
   "execution_count": 43,
   "id": "7e4e50cf",
   "metadata": {
    "scrolled": false
   },
   "outputs": [
    {
     "name": "stdout",
     "output_type": "stream",
     "text": [
      "이름과 성적 입력 : a 5\n",
      "이름과 성적 입력 : d 6\n",
      "이름과 성적 입력 : x 8\n",
      "이름과 성적 입력 : e 6\n",
      "이름과 성적 입력 : c 8\n",
      "{'a': '5', 'd': '6', 'x': '8', 'e': '6', 'c': '8'}\n",
      "\n",
      "총인원 :  5\n",
      "\n",
      "평균 :  6.6\n"
     ]
    }
   ],
   "source": [
    "# 문) 키보드에서 이름과 성젹을 입력받아 딕셔너리에 저장(총 4명)\n",
    "#  이름이 딕셔너리에 키, 점수가 값으로 저장\n",
    "# 총인원수, 평균을 구하세요\n",
    "\n",
    "# 딕셔너리 만들기\n",
    "dict_a = {}\n",
    "\n",
    "# 이름과 성적 입력 및 입력 받은 내용 쪼개기\n",
    "for i in range(5):\n",
    "    input_a = input('이름과 성적 입력 : ').split()\n",
    "    name = input_a[0]\n",
    "    score = input_a[1]\n",
    "    dict_a[name] = score\n",
    "print(dict_a)\n",
    "print()\n",
    "\n",
    "print('총인원 : ', len(dict_a))\n",
    "print()\n",
    "\n",
    "total = 0\n",
    "for i in dict_a:\n",
    "    total += int(dict_a[i])\n",
    "print('평균 : ', total / len(dict_a))"
   ]
  },
  {
   "cell_type": "code",
   "execution_count": 45,
   "id": "5fe3c3e0",
   "metadata": {},
   "outputs": [
    {
     "name": "stdout",
     "output_type": "stream",
     "text": [
      "이름과 성적을 입력 : ㅁ 5\n",
      "이름과 성적을 입력 : ㅠ 6\n",
      "이름과 성적을 입력 : ㅌ 8\n",
      "이름과 성적을 입력 : ㄷ 6\n",
      "이름과 성적을 입력 : ㅊ 8\n",
      "\n",
      "score_dict :  {'ㅁ': 5, 'ㅠ': 6, 'ㅌ': 8, 'ㄷ': 6, 'ㅊ': 8}\n",
      "\n",
      "total :  33\n",
      "\n",
      "총인원수 :  5\n",
      "\n",
      "평균 :  6.6\n"
     ]
    }
   ],
   "source": [
    "# 아래처럼 딕셔너리에 들어가는 점수를 처음부터 int로 변환해주면 편하다\n",
    "\n",
    "score_dict = {}\n",
    "\n",
    "for i in range(5):\n",
    "    input_data = input('이름과 성적을 입력 : ').split()\n",
    "    name = input_data[0]\n",
    "    score = int(input_data[1])\n",
    "    score_dict[name] = score\n",
    "print()\n",
    "\n",
    "print('score_dict : ', score_dict)\n",
    "print()\n",
    "\n",
    "total = 0\n",
    "for value in score_dict.values():\n",
    "    total += value\n",
    "print('total : ', total)\n",
    "print()\n",
    "\n",
    "print('총인원수 : ', len(score_dict))\n",
    "print()\n",
    "\n",
    "print('평균 : ', total / len(score_dict))"
   ]
  }
 ],
 "metadata": {
  "kernelspec": {
   "display_name": "Python 3 (ipykernel)",
   "language": "python",
   "name": "python3"
  },
  "language_info": {
   "codemirror_mode": {
    "name": "ipython",
    "version": 3
   },
   "file_extension": ".py",
   "mimetype": "text/x-python",
   "name": "python",
   "nbconvert_exporter": "python",
   "pygments_lexer": "ipython3",
   "version": "3.9.7"
  }
 },
 "nbformat": 4,
 "nbformat_minor": 5
}
