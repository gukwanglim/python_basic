{
 "cells": [
  {
   "cell_type": "code",
   "execution_count": null,
   "id": "e800fb19",
   "metadata": {},
   "outputs": [],
   "source": [
    "# continue : (반복문에서) 다시 처음으로 돌아가라\n",
    "# break : (반복문에서) 이제 그만 끝내라"
   ]
  },
  {
   "cell_type": "code",
   "execution_count": 1,
   "id": "495da3ba",
   "metadata": {
    "scrolled": true
   },
   "outputs": [
    {
     "name": "stdout",
     "output_type": "stream",
     "text": [
      "[1, 2, 3, 4, 5] [1, 2, 3, 4, 5]\n",
      "\n",
      "[100, 2, 3, 4, 5] [100, 2, 3, 4, 5]\n",
      "\n",
      "[300, 2, 3, 4, 5] [100, 2, 3, 4, 5]\n"
     ]
    }
   ],
   "source": [
    "list_a = [1, 2, 3, 4, 5]\n",
    "list_cp = list_a          # 주소만 복사 : list_cp와 list_a가 같은 데이터를 \n",
    "print(list_cp, list_a)    # 원본을 가져와서 쓰는 것이라 할 수 있다.\n",
    "print()\n",
    "\n",
    "list_cp[0] = 100\n",
    "print(list_cp, list_a)\n",
    "print()\n",
    "\n",
    "list_aa = list_a.copy()   # 자료를 복사\n",
    "list_aa[0] = 300          # 원본의 자료를 복사하여 쓰는 것이라 할 수 있다.\n",
    "print(list_aa, list_a)"
   ]
  },
  {
   "cell_type": "markdown",
   "id": "5e293f33",
   "metadata": {},
   "source": [
    "# enumerate(리스트)"
   ]
  },
  {
   "cell_type": "code",
   "execution_count": 3,
   "id": "4077ca7d",
   "metadata": {},
   "outputs": [
    {
     "name": "stdout",
     "output_type": "stream",
     "text": [
      "0 번째 값 : 1\n",
      "1 번째 값 : 2\n",
      "2 번째 값 : 3\n",
      "3 번째 값 : 4\n",
      "4 번째 값 : 5\n",
      "\n"
     ]
    }
   ],
   "source": [
    "list_a = [1, 2, 3, 4, 5]\n",
    "\n",
    "for i in range(5):\n",
    "    print('{} 번째 값 : {}'.format(i, list_a[i]))\n",
    "print()"
   ]
  },
  {
   "cell_type": "code",
   "execution_count": 4,
   "id": "a13e7a17",
   "metadata": {
    "scrolled": false
   },
   "outputs": [
    {
     "name": "stdout",
     "output_type": "stream",
     "text": [
      "0 번째 값 : 1\n",
      "1 번째 값 : 2\n",
      "2 번째 값 : 3\n",
      "3 번째 값 : 4\n",
      "4 번째 값 : 5\n"
     ]
    }
   ],
   "source": [
    "# 위의 for 구문을 enumerate(list)를 활용하여 작성할 수 있다.\n",
    "# enumerate는 range를 쓰지 않고 for 구문에서 dict.items()를 사용하는 것처럼 활용한다.\n",
    "\n",
    "for i, value in enumerate(list_a):  # i 부분은 range와 같은 역할(인덱스), value 부분은 list의 값\n",
    "    print('{} 번째 값 : {}'.format(i, value))"
   ]
  },
  {
   "cell_type": "markdown",
   "id": "abf85789",
   "metadata": {},
   "source": [
    "# zip(object_a, object_b)"
   ]
  },
  {
   "cell_type": "code",
   "execution_count": 5,
   "id": "49cc84c4",
   "metadata": {},
   "outputs": [
    {
     "name": "stdout",
     "output_type": "stream",
     "text": [
      "4 a\n",
      "5 b\n",
      "6 c\n",
      "7 d\n",
      "8 e\n"
     ]
    }
   ],
   "source": [
    "# enumerdat(list)와 비슷하게 zip(object_a, object_b)를 사용할 수 있다.\n",
    "\n",
    "list_b = [4, 5, 6, 7, 8]\n",
    "list_c = ['a', 'b', 'c', 'd', 'e', 'f']\n",
    "\n",
    "# 대신 zip(object_a, object_b)는 두 개의 자료(object : list 나 dict 같은)가 있어야 한다.\n",
    "\n",
    "for a_value, b_value in zip(list_b, list_c):\n",
    "    print(a_value, b_value)"
   ]
  },
  {
   "cell_type": "code",
   "execution_count": 7,
   "id": "1d5bcaae",
   "metadata": {},
   "outputs": [
    {
     "name": "stdout",
     "output_type": "stream",
     "text": [
      "[0, 2, 4, 6, 8]\n",
      "\n",
      "[0, 2, 4, 6, 8]\n"
     ]
    }
   ],
   "source": [
    "# [반복문 사용] : 리스트 내포(comprehensions)\n",
    "\n",
    "array = []\n",
    "for i in range(0, 10, 2):\n",
    "    array.append(i)\n",
    "print(array)\n",
    "print()\n",
    "\n",
    "# 위의 구문을 리스트 내포(comprehensions)를 사용하여 한 줄로 만들 수 있다.\n",
    "array_1 = [i for i in range(0, 10, 2)]\n",
    "print(array_1)"
   ]
  },
  {
   "cell_type": "code",
   "execution_count": 8,
   "id": "10f3f81b",
   "metadata": {
    "scrolled": true
   },
   "outputs": [
    {
     "name": "stdout",
     "output_type": "stream",
     "text": [
      "[1, 3, 5, 7, 9, 11, 13, 15, 17, 19, 21, 23, 25, 27, 29, 31, 33, 35, 37, 39, 41, 43, 45, 47, 49, 51, 53, 55, 57, 59, 61, 63, 65, 67, 69, 71, 73, 75, 77, 79, 81, 83, 85, 87, 89, 91, 93, 95, 97, 99]\n",
      "홀수의 합 :  2500\n",
      "\n",
      "[1, 3, 5, 7, 9, 11, 13, 15, 17, 19, 21, 23, 25, 27, 29, 31, 33, 35, 37, 39, 41, 43, 45, 47, 49, 51, 53, 55, 57, 59, 61, 63, 65, 67, 69, 71, 73, 75, 77, 79, 81, 83, 85, 87, 89, 91, 93, 95, 97, 99]\n",
      "짝수의 합 :  2500\n"
     ]
    }
   ],
   "source": [
    "# 리스트 내포(comprehensions)는 for과 if가 동시에 들어갈 수도 있다.\n",
    "\n",
    "# 문) 1부터 100까지의 홀수의 합과 짝수의 합을 구하시오\n",
    "\n",
    "odd = [i for i in range(100 + 1) if i % 2]\n",
    "even = [j for j in range(100 + 1) if j % 2 == 1]\n",
    "\n",
    "print(odd)\n",
    "print('홀수의 합 : ', sum(odd))\n",
    "print()\n",
    "\n",
    "print(even)\n",
    "print('짝수의 합 : ', sum(even))"
   ]
  },
  {
   "cell_type": "code",
   "execution_count": 12,
   "id": "5fa6f266",
   "metadata": {},
   "outputs": [
    {
     "name": "stdout",
     "output_type": "stream",
     "text": [
      "0o0o0o0o0\n",
      "\n",
      "['0', '0', '0', '0', '0']\n"
     ]
    }
   ],
   "source": [
    "# 문자열.join(리스트) -> 문자열\n",
    "\n",
    "# join을 사용하면 리스트 중간에 문자나 부호를 집어 넣어 문자열로 만들 수 있다.\n",
    "# 대신 join 뒤에 따라오는 리스트는 int가 아닌 str만 포함하고 있어야한다.\n",
    "\n",
    "join_a = 'o'.join(['0', '0', '0', '0', '0'])\n",
    "print(join_a)\n",
    "print()\n",
    "\n",
    "# 여기서 split을 사용하면 만들어 놓은 문자열을 다시 리스트로 되돌릴 수 있다.\n",
    "\n",
    "join_b = join_a.split('o')\n",
    "print(join_b)"
   ]
  },
  {
   "cell_type": "code",
   "execution_count": 13,
   "id": "ab6abe58",
   "metadata": {},
   "outputs": [
    {
     "name": "stdout",
     "output_type": "stream",
     "text": [
      "reversed_number :  <list_reverseiterator object at 0x000002B98D762370>\n",
      "5\n",
      "4\n",
      "3\n",
      "2\n",
      "1\n"
     ]
    }
   ],
   "source": [
    "# 이더레이터, 제너레이터 함수\n",
    "\n",
    "numbers = [1, 2, 3, 4, 5]\n",
    "r_num = reversed(numbers)\n",
    "\n",
    "print('reversed_number : ', r_num)\n",
    "for i in range(5):\n",
    "    print(next(r_num)) # r_num의 다음 자료를 가져옴\n",
    "# print(next(r_num)) # error : 더 이상 가져올 자료 없음"
   ]
  },
  {
   "cell_type": "code",
   "execution_count": 3,
   "id": "f8834f68",
   "metadata": {},
   "outputs": [
    {
     "name": "stdout",
     "output_type": "stream",
     "text": [
      "{'name': '기사', 'hp': 200, 'mp': 30, 'level': 5}\n"
     ]
    }
   ],
   "source": [
    "# 188p 2번 문제\n",
    "\n",
    "key_list = ['name', 'hp', 'mp', 'level']\n",
    "value_list = ['기사', 200, 30, 5]\n",
    "character = {}\n",
    "\n",
    "# key와 값으로 채워진 딕셔너리를 만들어라.\n",
    "\n",
    "for i in range(len(key_list)):\n",
    "        character[key_list[i]] = value_list[i]\n",
    "print(character)"
   ]
  }
 ],
 "metadata": {
  "kernelspec": {
   "display_name": "Python 3 (ipykernel)",
   "language": "python",
   "name": "python3"
  },
  "language_info": {
   "codemirror_mode": {
    "name": "ipython",
    "version": 3
   },
   "file_extension": ".py",
   "mimetype": "text/x-python",
   "name": "python",
   "nbconvert_exporter": "python",
   "pygments_lexer": "ipython3",
   "version": "3.9.7"
  }
 },
 "nbformat": 4,
 "nbformat_minor": 5
}
