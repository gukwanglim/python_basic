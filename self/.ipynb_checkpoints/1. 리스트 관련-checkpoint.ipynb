{
 "cells": [
  {
   "cell_type": "code",
   "execution_count": 1,
   "id": "2c922043",
   "metadata": {},
   "outputs": [
    {
     "name": "stdout",
     "output_type": "stream",
     "text": [
      "True\n",
      "True\n"
     ]
    }
   ],
   "source": [
    "# 리스트 내부에 요소가 있는지 확인 : 값 in 리스트\n",
    "\n",
    "list_a = [23, 56, 78, 45]\n",
    "print(78 in list_a)\n",
    "\n",
    "list_b = ['a', 'b', 10, 20]\n",
    "print('a' in list_b)"
   ]
  },
  {
   "cell_type": "code",
   "execution_count": 2,
   "id": "c01a3d4a",
   "metadata": {
    "scrolled": true
   },
   "outputs": [
    {
     "name": "stdout",
     "output_type": "stream",
     "text": [
      "23\n",
      "56\n",
      "78\n",
      "45\n",
      "H e l l o   w e l c o m e ! ! \n",
      "H\te\tl\tl\to\t \tw\te\tl\tc\to\tm\te\t!\t!\t\n"
     ]
    }
   ],
   "source": [
    "# 반복문 : for 요소 in 반복자료:\n",
    "\n",
    "for item in list_a:\n",
    "    print(item)\n",
    "    \n",
    "    \n",
    "for char in \"Hello welcome!!\":\n",
    "    print(char, end=' ')\n",
    "print()\n",
    "\n",
    "for char in \"Hello welcome!!\":\n",
    "    print(char, end='\\t')\n",
    "print()"
   ]
  },
  {
   "cell_type": "code",
   "execution_count": 6,
   "id": "c8a67b71",
   "metadata": {},
   "outputs": [
    {
     "name": "stdout",
     "output_type": "stream",
     "text": [
      "숫자 5개를 입력하십시오 :1 2 3 4 5\n",
      "['1', '2', '3', '4', '5']\n",
      "15\n"
     ]
    }
   ],
   "source": [
    "# 연습문제\n",
    "# 키보드에서 숫자 5개를 입력받아 리스트에 저장한 후, 입력된 수의 합을 구하시오.\n",
    "\n",
    "input_data = input('숫자 5개를 입력하십시오 :')\n",
    "input_list = input_data.split()\n",
    "print(input_list) # 리스트는 ['1', '2', ...] 이렇게 나와서 str 상태이다.\n",
    "\n",
    "total = 0\n",
    "for i in input_list:\n",
    "    total += int(i) # for 구문으로 뽑아내어 int로 바꿔준다\n",
    "print(total)"
   ]
  },
  {
   "cell_type": "code",
   "execution_count": null,
   "id": "54a97ffa",
   "metadata": {},
   "outputs": [],
   "source": [
    "# 1. input()을 이용하여 숫자 5개를 받는다\n",
    "# 2. 입력받은 숫자를 쪼갠다\n",
    "# 3. 쪼개놓은 숫자를 리스트로 만든다.\n",
    "# 4. 입력된 수의 합을 구하기 위해 for 구문을 사용하여 하나씩 꺼낼 수 있게 한다.\n",
    "# 5. 하나씩 꺼낸 숫자는 아직 str 상태이므로 int로 만든다.\n",
    "# 6. total = 0 을 만들고 입력된 수의 합을 구한다."
   ]
  },
  {
   "cell_type": "code",
   "execution_count": 12,
   "id": "e2f60856",
   "metadata": {},
   "outputs": [
    {
     "name": "stdout",
     "output_type": "stream",
     "text": [
      "[[1, 4, 7], [2, 5, 8], [3, 6, 9]]\n"
     ]
    }
   ],
   "source": [
    "# 159p 5번 문제.\n",
    "\n",
    "numbers = [1, 2, 3, 4, 5, 6, 7, 8, 9]\n",
    "output = [[], [], []]\n",
    "\n",
    "for i in numbers:\n",
    "    output[i % 3 -1].append(i)\n",
    "print(output)"
   ]
  },
  {
   "cell_type": "code",
   "execution_count": 13,
   "id": "bfb34f94",
   "metadata": {},
   "outputs": [
    {
     "name": "stdout",
     "output_type": "stream",
     "text": [
      "1\n",
      "2\n",
      "3\n",
      "4\n",
      "5\n",
      "6\n",
      "7\n",
      "8\n",
      "9\n"
     ]
    }
   ],
   "source": [
    "# 159p 4번 문제.\n",
    "\n",
    "list_of_list = [[1, 2, 3], [4, 5, 6, 7], [8, 9]]\n",
    "\n",
    "for item in list_of_list:\n",
    "    for i in item:\n",
    "        print(i)"
   ]
  }
 ],
 "metadata": {
  "kernelspec": {
   "display_name": "Python 3 (ipykernel)",
   "language": "python",
   "name": "python3"
  },
  "language_info": {
   "codemirror_mode": {
    "name": "ipython",
    "version": 3
   },
   "file_extension": ".py",
   "mimetype": "text/x-python",
   "name": "python",
   "nbconvert_exporter": "python",
   "pygments_lexer": "ipython3",
   "version": "3.9.7"
  }
 },
 "nbformat": 4,
 "nbformat_minor": 5
}
