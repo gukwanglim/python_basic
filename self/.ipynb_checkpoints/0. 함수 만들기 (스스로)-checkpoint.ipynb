{
 "cells": [
  {
   "cell_type": "code",
   "execution_count": null,
   "id": "e94190cd",
   "metadata": {},
   "outputs": [],
   "source": [
    "# 이름과 국어 영어 수학 점수를 입력받아 딕셔너리에 저장 후, (key는 이름으로)\n",
    "# 각 과목별 평균\n",
    "# 개인별 총점과 평균을 구해서 자료에 추가하세요\n",
    "# 마지막 결과 출력"
   ]
  },
  {
   "cell_type": "code",
   "execution_count": null,
   "id": "ecf69602",
   "metadata": {},
   "outputs": [],
   "source": [
    "# 입력, 딕셔너리 저장 함수             : input_data() -> 출력이 아닌 자료를 가지는 것.\n",
    "# 각 과목별 평균 구하는 함수           : sub_avg() -> 함수를 이용해 출력이 필요\n",
    "# 총점과 평균을 자료에 추가하는 함수   : updata_data()  -> 함수를 이용해 출력이 필요\n",
    "\n",
    "# 마지막 결과 출력(출력이 필요한 것들)"
   ]
  },
  {
   "cell_type": "code",
   "execution_count": 3,
   "id": "7540b8f7",
   "metadata": {},
   "outputs": [],
   "source": [
    "# 입력을 받아 딕셔너리로 저장하는 함수\n",
    "\n",
    "def input_data():\n",
    "    student = {}\n",
    "    while True:\n",
    "        input_list = input('이름과 성적을 입력해주세요 : ').split()\n",
    "        if input_list[0] == 'q':\n",
    "            print('입력을 종료합니다.')\n",
    "            break\n",
    "        elif len(input_list) < 4:\n",
    "            print('이름과 성적을 빠짐없이 입력해주세요.')\n",
    "            continue\n",
    "        elif not (input_list[1].isdigit() and input_list[2].isdigit() and input_list[3].isdigit()):\n",
    "            print('성적에는 숫자만 입력해주세요.')\n",
    "            continue\n",
    "        \n",
    "        # input_list = ['a', '50', '60', '70'] : 리스트로 받으니까 딕셔너리로 넣어야 함.\n",
    "        # 또한, 성적이 str로 들어가니까 int로 변환\n",
    "        # 딕셔너리로 만들기 위해 빈 딕셔너리를 만듦\n",
    "        \n",
    "        \n",
    "        # list 안의 내용을 [0] : [1], [2], [3]으로 만들어야하므로 성적을 묶어 하나의 리스트로\n",
    "        \n",
    "        score = []\n",
    "        \n",
    "        for i in range(3):\n",
    "            score.append(int(input_list[i + 1]))\n",
    "        \n",
    "        # score = [50, 60, 70]\n",
    "        \n",
    "        student[input_list[0]] = score\n",
    "        \n",
    "        # student = {'a':[50, 60, 70]}\n",
    "        \n",
    "    return student"
   ]
  },
  {
   "cell_type": "code",
   "execution_count": null,
   "id": "bc7a0d65",
   "metadata": {},
   "outputs": [],
   "source": [
    "# 각 과목별 평균을 구하는 함수\n",
    "\n",
    "def sub_avg(studnet):\n",
    "    \n",
    "    # () 안에 student = {'a':[50, 60, 70], 'b':[50, 60, 70]}\n",
    "    # 딕셔너리 내부의 리스트를 가지고 국어, 영어, 수학의 평균을 구해야한다.\n",
    "    # 즉, 국어 : [0, 0], [1, 0], [2, 0] 이런 식으로 뽑아내어 평균을 만들어야한다.\n",
    "    \n",
    "    # 딕셔너리 내부의 리스트에서 같은 분야의 점수만을 뽑아내서 합쳐야하므로 새로운 리스트를 만든다.\n",
    "    \n",
    "    score = [[], [], []]\n",
    "    \n",
    "    # student의 value에서 필요한 값을 꺼내야한다\n",
    "    \n",
    "    for i, value in student.items():\n",
    "        \n",
    "        # 위에 만든 score 리스트에 넣어야함\n",
    "        \n",
    "        for j in range(3):\n",
    "            score[j].append(value[j])\n",
    "    return score"
   ]
  },
  {
   "cell_type": "code",
   "execution_count": 1,
   "id": "11ee6ac4",
   "metadata": {},
   "outputs": [],
   "source": [
    "# 총점과 평균을 딕셔너리에 넣어 나오게 만든다.\n",
    "\n",
    "def updata_data(student):\n",
    "    \n",
    "    # 개인의 점수가 딕셔너리에 나오게 해야한다.\n",
    "    # 즉, {'a':[50, 60, 70, 180, 60]} 이렇게 출력.\n",
    "    \n",
    "    for key, value in student.items():\n",
    "        count = len(value)\n",
    "        total = sum(vlaue)\n",
    "        value.append(total)\n",
    "        value.append(total / count)\n",
    "    return student"
   ]
  },
  {
   "cell_type": "code",
   "execution_count": null,
   "id": "a2d38a88",
   "metadata": {},
   "outputs": [],
   "source": [
    "student = input_data()"
   ]
  },
  {
   "cell_type": "code",
   "execution_count": null,
   "id": "22070c4c",
   "metadata": {},
   "outputs": [],
   "source": []
  },
  {
   "cell_type": "code",
   "execution_count": null,
   "id": "b0c03b38",
   "metadata": {},
   "outputs": [],
   "source": []
  },
  {
   "cell_type": "code",
   "execution_count": null,
   "id": "5a727d6d",
   "metadata": {},
   "outputs": [],
   "source": []
  },
  {
   "cell_type": "code",
   "execution_count": null,
   "id": "26808719",
   "metadata": {},
   "outputs": [],
   "source": []
  },
  {
   "cell_type": "code",
   "execution_count": null,
   "id": "8baa8241",
   "metadata": {},
   "outputs": [],
   "source": []
  }
 ],
 "metadata": {
  "kernelspec": {
   "display_name": "Python 3 (ipykernel)",
   "language": "python",
   "name": "python3"
  },
  "language_info": {
   "codemirror_mode": {
    "name": "ipython",
    "version": 3
   },
   "file_extension": ".py",
   "mimetype": "text/x-python",
   "name": "python",
   "nbconvert_exporter": "python",
   "pygments_lexer": "ipython3",
   "version": "3.9.7"
  }
 },
 "nbformat": 4,
 "nbformat_minor": 5
}
