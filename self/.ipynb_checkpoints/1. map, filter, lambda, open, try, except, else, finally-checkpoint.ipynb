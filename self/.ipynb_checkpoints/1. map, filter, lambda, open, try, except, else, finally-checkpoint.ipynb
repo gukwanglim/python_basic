{
 "cells": [
  {
   "cell_type": "markdown",
   "id": "86122f49",
   "metadata": {},
   "source": [
    "# 매개변수 위치의 함수"
   ]
  },
  {
   "cell_type": "code",
   "execution_count": 1,
   "id": "a14d5e43",
   "metadata": {},
   "outputs": [
    {
     "name": "stdout",
     "output_type": "stream",
     "text": [
      "hello\n",
      "hello\n",
      "hello\n"
     ]
    }
   ],
   "source": [
    "# 입력한 횟수만큼 함수를 반복시키는 함수\n",
    "\n",
    "def call_n_times(func, n):\n",
    "    for i in range(n):\n",
    "        func()\n",
    "        \n",
    "def print_hello():\n",
    "    print('hello')\n",
    "    \n",
    "call_n_times(print_hello, 3)   # 매개변수 자리의 함수는 ()생략"
   ]
  },
  {
   "cell_type": "markdown",
   "id": "bd7d5b16",
   "metadata": {},
   "source": [
    "# map(함수, 리스트), filter(함수, 리스트)"
   ]
  },
  {
   "cell_type": "code",
   "execution_count": 4,
   "id": "989adab2",
   "metadata": {},
   "outputs": [
    {
     "name": "stdout",
     "output_type": "stream",
     "text": [
      "map() 실행 결과 :  <map object at 0x0000013D3AD815B0>\n",
      "map() 실행 결과 :  [1, 4, 9, 16, 25]\n",
      "\n",
      "filter() 실행 결과 :  <filter object at 0x0000013D3ADC2820>\n",
      "filter() 실행 결과 :  [1, 2]\n"
     ]
    }
   ],
   "source": [
    "# map(), filter() : 함수를 매개변수로 받는 내장함수\n",
    "\n",
    "def power(item):\n",
    "    return item * item\n",
    "\n",
    "def under_3(item):\n",
    "    return item < 3\n",
    "\n",
    "a_list = [1, 2, 3, 4, 5]\n",
    "\n",
    "output_a = map(power, a_list)              # 하지만 map()을 사용하면 내가 실행할 함수와 리스트를\n",
    "print('map() 실행 결과 : ', output_a)      # 가지고 실행시킬 수 있다.\n",
    "print('map() 실행 결과 : ', list(output_a))\n",
    "print()\n",
    "\n",
    "output_b = filter(under_3, a_list)         # 하지만 filter()를 사용하면 내가 실행할 함수의 리스트를\n",
    "print('filter() 실행 결과 : ', output_b)   # 가지고 실행시킬 수 있다.\n",
    "print('filter() 실행 결과 : ', list(output_b))"
   ]
  },
  {
   "cell_type": "markdown",
   "id": "3e4c1ea2",
   "metadata": {},
   "source": [
    "# lambda : 함수를 사용하는 리스트 내포"
   ]
  },
  {
   "cell_type": "code",
   "execution_count": 6,
   "id": "7bc6b294",
   "metadata": {},
   "outputs": [
    {
     "name": "stdout",
     "output_type": "stream",
     "text": [
      "30\n"
     ]
    }
   ],
   "source": [
    "# def 대신 lambda를 적고, 바로 이어서 '매개변수: 함수 지정식' 작성\n",
    "\n",
    "power = lambda item: item * item\n",
    "under_3 = lambda item: item < 3\n",
    "    \n",
    "a = 10\n",
    "b = 20\n",
    "\n",
    "add = lambda a, b: a + b\n",
    "\n",
    "# lambda 자체가 함수 역할을 하므로 lambda 구문 다음에 (매개변수)를 넣어준다.\n",
    "print((lambda a, b: a + b)(a, b))"
   ]
  },
  {
   "cell_type": "markdown",
   "id": "5c186d06",
   "metadata": {},
   "source": [
    "# open(파일명, 모드) : 파일 사용"
   ]
  },
  {
   "cell_type": "code",
   "execution_count": 10,
   "id": "42873208",
   "metadata": {},
   "outputs": [],
   "source": [
    "# w = 기존 내용 삭제하고 다시 쓰기, a = 기존 내용을 가져와서 제일 아래에 내용 추가\n",
    "# r = 기존 내용을 가져와서 처음 위치부터 읽기(내용 작성 불가)\n",
    "\n",
    "# 마지막에 file.close() 필수!\n",
    "\n",
    "file = open('1_test.txt', 'w')\n",
    "file.write('hello world! \\n')\n",
    "file.close()"
   ]
  },
  {
   "cell_type": "code",
   "execution_count": 11,
   "id": "1452903d",
   "metadata": {},
   "outputs": [],
   "source": [
    "# with open() as file:\n",
    "# with을 사용하면 file.close() 구문을 사용하지 않아도 저절로 close를 수행\n",
    "\n",
    "with open('1_test.txt', 'a+') as file:\n",
    "    for i in range(3):\n",
    "        file.write('bye \\n')"
   ]
  },
  {
   "cell_type": "code",
   "execution_count": 14,
   "id": "b7b7ae68",
   "metadata": {},
   "outputs": [
    {
     "name": "stdout",
     "output_type": "stream",
     "text": [
      "hello world! \n",
      "bye \n",
      "bye \n",
      "bye \n",
      "\n",
      "\n",
      "\n",
      "\n",
      "[]\n"
     ]
    }
   ],
   "source": [
    "# with과 read\n",
    "\n",
    "with open('1_test.txt', 'r') as file:\n",
    "    content = file.read()             # 파일의 전체 내용을 가져옴\n",
    "    content1 = file.readline()        # 한 라인을 가져옴\n",
    "    content2 = file.readlines()       # 전체 내용을 한 줄로 가져옴\n",
    "    \n",
    "print(content)\n",
    "print()\n",
    "\n",
    "print(content1)\n",
    "print()\n",
    "\n",
    "print(content2)"
   ]
  },
  {
   "cell_type": "markdown",
   "id": "a1afeca5",
   "metadata": {},
   "source": [
    "# 파일에 작성하는 함수 만들기"
   ]
  },
  {
   "cell_type": "code",
   "execution_count": null,
   "id": "83f8f824",
   "metadata": {},
   "outputs": [],
   "source": [
    "# 이름, 국어, 영어, 수학 점수를 입력받아 파일(student.txt)에 저장 후 (w)\n",
    "# (저장은 홍길동, 90, 100, 80 \\n)\n",
    "# 저장된 파일에서 데이터를 라인 단위로 가져와서 딕셔너리에 저장 (r)\n",
    "# 데이터를 처리"
   ]
  },
  {
   "cell_type": "code",
   "execution_count": 10,
   "id": "afbee3f5",
   "metadata": {},
   "outputs": [],
   "source": [
    "# 입력받은 데이터를 파일에 작성하는 함수\n",
    "\n",
    "def input_data(file):\n",
    "    while True:\n",
    "        input_data = input('이름, 성적을 입력 : ').split()\n",
    "        if input_data[0] == 'q':\n",
    "            print('종료')\n",
    "            break\n",
    "        elif len(input_data) != 4:\n",
    "            print('정확히 입력해라')\n",
    "            continue\n",
    "        elif not (input_data[1].isdigit() and input_data[2].isdigit() and input_data[3].isdigit()):\n",
    "            continue\n",
    "        \n",
    "        # 파일 안에는 리스트로 넣기 불가\n",
    "        # 때문에 join 함수를 이용해 문자열로 변환 후, 작성\n",
    "        \n",
    "        content = ','.join(input_data)\n",
    "        \n",
    "        # 한 줄씩 띄어씌기\n",
    "        \n",
    "        content += ', \\n'           # ', \\n'으로 반점을 넣은 이유는 마지막에 split을 위해\n",
    "        \n",
    "        # 파일 안에 입력\n",
    "        \n",
    "        file.write(content)         # 이 부분이 return을 대신함\n",
    "        \n",
    "# 파일에 작성된 내용을 읽어내는 함수\n",
    "\n",
    "def read_data(file):\n",
    "    global students                     # 함수 밖에서 만든 {}을 가져온다\n",
    "    for data in file.readlines():       # file.readlines()로 모든 줄을 가져온다.\n",
    "        data_1 = data.split(',')        # 뽑아낸 문자열을 split을 사용해 리스트로 만든다\n",
    "        students[data_1[0]] = [data_1[1], data_1[2], data_1[3]]"
   ]
  },
  {
   "cell_type": "code",
   "execution_count": 11,
   "id": "9a572a1b",
   "metadata": {},
   "outputs": [
    {
     "name": "stdout",
     "output_type": "stream",
     "text": [
      "이름, 성적을 입력 : a 50 90 60\n",
      "이름, 성적을 입력 : b 50 60 80\n",
      "이름, 성적을 입력 : c 50 60 70\n",
      "이름, 성적을 입력 : q\n",
      "종료\n",
      "file write end --- \n"
     ]
    }
   ],
   "source": [
    "# 입력받은 데이터를 파일에 저장하는 함수를 돌린다.\n",
    "\n",
    "with open('student.txt', 'w') as file:\n",
    "    input_data(file)                      # open 된 student 파일은 file로 정의됨\n",
    "#     file.write('end')\n",
    "print('file write end --- ')"
   ]
  },
  {
   "cell_type": "code",
   "execution_count": 12,
   "id": "0829b3c8",
   "metadata": {},
   "outputs": [
    {
     "name": "stdout",
     "output_type": "stream",
     "text": [
      "{'a': ['50', '90', '60'], 'b': ['50', '60', '80'], 'c': ['50', '60', '70']}\n"
     ]
    }
   ],
   "source": [
    "# 작성된 파일을 읽어내는 함수를 돌린다.\n",
    "\n",
    "# global students를 활용하기 위한 빈 딕셔너리를 만든다.\n",
    "\n",
    "students = {}\n",
    "\n",
    "with open('student.txt', 'r') as file:\n",
    "    read_data(file)\n",
    "print(students)"
   ]
  },
  {
   "cell_type": "markdown",
   "id": "86b1b602",
   "metadata": {},
   "source": [
    "# try: , except: , else: , finally :"
   ]
  },
  {
   "cell_type": "code",
   "execution_count": 14,
   "id": "6c0da7d4",
   "metadata": {},
   "outputs": [
    {
     "name": "stdout",
     "output_type": "stream",
     "text": [
      "정수 입력 : 10\n",
      "원의 반지름 :  10\n",
      "원의 둘레 :  62.8\n",
      "원의 넓이 :  314.0\n",
      "-end-\n"
     ]
    }
   ],
   "source": [
    "# try : 예외가 발생할수도 있는 구문\n",
    "\n",
    "try:\n",
    "    input_number = int(input('정수 입력 : '))\n",
    "    \n",
    "# except :예외가 발생하면 이렇게 해라\n",
    "\n",
    "except Exception as e:         #Exception = 모든 오류의 어머니\n",
    "    print(e)\n",
    "    \n",
    "# else : 예외가 발생하지 않으면 실행\n",
    "\n",
    "else:\n",
    "    print('원의 반지름 : ', input_number)\n",
    "    print('원의 둘레 : ', round(input_number * 2 * 3.14, 2))\n",
    "    print('원의 넓이 : ', input_number ** 2 * 3.14)\n",
    "    \n",
    "# finally : 예외가 발생해도 발생하지 않아도 무조건 실행\n",
    "# 오직 try 구문에서만 사용 가능\n",
    "\n",
    "finally:\n",
    "    print('-end-')"
   ]
  },
  {
   "cell_type": "code",
   "execution_count": null,
   "id": "a3d04125",
   "metadata": {},
   "outputs": [],
   "source": []
  },
  {
   "cell_type": "code",
   "execution_count": null,
   "id": "94f9bbfc",
   "metadata": {},
   "outputs": [],
   "source": []
  }
 ],
 "metadata": {
  "kernelspec": {
   "display_name": "Python 3 (ipykernel)",
   "language": "python",
   "name": "python3"
  },
  "language_info": {
   "codemirror_mode": {
    "name": "ipython",
    "version": 3
   },
   "file_extension": ".py",
   "mimetype": "text/x-python",
   "name": "python",
   "nbconvert_exporter": "python",
   "pygments_lexer": "ipython3",
   "version": "3.9.7"
  }
 },
 "nbformat": 4,
 "nbformat_minor": 5
}
