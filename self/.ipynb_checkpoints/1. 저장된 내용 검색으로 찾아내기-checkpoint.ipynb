{
 "cells": [
  {
   "cell_type": "code",
   "execution_count": 10,
   "id": "f82a0e05",
   "metadata": {},
   "outputs": [],
   "source": [
    "def input_data():\n",
    "    student = {}\n",
    "    while True:\n",
    "        input_data = input('이름, 국어, 영어, 수학 점수를 입력해주세요. : ').split()\n",
    "        if input_data[0] == 'q':\n",
    "            print('시스템을 종료합니다.')\n",
    "            break\n",
    "        elif len(input_data) != 4:\n",
    "            print('이름과 성적을 빠짐없이 입력해주세요.')\n",
    "            continue\n",
    "        elif not (input_data[1].isdigit() and input_data[2].isdigit() and input_data[3].isdigit()):\n",
    "            print('성적은 숫자만 입력해주세요.')\n",
    "            continue\n",
    "        student[input_data[0]] = [input_data[1], input_data[2], input_data[3]]\n",
    "    return student\n",
    "    \n",
    "def search_data(student):                         \n",
    "    search_name = input('누굴 찾는 것인가? : ')   \n",
    "    for key in student:                           \n",
    "        if key == search_name:\n",
    "            return key\n",
    "    return"
   ]
  },
  {
   "cell_type": "code",
   "execution_count": 11,
   "id": "a5483bf8",
   "metadata": {
    "scrolled": true
   },
   "outputs": [
    {
     "name": "stdout",
     "output_type": "stream",
     "text": [
      "이름, 국어, 영어, 수학 점수를 입력해주세요. : a 10 20 30\n",
      "이름, 국어, 영어, 수학 점수를 입력해주세요. : b 20 30 40\n",
      "이름, 국어, 영어, 수학 점수를 입력해주세요. : c 30 40 50\n",
      "이름, 국어, 영어, 수학 점수를 입력해주세요. : d 40 50 60\n",
      "이름, 국어, 영어, 수학 점수를 입력해주세요. : q\n",
      "시스템을 종료합니다.\n"
     ]
    }
   ],
   "source": [
    "student = input_data()"
   ]
  },
  {
   "cell_type": "code",
   "execution_count": 12,
   "id": "52e90509",
   "metadata": {},
   "outputs": [
    {
     "name": "stdout",
     "output_type": "stream",
     "text": [
      "누굴 찾는 것인가? : a\n",
      "a : ['10', '20', '30']\n"
     ]
    }
   ],
   "source": [
    "key = search_data(student)\n",
    "if key:\n",
    "    print('{} : {}'.format(key, student[key]))\n",
    "else:\n",
    "    print('입력한 정보가 없습니다.')"
   ]
  }
 ],
 "metadata": {
  "kernelspec": {
   "display_name": "Python 3 (ipykernel)",
   "language": "python",
   "name": "python3"
  },
  "language_info": {
   "codemirror_mode": {
    "name": "ipython",
    "version": 3
   },
   "file_extension": ".py",
   "mimetype": "text/x-python",
   "name": "python",
   "nbconvert_exporter": "python",
   "pygments_lexer": "ipython3",
   "version": "3.9.7"
  }
 },
 "nbformat": 4,
 "nbformat_minor": 5
}
