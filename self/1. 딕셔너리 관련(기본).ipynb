{
 "cells": [
  {
   "cell_type": "code",
   "execution_count": 16,
   "id": "9a9f03f6",
   "metadata": {},
   "outputs": [
    {
     "name": "stdout",
     "output_type": "stream",
     "text": [
      "{'director': ['안소니 루소', '조 루소'], 'cast': ['아이언맨', '타노스', '토르', '닥터스트레인지', '헐크']}\n",
      "\n",
      "['아이언맨', '타노스', '토르', '닥터스트레인지', '헐크']\n",
      "\n",
      "아이언맨\n",
      "타노스\n",
      "토르\n",
      "닥터스트레인지\n",
      "헐크\n"
     ]
    }
   ],
   "source": [
    "dict_a = {\n",
    "    'director':['안소니 루소', '조 루소'], 'cast':['아이언맨', '타노스', '토르', \n",
    "                                                  '닥터스트레인지', '헐크']\n",
    "}\n",
    "\n",
    "# cast 명을 모두 출력\n",
    "# 아이언맨\n",
    "# 타노스\n",
    "# ...\n",
    "\n",
    "print(dict_a)\n",
    "print()\n",
    "\n",
    "print(dict_a['cast'])\n",
    "print()\n",
    "\n",
    "for item in dict_a['cast']:\n",
    "    print(item)"
   ]
  },
  {
   "cell_type": "code",
   "execution_count": 14,
   "id": "960a758f",
   "metadata": {},
   "outputs": [
    {
     "name": "stdout",
     "output_type": "stream",
     "text": [
      "안소니 루소\t조 루소\t\n",
      "아이언맨\t타노스\t토르\t닥터스트레인지\t헐크\t\n"
     ]
    }
   ],
   "source": [
    "# 안소니 루소\\t 조 루소\n",
    "# 아이언맨\\t 타노스\\t ...헐크\\n\n",
    "\n",
    "for i in dict_a: # print(dict_a) = 모든 딕셔너리 출력, print(i) = 딕셔너리의 키만 출력\n",
    "    for item in dict_a[i]:\n",
    "        print(item, end='\\t')\n",
    "    print()"
   ]
  },
  {
   "cell_type": "code",
   "execution_count": 20,
   "id": "4b80b70b",
   "metadata": {},
   "outputs": [
    {
     "name": "stdout",
     "output_type": "stream",
     "text": [
      "director\n",
      "\n",
      "['안소니 루소', '조 루소']\n",
      "cast\n",
      "\n",
      "['아이언맨', '타노스', '토르', '닥터스트레인지', '헐크']\n"
     ]
    }
   ],
   "source": [
    "for i in dict_a: # 즉, dict_a의 키는 i에 들어간다. 다시 말해, print(i)는 dict_a의 key가 나오고\n",
    "    print(i)     # print(dict_a[i])는 dict_a의 key가 가지는 각각의 값이 나온다.\n",
    "    print()\n",
    "    print(dict_a[i])"
   ]
  },
  {
   "cell_type": "code",
   "execution_count": 25,
   "id": "d1c36d5f",
   "metadata": {},
   "outputs": [
    {
     "name": "stdout",
     "output_type": "stream",
     "text": [
      "안소니 루소\n",
      "조 루소\n",
      "아이언맨\n",
      "타노스\n",
      "토르\n",
      "닥터스트레인지\n",
      "헐크\n"
     ]
    }
   ],
   "source": [
    "for i in dict_a:\n",
    "    for item in dict_a[i]:  # 이렇게 하는 순간 item에는 dict_a의 key가 가지는 값이 들어간다.\n",
    "        print(item, end='\\n')"
   ]
  },
  {
   "cell_type": "code",
   "execution_count": 26,
   "id": "59a3bbe4",
   "metadata": {},
   "outputs": [
    {
     "name": "stdout",
     "output_type": "stream",
     "text": [
      "안소니 루소\n",
      "조 루소\n",
      "아이언맨\n",
      "타노스\n",
      "토르\n",
      "닥터스트레인지\n",
      "헐크\n"
     ]
    }
   ],
   "source": [
    "for i in dict_a:\n",
    "    for item in dict_a[i]:  \n",
    "        print(item) # print(item, end='\\t') 이것은 print(item)과 같다."
   ]
  },
  {
   "cell_type": "code",
   "execution_count": 27,
   "id": "facc4408",
   "metadata": {},
   "outputs": [
    {
     "name": "stdout",
     "output_type": "stream",
     "text": [
      "안소니 루소\t조 루소\t아이언맨\t타노스\t토르\t닥터스트레인지\t헐크\t"
     ]
    }
   ],
   "source": [
    "for i in dict_a:\n",
    "    for item in dict_a[i]:\n",
    "        print(item, end='\\t') # 위의 사실을 확인했을 때, end='\\t' 대신에 end='\\n'을 사용하면 이렇게"
   ]
  },
  {
   "cell_type": "code",
   "execution_count": 29,
   "id": "14a67d79",
   "metadata": {},
   "outputs": [
    {
     "name": "stdout",
     "output_type": "stream",
     "text": [
      "안소니 루소\t조 루소\t\n",
      "아이언맨\t타노스\t토르\t닥터스트레인지\t헐크\t\n"
     ]
    }
   ],
   "source": [
    "for i in dict_a:\n",
    "    for item in dict_a[i]:\n",
    "        print(item, end='\\t')\n",
    "    print()"
   ]
  }
 ],
 "metadata": {
  "kernelspec": {
   "display_name": "Python 3 (ipykernel)",
   "language": "python",
   "name": "python3"
  },
  "language_info": {
   "codemirror_mode": {
    "name": "ipython",
    "version": 3
   },
   "file_extension": ".py",
   "mimetype": "text/x-python",
   "name": "python",
   "nbconvert_exporter": "python",
   "pygments_lexer": "ipython3",
   "version": "3.9.7"
  }
 },
 "nbformat": 4,
 "nbformat_minor": 5
}
