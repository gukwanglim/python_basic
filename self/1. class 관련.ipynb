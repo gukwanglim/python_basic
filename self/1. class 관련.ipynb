{
 "cells": [
  {
   "cell_type": "markdown",
   "id": "4c1a1e87",
   "metadata": {},
   "source": [
    "# class 클래스 이름:\n",
    "#     클래스 - 클래스는 메모리가 아니라 껍데기이다.\n",
    "\n",
    "### 클래스는 여러 함수들을 모아 한 번에 처리하도록 만든 것이라 이해하면 될 듯.\n",
    "### 클래스 : 객체를  쉽고 편리하게 생성하기 위해 만들어진 구문\n",
    "### 인스턴스 : 클래스를 기반으로 생성한 객체\n",
    "### 생성자 : 클래스 이름과 같은 인스턴스 생성할 때 만드는 함수"
   ]
  },
  {
   "cell_type": "code",
   "execution_count": 1,
   "id": "71acb2c5",
   "metadata": {},
   "outputs": [
    {
     "name": "stdout",
     "output_type": "stream",
     "text": [
      "홍길동 50\n",
      "김철수 10\n"
     ]
    }
   ],
   "source": [
    "# class 선언\n",
    "\n",
    "class Student:                         # 클래스는 붕어빵 틀이다. 즉, 같은 내용의\n",
    "                                       # 함수를 여러 번 반복하여 작성하는 수고를 덜어준다.\n",
    "    def __init__(self, name, score):          # __init__ 으로 기본 틀을 정의(무조건 self 필요)\n",
    "        self.name = name                      # self를 사용하여 뒤의 매개변수 지정.\n",
    "        self.score = int(score)               # 경험상 숫자는 int를 미리 사용하는 것이 편함.\n",
    "\n",
    "students = [\n",
    "    Student('홍길동', 50),\n",
    "    Student('김철수', 10)\n",
    "]\n",
    "\n",
    "for i in students:    \n",
    "    print(i.name, i.score)                   # 클래스 인스턴스의 각 멤버를 접근하는 방법은\n",
    "                                             # '인스턴스명.멤버명' 의 방식으로 해야한다."
   ]
  },
  {
   "cell_type": "code",
   "execution_count": 2,
   "id": "e6395806",
   "metadata": {},
   "outputs": [
    {
     "name": "stdout",
     "output_type": "stream",
     "text": [
      "생성자입니다.\n"
     ]
    }
   ],
   "source": [
    "# 클래스의 생성자, 소멸자\n",
    "\n",
    "class Test: \n",
    "    def __init__(self):                      # 클래스를 만드는 생성자는 __init__\n",
    "        print('생성자입니다.')\n",
    "        \n",
    "    def __del__(self):                       # 클래스를 제거하는 소멸자는 __del__\n",
    "        print('소멸자입니다.')\n",
    "        \n",
    "test = Test()                                # 엔터를 한 번 눌렀을 때는 생성자만"
   ]
  },
  {
   "cell_type": "code",
   "execution_count": 4,
   "id": "7af50b5a",
   "metadata": {},
   "outputs": [
    {
     "name": "stdout",
     "output_type": "stream",
     "text": [
      "생성자입니다.\n",
      "소멸자입니다.\n"
     ]
    }
   ],
   "source": [
    "class Test: \n",
    "    def __init__(self):                      \n",
    "        print('생성자입니다.')\n",
    "        \n",
    "    def __del__(self):                       \n",
    "        print('소멸자입니다.')\n",
    "        \n",
    "test = Test()                                # 엔터를 두 번 눌렀을 때는 소멸"
   ]
  },
  {
   "cell_type": "markdown",
   "id": "8be07e7b",
   "metadata": {},
   "source": [
    "# 멤버 = class 내부의 변수\n",
    "# 메서드 = class 내부의 함수"
   ]
  },
  {
   "cell_type": "code",
   "execution_count": 13,
   "id": "70406113",
   "metadata": {},
   "outputs": [],
   "source": [
    "class Student:\n",
    "    def __init__(self, name, kor, eng, math):\n",
    "        self.name = name\n",
    "        self.kor = int(kor)\n",
    "        self.eng = int(eng)\n",
    "        self.math = int(math)\n",
    "        \n",
    "    def get_sum(self):\n",
    "        return self.kor + self.eng + self.math         # 이런 부분에 무조건 self 필요.\n",
    "    \n",
    "    def get_avg(self):\n",
    "        return self.get_sum() / 3                      # 정의된 함수를 사용할 때에도 마찬가지\n",
    "    \n",
    "    def to_string(self):\n",
    "        return '{}\\t{}\\t{:3.2f}'.format(self.name, self.get_sum(), self.get_avg())"
   ]
  },
  {
   "cell_type": "code",
   "execution_count": 4,
   "id": "688a8510",
   "metadata": {},
   "outputs": [
    {
     "name": "stdout",
     "output_type": "stream",
     "text": [
      "이름\t총점\t평균\n",
      "홍길동\t270\t90.00\n",
      "김철수\t253\t84.33\n",
      "개나리\t198\t66.00\n"
     ]
    }
   ],
   "source": [
    "students = [\n",
    "    Student('홍길동', 80, 90, 100),\n",
    "    Student('김철수', 88, 99, 66),\n",
    "    Student('개나리', 77, 66, 55)\n",
    "]\n",
    "\n",
    "print('이름', '총점', '평균', sep='\\t')\n",
    "\n",
    "for student in students:\n",
    "    print(student.to_string())"
   ]
  },
  {
   "cell_type": "code",
   "execution_count": 3,
   "id": "162fc8ee",
   "metadata": {},
   "outputs": [
    {
     "name": "stdout",
     "output_type": "stream",
     "text": [
      "이름, 성적 입력 : a 50 60 30\n",
      "이름\t총점\t평균\n"
     ]
    },
    {
     "ename": "AttributeError",
     "evalue": "'list' object has no attribute 'name'",
     "output_type": "error",
     "traceback": [
      "\u001b[1;31m---------------------------------------------------------------------------\u001b[0m",
      "\u001b[1;31mAttributeError\u001b[0m                            Traceback (most recent call last)",
      "\u001b[1;32mC:\\Users\\Public\\Documents\\ESTsoft\\CreatorTemp/ipykernel_2620/3444191000.py\u001b[0m in \u001b[0;36m<module>\u001b[1;34m\u001b[0m\n\u001b[0;32m      4\u001b[0m \u001b[1;33m\u001b[0m\u001b[0m\n\u001b[0;32m      5\u001b[0m \u001b[0mprint\u001b[0m\u001b[1;33m(\u001b[0m\u001b[1;34m'이름\\t총점\\t평균'\u001b[0m\u001b[1;33m)\u001b[0m\u001b[1;33m\u001b[0m\u001b[1;33m\u001b[0m\u001b[0m\n\u001b[1;32m----> 6\u001b[1;33m \u001b[0mprint\u001b[0m\u001b[1;33m(\u001b[0m\u001b[0mStudent\u001b[0m\u001b[1;33m.\u001b[0m\u001b[0mto_string\u001b[0m\u001b[1;33m(\u001b[0m\u001b[0mstudent\u001b[0m\u001b[1;33m)\u001b[0m\u001b[1;33m)\u001b[0m\u001b[1;33m\u001b[0m\u001b[1;33m\u001b[0m\u001b[0m\n\u001b[0m",
      "\u001b[1;32mC:\\Users\\Public\\Documents\\ESTsoft\\CreatorTemp/ipykernel_2620/912298170.py\u001b[0m in \u001b[0;36mto_string\u001b[1;34m(self)\u001b[0m\n\u001b[0;32m     13\u001b[0m \u001b[1;33m\u001b[0m\u001b[0m\n\u001b[0;32m     14\u001b[0m     \u001b[1;32mdef\u001b[0m \u001b[0mto_string\u001b[0m\u001b[1;33m(\u001b[0m\u001b[0mself\u001b[0m\u001b[1;33m)\u001b[0m\u001b[1;33m:\u001b[0m\u001b[1;33m\u001b[0m\u001b[1;33m\u001b[0m\u001b[0m\n\u001b[1;32m---> 15\u001b[1;33m         \u001b[1;32mreturn\u001b[0m \u001b[1;34m'{}\\t{}\\t{:3.2f}'\u001b[0m\u001b[1;33m.\u001b[0m\u001b[0mformat\u001b[0m\u001b[1;33m(\u001b[0m\u001b[0mself\u001b[0m\u001b[1;33m.\u001b[0m\u001b[0mname\u001b[0m\u001b[1;33m,\u001b[0m \u001b[0mself\u001b[0m\u001b[1;33m.\u001b[0m\u001b[0mget_sum\u001b[0m\u001b[1;33m(\u001b[0m\u001b[1;33m)\u001b[0m\u001b[1;33m,\u001b[0m \u001b[0mself\u001b[0m\u001b[1;33m.\u001b[0m\u001b[0mget_avg\u001b[0m\u001b[1;33m(\u001b[0m\u001b[1;33m)\u001b[0m\u001b[1;33m)\u001b[0m\u001b[1;33m\u001b[0m\u001b[1;33m\u001b[0m\u001b[0m\n\u001b[0m",
      "\u001b[1;31mAttributeError\u001b[0m: 'list' object has no attribute 'name'"
     ]
    }
   ],
   "source": [
    "student = input('이름, 성적 입력 : ').split()\n",
    "\n",
    "Student(student[0], student[1], student[2], student[3])  # 클래스 안에 자료 넣어줌.\n",
    "\n",
    "print('이름\\t총점\\t평균')\n",
    "print(Student.to_string())          # 이런 식으로 Student.to_ 이렇게 바로 가면 self 가 없다고 나온다."
   ]
  },
  {
   "cell_type": "code",
   "execution_count": 17,
   "id": "86c8cac1",
   "metadata": {
    "scrolled": true
   },
   "outputs": [
    {
     "name": "stdout",
     "output_type": "stream",
     "text": [
      "이름, 성적 입력 : a 50 60 30\n",
      "이름\t총점\t평균\n",
      "a\t140\t46.67\n"
     ]
    }
   ],
   "source": [
    "student = input('이름, 성적 입력 : ').split()\n",
    "\n",
    "  # 하나의 활용 할 수 있는 리스트, 딕셔너리를 만들어 클래스를 넣어줌.(클래스의 형태 유지)\n",
    "\n",
    "students = [Student(student[0], student[1], student[2], student[3])]\n",
    "\n",
    "print('이름\\t총점\\t평균')\n",
    "for i in students:          # 리스트의 형태는 print()를 사용하지 못하기에 for 구문 사용.\n",
    "    print(i.to_string())"
   ]
  },
  {
   "cell_type": "markdown",
   "id": "73a278b0",
   "metadata": {},
   "source": [
    "# 내가 이해한 클래스 정리\n",
    "## 클래스는 여러 개의 함수를 한 곳에 묶어 정의한 것이다.\n",
    "### 즉, 클래스는 리스트의 형태로 나오는 것이 아니라 여러 개의 함수가 정의되어 하나의 구문을 실행시키면 그에 대한 정보만 들고 있는 단순한 껍데기일 뿐이다.\n",
    "### 이것을 활용하기 위해 하나의 리스트를 만들어 정보를 활용할 수 있게 만들어 줘야 한다.\n",
    "### 리스트 안에 클래스를 넣으면 자료를 활용할 수 있는 최소한의 구성이 완성되고 다시 클래스 안의 함수를 사용하기 위해서\n",
    "### '인스턴스.함수명()' 의 형태로 사용한다.\n",
    "###  \n",
    "### 여기서 내가 말하는 클래스 안의 함수는 '클래스 함수'가 아닌 기본 클래스를 구성하는 메서드(클래스 내부의 함수)를 말한다."
   ]
  },
  {
   "cell_type": "code",
   "execution_count": null,
   "id": "99e549b5",
   "metadata": {},
   "outputs": [],
   "source": []
  },
  {
   "cell_type": "markdown",
   "id": "08469613",
   "metadata": {},
   "source": [
    "# isinstance(인스턴스명, 클래스명)"
   ]
  },
  {
   "cell_type": "code",
   "execution_count": 5,
   "id": "292ef92b",
   "metadata": {},
   "outputs": [
    {
     "name": "stdout",
     "output_type": "stream",
     "text": [
      "True\n",
      "<class '__main__.Student'>\n"
     ]
    }
   ],
   "source": [
    "print(isinstance(students[0], Student))      # 인스턴스가 지정한 클래스인지 확인 \n",
    "print(type(students[0]))"
   ]
  },
  {
   "cell_type": "markdown",
   "id": "38692695",
   "metadata": {},
   "source": [
    "### isinstance() 활용"
   ]
  },
  {
   "cell_type": "code",
   "execution_count": 19,
   "id": "28fe49b4",
   "metadata": {},
   "outputs": [
    {
     "name": "stdout",
     "output_type": "stream",
     "text": [
      "isinstance(student, Human) :  True\n",
      "type(student) :  False\n",
      "\n",
      "<class '__main__.Student'>\n",
      "<class 'type'>\n"
     ]
    }
   ],
   "source": [
    "class Human():\n",
    "    def __init__(self):\n",
    "        pass\n",
    "    \n",
    "class Student(Human):                    # 상속된 상태\n",
    "    def __init__(self):\n",
    "        pass\n",
    "    \n",
    "student = Student()\n",
    "\n",
    "# 인스턴스 확인하기\n",
    "\n",
    "print('isinstance(student, Human) : ', isinstance(student, Human))\n",
    "print('type(student) : ', type(student) == Human)\n",
    "print()\n",
    "\n",
    "print(type(student))\n",
    "print(type(Human))"
   ]
  },
  {
   "cell_type": "code",
   "execution_count": 20,
   "id": "9a09fb35",
   "metadata": {},
   "outputs": [],
   "source": [
    "# 학생 클래스 선언\n",
    "\n",
    "class Student:\n",
    "    def study(self):\n",
    "        print('학생은 공부를 합니다.')\n",
    "        \n",
    "# 선생님 클래스 선언\n",
    "\n",
    "class Teacher:\n",
    "    def teach(self):\n",
    "        print('선생님은 공부를 가르칩니다.')"
   ]
  },
  {
   "cell_type": "code",
   "execution_count": 21,
   "id": "ff1a7e01",
   "metadata": {},
   "outputs": [
    {
     "name": "stdout",
     "output_type": "stream",
     "text": [
      "학생은 공부를 합니다.\n",
      "학생은 공부를 합니다.\n",
      "선생님은 공부를 가르칩니다.\n",
      "학생은 공부를 합니다.\n",
      "선생님은 공부를 가르칩니다.\n",
      "선생님은 공부를 가르칩니다.\n"
     ]
    }
   ],
   "source": [
    "classroom = [Student(), Student(), Teacher(), Student(), Teacher(), Teacher()]\n",
    "\n",
    "for person in classroom:\n",
    "    if isinstance(person, Student):\n",
    "        person.study()\n",
    "    else:\n",
    "        person.teach()"
   ]
  },
  {
   "cell_type": "markdown",
   "id": "210c7d3a",
   "metadata": {},
   "source": [
    "### 클래스 내부의 함수가 같은 이름이어도 상관없다."
   ]
  },
  {
   "cell_type": "code",
   "execution_count": 22,
   "id": "f3ba84da",
   "metadata": {},
   "outputs": [],
   "source": [
    "class Student:\n",
    "    def func(self):                           # study => func\n",
    "        print('학생은 공부를 합니다.')\n",
    "        \n",
    "# 선생님 클래스 선언\n",
    "\n",
    "class Teacher:\n",
    "    def func(self):                           # teach => func\n",
    "        print('선생님은 공부를 가르칩니다.')"
   ]
  },
  {
   "cell_type": "code",
   "execution_count": 23,
   "id": "44d65a09",
   "metadata": {},
   "outputs": [
    {
     "name": "stdout",
     "output_type": "stream",
     "text": [
      "학생은 공부를 합니다.\n",
      "학생은 공부를 합니다.\n",
      "선생님은 공부를 가르칩니다.\n",
      "학생은 공부를 합니다.\n",
      "선생님은 공부를 가르칩니다.\n",
      "선생님은 공부를 가르칩니다.\n"
     ]
    }
   ],
   "source": [
    "classroom = [Student(), Student(), Teacher(), Student(), Teacher(), Teacher()]\n",
    "\n",
    "for person in classroom:\n",
    "    if isinstance(person, Student):\n",
    "        person.func()\n",
    "    else:\n",
    "        person.func()"
   ]
  },
  {
   "cell_type": "markdown",
   "id": "0971fd90",
   "metadata": {},
   "source": [
    "### __함수명__ 에는 여러가지가 있다."
   ]
  },
  {
   "cell_type": "code",
   "execution_count": 24,
   "id": "1fee0147",
   "metadata": {},
   "outputs": [],
   "source": [
    "# __eq__ (self, value) : 비교하는 둘의 값이 같은가? - ( == )\n",
    "# __ne__(self, value) : 비교하는 둘의 값이 다른가? - ( != )\n",
    "# __gt__(self, value) : self가 value보가 큰 값인가? - ( > )\n",
    "# __ge__(self, value) : self가 value보가 크거나 같은 값인가? - ( >= )\n",
    "# __lt__(self, value) : self가 value보가 작은 값인가? - ( < )\n",
    "# __le__(self, value) : self가 value보가 작거나 같은 값인가? - ( <= )"
   ]
  },
  {
   "cell_type": "markdown",
   "id": "0504aecc",
   "metadata": {},
   "source": [
    "### 이중에 제일 많이 쓰이는 것은 \n",
    "### 위의 예시의 to_string()을 __str__으로 사용한 것이다."
   ]
  },
  {
   "cell_type": "code",
   "execution_count": 25,
   "id": "fb9033de",
   "metadata": {},
   "outputs": [],
   "source": [
    "class Student:                                             \n",
    "    def __init__(self, name, kor, eng, math):    \n",
    "        self.name = name                                  \n",
    "        self.kor = kor\n",
    "        self.eng = eng\n",
    "        self.math = math                                 # self.sum = 0 같은 것은 존재하지 않음\n",
    "        \n",
    "    def get_sum(self): \n",
    "        return self.kor + self.eng + self.math              \n",
    "    \n",
    "    def get_avg(self):\n",
    "        return self.get_sum() / 3\n",
    "    \n",
    "#     def to_string(self):                   # 원래 내용\n",
    "\n",
    "    def __str__(self):                       # 위의 내용을 이런 식으로 수정\n",
    "        return '{}\\t{}\\t{:3.2f}'.format(self.name, self.get_sum(), self.get_avg())\n",
    "    \n",
    "    def __eq__(self, value):            # value는 비교하고 싶은 것.\n",
    "        return self.get_sum() == value.get_sum()"
   ]
  },
  {
   "cell_type": "code",
   "execution_count": 26,
   "id": "11464517",
   "metadata": {},
   "outputs": [
    {
     "name": "stdout",
     "output_type": "stream",
     "text": [
      "이름\t총점\t평균\n",
      "홍길동\t270\t90.00\n",
      "김철수\t253\t84.33\n",
      "개나리\t270\t90.00\n",
      "\n",
      "False\n",
      "True\n"
     ]
    }
   ],
   "source": [
    "students = [\n",
    "    Student('홍길동', 80, 90, 100),\n",
    "    Student('김철수', 88, 99, 66),\n",
    "    Student('개나리', 80, 90, 100)\n",
    "]\n",
    "\n",
    "print('이름', '총점', '평균', sep='\\t')\n",
    "\n",
    "for student in students:\n",
    "\n",
    "    #     print(student.to_string())        # 원래 호출 방식\n",
    "\n",
    "    print(str(student))                     # 클래스 내의 함수를 호출\n",
    "    \n",
    "print()    \n",
    "print(students[0] == students[1])\n",
    "print(students[0] == students[2])       # 점수가 같아도 이름이 다르다."
   ]
  },
  {
   "cell_type": "markdown",
   "id": "27979034",
   "metadata": {},
   "source": [
    "# 클래스 변수 : 클래스명.변수명 접근\n",
    "\n",
    "## 클래스 변수는 내용이 계속 중첩되어 남아있다.(리셋하기 전까지)"
   ]
  },
  {
   "cell_type": "code",
   "execution_count": 27,
   "id": "0fa19c52",
   "metadata": {},
   "outputs": [],
   "source": [
    "class Student: \n",
    "    \n",
    "    # 클래스 변수\n",
    "    \n",
    "    count = 0                            # 이렇게 적어 놓으면 전제 클래스에서 사용 가능\n",
    "    \n",
    "    # 클래스 메서드\n",
    "    \n",
    "    def __init__(self, name, kor, eng, math):    \n",
    "        \n",
    "        # 클래스 멤버\n",
    "        \n",
    "        self.name = name                                  \n",
    "        self.kor = kor\n",
    "        self.eng = eng\n",
    "        self.math = math                                \n",
    "        \n",
    "        \n",
    "        \n",
    "    def get_sum(self): \n",
    "        return self.kor + self.eng + self.math              \n",
    "    \n",
    "    def get_avg(self):\n",
    "        return self.get_sum() / 3\n",
    "    \n",
    "    def __str__(self):                     \n",
    "        return '{}\\t{}\\t{:3.2f}'.format(self.name, self.get_sum(), self.get_avg())"
   ]
  },
  {
   "cell_type": "code",
   "execution_count": 29,
   "id": "ad496f6f",
   "metadata": {},
   "outputs": [
    {
     "name": "stdout",
     "output_type": "stream",
     "text": [
      "이름 성적 입력 : a 50 20 30\n",
      "이름 성적 입력 : b 10 40 60\n",
      "이름 성적 입력 : c 20 50 80\n",
      "이름 성적 입력 : q\n",
      "\n",
      "총 학생수 :  6\n",
      "\n",
      "a\t100\t33.33\n",
      "b\t110\t36.67\n",
      "c\t150\t50.00\n"
     ]
    },
    {
     "ename": "IndexError",
     "evalue": "list index out of range",
     "output_type": "error",
     "traceback": [
      "\u001b[1;31m---------------------------------------------------------------------------\u001b[0m",
      "\u001b[1;31mIndexError\u001b[0m                                Traceback (most recent call last)",
      "\u001b[1;32mC:\\Users\\Public\\Documents\\ESTsoft\\CreatorTemp/ipykernel_2620/3704003482.py\u001b[0m in \u001b[0;36m<module>\u001b[1;34m\u001b[0m\n\u001b[0;32m     24\u001b[0m \u001b[1;33m\u001b[0m\u001b[0m\n\u001b[0;32m     25\u001b[0m \u001b[1;32mfor\u001b[0m \u001b[0mi\u001b[0m \u001b[1;32min\u001b[0m \u001b[0mrange\u001b[0m\u001b[1;33m(\u001b[0m\u001b[0mStudent\u001b[0m\u001b[1;33m.\u001b[0m\u001b[0mcount\u001b[0m\u001b[1;33m)\u001b[0m\u001b[1;33m:\u001b[0m\u001b[1;33m\u001b[0m\u001b[1;33m\u001b[0m\u001b[0m\n\u001b[1;32m---> 26\u001b[1;33m     \u001b[0mprint\u001b[0m\u001b[1;33m(\u001b[0m\u001b[0mstr\u001b[0m\u001b[1;33m(\u001b[0m\u001b[0mstudents\u001b[0m\u001b[1;33m[\u001b[0m\u001b[0mi\u001b[0m\u001b[1;33m]\u001b[0m\u001b[1;33m)\u001b[0m\u001b[1;33m)\u001b[0m\u001b[1;33m\u001b[0m\u001b[1;33m\u001b[0m\u001b[0m\n\u001b[0m",
      "\u001b[1;31mIndexError\u001b[0m: list index out of range"
     ]
    }
   ],
   "source": [
    "def input_data():\n",
    "    global students\n",
    "\n",
    "    while True:\n",
    "        input_data = input('이름 성적 입력 : ').split()\n",
    "        if input_data[0] == 'q':\n",
    "            break\n",
    "        elif len(input_data) < 4:\n",
    "            continue\n",
    "        elif not input_data[1].isdigit():\n",
    "            continue\n",
    "        \n",
    "        student = Student(input_data[0], int(input_data[1]),\n",
    "                          int(input_data[2]), int(input_data[3]))\n",
    "        students.append(student)\n",
    "        Student.count += 1                      # 함수 정의에서는 사용하지 못하는 공식\n",
    "                                                # 하지만 class에서 count = 0 을 만들었기에 가능해짐\n",
    "students = []                                   # class를 정의하는 순간 사용 가능\n",
    "input_data()\n",
    "print()\n",
    "\n",
    "print('총 학생수 : ', Student.count)\n",
    "print()\n",
    "\n",
    "for i in range(Student.count):\n",
    "    print(str(students[i]))"
   ]
  },
  {
   "cell_type": "markdown",
   "id": "bf4a845b",
   "metadata": {},
   "source": [
    "### 위의 error는 이미 한 번 3명을 입력한 다음 다시 한번 3명을 추가 입력해서 그런 것이다."
   ]
  },
  {
   "cell_type": "markdown",
   "id": "d25ddb12",
   "metadata": {},
   "source": [
    "### 위에서 만든 함수 input_data() 마지막의 studnets 리스트를 클래스 변수로 넣는 방법 또한 존재한다."
   ]
  },
  {
   "cell_type": "code",
   "execution_count": 30,
   "id": "4e14012e",
   "metadata": {},
   "outputs": [],
   "source": [
    "class Student: \n",
    "    \n",
    "    count = 0                            # 이렇게 적어 놓으면 전제 클래스에서 사용 가능\n",
    "    students = []\n",
    "    \n",
    "    def __init__(self, name, kor, eng, math):    \n",
    "        self.name = name                                  \n",
    "        self.kor = kor\n",
    "        self.eng = eng\n",
    "        self.math = math                                \n",
    "        \n",
    "        \n",
    "        \n",
    "    def get_sum(self): \n",
    "        return self.kor + self.eng + self.math              \n",
    "    \n",
    "    def get_avg(self):\n",
    "        return self.get_sum() / 3\n",
    "    \n",
    "    def __str__(self):                     \n",
    "        return '{}\\t{}\\t{:3.2f}'.format(self.name, self.get_sum(), self.get_avg())"
   ]
  },
  {
   "cell_type": "code",
   "execution_count": 31,
   "id": "2e01175c",
   "metadata": {},
   "outputs": [],
   "source": [
    "def input_data():\n",
    "    \n",
    "#     global students                     # 이렇게하면 굳이 글로벌을 사용하 필요가 사라진다.\n",
    "\n",
    "    while True:\n",
    "        input_data = input('이름 성적 입력 : ').split()\n",
    "        if input_data[0] == 'q':\n",
    "            break\n",
    "        elif len(input_data) < 4:\n",
    "            continue\n",
    "        elif not input_data[1].isdigit():\n",
    "            continue\n",
    "        \n",
    "        student = Student(input_data[0], int(input_data[1]),\n",
    "                          int(input_data[2]), int(input_data[3]))\n",
    "        Student.students.append(student)\n",
    "        Student.count += 1                      # 함수 정의에서는 사용하지 못하는 공식\n",
    "                                                # 하지만 class에서 count = 0 을 만들었기에 가능해짐\n",
    "# students = []       # 리스트 제거             # class를 정의하는 순간 사용 가능"
   ]
  },
  {
   "cell_type": "code",
   "execution_count": 32,
   "id": "997b51b1",
   "metadata": {},
   "outputs": [
    {
     "name": "stdout",
     "output_type": "stream",
     "text": [
      "이름 성적 입력 : a 10 20 30\n",
      "이름 성적 입력 : b 20 40 50\n",
      "이름 성적 입력 : c 80 70 90\n",
      "이름 성적 입력 : q\n",
      "\n",
      "총 학생수 :  3\n",
      "\n",
      "a\t60\t20.00\n",
      "b\t110\t36.67\n",
      "c\t240\t80.00\n"
     ]
    }
   ],
   "source": [
    "input_data()\n",
    "print()\n",
    "\n",
    "print('총 학생수 : ', Student.count)\n",
    "print()\n",
    "\n",
    "for i in range(Student.count):\n",
    "    print(str(Student.students[i]))\n",
    "    \n",
    "              # 클래스에는 자료가 중첩하여 남아있기 때문에 다시 한번 실행시키고 다른 자료를 입력하면\n",
    "              # 이전에 있던 자료와 + 되어 총 학생수가 증가한 상태로 출력된다."
   ]
  },
  {
   "cell_type": "markdown",
   "id": "92cfbb6a",
   "metadata": {},
   "source": [
    "# 클래스 함수"
   ]
  },
  {
   "cell_type": "code",
   "execution_count": 33,
   "id": "aad55432",
   "metadata": {},
   "outputs": [],
   "source": [
    "# class 클래스 이름:\n",
    "#     @classmethod\n",
    "#     def 클래스 함수(cls, 매개변수):\n",
    "\n",
    "# 클래스 함수 호출 = 클래스 이름.함수명(매개변수)"
   ]
  },
  {
   "cell_type": "code",
   "execution_count": 35,
   "id": "3f6d577a",
   "metadata": {},
   "outputs": [],
   "source": [
    "class Student: \n",
    "    \n",
    "    # 클래스 변수\n",
    "    \n",
    "    count = 0                            # 이렇게 적어 놓으면 전제 클래스에서 사용 가능\n",
    "    students = []\n",
    "    \n",
    "    # 클래스 함수\n",
    "    \n",
    "    @classmethod                        # 이건 데코레이션이 아니라 클래스 함수를 표현한다.\n",
    "    def print(cls):\n",
    "        print('-----학생 목록-----')\n",
    "        print('이름\\t총점\\t평균')\n",
    "        \n",
    "        for student in cls.students:          # cls 는 클래스 변수를 가리킴?\n",
    "            print(str(student))               # cls 파라매터는 클래스라는 특수한 고정변수\n",
    "        print('-------------------')\n",
    "        \n",
    "    def __init__(self, name, kor, eng, math):    \n",
    "        self.name = name                                  \n",
    "        self.kor = kor\n",
    "        self.eng = eng\n",
    "        self.math = math \n",
    "        \n",
    "        Student.count += 1               # __init__에다가 이 내용들을 넣으면 훨씬 편해진다.\n",
    "        Student.students.append(self)\n",
    "        \n",
    "        \n",
    "        \n",
    "    def get_sum(self): \n",
    "        return self.kor + self.eng + self.math              \n",
    "    \n",
    "    def get_avg(self):\n",
    "        return self.get_sum() / 3\n",
    "    \n",
    "    def __str__(self):                     \n",
    "        return '{}\\t{}\\t{:3.2f}'.format(self.name, self.get_sum(), self.get_avg())"
   ]
  },
  {
   "cell_type": "code",
   "execution_count": 36,
   "id": "6d03fe9d",
   "metadata": {},
   "outputs": [],
   "source": [
    "def input_data():\n",
    "    \n",
    "#     global students\n",
    "\n",
    "    while True:\n",
    "        input_data = input('이름 성적 입력 : ').split()\n",
    "        if input_data[0] == 'q':\n",
    "            break\n",
    "        elif len(input_data) < 4:\n",
    "            continue\n",
    "        elif not input_data[1].isdigit():\n",
    "            continue\n",
    "        \n",
    "        Student(input_data[0], int(input_data[1]),              # 여기서 이렇게 사용 가능한 이유는?\n",
    "                int(input_data[2]), int(input_data[3]))         # 클래스 변수에 students = []가 있고\n",
    "                                                                # __init__ 부분에서 append를 했기 때문"
   ]
  },
  {
   "cell_type": "code",
   "execution_count": 38,
   "id": "5d52f736",
   "metadata": {},
   "outputs": [
    {
     "name": "stdout",
     "output_type": "stream",
     "text": [
      "이름 성적 입력 : a 50 60 30\n",
      "이름 성적 입력 : q\n",
      "\n",
      "총 학생수 :  4\n",
      "\n",
      "-----학생 목록-----\n",
      "이름\t총점\t평균\n",
      "a\t112\t37.33\n",
      "c\t170\t56.67\n",
      "b\t110\t36.67\n",
      "a\t140\t46.67\n",
      "-------------------\n"
     ]
    }
   ],
   "source": [
    "input_data()\n",
    "print()\n",
    "\n",
    "print('총 학생수 : ', Student.count)\n",
    "print()\n",
    "\n",
    "Student.print()"
   ]
  },
  {
   "cell_type": "code",
   "execution_count": null,
   "id": "cea03c65",
   "metadata": {},
   "outputs": [],
   "source": []
  },
  {
   "cell_type": "code",
   "execution_count": null,
   "id": "df52a003",
   "metadata": {},
   "outputs": [],
   "source": []
  },
  {
   "cell_type": "code",
   "execution_count": null,
   "id": "7bff39c9",
   "metadata": {},
   "outputs": [],
   "source": []
  }
 ],
 "metadata": {
  "kernelspec": {
   "display_name": "Python 3 (ipykernel)",
   "language": "python",
   "name": "python3"
  },
  "language_info": {
   "codemirror_mode": {
    "name": "ipython",
    "version": 3
   },
   "file_extension": ".py",
   "mimetype": "text/x-python",
   "name": "python",
   "nbconvert_exporter": "python",
   "pygments_lexer": "ipython3",
   "version": "3.9.7"
  }
 },
 "nbformat": 4,
 "nbformat_minor": 5
}
