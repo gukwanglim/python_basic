{
 "cells": [
  {
   "cell_type": "code",
   "execution_count": 1,
   "id": "3f42f82a",
   "metadata": {},
   "outputs": [
    {
     "name": "stdout",
     "output_type": "stream",
     "text": [
      "4\n",
      "21\n",
      "20\n"
     ]
    }
   ],
   "source": [
    "# 문자열에서 원하는 문자 검색 : find(), rfind()\n",
    "str_1 = 'hellohello python program'\n",
    "print(str_1.find('o')) #'o'가 제일 처음 나오는 위치(인덱스) 반환\n",
    "print(str_1.rfind('gram')) \n",
    "print(str_1.rfind('o')) # 'o'가 뒤에서 처음 나오는 위치(인덱스 반환)"
   ]
  }
 ],
 "metadata": {
  "kernelspec": {
   "display_name": "Python 3 (ipykernel)",
   "language": "python",
   "name": "python3"
  },
  "language_info": {
   "codemirror_mode": {
    "name": "ipython",
    "version": 3
   },
   "file_extension": ".py",
   "mimetype": "text/x-python",
   "name": "python",
   "nbconvert_exporter": "python",
   "pygments_lexer": "ipython3",
   "version": "3.9.7"
  }
 },
 "nbformat": 4,
 "nbformat_minor": 5
}
