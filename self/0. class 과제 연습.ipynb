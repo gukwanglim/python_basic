{
 "cells": [
  {
   "cell_type": "code",
   "execution_count": null,
   "id": "6c6d1769",
   "metadata": {},
   "outputs": [],
   "source": [
    "# 과제\n",
    "\n",
    "# 1. 학생들의 이름, 국어, 영어, 수학 성적을 입력받아 리스트에 저장한 후,(class) - O\n",
    "# 2. 입력이 종료되면 리스트의 내용을 출력 - O\n",
    "# 3. 이름을 입력받아 리스트의 내용 중 같은 이름의 자료가 존재하면\n",
    "#     이름, 총점, 평균을 출력하고, 없으면 자료 없음이라고 출력 - O\n",
    "# 4. 입력된 학생의 인원수가 10명 미만이면 추가 입력\n",
    "# 5. 총점의 점수가 가장 작은 학생의 이름, 국어, 영어, 수학 점수 출력\n",
    "# 6. 전체 학생의 이름, 총점, 평균을 출력(점수가 높은 순서대로)\n",
    "# class 변수, class 함수, class Student 사용"
   ]
  },
  {
   "cell_type": "code",
   "execution_count": 55,
   "id": "fff4406b",
   "metadata": {},
   "outputs": [],
   "source": [
    "class Student:\n",
    "    \n",
    "    # 클래스 변수\n",
    "    \n",
    "    count = 0                    # count < 10 일 때는 countinue?\n",
    "    students = []\n",
    "    student = {}\n",
    "    rank_list = []\n",
    "    \n",
    "    \n",
    "    def __init__(self, name, kor, eng, math):\n",
    "        self.name = name\n",
    "        self.kor = int(kor)\n",
    "        self.eng = int(eng)\n",
    "        self.math = int(math)\n",
    "        \n",
    "        Student.count += 1\n",
    "        Student.students.append(self)\n",
    "        Student.student[self.name] = [self.kor, self.eng, self.math, \n",
    "                                      self.get_sum(), round(self.get_avg(), 2)]\n",
    "        Student.rank_list.append([self.name, self.kor, self.eng, \n",
    "                                self.math, self.get_sum(), round(self.get_avg(), 2)])\n",
    "        \n",
    "    def get_sum(self):\n",
    "        return self.kor + self.eng + self.math\n",
    "    \n",
    "    def get_avg(self):\n",
    "        return self.get_sum() / 3\n",
    "    \n",
    "    def __str__(self):\n",
    "        return '{}\\t{}\\t{}\\t{}\\t{}\\t{:3.2f}'.format(self.name, self.kor, self.eng, self.math,\n",
    "                                                  self.get_sum(), self.get_avg())\n",
    "    \n",
    "    def __le__(self, value):\n",
    "        return self.get_sum() <= value.get_sum()\n",
    "    \n",
    "    @classmethod\n",
    "    def input_data(cls):\n",
    "\n",
    "        while True:\n",
    "            input_data = input('이름 성적 입력 : ').split()\n",
    "            if input_data[0] == 'q':\n",
    "                break\n",
    "            elif len(input_data) < 4:\n",
    "                continue\n",
    "            elif not input_data[1].isdigit():\n",
    "                continue\n",
    "\n",
    "            Student(input_data[0], int(input_data[1]),\n",
    "                    int(input_data[2]), int(input_data[3]))\n",
    "\n",
    "    @classmethod\n",
    "    def print(cls):\n",
    "        print('--------- 학생 점수 ---------')\n",
    "        print('이름\\t국어\\t영어\\t수학\\t총점\\t평균')\n",
    "        \n",
    "        for student in cls.students:\n",
    "            print(str(student))\n",
    "            \n",
    "        print('-----------------------------')   # 입력받아 출력하는 함수, input 을 했을 때, 바로 출력\n",
    " \n",
    "\n",
    "    @classmethod\n",
    "    def search_student(cls):\n",
    "        search_name = input('검색 : ')\n",
    "        for i in cls.student:\n",
    "            if i == search_name:\n",
    "                return print('{}의 점수는 {} 입니다.'.format(i, Student.student[i]))\n",
    "        return print('학생을 찾을 수 없습니다.')\n",
    "\n",
    "    @classmethod\n",
    "    def score_rank(cls): \n",
    "        cls.rank_list.sort(key = lambda x: -x[-2])     # 이런 식으로 바꾸면 리스트 자체(원본)가 바뀜\n",
    "        print('석차\\t이름\\t총점\\t평균')\n",
    "        for rank, score in enumerate(cls.rank_list):\n",
    "            print('{}\\t{}\\t{}\\t{}'.format(rank + 1, score[0], score[-2], score[-1]))\n",
    "            \n",
    "    @classmethod\n",
    "    def score_l(cls):\n",
    "        while True:\n"
   ]
  },
  {
   "cell_type": "code",
   "execution_count": 56,
   "id": "8fcb3c6c",
   "metadata": {},
   "outputs": [
    {
     "name": "stdout",
     "output_type": "stream",
     "text": [
      "이름 성적 입력 : a 50 80 90\n",
      "이름 성적 입력 : b 50 80 90\n",
      "이름 성적 입력 : c 20 10 50\n",
      "이름 성적 입력 : q\n",
      "\n",
      "총 학생수 :  3\n",
      "\n",
      "--------- 학생 점수 ---------\n",
      "이름\t국어\t영어\t수학\t총점\t평균\n",
      "a\t50\t80\t90\t220\t73.33\n",
      "b\t50\t80\t90\t220\t73.33\n",
      "c\t20\t10\t50\t80\t26.67\n",
      "-----------------------------\n",
      "\n",
      "석차\t이름\t총점\t평균\n",
      "1\ta\t220\t73.33\n",
      "2\tb\t220\t73.33\n",
      "3\tc\t80\t26.67\n"
     ]
    }
   ],
   "source": [
    "Student.input_data()\n",
    "# print(Student.students[0])\n",
    "print()\n",
    "\n",
    "print('총 학생수 : ', Student.count)\n",
    "print()\n",
    "\n",
    "Student.print()\n",
    "print()\n",
    "\n",
    "Student.score_rank()"
   ]
  },
  {
   "cell_type": "code",
   "execution_count": 10,
   "id": "3861b45c",
   "metadata": {},
   "outputs": [
    {
     "name": "stdout",
     "output_type": "stream",
     "text": [
      "검색 : a\n",
      "a의 점수는 [50, 60, 30, 140, 46.67] 입니다.\n",
      "\n"
     ]
    }
   ],
   "source": [
    "Student.search_student()\n",
    "print()\n"
   ]
  },
  {
   "cell_type": "code",
   "execution_count": 40,
   "id": "6f2de79f",
   "metadata": {},
   "outputs": [
    {
     "name": "stdout",
     "output_type": "stream",
     "text": [
      "[['c', 20, 10, 40, 70, 23], ['a', 50, 60, 30, 140, 47], ['b', 40, 80, 90, 210, 70]]\n"
     ]
    }
   ],
   "source": [
    "k =[['a', 50, 60, 30, 140, 47], ['b', 40, 80, 90, 210, 70], ['c', 20, 10, 40, 70, 23]]\n",
    "\n",
    "k.sort(key = lambda x: x[-2])\n",
    "print(k)"
   ]
  },
  {
   "cell_type": "code",
   "execution_count": null,
   "id": "e29c8d30",
   "metadata": {},
   "outputs": [],
   "source": [
    "my_list = [[1, 2], [2, 1], [3, 5], [4, 4], [6, 3]]\n",
    "\n",
    "my_list"
   ]
  }
 ],
 "metadata": {
  "kernelspec": {
   "display_name": "Python 3 (ipykernel)",
   "language": "python",
   "name": "python3"
  },
  "language_info": {
   "codemirror_mode": {
    "name": "ipython",
    "version": 3
   },
   "file_extension": ".py",
   "mimetype": "text/x-python",
   "name": "python",
   "nbconvert_exporter": "python",
   "pygments_lexer": "ipython3",
   "version": "3.9.7"
  }
 },
 "nbformat": 4,
 "nbformat_minor": 5
}
