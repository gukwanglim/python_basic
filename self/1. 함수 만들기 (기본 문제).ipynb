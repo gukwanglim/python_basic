{
 "cells": [
  {
   "cell_type": "code",
   "execution_count": 2,
   "id": "ab1d3b04",
   "metadata": {},
   "outputs": [
    {
     "name": "stdout",
     "output_type": "stream",
     "text": [
      "21\n",
      "\n",
      "121\n"
     ]
    }
   ],
   "source": [
    "# 226p 1번\n",
    "\n",
    "def f(x):\n",
    "    return 2 * x + 1\n",
    "print(f(10))\n",
    "print()\n",
    "\n",
    "def f(y):\n",
    "    return y ** 2 + 2 * y + 1\n",
    "print(f(10))"
   ]
  },
  {
   "cell_type": "code",
   "execution_count": 6,
   "id": "4009c41b",
   "metadata": {
    "scrolled": true
   },
   "outputs": [
    {
     "name": "stdout",
     "output_type": "stream",
     "text": [
      "3150\n"
     ]
    }
   ],
   "source": [
    "# 226p 2번\n",
    "\n",
    "def mul(*values):\n",
    "    result = 1\n",
    "    for i in values:          # *valuse 가 사용되면 range(len())을 사용하지 않고\n",
    "        result *= i           # value를 직접 넣으면 된다.\n",
    "    return result\n",
    "print(mul(5, 7, 9, 10))"
   ]
  },
  {
   "cell_type": "code",
   "execution_count": 22,
   "id": "f7a2acbb",
   "metadata": {},
   "outputs": [],
   "source": [
    "# 243p 1번\n",
    "\n",
    "# 재귀함수 : 함수를 정의하는데 자신을 집어 넣어 정의하는 함수\n",
    "\n",
    "def flatten(data):\n",
    "    result = []\n",
    "    for i in data:\n",
    "        if type(i) == list:\n",
    "            result += flatten(i)\n",
    "        else:\n",
    "            result.append(i)\n",
    "\n",
    "    return result"
   ]
  },
  {
   "cell_type": "code",
   "execution_count": 23,
   "id": "f463ec24",
   "metadata": {
    "scrolled": true
   },
   "outputs": [
    {
     "name": "stdout",
     "output_type": "stream",
     "text": [
      "원본 :  [[1, 2, 3], [4, [5, 6]], 7, [8, 9]]\n",
      "변환 :  [1, 2, 3, 4, 5, 6, 7, 8, 9]\n"
     ]
    }
   ],
   "source": [
    "example = [[1, 2, 3], [4, [5, 6]], 7, [8, 9]]\n",
    "\n",
    "print('원본 : ', example)\n",
    "print('변환 : ', flatten(example)) # [1, 2, 3, 4, 5, 6, 7, 8, 9]"
   ]
  },
  {
   "cell_type": "code",
   "execution_count": null,
   "id": "477a4f50",
   "metadata": {},
   "outputs": [],
   "source": [
    "244p 2번\n",
    "\n"
   ]
  },
  {
   "cell_type": "code",
   "execution_count": null,
   "id": "dcad0894",
   "metadata": {},
   "outputs": [],
   "source": [
    "def flatten(data):\n",
    "    for i in data:\n",
    "        if i "
   ]
  }
 ],
 "metadata": {
  "kernelspec": {
   "display_name": "Python 3 (ipykernel)",
   "language": "python",
   "name": "python3"
  },
  "language_info": {
   "codemirror_mode": {
    "name": "ipython",
    "version": 3
   },
   "file_extension": ".py",
   "mimetype": "text/x-python",
   "name": "python",
   "nbconvert_exporter": "python",
   "pygments_lexer": "ipython3",
   "version": "3.9.7"
  }
 },
 "nbformat": 4,
 "nbformat_minor": 5
}
