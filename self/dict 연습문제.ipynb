{
 "cells": [
  {
   "cell_type": "code",
   "execution_count": 2,
   "id": "0efd71a3",
   "metadata": {},
   "outputs": [
    {
     "name": "stdout",
     "output_type": "stream",
     "text": [
      "7D 건조 망고\n"
     ]
    }
   ],
   "source": [
    "dict_a = {\n",
    "    'name':'7D 건조 망고',\n",
    "    'type':'당절임',\n",
    "    'ingredient':['망고', '설탕', '메타중아황산나트륨', '치자황색소'],\n",
    "    'origin':'필리핀'\n",
    "}\n",
    "\n",
    "print(dict_a['name'])"
   ]
  }
 ],
 "metadata": {
  "kernelspec": {
   "display_name": "Python 3 (ipykernel)",
   "language": "python",
   "name": "python3"
  },
  "language_info": {
   "codemirror_mode": {
    "name": "ipython",
    "version": 3
   },
   "file_extension": ".py",
   "mimetype": "text/x-python",
   "name": "python",
   "nbconvert_exporter": "python",
   "pygments_lexer": "ipython3",
   "version": "3.9.7"
  }
 },
 "nbformat": 4,
 "nbformat_minor": 5
}
