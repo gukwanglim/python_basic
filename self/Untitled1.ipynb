{
 "cells": [
  {
   "cell_type": "code",
   "execution_count": null,
   "id": "bdd9dba7",
   "metadata": {},
   "outputs": [],
   "source": [
    "# 모듈은 표준 모듈과 외부 모듈로 나뉜다. (import 모듈 이름)\n",
    "\n",
    "# 표준 모듈 : 파이썬에 기본적으로 내장되어 있는 모듈\n",
    "# 외부 모듈 : 다른 사람들이 만들어서 공개한 모듈\n",
    "\n"
   ]
  }
 ],
 "metadata": {
  "kernelspec": {
   "display_name": "Python 3 (ipykernel)",
   "language": "python",
   "name": "python3"
  },
  "language_info": {
   "codemirror_mode": {
    "name": "ipython",
    "version": 3
   },
   "file_extension": ".py",
   "mimetype": "text/x-python",
   "name": "python",
   "nbconvert_exporter": "python",
   "pygments_lexer": "ipython3",
   "version": "3.9.7"
  }
 },
 "nbformat": 4,
 "nbformat_minor": 5
}
