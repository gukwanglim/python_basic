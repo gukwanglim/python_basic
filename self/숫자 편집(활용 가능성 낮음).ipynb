{
 "cells": [
  {
   "cell_type": "code",
   "execution_count": 1,
   "id": "fb89867f",
   "metadata": {},
   "outputs": [
    {
     "name": "stdout",
     "output_type": "stream",
     "text": [
      "##52##\n",
      "##   52##\n",
      "##00052##\n",
      "##-0052##\n",
      "\n",
      "##+52##\n",
      "## 52##\n",
      "##-52##\n",
      "\n",
      "##  +52##\n",
      "##+  52##\n",
      "##+0052##\n"
     ]
    }
   ],
   "source": [
    "# 숫자 편집\n",
    "print('##{:d}##'.format(52))\n",
    "print('##{:5d}##'.format(52))\n",
    "print('##{:05d}##'.format(52))\n",
    "print('##{:05d}##'.format(-52))\n",
    "print()\n",
    "\n",
    "# +, - 기호 표시\n",
    "print('##{:+d}##'.format(52))\n",
    "print('##{: d}##'.format(52))\n",
    "print('##{: d}##'.format(-52))\n",
    "print()\n",
    "\n",
    "print('##{:+5d}##'.format(52))\n",
    "print('##{:=+5d}##'.format(52))\n",
    "print('##{:+05d}##'.format(52))"
   ]
  }
 ],
 "metadata": {
  "kernelspec": {
   "display_name": "Python 3 (ipykernel)",
   "language": "python",
   "name": "python3"
  },
  "language_info": {
   "codemirror_mode": {
    "name": "ipython",
    "version": 3
   },
   "file_extension": ".py",
   "mimetype": "text/x-python",
   "name": "python",
   "nbconvert_exporter": "python",
   "pygments_lexer": "ipython3",
   "version": "3.9.7"
  }
 },
 "nbformat": 4,
 "nbformat_minor": 5
}
