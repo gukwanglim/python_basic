{
 "cells": [
  {
   "cell_type": "code",
   "execution_count": 3,
   "id": "1b46928b",
   "metadata": {},
   "outputs": [],
   "source": [
    "# 각 자료의 데이터 타입을 출력\n",
    "# 데이터 타입이 리스트이면 리스트에 각 요소를 출력\n",
    "\n",
    "dict_a = {\n",
    "    'name':'7D 건조 망고',\n",
    "    'type':'당절임',\n",
    "    'ingredient':['망고', '설탕', '메타중아황산나트륨', '치자황색소'],\n",
    "    'origin':'필리핀'\n",
    "}"
   ]
  },
  {
   "cell_type": "code",
   "execution_count": 8,
   "id": "06cce9cf",
   "metadata": {
    "scrolled": true
   },
   "outputs": [
    {
     "name": "stdout",
     "output_type": "stream",
     "text": [
      "name\n",
      "7D 건조 망고\n",
      "type\n",
      "당절임\n",
      "ingredient\n",
      "['망고', '설탕', '메타중아황산나트륨', '치자황색소']\n",
      "origin\n",
      "필리핀\n"
     ]
    }
   ],
   "source": [
    "for key, value in dict_a.items(): # 두 가지를 동시에 물어봤다면 .items()를 사용할 수 있도록 한다\n",
    "    print(key)\n",
    "    print(value)"
   ]
  },
  {
   "cell_type": "code",
   "execution_count": 11,
   "id": "b2ffa9f6",
   "metadata": {
    "scrolled": true
   },
   "outputs": [
    {
     "name": "stdout",
     "output_type": "stream",
     "text": [
      "<class 'str'>\n",
      "<class 'str'>\n",
      "<class 'list'>\n",
      "<class 'str'>\n"
     ]
    }
   ],
   "source": [
    "for key, value in dict_a.items():\n",
    "    print(type(value)) # type(value)로 리스트로 만들어진 값을 찾았다."
   ]
  },
  {
   "cell_type": "code",
   "execution_count": 12,
   "id": "417e5455",
   "metadata": {},
   "outputs": [
    {
     "name": "stdout",
     "output_type": "stream",
     "text": [
      "망고\n",
      "설탕\n",
      "메타중아황산나트륨\n",
      "치자황색소\n"
     ]
    }
   ],
   "source": [
    "for key, value in dict_a.items():\n",
    "    if type(value) == list: # type(value)가 리스트일 때,\n",
    "        for i in value:     # i는 value에 있는 내용으로 정의한다.\n",
    "            print(i)        # 즉, print(i)는 리스트의 값을 하나씩 출력한다."
   ]
  }
 ],
 "metadata": {
  "kernelspec": {
   "display_name": "Python 3 (ipykernel)",
   "language": "python",
   "name": "python3"
  },
  "language_info": {
   "codemirror_mode": {
    "name": "ipython",
    "version": 3
   },
   "file_extension": ".py",
   "mimetype": "text/x-python",
   "name": "python",
   "nbconvert_exporter": "python",
   "pygments_lexer": "ipython3",
   "version": "3.9.7"
  }
 },
 "nbformat": 4,
 "nbformat_minor": 5
}
