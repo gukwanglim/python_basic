{
 "cells": [
  {
   "cell_type": "markdown",
   "id": "3854cc5a",
   "metadata": {},
   "source": [
    "[비트 쉬프트 연산](https://heestory217.tistory.com/81)"
   ]
  },
  {
   "cell_type": "code",
   "execution_count": 1,
   "id": "8e3f84e2",
   "metadata": {},
   "outputs": [
    {
     "name": "stdout",
     "output_type": "stream",
     "text": [
      "5\n",
      "10\n"
     ]
    }
   ],
   "source": [
    "a = int(input()); print()\n",
    "\n",
    "print(a << 1)"
   ]
  },
  {
   "cell_type": "code",
   "execution_count": 2,
   "id": "e249a310",
   "metadata": {},
   "outputs": [
    {
     "name": "stdout",
     "output_type": "stream",
     "text": [
      "20\n",
      "\n",
      "40\n",
      "\n",
      "80\n",
      "\n",
      "\n",
      "\n",
      "5\n",
      "\n",
      "2\n",
      "\n",
      "1\n"
     ]
    }
   ],
   "source": [
    "n = 10\n",
    "\n",
    "print(n<<1); print()\n",
    "print(n<<2); print()\n",
    "print(n<<3); print()\n",
    "print('\\n')\n",
    "\n",
    "print(n>>1); print()\n",
    "print(n>>2); print()\n",
    "print(n>>3)"
   ]
  },
  {
   "cell_type": "markdown",
   "id": "cb470c8e",
   "metadata": {},
   "source": [
    "정수 10의 2진수 표현은 ... 1010 이다.\n",
    "\n",
    "10 << 1 을 계산하면 ... 10100 이 된다 이 값은 10진수로 20이다.\n",
    "\n",
    "\n",
    "10 >> 1 을 계산하면 ... 101 이 된다. 이 값은 10진수로 5이다."
   ]
  },
  {
   "cell_type": "code",
   "execution_count": 5,
   "id": "6f75f9d3",
   "metadata": {},
   "outputs": [
    {
     "name": "stdout",
     "output_type": "stream",
     "text": [
      "5 8\n",
      "1280\n"
     ]
    }
   ],
   "source": [
    "a, n = input().split()\n",
    "\n",
    "print(int(a) << int(n))"
   ]
  },
  {
   "cell_type": "markdown",
   "id": "a5be7a1d",
   "metadata": {},
   "source": [
    "[데크(deque)](https://leonkong.cc/posts/python-deque.html)"
   ]
  },
  {
   "cell_type": "code",
   "execution_count": 9,
   "id": "a6f18a87",
   "metadata": {},
   "outputs": [
    {
     "name": "stdout",
     "output_type": "stream",
     "text": [
      "deque([5, 1, 2, 3, 4])\n",
      "\n",
      "deque([1, 2, 3, 4, 5])\n",
      "\n",
      "deque([2, 3, 4, 5, 1])\n"
     ]
    }
   ],
   "source": [
    "from collections import deque\n",
    "\n",
    "deq = deque([1, 2, 3, 4, 5])\n",
    "\n",
    "deq.rotate(1)\n",
    "print(deq)\n",
    "print()\n",
    "\n",
    "deq.rotate(-1)\n",
    "print(deq)\n",
    "print()\n",
    "\n",
    "deq.rotate(-1)\n",
    "print(deq)"
   ]
  },
  {
   "cell_type": "markdown",
   "id": "f37b018d",
   "metadata": {},
   "source": [
    "- deque.append(item): item을 데크의 오른쪽 끝에 삽입한다.\n",
    "- deque.appendleft(item): item을 데크의 왼쪽 끝에 삽입한다.\n",
    "- deque.pop(): 데크의 오른쪽 끝 엘리먼트를 가져오는 동시에 데크에서 삭제한다.\n",
    "- deque.popleft(): 데크의 왼쪽 끝 엘리먼트를 가져오는 동시에 데크에서 삭제한다.\n",
    "- deque.extend(array): 주어진 배열(array)을 순환하면서 데크의 오른쪽에 추가한다.\n",
    "- deque.extendleft(array): 주어진 배열(array)을 순환하면서 데크의 왼쪽에 추가한다.\n",
    "- deque.remove(item): item을 데크에서 찾아 삭제한다.\n",
    "- deque.rotate(num): 데크를 num만큼 회전한다(양수면 오른쪽, 음수면 왼쪽)."
   ]
  },
  {
   "cell_type": "code",
   "execution_count": 26,
   "id": "e5d052c5",
   "metadata": {},
   "outputs": [
    {
     "name": "stdout",
     "output_type": "stream",
     "text": [
      "deque(['l', 'o', 'v', 'e', 'y', 'o', 'u'])\n",
      "\n",
      "deque(['I', 'l', 'o', 'v', 'e', 'y', 'o', 'u'])\n"
     ]
    }
   ],
   "source": [
    "dq = deque(['l', 'o', 'v', 'e'])\n",
    "\n",
    "dq.extend('you')\n",
    "print(dq); print()\n",
    "\n",
    "dq.extendleft('I')\n",
    "print(dq)"
   ]
  }
 ],
 "metadata": {
  "kernelspec": {
   "display_name": "Python 3 (ipykernel)",
   "language": "python",
   "name": "python3"
  },
  "language_info": {
   "codemirror_mode": {
    "name": "ipython",
    "version": 3
   },
   "file_extension": ".py",
   "mimetype": "text/x-python",
   "name": "python",
   "nbconvert_exporter": "python",
   "pygments_lexer": "ipython3",
   "version": "3.9.7"
  }
 },
 "nbformat": 4,
 "nbformat_minor": 5
}
